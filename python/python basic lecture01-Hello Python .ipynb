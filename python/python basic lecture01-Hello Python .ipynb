{
 "cells": [
  {
   "cell_type": "markdown",
   "metadata": {},
   "source": [
    "<img src='./img/intel-logo.jpg' width=50%, Fig1> \n",
    "\n",
    "# 파이썬 기초강의\n",
    "<font size=5><b>01. Hello Python!<b></font>\n",
    "\n",
    "<div align='right'>성  민  석 (Minsuk  Sung)</div>\n",
    "<div align='right'>류  회  성 (Hoesung Ryu)</div>\n",
    "\n",
    "<img src='./img/life is short.png' width=50%, Fig2> \n",
    "\n",
    "\n",
    "---"
   ]
  },
  {
   "cell_type": "markdown",
   "metadata": {
    "toc": true
   },
   "source": [
    "<h1>강의목차<span class=\"tocSkip\"></span></h1>\n",
    "<div class=\"toc\"><ul class=\"toc-item\"><li><span><a href=\"#Python-유래-와-특징\" data-toc-modified-id=\"Python-유래-와-특징-1\"><span class=\"toc-item-num\">1&nbsp;&nbsp;</span>Python 유래 와 특징</a></span><ul class=\"toc-item\"><li><span><a href=\"#Python-은?\" data-toc-modified-id=\"Python-은?-1.1\"><span class=\"toc-item-num\">1.1&nbsp;&nbsp;</span>Python 은?</a></span></li><li><span><a href=\"#Python-특징\" data-toc-modified-id=\"Python-특징-1.2\"><span class=\"toc-item-num\">1.2&nbsp;&nbsp;</span>Python 특징</a></span></li><li><span><a href=\"#Python-활용분야\" data-toc-modified-id=\"Python-활용분야-1.3\"><span class=\"toc-item-num\">1.3&nbsp;&nbsp;</span>Python 활용분야</a></span></li><li><span><a href=\"#Install-Python3-by-Anaconda\" data-toc-modified-id=\"Install-Python3-by-Anaconda-1.4\"><span class=\"toc-item-num\">1.4&nbsp;&nbsp;</span>Install Python3 by Anaconda</a></span></li></ul></li><li><span><a href=\"#Python-Basic-Grammar\" data-toc-modified-id=\"Python-Basic-Grammar-2\"><span class=\"toc-item-num\">2&nbsp;&nbsp;</span>Python Basic Grammar</a></span><ul class=\"toc-item\"><li><span><a href=\"#문자열\" data-toc-modified-id=\"문자열-2.1\"><span class=\"toc-item-num\">2.1&nbsp;&nbsp;</span>문자열</a></span></li></ul></li></ul></div>"
   ]
  },
  {
   "cell_type": "markdown",
   "metadata": {},
   "source": [
    "# 들여쓰기\n",
    "들여쓰기(indentation)는 파이썬 문법의 가장 큰 특징이다. 가독성을 높이는 장점이 있지만 코드 블럭을 들여쓰기를 통해 구분하므로, 오류가 발생하지 않도록 주의해야 한다.\n",
    "\n",
    "(* 다른 언어는 중괄호 {} 로 구분 )"
   ]
  },
  {
   "cell_type": "markdown",
   "metadata": {},
   "source": [
    "## Python 유래 와 특징\n",
    "\n",
    "### Python 은? \n",
    " 1990년 네덜란드 출신 프로그래머 귀도 반 로썸(Guido Van Rossum)가 발표한 프로그램언어 이다.<p> \n",
    " 다음을 실행하면 그의 철학을 살펴 볼 수 있다. "
   ]
  },
  {
   "cell_type": "code",
   "execution_count": 1,
   "metadata": {
    "ExecuteTime": {
     "end_time": "2019-11-30T10:35:26.557734Z",
     "start_time": "2019-11-30T10:35:26.547327Z"
    }
   },
   "outputs": [
    {
     "name": "stdout",
     "output_type": "stream",
     "text": [
      "The Zen of Python, by Tim Peters\n",
      "\n",
      "Beautiful is better than ugly.\n",
      "Explicit is better than implicit.\n",
      "Simple is better than complex.\n",
      "Complex is better than complicated.\n",
      "Flat is better than nested.\n",
      "Sparse is better than dense.\n",
      "Readability counts.\n",
      "Special cases aren't special enough to break the rules.\n",
      "Although practicality beats purity.\n",
      "Errors should never pass silently.\n",
      "Unless explicitly silenced.\n",
      "In the face of ambiguity, refuse the temptation to guess.\n",
      "There should be one-- and preferably only one --obvious way to do it.\n",
      "Although that way may not be obvious at first unless you're Dutch.\n",
      "Now is better than never.\n",
      "Although never is often better than *right* now.\n",
      "If the implementation is hard to explain, it's a bad idea.\n",
      "If the implementation is easy to explain, it may be a good idea.\n",
      "Namespaces are one honking great idea -- let's do more of those!\n"
     ]
    }
   ],
   "source": [
    "import this"
   ]
  },
  {
   "cell_type": "markdown",
   "metadata": {},
   "source": [
    "### Python 특징\n",
    "1. Simple : 엄청난 개발자 층을 가지게 했고, 수많은 라이브러리를 만들어냄\n",
    "2. Cross Platform : 다양한 OS에서 사용할 수 있음 \n",
    "\n",
    "### Python 활용분야\n",
    "- Web Server\n",
    "    - Flask, django와 같은 웹프로그래밍\n",
    "- Crawling\n",
    "    - \n",
    "- Data Science \n",
    "    - Pandas, Sklearn, Numpy, SciPy\n",
    "- AI\n",
    "    - Machine Learning, Deep Learning\n",
    "\n",
    "### Install Python3 by Anaconda\n",
    "\n",
    "`macOS` version\n",
    "\n",
    "1. 사이트에 접속하여 다운받기 ```https://www.anaconda.com/distribution/#macos```\n",
    "\n",
    "( Alternatively, you can use `brew cask install anaconda` command line in Terminal.)\n",
    "\n",
    "2. `.bashrc` or `.zshrc` 에  ```export PATH=\"/usr/local/anaconda3/bin:$PATH\"``` 입력하여 패스설정 해주기"
   ]
  },
  {
   "cell_type": "markdown",
   "metadata": {},
   "source": [
    "---\n",
    "## Python Basic Grammar\n",
    "\n",
    "### 문자열 "
   ]
  },
  {
   "cell_type": "code",
   "execution_count": null,
   "metadata": {
    "ExecuteTime": {
     "start_time": "2019-11-30T10:51:55.929Z"
    }
   },
   "outputs": [],
   "source": [
    "# 화면에 출력하라는 명령어\n",
    "# 작은 따옴표, 큰 따옴표 모두 가능\n",
    "print('Hello World!') \n",
    "print(\"Hello World!\") "
   ]
  },
  {
   "cell_type": "markdown",
   "metadata": {
    "ExecuteTime": {
     "end_time": "2019-11-29T07:34:31.959990Z",
     "start_time": "2019-11-29T07:34:31.954962Z"
    }
   },
   "source": [
    "print(Hello World) → 작은 따옴표나 큰 따옴표로 닫지 않거나 작은 따옴표나 큰 따옴표를 섞어 쓰면, 아래와 같은 **Syntax Error** 발생\n",
    "```\n",
    "  File \"<ipython-input-5-10cb182148e3>\", line 1\n",
    "    print(Hello World)\n",
    "                    ^\n",
    "SyntaxError: invalid syntax\n",
    "```"
   ]
  },
  {
   "cell_type": "code",
   "execution_count": 3,
   "metadata": {
    "ExecuteTime": {
     "end_time": "2019-11-30T10:35:26.572963Z",
     "start_time": "2019-11-30T10:35:26.569149Z"
    }
   },
   "outputs": [
    {
     "name": "stdout",
     "output_type": "stream",
     "text": [
      "Hello World!\n"
     ]
    }
   ],
   "source": [
    "# 문자열끼리 더할 수 있음\n",
    "print('Hello '+'World!') "
   ]
  },
  {
   "cell_type": "code",
   "execution_count": null,
   "metadata": {
    "ExecuteTime": {
     "start_time": "2019-11-30T10:35:26.531Z"
    }
   },
   "outputs": [],
   "source": [
    "# 값 입력받기 ( 반드시 문자가 아니여도 된다. )\n",
    "a = input()"
   ]
  },
  {
   "cell_type": "code",
   "execution_count": null,
   "metadata": {
    "ExecuteTime": {
     "start_time": "2019-11-30T10:35:26.533Z"
    }
   },
   "outputs": [],
   "source": [
    "b = input('값을 입력하세요 : ')"
   ]
  },
  {
   "cell_type": "code",
   "execution_count": 2,
   "metadata": {
    "ExecuteTime": {
     "end_time": "2019-11-30T15:37:51.121779Z",
     "start_time": "2019-11-30T15:37:49.095554Z"
    }
   },
   "outputs": [
    {
     "name": "stdout",
     "output_type": "stream",
     "text": [
      "v1, v2 : 10,20\n",
      "30\n"
     ]
    }
   ],
   "source": [
    "# 다중 입력 값 받기 \n",
    "# eval() : 알아서 콤마(,)로 구분함\n",
    "v1, v2 = eval(input('v1, v2 : ')) \n",
    "print(v1+v2)\n"
   ]
  },
  {
   "cell_type": "code",
   "execution_count": 3,
   "metadata": {
    "ExecuteTime": {
     "end_time": "2019-11-30T15:40:58.167656Z",
     "start_time": "2019-11-30T15:40:53.970572Z"
    }
   },
   "outputs": [
    {
     "name": "stdout",
     "output_type": "stream",
     "text": [
      "a,b : 1, 2\n",
      "1 + 2 = 3\n"
     ]
    }
   ],
   "source": [
    "# map을 통해서도 다중입력 값을 받을 수 있다.\n",
    "a,b = map(int,input('a,b : ').split(','))\n",
    "print(\"%d + %d = %d\" % (a,b,a+b))"
   ]
  },
  {
   "cell_type": "markdown",
   "metadata": {},
   "source": [
    "파이썬에는 기본 제공 함수(Built-in 함수)가 있다. 이런 함수들은 언제 어디서나 사용(call)할 수 있다.\n",
    "\n",
    "<img src='./img/python-built-in-functions.png'>"
   ]
  }
 ],
 "metadata": {
  "kernelspec": {
   "display_name": "Python 3",
   "language": "python",
   "name": "python3"
  },
  "language_info": {
   "codemirror_mode": {
    "name": "ipython",
    "version": 3
   },
   "file_extension": ".py",
   "mimetype": "text/x-python",
   "name": "python",
   "nbconvert_exporter": "python",
   "pygments_lexer": "ipython3",
   "version": "3.6.9"
  },
  "toc": {
   "base_numbering": 1,
   "nav_menu": {},
   "number_sections": true,
   "sideBar": true,
   "skip_h1_title": true,
   "title_cell": "강의목차",
   "title_sidebar": "Contents",
   "toc_cell": true,
   "toc_position": {
    "height": "calc(100% - 180px)",
    "left": "10px",
    "top": "150px",
    "width": "395.2940979003906px"
   },
   "toc_section_display": true,
   "toc_window_display": true
  }
 },
 "nbformat": 4,
 "nbformat_minor": 2
}
