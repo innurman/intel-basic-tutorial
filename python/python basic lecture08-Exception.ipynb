{
 "cells": [
  {
   "cell_type": "markdown",
   "metadata": {
    "ExecuteTime": {
     "end_time": "2019-12-01T15:09:26.767143Z",
     "start_time": "2019-12-01T15:09:26.760758Z"
    }
   },
   "source": [
    "<img src='./img/intel-logo.jpg' width=50%, Fig1>  \n",
    "\n",
    "# 파이썬 기초강의\n",
    "<font size=5><b>08-Exception<b></font>\n",
    "\n",
    "<div align='right'>성  민  석 (Minsuk  Sung)</div>\n",
    "<div align='right'>류  회  성 (Hoesung Ryu)</div>\n",
    "\n",
    "<img src='./img/life is short.png' width=50%, Fig2> \n",
    "\n",
    "   \n",
    "    "
   ]
  },
  {
   "cell_type": "markdown",
   "metadata": {
    "toc": true
   },
   "source": [
    "<h1>강의목차<span class=\"tocSkip\"></span></h1>\n",
    "<div class=\"toc\"><ul class=\"toc-item\"><li><span><a href=\"#예외-예\" data-toc-modified-id=\"예외-예-1\"><span class=\"toc-item-num\">1&nbsp;&nbsp;</span>예외 예</a></span></li><li><span><a href=\"#예외-확인\" data-toc-modified-id=\"예외-확인-2\"><span class=\"toc-item-num\">2&nbsp;&nbsp;</span>예외 확인</a></span></li></ul></div>"
   ]
  },
  {
   "cell_type": "markdown",
   "metadata": {},
   "source": [
    "## 예외 예\n",
    "예외일때 발생하는 에러 : FineNotFoundError, ZeroDivisionError, IndexError\n",
    "> 예외 처리 : 예외가 발생하면 처리하는 코드"
   ]
  },
  {
   "cell_type": "code",
   "execution_count": 2,
   "metadata": {
    "ExecuteTime": {
     "end_time": "2019-12-01T15:09:38.433521Z",
     "start_time": "2019-12-01T15:09:38.427933Z"
    }
   },
   "outputs": [
    {
     "name": "stdout",
     "output_type": "stream",
     "text": [
      "step 1\n",
      "step 2\n",
      "step 4\n",
      "예외 발생!\n",
      "step 5\n",
      "step 6\n"
     ]
    }
   ],
   "source": [
    "#모든 예외 처리\n",
    "print('step 1')\n",
    "try:\n",
    "    print('step 2')\n",
    "    f = open(\"finename.txt\")#1 #filename이 없기때문에 여기서 에러가 난다\n",
    "    print('step 3')\n",
    "except :#2 에러가 나면 except로 넘어간다\n",
    "    print('step 4')# 3\n",
    "    print(\"예외 발생!\")\n",
    "    print('step 5')\n",
    "print('step 6')"
   ]
  },
  {
   "cell_type": "code",
   "execution_count": 3,
   "metadata": {
    "ExecuteTime": {
     "end_time": "2019-12-01T15:09:42.152660Z",
     "start_time": "2019-12-01T15:09:42.148987Z"
    }
   },
   "outputs": [
    {
     "name": "stdout",
     "output_type": "stream",
     "text": [
      "예외 발생!\n"
     ]
    }
   ],
   "source": [
    "#지정 예외 처리\n",
    "try:\n",
    "    f = open(\"finename.txt\")\n",
    "except FileNotFoundError :#특정 예외 명시\n",
    "    print(\"예외 발생!\")"
   ]
  },
  {
   "cell_type": "code",
   "execution_count": 4,
   "metadata": {
    "ExecuteTime": {
     "end_time": "2019-12-01T15:09:45.400593Z",
     "start_time": "2019-12-01T15:09:45.396079Z"
    }
   },
   "outputs": [
    {
     "name": "stdout",
     "output_type": "stream",
     "text": [
      "FileNotFoundError\n"
     ]
    }
   ],
   "source": [
    "#다중 예외 처리\n",
    "try:\n",
    "    f = open(\"finename.txt\")\n",
    "    4 / 0\n",
    "    [1, 2, 3][4]\n",
    "except FileNotFoundError:\n",
    "    print(\"FileNotFoundError\")\n",
    "except ZeroDivisionError:\n",
    "    print(\" ZeroDivisionError \")\n",
    "except IndexError:\n",
    "    print(\" IndexError\")"
   ]
  },
  {
   "cell_type": "code",
   "execution_count": 5,
   "metadata": {
    "ExecuteTime": {
     "end_time": "2019-12-01T15:09:48.503769Z",
     "start_time": "2019-12-01T15:09:48.499502Z"
    }
   },
   "outputs": [
    {
     "name": "stdout",
     "output_type": "stream",
     "text": [
      "3\n"
     ]
    }
   ],
   "source": [
    "result = 0\n",
    "try:\n",
    "    [1, 2, 3][3]\n",
    "    \"a\"+1\n",
    "    4 / 0\n",
    "except TypeError:\n",
    "    result += 1\n",
    "except ZeroDivisionError:\n",
    "    result += 2\n",
    "except IndexError:\n",
    "    result += 3\n",
    "print(result)"
   ]
  },
  {
   "cell_type": "markdown",
   "metadata": {},
   "source": [
    "## 예외 확인"
   ]
  },
  {
   "cell_type": "code",
   "execution_count": 6,
   "metadata": {
    "ExecuteTime": {
     "end_time": "2019-12-01T15:10:07.652749Z",
     "start_time": "2019-12-01T15:10:07.648791Z"
    }
   },
   "outputs": [
    {
     "name": "stdout",
     "output_type": "stream",
     "text": [
      "[Errno 2] No such file or directory: 'finename.txt'\n"
     ]
    }
   ],
   "source": [
    "try:\n",
    "    f = open(\"./data/finename.txt\")\n",
    "except FileNotFoundError as fs:#fs라는 변수한테 에러가 난 이유를 담는다\n",
    "    print(fs)"
   ]
  }
 ],
 "metadata": {
  "kernelspec": {
   "display_name": "Python 3",
   "language": "python",
   "name": "python3"
  },
  "language_info": {
   "codemirror_mode": {
    "name": "ipython",
    "version": 3
   },
   "file_extension": ".py",
   "mimetype": "text/x-python",
   "name": "python",
   "nbconvert_exporter": "python",
   "pygments_lexer": "ipython3",
   "version": "3.6.9"
  },
  "toc": {
   "base_numbering": 1,
   "nav_menu": {},
   "number_sections": true,
   "sideBar": true,
   "skip_h1_title": true,
   "title_cell": "강의목차",
   "title_sidebar": "Contents",
   "toc_cell": true,
   "toc_position": {
    "height": "calc(100% - 180px)",
    "left": "10px",
    "top": "150px",
    "width": "395.2940979003906px"
   },
   "toc_section_display": true,
   "toc_window_display": true
  }
 },
 "nbformat": 4,
 "nbformat_minor": 2
}
