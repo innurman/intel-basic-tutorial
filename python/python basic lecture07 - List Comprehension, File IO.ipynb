{
 "cells": [
  {
   "cell_type": "markdown",
   "metadata": {},
   "source": [
    "<img src='./img/intel-logo.jpg' width=50%, Fig1> \n",
    "\n",
    "# 파이썬 기초강의\n",
    "<font size=5><b>07 - List Comprehension, File IO<b></font>\n",
    "\n",
    "<div align='right'>성  민  석 (Minsuk  Sung)</div>\n",
    "<div align='right'>류  회  성 (Hoesung Ryu)</div>\n",
    "\n",
    "<img src='./img/life is short.png' width=50%, Fig2> \n",
    "\n",
    "   \n",
    "    "
   ]
  },
  {
   "cell_type": "markdown",
   "metadata": {
    "toc": true
   },
   "source": [
    "<h1>강의목차<span class=\"tocSkip\"></span></h1>\n",
    "<div class=\"toc\"><ul class=\"toc-item\"><li><span><a href=\"#List-comprehension\" data-toc-modified-id=\"List-comprehension-1\"><span class=\"toc-item-num\">1&nbsp;&nbsp;</span>List comprehension</a></span></li><li><span><a href=\"#Nested-List-Comprehension\" data-toc-modified-id=\"Nested-List-Comprehension-2\"><span class=\"toc-item-num\">2&nbsp;&nbsp;</span>Nested List Comprehension</a></span></li><li><span><a href=\"#File-I/O\" data-toc-modified-id=\"File-I/O-3\"><span class=\"toc-item-num\">3&nbsp;&nbsp;</span>File I/O</a></span><ul class=\"toc-item\"><li><span><a href=\"#File-열기-/-닫기\" data-toc-modified-id=\"File-열기-/-닫기-3.1\"><span class=\"toc-item-num\">3.1&nbsp;&nbsp;</span>File 열기 / 닫기</a></span></li><li><span><a href=\"#File-쓰기\" data-toc-modified-id=\"File-쓰기-3.2\"><span class=\"toc-item-num\">3.2&nbsp;&nbsp;</span>File 쓰기</a></span></li><li><span><a href=\"#File-한-줄-읽기\" data-toc-modified-id=\"File-한-줄-읽기-3.3\"><span class=\"toc-item-num\">3.3&nbsp;&nbsp;</span>File 한 줄 읽기</a></span></li><li><span><a href=\"#File-전체-읽기\" data-toc-modified-id=\"File-전체-읽기-3.4\"><span class=\"toc-item-num\">3.4&nbsp;&nbsp;</span>File 전체 읽기</a></span><ul class=\"toc-item\"><li><span><a href=\"#반복문-이용\" data-toc-modified-id=\"반복문-이용-3.4.1\"><span class=\"toc-item-num\">3.4.1&nbsp;&nbsp;</span>반복문 이용</a></span></li><li><span><a href=\"#한번에-읽기-=&gt;-readlines()-함수-사용\" data-toc-modified-id=\"한번에-읽기-=>-readlines()-함수-사용-3.4.2\"><span class=\"toc-item-num\">3.4.2&nbsp;&nbsp;</span>한번에 읽기 =&gt; readlines() 함수 사용</a></span></li></ul></li><li><span><a href=\"#한번에-읽기2\" data-toc-modified-id=\"한번에-읽기2-3.5\"><span class=\"toc-item-num\">3.5&nbsp;&nbsp;</span>한번에 읽기2</a></span></li><li><span><a href=\"#File에-추가로-쓰기\" data-toc-modified-id=\"File에-추가로-쓰기-3.6\"><span class=\"toc-item-num\">3.6&nbsp;&nbsp;</span>File에 추가로 쓰기</a></span></li><li><span><a href=\"#close-함수-없이-함수-닫기\" data-toc-modified-id=\"close-함수-없이-함수-닫기-3.7\"><span class=\"toc-item-num\">3.7&nbsp;&nbsp;</span>close 함수 없이 함수 닫기</a></span></li><li><span><a href=\"#os.path-module의-File-관련-함수\" data-toc-modified-id=\"os.path-module의-File-관련-함수-3.8\"><span class=\"toc-item-num\">3.8&nbsp;&nbsp;</span>os.path module의 File 관련 함수</a></span></li><li><span><a href=\"#예제\" data-toc-modified-id=\"예제-3.9\"><span class=\"toc-item-num\">3.9&nbsp;&nbsp;</span>예제</a></span></li></ul></li><li><span><a href=\"#CSV(Comma-Separated-Values)\" data-toc-modified-id=\"CSV(Comma-Separated-Values)-4\"><span class=\"toc-item-num\">4&nbsp;&nbsp;</span>CSV(Comma-Separated Values)</a></span></li></ul></div>"
   ]
  },
  {
   "cell_type": "markdown",
   "metadata": {},
   "source": [
    "## List comprehension\n",
    "To derive a new list from an existing list, doing iterative\n",
    "operations on the list.\n",
    "\n",
    "```python\n",
    "[expr for var in list filtering]\n",
    "```"
   ]
  },
  {
   "cell_type": "code",
   "execution_count": 1,
   "metadata": {
    "ExecuteTime": {
     "end_time": "2019-12-01T15:03:28.872204Z",
     "start_time": "2019-12-01T15:03:28.860619Z"
    }
   },
   "outputs": [
    {
     "data": {
      "text/plain": [
       "[2.0, 2.5, 3.0]"
      ]
     },
     "execution_count": 1,
     "metadata": {},
     "output_type": "execute_result"
    }
   ],
   "source": [
    "[x/2.0 for x in [4,5,6]]"
   ]
  },
  {
   "cell_type": "code",
   "execution_count": 2,
   "metadata": {
    "ExecuteTime": {
     "end_time": "2019-12-01T15:03:31.690318Z",
     "start_time": "2019-12-01T15:03:31.685603Z"
    }
   },
   "outputs": [
    {
     "data": {
      "text/plain": [
       "[2.5, 3.0]"
      ]
     },
     "execution_count": 2,
     "metadata": {},
     "output_type": "execute_result"
    }
   ],
   "source": [
    "[x/2.0 for x in [4,5,6] if x > 4] # filtering도 가능함"
   ]
  },
  {
   "cell_type": "markdown",
   "metadata": {},
   "source": [
    "## Nested List Comprehension"
   ]
  },
  {
   "cell_type": "code",
   "execution_count": 3,
   "metadata": {
    "ExecuteTime": {
     "end_time": "2019-12-01T15:03:41.996013Z",
     "start_time": "2019-12-01T15:03:41.991536Z"
    }
   },
   "outputs": [
    {
     "name": "stdout",
     "output_type": "stream",
     "text": [
      "[[-1, 2], [-1, 4], [0, 2], [0, 4], [2, 2], [2, 4]]\n"
     ]
    }
   ],
   "source": [
    "xlist = [-1,0,2]\n",
    "ylist = [2,4]\n",
    "xy = [[x,y] for x in xlist for y in ylist]\n",
    "print(xy)"
   ]
  },
  {
   "cell_type": "code",
   "execution_count": 4,
   "metadata": {
    "ExecuteTime": {
     "end_time": "2019-12-01T15:03:45.145146Z",
     "start_time": "2019-12-01T15:03:45.139874Z"
    },
    "scrolled": true
   },
   "outputs": [
    {
     "data": {
      "text/plain": [
       "['2*2 = 4',\n",
       " '2*4 = 8',\n",
       " '2*6 = 12',\n",
       " '2*8 = 16',\n",
       " '4*2 = 8',\n",
       " '4*4 = 16',\n",
       " '4*6 = 24',\n",
       " '4*8 = 32',\n",
       " '6*2 = 12',\n",
       " '6*4 = 24',\n",
       " '6*6 = 36',\n",
       " '6*8 = 48',\n",
       " '8*2 = 16',\n",
       " '8*4 = 32',\n",
       " '8*6 = 48',\n",
       " '8*8 = 64']"
      ]
     },
     "execution_count": 4,
     "metadata": {},
     "output_type": "execute_result"
    }
   ],
   "source": [
    "[\"{0}*{1} = {2}\".format(x,y,x*y)\n",
    " for x in range(1,10) for y in range(1,10) if x%2 == 0 and y%2 == 0]"
   ]
  },
  {
   "cell_type": "markdown",
   "metadata": {},
   "source": [
    "---\n",
    "\n",
    "## File I/O\n",
    "\n",
    "### File 열기 / 닫기"
   ]
  },
  {
   "cell_type": "code",
   "execution_count": 6,
   "metadata": {
    "ExecuteTime": {
     "end_time": "2019-12-01T15:05:22.316176Z",
     "start_time": "2019-12-01T15:05:22.312002Z"
    }
   },
   "outputs": [
    {
     "name": "stdout",
     "output_type": "stream",
     "text": [
      "Lorem ipsum dolor sit amet, consectetur adipiscing elit.\n",
      "\n"
     ]
    }
   ],
   "source": [
    "f = open('./data/test.txt', 'r')\n",
    "print(f.readline())\n",
    "f.close()"
   ]
  },
  {
   "cell_type": "markdown",
   "metadata": {
    "ExecuteTime": {
     "end_time": "2019-12-01T15:05:49.865418Z",
     "start_time": "2019-12-01T15:05:49.863219Z"
    }
   },
   "source": [
    "### File 쓰기"
   ]
  },
  {
   "cell_type": "code",
   "execution_count": 10,
   "metadata": {
    "ExecuteTime": {
     "end_time": "2019-12-01T15:05:52.439882Z",
     "start_time": "2019-12-01T15:05:52.436442Z"
    }
   },
   "outputs": [],
   "source": [
    "f = open('./data/fun.txt', 'w')\n",
    "f.write('Programming is fun.')\n",
    "f.close()"
   ]
  },
  {
   "cell_type": "markdown",
   "metadata": {
    "ExecuteTime": {
     "end_time": "2019-12-01T15:05:43.928178Z",
     "start_time": "2019-12-01T15:05:43.925617Z"
    }
   },
   "source": [
    "### File 한 줄 읽기"
   ]
  },
  {
   "cell_type": "code",
   "execution_count": 12,
   "metadata": {
    "ExecuteTime": {
     "end_time": "2019-12-01T15:06:01.534610Z",
     "start_time": "2019-12-01T15:06:01.530830Z"
    }
   },
   "outputs": [
    {
     "name": "stdout",
     "output_type": "stream",
     "text": [
      "Lorem ipsum dolor sit amet, consectetur adipiscing elit.\n",
      "\n"
     ]
    }
   ],
   "source": [
    "f = open(\"./data/test.txt\", 'r')\n",
    "line = f.readline()\n",
    "print(line)\n",
    "f.close()"
   ]
  },
  {
   "cell_type": "markdown",
   "metadata": {},
   "source": [
    "### File 전체 읽기\n",
    "\n",
    "#### 반복문 이용"
   ]
  },
  {
   "cell_type": "code",
   "execution_count": 13,
   "metadata": {
    "ExecuteTime": {
     "end_time": "2019-12-01T15:06:18.786726Z",
     "start_time": "2019-12-01T15:06:18.781887Z"
    }
   },
   "outputs": [
    {
     "name": "stdout",
     "output_type": "stream",
     "text": [
      "Lorem ipsum dolor sit amet, consectetur adipiscing elit.\n",
      "\n",
      "Aliquam sit amet varius quam, eu placerat diam.\n",
      "\n",
      "Donec ut odio non ligula volutpat molestie et et nunc.\n",
      "\n",
      "Aenean quis mauris dui. Sed lacus massa, blandit non lectus ac, sollicitudin porttitor ante.\n",
      "\n",
      "Integer vel diam dapibus, lobortis velit vel, sollicitudin enim.\n",
      "\n",
      "Phasellus vel ex aliquet, consectetur est in, pretium leo. Proin ultrices eros ac libero dapibus, ut aliquet odio vulputate.\n"
     ]
    }
   ],
   "source": [
    "f = open(\"./data/test.txt\", 'r')\n",
    "while True :\n",
    "    line = f.readline() # 개행문자까지 다 읽어라\n",
    "    if not line:\n",
    "        break\n",
    "    print(line)\n",
    "f.close()"
   ]
  },
  {
   "cell_type": "markdown",
   "metadata": {},
   "source": [
    "#### 한번에 읽기 => readlines() 함수 사용"
   ]
  },
  {
   "cell_type": "code",
   "execution_count": 15,
   "metadata": {
    "ExecuteTime": {
     "end_time": "2019-12-01T15:06:35.279997Z",
     "start_time": "2019-12-01T15:06:35.274894Z"
    }
   },
   "outputs": [
    {
     "name": "stdout",
     "output_type": "stream",
     "text": [
      "Total Lines Num :  6\n",
      "Lorem ipsum dolor sit amet, consectetur adipiscing elit.\n",
      "\n",
      "Aliquam sit amet varius quam, eu placerat diam.\n",
      "\n",
      "Donec ut odio non ligula volutpat molestie et et nunc.\n",
      "\n",
      "Aenean quis mauris dui. Sed lacus massa, blandit non lectus ac, sollicitudin porttitor ante.\n",
      "\n",
      "Integer vel diam dapibus, lobortis velit vel, sollicitudin enim.\n",
      "\n",
      "Phasellus vel ex aliquet, consectetur est in, pretium leo. Proin ultrices eros ac libero dapibus, ut aliquet odio vulputate.\n"
     ]
    }
   ],
   "source": [
    "f = open(\"./data/test.txt\", 'r')\n",
    "lines = f.readlines()\n",
    "print(\"Total Lines Num : \",len(lines))\n",
    "for line in lines: \n",
    "    print(line)\n",
    "f.close()"
   ]
  },
  {
   "cell_type": "markdown",
   "metadata": {},
   "source": [
    "### 한번에 읽기2"
   ]
  },
  {
   "cell_type": "code",
   "execution_count": 17,
   "metadata": {
    "ExecuteTime": {
     "end_time": "2019-12-01T15:06:53.213152Z",
     "start_time": "2019-12-01T15:06:53.207915Z"
    }
   },
   "outputs": [
    {
     "name": "stdout",
     "output_type": "stream",
     "text": [
      "442\n",
      "Lorem ipsum dolor sit amet, consectetur adipiscing elit.\n",
      "Aliquam sit amet varius quam, eu placerat diam.\n",
      "Donec ut odio non ligula volutpat molestie et et nunc.\n",
      "Aenean quis mauris dui. Sed lacus massa, blandit non lectus ac, sollicitudin porttitor ante.\n",
      "Integer vel diam dapibus, lobortis velit vel, sollicitudin enim.\n",
      "Phasellus vel ex aliquet, consectetur est in, pretium leo. Proin ultrices eros ac libero dapibus, ut aliquet odio vulputate.\n"
     ]
    }
   ],
   "source": [
    "f = open(\"./data/test.txt\", 'r')\n",
    "lines = f.read() # 모든 라인을 읽어서 내용 전체를 하나의 문자열로 리턴\n",
    "print(len(lines))\n",
    "print(lines)\n",
    "f.close()"
   ]
  },
  {
   "cell_type": "markdown",
   "metadata": {},
   "source": [
    "### File에 추가로 쓰기"
   ]
  },
  {
   "cell_type": "code",
   "execution_count": 18,
   "metadata": {
    "ExecuteTime": {
     "end_time": "2019-12-01T15:07:08.077669Z",
     "start_time": "2019-12-01T15:07:08.073910Z"
    }
   },
   "outputs": [],
   "source": [
    "f = open(\"./data/fun.txt\", 'a')\n",
    "f.write('\\nhahahahahaha\\n')\n",
    "f.close()"
   ]
  },
  {
   "cell_type": "markdown",
   "metadata": {},
   "source": [
    "### close 함수 없이 함수 닫기"
   ]
  },
  {
   "cell_type": "code",
   "execution_count": null,
   "metadata": {},
   "outputs": [],
   "source": [
    "with open(\"fun.txt\", 'a') as f :\n",
    "    f.write('very very fun ')"
   ]
  },
  {
   "cell_type": "markdown",
   "metadata": {},
   "source": [
    "### os.path module의 File 관련 함수"
   ]
  },
  {
   "cell_type": "code",
   "execution_count": 19,
   "metadata": {
    "ExecuteTime": {
     "end_time": "2019-12-01T15:07:39.882869Z",
     "start_time": "2019-12-01T15:07:39.878568Z"
    }
   },
   "outputs": [
    {
     "data": {
      "text/plain": [
       "'/Users/hwesungryu/Documents/python_tutorial/python./data/fun.txt'"
      ]
     },
     "execution_count": 19,
     "metadata": {},
     "output_type": "execute_result"
    }
   ],
   "source": [
    "import os\n",
    "fullpath = os.getcwd() + './data/fun.txt'\n",
    "fullpath # File 경로"
   ]
  },
  {
   "cell_type": "code",
   "execution_count": 20,
   "metadata": {
    "ExecuteTime": {
     "end_time": "2019-12-01T15:07:45.323143Z",
     "start_time": "2019-12-01T15:07:45.318925Z"
    }
   },
   "outputs": [
    {
     "data": {
      "text/plain": [
       "False"
      ]
     },
     "execution_count": 20,
     "metadata": {},
     "output_type": "execute_result"
    }
   ],
   "source": [
    "os.path.exists(fullpath) # File 존재 확인하기"
   ]
  },
  {
   "cell_type": "code",
   "execution_count": 21,
   "metadata": {
    "ExecuteTime": {
     "end_time": "2019-12-01T15:07:48.617215Z",
     "start_time": "2019-12-01T15:07:48.612468Z"
    }
   },
   "outputs": [
    {
     "data": {
      "text/plain": [
       "'/Users/hwesungryu/Documents/python_tutorial/python./data'"
      ]
     },
     "execution_count": 21,
     "metadata": {},
     "output_type": "execute_result"
    }
   ],
   "source": [
    "os.path.dirname(fullpath) # dicrectory 경로만 추출하기"
   ]
  },
  {
   "cell_type": "code",
   "execution_count": 22,
   "metadata": {
    "ExecuteTime": {
     "end_time": "2019-12-01T15:07:52.026366Z",
     "start_time": "2019-12-01T15:07:52.022181Z"
    }
   },
   "outputs": [
    {
     "data": {
      "text/plain": [
       "'fun.txt'"
      ]
     },
     "execution_count": 22,
     "metadata": {},
     "output_type": "execute_result"
    }
   ],
   "source": [
    "os.path.basename(fullpath) # 파일 이름만 추출하기 "
   ]
  },
  {
   "cell_type": "code",
   "execution_count": 23,
   "metadata": {
    "ExecuteTime": {
     "end_time": "2019-12-01T15:07:55.694083Z",
     "start_time": "2019-12-01T15:07:55.690106Z"
    }
   },
   "outputs": [
    {
     "data": {
      "text/plain": [
       "('/Users/hwesungryu/Documents/python_tutorial/python./data', 'fun.txt')"
      ]
     },
     "execution_count": 23,
     "metadata": {},
     "output_type": "execute_result"
    }
   ],
   "source": [
    "os.path.split(fullpath) # 디렉토리와 파일로 구분"
   ]
  },
  {
   "cell_type": "code",
   "execution_count": 24,
   "metadata": {
    "ExecuteTime": {
     "end_time": "2019-12-01T15:07:59.348476Z",
     "start_time": "2019-12-01T15:07:59.344486Z"
    }
   },
   "outputs": [
    {
     "data": {
      "text/plain": [
       "('/Users/hwesungryu/Documents/python_tutorial/python./data/fun', '.txt')"
      ]
     },
     "execution_count": 24,
     "metadata": {},
     "output_type": "execute_result"
    }
   ],
   "source": [
    "os.path.splitext(fullpath) # 확장자와 나머지로 구분"
   ]
  },
  {
   "cell_type": "markdown",
   "metadata": {},
   "source": [
    "### 예제\n",
    "```\n",
    "다음과 같이 각 라인마다 점수 한개씩 기록되어 있는 score.txt 파일을 읽어서 점수들의 합계와 평균을 구하여 result.txt 파일에 쓰는 프로그램을 작성하세요.\n",
    "\n",
    "=================\n",
    "result.txt 파일 내용 (예시1)\n",
    "75\n",
    "56\n",
    "38\n",
    "98\n",
    "62\n",
    "3\n",
    "81\n",
    "17\n",
    "52\n",
    "43\n",
    "\n",
    "=================\n",
    "score.txt 파일 내용 (예시2)\n",
    "99\n",
    "100\n",
    "75\n",
    "언어 : python3\n",
    "입력 설명 :\n",
    "\n",
    "result.txt   또는 score.txt 파일 만들어 사용\n",
    "출력 설명 :\n",
    "\n",
    "sum , average 출력\n",
    "샘플 출력 :\n",
    "\n",
    "sum : 525\n",
    "average : 52.5\n",
    "```"
   ]
  },
  {
   "cell_type": "code",
   "execution_count": 26,
   "metadata": {
    "ExecuteTime": {
     "end_time": "2019-12-01T15:08:16.442743Z",
     "start_time": "2019-12-01T15:08:16.436234Z"
    }
   },
   "outputs": [
    {
     "name": "stdout",
     "output_type": "stream",
     "text": [
      "sum : 525\n",
      "average : 52.5\n"
     ]
    }
   ],
   "source": [
    "sum = 0\n",
    "avg = 0.0\n",
    "total_len = 0\n",
    "\n",
    "with open('./data/score.txt','r') as f:\n",
    "    lines = f.readlines()\n",
    "    total_len = len(lines)\n",
    "    for line in lines:\n",
    "        sum += int(line)\n",
    "    avg = sum / total_len\n",
    "        \n",
    "with open('./result.txt','w') as f:\n",
    "    result = \"sum : {}\\naverage : {}\".format(sum,avg)\n",
    "    print(result)\n",
    "    f.write(result)"
   ]
  },
  {
   "cell_type": "markdown",
   "metadata": {},
   "source": [
    "## CSV(Comma-Separated Values)"
   ]
  },
  {
   "cell_type": "code",
   "execution_count": 27,
   "metadata": {
    "ExecuteTime": {
     "end_time": "2019-12-01T15:08:33.453380Z",
     "start_time": "2019-12-01T15:08:33.442950Z"
    }
   },
   "outputs": [],
   "source": [
    "import csv\n",
    "filename='./data/연안정지 관측자료.csv'"
   ]
  },
  {
   "cell_type": "code",
   "execution_count": 28,
   "metadata": {
    "ExecuteTime": {
     "end_time": "2019-12-01T15:08:37.047432Z",
     "start_time": "2019-12-01T15:08:37.037717Z"
    }
   },
   "outputs": [
    {
     "name": "stdout",
     "output_type": "stream",
     "text": [
      "['\\ufeff\"해역\"', '연안정점', '관측일시', '수온', '수온 QC Flag', '기온', '기온 QC', '운량', '천기']\n"
     ]
    }
   ],
   "source": [
    "with open(filename, 'r', encoding='utf-8') as f:\n",
    "    reader = csv.reader(f)\n",
    "    row = next(reader)\n",
    "    print(row)"
   ]
  },
  {
   "cell_type": "code",
   "execution_count": 29,
   "metadata": {
    "ExecuteTime": {
     "end_time": "2019-12-01T15:08:40.166034Z",
     "start_time": "2019-12-01T15:08:40.158833Z"
    }
   },
   "outputs": [
    {
     "name": "stdout",
     "output_type": "stream",
     "text": [
      "['동해', '기장(12201)', '20190605', '15.4', '2', '24.4', '2', '1%-10%', '']\n",
      "['동해', '기장(12201)', '20190606', '15.4', '2', '', '2', '', '']\n",
      "['동해', '기장(12201)', '20190607', '17.4', '2', '19.2', '2', '91%-100%', '비']\n",
      "['동해', '기장(12201)', '20190608', '17.5', '2', '', '2', '', '']\n",
      "['동해', '기장(12201)', '20190609', '17.6', '2', '', '2', '', '']\n",
      "['동해', '기장(12201)', '20190610', '18.1', '2', '20.9', '2', '41%-50%', '']\n",
      "['동해', '기장(12201)', '20190611', '19', '2', '19.8', '2', '41%-50%', '개임(운량:3-7)']\n",
      "['남해', '산양(20501)', '20190613', '21', '2', '', '2', '', '']\n",
      "['남해', '산양(20501)', '20190614', '20.5', '2', '', '2', '', '']\n",
      "['남해', '산양(20501)', '20190618', '20.7', '2', '', '2', '', '']\n",
      "['남해', '산양(20501)', '20190619', '20.8', '2', '', '2', '', '']\n",
      "['남해', '산양(20501)', '20190628', '21.5', '2', '', '2', '', '']\n",
      "['남해', '산양(20501)', '20190702', '22.4', '2', '', '2', '', '']\n",
      "['서해', '용유도(31302)', '20190605', '19.7', '2', '18.7', '2', '31%-40%', '흐림(운량:8-10)']\n",
      "['서해', '용유도(31302)', '20190607', '19', '2', '18.8', '2', '21%-30%', '쾌청(운량:0-2)']\n",
      "['서해', '용유도(31302)', '20190610', '18.3', '2', '19.5', '2', '81%-90%', '흐림(운량:8-10)']\n",
      "['서해', '용유도(31302)', '20190611', '18.5', '2', '19.7', '2', 'Zero', '쾌청(운량:0-2)']\n",
      "['서해', '용유도(31302)', '20190612', '18.8', '2', '20.3', '2', 'Zero', '쾌청(운량:0-2)']\n",
      "['서해', '용유도(31302)', '20190613', '19.4', '2', '19.8', '2', 'Zero', '쾌청(운량:0-2)']\n",
      "['서해', '용유도(31302)', '20190614', '19.5', '2', '20.1', '2', '31%-40%', '흐림(운량:8-10)']\n",
      "['서해', '용유도(31302)', '20190617', '21.6', '2', '20.1', '2', '1%-10%', '쾌청(운량:0-2)']\n",
      "['서해', '용유도(31302)', '20190618', '19.9', '2', '20.7', '2', '91%-100%', '흐림(운량:8-10)']\n",
      "['서해', '용유도(31302)', '20190619', '21.2', '2', '21.7', '2', '11%-20%', '쾌청(운량:0-2)']\n",
      "['서해', '용유도(31302)', '20190620', '21.6', '2', '22.4', '2', '11%-20%', '쾌청(운량:0-2)']\n",
      "['서해', '용유도(31302)', '20190621', '22.3', '2', '20.9', '2', '71%-80%', '흐림(운량:8-10)']\n",
      "['서해', '용유도(31302)', '20190624', '20.8', '2', '23.8', '2', 'Zero', '쾌청(운량:0-2)']\n",
      "['서해', '용유도(31302)', '20190625', '20.9', '2', '19.7', '2', '', '안개(Fog)']\n",
      "['서해', '용유도(31302)', '20190626', '20.5', '2', '22', '2', '91%-100%', '흐림(운량:8-10)']\n",
      "['서해', '용유도(31302)', '20190627', '20.9', '2', '23.4', '2', '31%-40%', '개임(운량:3-7)']\n",
      "['서해', '용유도(31302)', '20190628', '21', '2', '23', '2', '81%-90%', '흐림(운량:8-10)']\n",
      "['서해', '용유도(31302)', '20190701', '22.7', '2', '22.5', '2', '11%-20%', '쾌청(운량:0-2)']\n",
      "['서해', '용유도(31302)', '20190702', '23.1', '2', '22.5', '2', 'Zero', '쾌청(운량:0-2)']\n",
      "['서해', '용유도(31302)', '20190703', '21.9', '2', '20.9', '2', '91%-100%', '흐림(운량:8-10)']\n",
      "['동해', '주문진(11002)', '20190605', '14.8', '2', '19.5', '2', '61%-70%', '개임(운량:3-7)']\n",
      "['동해', '주문진(11002)', '20190606', '', '2', '18.7', '2', '91%-100%', '안개(Fog)']\n",
      "['동해', '주문진(11002)', '20190607', '15.9', '2', '15.9', '2', '91%-100%', '이슬비']\n",
      "['동해', '주문진(11002)', '20190608', '15.6', '2', '19.6', '2', '51%-60%', '개임(운량:3-7)']\n",
      "['동해', '주문진(11002)', '20190609', '', '2', '17.6', '2', '91%-100%', '흐림(운량:8-10)']\n",
      "['동해', '주문진(11002)', '20190610', '12.5', '2', '16.7', '2', '71%-80%', '흐림(운량:8-10)']\n",
      "['동해', '주문진(11002)', '20190611', '15.8', '2', '16', '2', '91%-100%', '흐림(운량:8-10)']\n",
      "['동해', '주문진(11002)', '20190612', '17.1', '2', '18', '2', 'Zero', '쾌청(운량:0-2)']\n",
      "['동해', '주문진(11002)', '20190613', '15.8', '2', '22.4', '2', 'Zero', '쾌청(운량:0-2)']\n",
      "['동해', '주문진(11002)', '20190614', '15.9', '2', '24.8', '2', '91%-100%', '흐림(운량:8-10)']\n",
      "['동해', '주문진(11002)', '20190615', '16.8', '2', '19.9', '2', '71%-80%', '흐림(운량:8-10)']\n",
      "['동해', '주문진(11002)', '20190616', '', '2', '17.1', '2', '91%-100%', '이슬비']\n",
      "['동해', '주문진(11002)', '20190617', '17.4', '2', '20.6', '2', 'Zero', '쾌청(운량:0-2)']\n",
      "['동해', '주문진(11002)', '20190618', '17.9', '2', '22.7', '2', '91%-100%', '흐림(운량:8-10)']\n",
      "['동해', '주문진(11002)', '20190619', '18.8', '2', '25.9', '2', '21%-30%', '개임(운량:3-7)']\n",
      "['동해', '주문진(11002)', '20190620', '20.1', '2', '25.3', '2', '31%-40%', '개임(운량:3-7)']\n",
      "['동해', '주문진(11002)', '20190621', '19.1', '2', '21.6', '2', '91%-100%', '흐림(운량:8-10)']\n",
      "['동해', '주문진(11002)', '20190622', '20.8', '2', '20.9', '2', '1%-10%', '쾌청(운량:0-2)']\n",
      "['동해', '주문진(11002)', '20190623', '', '2', '20.4', '2', '21%-30%', '개임(운량:3-7)']\n",
      "['동해', '주문진(11002)', '20190624', '21.4', '2', '21.9', '2', '1%-10%', '쾌청(운량:0-2)']\n",
      "['동해', '주문진(11002)', '20190625', '18.4', '2', '22.5', '2', 'Zero', '쾌청(운량:0-2)']\n",
      "['동해', '주문진(11002)', '20190626', '16.4', '2', '24.9', '2', '51%-60%', '개임(운량:3-7)']\n",
      "['동해', '주문진(11002)', '20190627', '17.1', '2', '23.2', '2', '51%-60%', '개임(운량:3-7)']\n",
      "['동해', '주문진(11002)', '20190628', '20.8', '2', '20.4', '2', '91%-100%', '이슬비']\n",
      "['동해', '주문진(11002)', '20190629', '20.9', '2', '20.5', '2', '91%-100%', '이슬비']\n",
      "['동해', '주문진(11002)', '20190630', '', '2', '25.4', '2', '81%-90%', '흐림(운량:8-10)']\n",
      "['동해', '주문진(11002)', '20190701', '21.2', '2', '23.3', '2', '71%-80%', '흐림(운량:8-10)']\n",
      "['동해', '주문진(11002)', '20190702', '20.8', '2', '26.5', '2', '1%-10%', '쾌청(운량:0-2)']\n",
      "['동해', '주문진(11002)', '20190703', '21.9', '2', '28.7', '2', '21%-30%', '개임(운량:3-7)']\n",
      "['동해', '주문진(11002)', '20190704', '20.9', '2', '27.8', '2', 'Zero', '쾌청(운량:0-2)']\n",
      "['동해', '포항(11701)', '20190605', '13.1', '2', '23.5', '2', 'Zero', '']\n",
      "['동해', '포항(11701)', '20190607', '15.8', '2', '17.8', '2', '91%-100%', '']\n",
      "['동해', '포항(11701)', '20190610', '15.5', '2', '19.4', '2', '71%-80%', '']\n",
      "['동해', '포항(11701)', '20190611', '16.8', '2', '18.6', '2', '71%-80%', '']\n",
      "['동해', '포항(11701)', '20190612', '18.1', '2', '19.5', '2', '61%-70%', '']\n",
      "['동해', '포항(11701)', '20190613', '18.8', '2', '21.8', '2', 'Zero', '']\n",
      "['동해', '포항(11701)', '20190614', '19.1', '2', '21.2', '2', '91%-100%', '']\n",
      "['동해', '포항(11701)', '20190617', '20.1', '2', '22.9', '2', '81%-90%', '']\n",
      "['동해', '포항(11701)', '20190618', '20.3', '2', '24', '2', '91%-100%', '']\n",
      "['동해', '포항(11701)', '20190619', '20.5', '2', '26.1', '2', '71%-80%', '쾌청(운량:0-2)']\n",
      "['동해', '포항(11701)', '20190620', '21', '2', '27.1', '2', 'Zero', '']\n",
      "['동해', '포항(11701)', '20190621', '21.8', '2', '25.6', '2', '11%-20%', '']\n",
      "['동해', '포항(11701)', '20190624', '22.8', '2', '23', '2', '11%-20%', '']\n",
      "['동해', '포항(11701)', '20190625', '23.1', '2', '24.5', '2', 'Zero', '']\n",
      "['동해', '포항(11701)', '20190626', '22.6', '2', '23.4', '2', '91%-100%', '']\n",
      "['동해', '포항(11701)', '20190627', '21.5', '2', '23.9', '2', '91%-100%', '']\n",
      "['동해', '포항(11701)', '20190628', '22.6', '2', '21.2', '2', '91%-100%', '']\n",
      "['동해', '포항(11701)', '20190701', '21.8', '2', '25.3', '2', '81%-90%', '']\n",
      "['동해', '포항(11701)', '20190702', '21.7', '2', '26.7', '2', '51%-60%', '']\n",
      "['동해', '포항(11701)', '20190703', '21.5', '2', '26.4', '2', '71%-80%', '']\n",
      "['동해', '포항(11701)', '20190704', '21.8', '2', '28.4', '2', 'Zero', '']\n",
      "['남해', '화양(22001)', '20190605', '20.1', '2', '24.4', '2', 'Zero', '쾌청(운량:0-2)']\n",
      "['남해', '화양(22001)', '20190607', '20.6', '2', '20', '2', '91%-100%', '흐림(운량:8-10)']\n",
      "['남해', '화양(22001)', '20190610', '20.4', '2', '19.8', '2', '91%-100%', '흐림(운량:8-10)']\n",
      "['남해', '화양(22001)', '20190611', '20.1', '2', '19.3', '2', '91%-100%', '흐림(운량:8-10)']\n",
      "['남해', '화양(22001)', '20190612', '20.9', '2', '20.6', '2', '21%-30%', '개임(운량:3-7)']\n",
      "['남해', '화양(22001)', '20190613', '20.9', '2', '20.3', '2', '71%-80%', '흐림(운량:8-10)']\n",
      "['남해', '화양(22001)', '20190626', '21.9', '2', '18.5', '2', '81%-90%', '비']\n",
      "['남해', '화양(22001)', '20190627', '22.5', '2', '22.4', '2', '91%-100%', '안개(Fog)']\n",
      "['남해', '화양(22001)', '20190628', '23.6', '2', '24.2', '2', '21%-30%', '개임(운량:3-7)']\n",
      "['남해', '화양(22001)', '20190701', '22.8', '2', '24.5', '2', '21%-30%', '개임(운량:3-7)']\n",
      "['남해', '화양(22001)', '20190702', '23.4', '2', '25.4', '2', '71%-80%', '흐림(운량:8-10)']\n",
      "['남해', '화양(22001)', '20190703', '22.3', '2', '24.4', '2', '91%-100%', '흐림(운량:8-10)']\n",
      "['남해', '화양(22001)', '20190704', '23.1', '2', '26.7', '2', '21%-30%', '개임(운량:3-7)']\n"
     ]
    }
   ],
   "source": [
    "with open(filename, 'r', encoding='utf-8') as f :\n",
    "    reader = csv.reader(f)\n",
    "    next(reader)\n",
    "    for row in reader:\n",
    "        print(row)"
   ]
  },
  {
   "cell_type": "code",
   "execution_count": null,
   "metadata": {},
   "outputs": [],
   "source": []
  }
 ],
 "metadata": {
  "kernelspec": {
   "display_name": "Python 3",
   "language": "python",
   "name": "python3"
  },
  "language_info": {
   "codemirror_mode": {
    "name": "ipython",
    "version": 3
   },
   "file_extension": ".py",
   "mimetype": "text/x-python",
   "name": "python",
   "nbconvert_exporter": "python",
   "pygments_lexer": "ipython3",
   "version": "3.6.9"
  },
  "toc": {
   "base_numbering": 1,
   "nav_menu": {},
   "number_sections": true,
   "sideBar": true,
   "skip_h1_title": true,
   "title_cell": "강의목차",
   "title_sidebar": "Contents",
   "toc_cell": true,
   "toc_position": {},
   "toc_section_display": true,
   "toc_window_display": true
  }
 },
 "nbformat": 4,
 "nbformat_minor": 2
}
