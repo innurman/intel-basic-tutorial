{
 "cells": [
  {
   "cell_type": "markdown",
   "metadata": {},
   "source": [
    "<img src='./img/intel-logo.jpg' width=50%, Fig1>\n",
    "\n",
    "# 파이썬 기초강의\n",
    "<font size=5><b>05. 문자열<b></font>\n",
    "\n",
    "<div align='right'>성  민  석 (Minsuk  Sung)</div>\n",
    "<div align='right'>류  회  성 (Hoesung Ryu)</div>\n",
    "\n",
    "<img src='./img/life is short.png' width=50%, Fig2> \n",
    "\n",
    "   \n",
    "    "
   ]
  },
  {
   "cell_type": "markdown",
   "metadata": {
    "toc": true
   },
   "source": [
    "<h1>강의목차<span class=\"tocSkip\"></span></h1>\n",
    "<div class=\"toc\"><ul class=\"toc-item\"><li><span><a href=\"#문자열(String)\" data-toc-modified-id=\"문자열(String)-1\"><span class=\"toc-item-num\">1&nbsp;&nbsp;</span>문자열(String)</a></span><ul class=\"toc-item\"><li><span><a href=\"#탈출문자-표현법\" data-toc-modified-id=\"탈출문자-표현법-1.1\"><span class=\"toc-item-num\">1.1&nbsp;&nbsp;</span>탈출문자 표현법</a></span></li><li><span><a href=\"#Raw-문자열\" data-toc-modified-id=\"Raw-문자열-1.2\"><span class=\"toc-item-num\">1.2&nbsp;&nbsp;</span>Raw 문자열</a></span></li></ul></li><li><span><a href=\"#문자열-slicing\" data-toc-modified-id=\"문자열-slicing-2\"><span class=\"toc-item-num\">2&nbsp;&nbsp;</span>문자열 slicing</a></span></li><li><span><a href=\"#문자열-관련-함수들\" data-toc-modified-id=\"문자열-관련-함수들-3\"><span class=\"toc-item-num\">3&nbsp;&nbsp;</span>문자열 관련 함수들</a></span><ul class=\"toc-item\"><li><span><a href=\"#count-함수\" data-toc-modified-id=\"count-함수-3.1\"><span class=\"toc-item-num\">3.1&nbsp;&nbsp;</span>count 함수</a></span></li><li><span><a href=\"#find-함수\" data-toc-modified-id=\"find-함수-3.2\"><span class=\"toc-item-num\">3.2&nbsp;&nbsp;</span>find 함수</a></span></li><li><span><a href=\"#index-함수\" data-toc-modified-id=\"index-함수-3.3\"><span class=\"toc-item-num\">3.3&nbsp;&nbsp;</span>index 함수</a></span></li><li><span><a href=\"#4.-join-함수\" data-toc-modified-id=\"4.-join-함수-3.4\"><span class=\"toc-item-num\">3.4&nbsp;&nbsp;</span>4. join 함수</a></span></li><li><span><a href=\"#upper-/-lower-함수\" data-toc-modified-id=\"upper-/-lower-함수-3.5\"><span class=\"toc-item-num\">3.5&nbsp;&nbsp;</span>upper / lower 함수</a></span></li><li><span><a href=\"#lstrip,-rstrip,-strip-함수\" data-toc-modified-id=\"lstrip,-rstrip,-strip-함수-3.6\"><span class=\"toc-item-num\">3.6&nbsp;&nbsp;</span>lstrip, rstrip, strip 함수</a></span></li><li><span><a href=\"#replace-함수\" data-toc-modified-id=\"replace-함수-3.7\"><span class=\"toc-item-num\">3.7&nbsp;&nbsp;</span>replace 함수</a></span></li><li><span><a href=\"#split-함수\" data-toc-modified-id=\"split-함수-3.8\"><span class=\"toc-item-num\">3.8&nbsp;&nbsp;</span>split 함수</a></span></li><li><span><a href=\"#format-함수\" data-toc-modified-id=\"format-함수-3.9\"><span class=\"toc-item-num\">3.9&nbsp;&nbsp;</span>format 함수</a></span><ul class=\"toc-item\"><li><span><a href=\"#9.1-format의-빈칸-채우기\" data-toc-modified-id=\"9.1-format의-빈칸-채우기-3.9.1\"><span class=\"toc-item-num\">3.9.1&nbsp;&nbsp;</span>9.1 format의 빈칸 채우기</a></span></li><li><span><a href=\"#format의-숫자-서식\" data-toc-modified-id=\"format의-숫자-서식-3.9.2\"><span class=\"toc-item-num\">3.9.2&nbsp;&nbsp;</span>format의 숫자 서식</a></span></li></ul></li><li><span><a href=\"#예제\" data-toc-modified-id=\"예제-3.10\"><span class=\"toc-item-num\">3.10&nbsp;&nbsp;</span>예제</a></span></li></ul></li></ul></div>"
   ]
  },
  {
   "cell_type": "markdown",
   "metadata": {},
   "source": [
    "---\n",
    "\n",
    "## 문자열(String)\n",
    "- 문자열(string)\n",
    "    - 문자(character)들의 모임\n",
    "- 문자(character)\n",
    "    - 영문자: a ~ z, A ~ Z, 그 외 문자들\n",
    "    - 특수문자: !@#$.,\n",
    "    - 공백문자(whitespace character): tab, enter(newline, 줄바꿈문자), space(공백문자)\n",
    "   \n",
    "- 작은 따옴표 : `''`\n",
    "- 큰 따옴표 : `\"\"`\n",
    "\n",
    "문자열으로 둘다 가능함\n",
    "\n",
    "### 탈출문자 표현법\n",
    "|Escape code| 설명|\n",
    "|---|---|\n",
    "|\\n| 줄바꿈(=개행)|\n",
    "|\\t |수평 탭문자(8칸)|\n",
    "|\\\\ |문자 \"\\\"|\n",
    "|\\' |작은따옴표(')|\n",
    "|\\\" |큰따옴표(\")|\n",
    "|\\r |캐리지 리턴|\n",
    "|\\f |폼 피드|\n",
    "|\\a |벨 소리|\n",
    "|\\b |백 스페이스|\n",
    "|\\000 |널문자|\n",
    "\n",
    "### Raw 문자열\n",
    "- 탈출문자를 모두 그대로의 문자로 취급\n",
    "- 문자열 앞에 r 붙히기"
   ]
  },
  {
   "cell_type": "code",
   "execution_count": 1,
   "metadata": {
    "ExecuteTime": {
     "end_time": "2019-12-01T14:09:06.988129Z",
     "start_time": "2019-12-01T14:09:06.984042Z"
    }
   },
   "outputs": [
    {
     "name": "stdout",
     "output_type": "stream",
     "text": [
      "Life is too short\\nYou need python\\n\n"
     ]
    }
   ],
   "source": [
    "ec=r\"Life is too short\\nYou need python\\n\"\n",
    "print(ec)"
   ]
  },
  {
   "cell_type": "markdown",
   "metadata": {},
   "source": [
    "## 문자열 slicing"
   ]
  },
  {
   "cell_type": "code",
   "execution_count": 2,
   "metadata": {
    "ExecuteTime": {
     "end_time": "2019-12-01T14:10:31.902278Z",
     "start_time": "2019-12-01T14:10:31.891778Z"
    }
   },
   "outputs": [
    {
     "data": {
      "text/plain": [
       "'if'"
      ]
     },
     "execution_count": 2,
     "metadata": {},
     "output_type": "execute_result"
    }
   ],
   "source": [
    "s = \"Life is too short\"\n",
    "s[1:3]"
   ]
  },
  {
   "cell_type": "markdown",
   "metadata": {},
   "source": [
    "문자열은 수정불가하다!!\n",
    "\n",
    "```python \n",
    "w=\"20010331Rainy\"\n",
    "w[4:6]='05' # 문자열은 그 값을 수정, 변경할 수 없음 -> str은 수정불가, 항상 새로 생성해야 함\n",
    "---------------------------------------------------------------------------\n",
    "TypeError                                 Traceback (most recent call last)\n",
    "<ipython-input-19-66bb92baebe3> in <module>\n",
    "      1 w=\"20010331Rainy\"\n",
    "----> 2 w[4:6]='05'\n",
    "\n",
    "TypeError: 'str' object does not support item assignment\n",
    "```"
   ]
  },
  {
   "cell_type": "code",
   "execution_count": 3,
   "metadata": {
    "ExecuteTime": {
     "end_time": "2019-12-01T14:10:52.984892Z",
     "start_time": "2019-12-01T14:10:52.979832Z"
    }
   },
   "outputs": [
    {
     "data": {
      "text/plain": [
       "'20010531Rainy'"
      ]
     },
     "execution_count": 3,
     "metadata": {},
     "output_type": "execute_result"
    }
   ],
   "source": [
    "w=\"20010331Rainy\"\n",
    "w= w[:4]+'05'+w[6:]\n",
    "w"
   ]
  },
  {
   "cell_type": "markdown",
   "metadata": {},
   "source": [
    "## 문자열 관련 함수들\n",
    "1. count 함수\n",
    "2. find 함수\n",
    "3. index 함수\n",
    "4. join 함수\n",
    "5. upper / lower 함수\n",
    "6. lstrip / rstrip / strip 함수\n",
    "7. replace 함수\n",
    "8. split 함수\n",
    "9. format 함수"
   ]
  },
  {
   "cell_type": "markdown",
   "metadata": {},
   "source": [
    "### count 함수"
   ]
  },
  {
   "cell_type": "code",
   "execution_count": 4,
   "metadata": {
    "ExecuteTime": {
     "end_time": "2019-12-01T14:11:22.105183Z",
     "start_time": "2019-12-01T14:11:22.101115Z"
    }
   },
   "outputs": [
    {
     "data": {
      "text/plain": [
       "2"
      ]
     },
     "execution_count": 4,
     "metadata": {},
     "output_type": "execute_result"
    }
   ],
   "source": [
    "s.count('s') # s 가 몇개 있는지"
   ]
  },
  {
   "cell_type": "markdown",
   "metadata": {},
   "source": [
    "### find 함수"
   ]
  },
  {
   "cell_type": "code",
   "execution_count": 5,
   "metadata": {
    "ExecuteTime": {
     "end_time": "2019-12-01T14:11:37.303974Z",
     "start_time": "2019-12-01T14:11:37.299502Z"
    }
   },
   "outputs": [
    {
     "data": {
      "text/plain": [
       "5"
      ]
     },
     "execution_count": 5,
     "metadata": {},
     "output_type": "execute_result"
    }
   ],
   "source": [
    "s.find('is') # is 의 index"
   ]
  },
  {
   "cell_type": "code",
   "execution_count": 6,
   "metadata": {
    "ExecuteTime": {
     "end_time": "2019-12-01T14:11:42.610969Z",
     "start_time": "2019-12-01T14:11:42.606732Z"
    }
   },
   "outputs": [
    {
     "data": {
      "text/plain": [
       "-1"
      ]
     },
     "execution_count": 6,
     "metadata": {},
     "output_type": "execute_result"
    }
   ],
   "source": [
    "s.find('z') # 못 찾으면 -1 반환"
   ]
  },
  {
   "cell_type": "markdown",
   "metadata": {},
   "source": [
    "### index 함수"
   ]
  },
  {
   "cell_type": "code",
   "execution_count": 7,
   "metadata": {
    "ExecuteTime": {
     "end_time": "2019-12-01T14:13:18.758485Z",
     "start_time": "2019-12-01T14:13:18.754084Z"
    }
   },
   "outputs": [
    {
     "data": {
      "text/plain": [
       "8"
      ]
     },
     "execution_count": 7,
     "metadata": {},
     "output_type": "execute_result"
    }
   ],
   "source": [
    "s.index('too') # too의 index"
   ]
  },
  {
   "cell_type": "markdown",
   "metadata": {},
   "source": [
    "### 4. join 함수"
   ]
  },
  {
   "cell_type": "code",
   "execution_count": 8,
   "metadata": {
    "ExecuteTime": {
     "end_time": "2019-12-01T14:13:29.622706Z",
     "start_time": "2019-12-01T14:13:29.618407Z"
    }
   },
   "outputs": [
    {
     "data": {
      "text/plain": [
       "'L,i,f,e, ,i,s, ,t,o,o, ,s,h,o,r,t'"
      ]
     },
     "execution_count": 8,
     "metadata": {},
     "output_type": "execute_result"
    }
   ],
   "source": [
    "comma = ','\n",
    "comma.join(s)"
   ]
  },
  {
   "cell_type": "code",
   "execution_count": 9,
   "metadata": {
    "ExecuteTime": {
     "end_time": "2019-12-01T14:13:40.472178Z",
     "start_time": "2019-12-01T14:13:40.468533Z"
    }
   },
   "outputs": [
    {
     "name": "stdout",
     "output_type": "stream",
     "text": [
      "서울시 서대문구 신촌동\n"
     ]
    }
   ],
   "source": [
    "# 실질적인 예시는 다음과 같다\n",
    "x = ['서울시','서대문구','신촌동']\n",
    "print(' '.join(x))"
   ]
  },
  {
   "cell_type": "markdown",
   "metadata": {},
   "source": [
    "### upper / lower 함수"
   ]
  },
  {
   "cell_type": "code",
   "execution_count": 10,
   "metadata": {
    "ExecuteTime": {
     "end_time": "2019-12-01T14:13:51.679577Z",
     "start_time": "2019-12-01T14:13:51.675240Z"
    }
   },
   "outputs": [
    {
     "data": {
      "text/plain": [
       "'LIFE IS TOO SHORT'"
      ]
     },
     "execution_count": 10,
     "metadata": {},
     "output_type": "execute_result"
    }
   ],
   "source": [
    "s.upper()"
   ]
  },
  {
   "cell_type": "code",
   "execution_count": 11,
   "metadata": {
    "ExecuteTime": {
     "end_time": "2019-12-01T14:13:55.044669Z",
     "start_time": "2019-12-01T14:13:55.038255Z"
    }
   },
   "outputs": [
    {
     "data": {
      "text/plain": [
       "'life is too short'"
      ]
     },
     "execution_count": 11,
     "metadata": {},
     "output_type": "execute_result"
    }
   ],
   "source": [
    "s.lower()"
   ]
  },
  {
   "cell_type": "markdown",
   "metadata": {},
   "source": [
    "### lstrip, rstrip, strip 함수"
   ]
  },
  {
   "cell_type": "code",
   "execution_count": 12,
   "metadata": {
    "ExecuteTime": {
     "end_time": "2019-12-01T14:14:07.966177Z",
     "start_time": "2019-12-01T14:14:07.962251Z"
    }
   },
   "outputs": [
    {
     "data": {
      "text/plain": [
       "'Life is too short'"
      ]
     },
     "execution_count": 12,
     "metadata": {},
     "output_type": "execute_result"
    }
   ],
   "source": [
    "s.lstrip()"
   ]
  },
  {
   "cell_type": "code",
   "execution_count": 13,
   "metadata": {
    "ExecuteTime": {
     "end_time": "2019-12-01T14:14:11.331101Z",
     "start_time": "2019-12-01T14:14:11.327390Z"
    }
   },
   "outputs": [
    {
     "data": {
      "text/plain": [
       "'Life is too short'"
      ]
     },
     "execution_count": 13,
     "metadata": {},
     "output_type": "execute_result"
    }
   ],
   "source": [
    "s.rstrip()"
   ]
  },
  {
   "cell_type": "code",
   "execution_count": 14,
   "metadata": {
    "ExecuteTime": {
     "end_time": "2019-12-01T14:14:15.765348Z",
     "start_time": "2019-12-01T14:14:15.761394Z"
    }
   },
   "outputs": [
    {
     "data": {
      "text/plain": [
       "'Life is too short'"
      ]
     },
     "execution_count": 14,
     "metadata": {},
     "output_type": "execute_result"
    }
   ],
   "source": [
    "s.strip()"
   ]
  },
  {
   "cell_type": "markdown",
   "metadata": {},
   "source": [
    "### replace 함수"
   ]
  },
  {
   "cell_type": "code",
   "execution_count": 15,
   "metadata": {
    "ExecuteTime": {
     "end_time": "2019-12-01T14:14:29.728471Z",
     "start_time": "2019-12-01T14:14:29.723605Z"
    }
   },
   "outputs": [
    {
     "data": {
      "text/plain": [
       "'Life is too long'"
      ]
     },
     "execution_count": 15,
     "metadata": {},
     "output_type": "execute_result"
    }
   ],
   "source": [
    "s.replace('short','long')"
   ]
  },
  {
   "cell_type": "code",
   "execution_count": 16,
   "metadata": {
    "ExecuteTime": {
     "end_time": "2019-12-01T14:14:34.121707Z",
     "start_time": "2019-12-01T14:14:34.117981Z"
    }
   },
   "outputs": [
    {
     "data": {
      "text/plain": [
       "'Lifeistooshort'"
      ]
     },
     "execution_count": 16,
     "metadata": {},
     "output_type": "execute_result"
    }
   ],
   "source": [
    "s.replace(' ','') # 이렇게 띄어쓰기를 없애고 싶을때도 쓰인다"
   ]
  },
  {
   "cell_type": "markdown",
   "metadata": {},
   "source": [
    "### split 함수"
   ]
  },
  {
   "cell_type": "code",
   "execution_count": 17,
   "metadata": {
    "ExecuteTime": {
     "end_time": "2019-12-01T14:14:50.698716Z",
     "start_time": "2019-12-01T14:14:50.694198Z"
    }
   },
   "outputs": [
    {
     "data": {
      "text/plain": [
       "['Life', 'is', 'too', 'short']"
      ]
     },
     "execution_count": 17,
     "metadata": {},
     "output_type": "execute_result"
    }
   ],
   "source": [
    "s.split()"
   ]
  },
  {
   "cell_type": "code",
   "execution_count": 18,
   "metadata": {
    "ExecuteTime": {
     "end_time": "2019-12-01T14:14:54.911614Z",
     "start_time": "2019-12-01T14:14:54.907694Z"
    }
   },
   "outputs": [
    {
     "data": {
      "text/plain": [
       "['Life is too short']"
      ]
     },
     "execution_count": 18,
     "metadata": {},
     "output_type": "execute_result"
    }
   ],
   "source": [
    "s.split(',')"
   ]
  },
  {
   "cell_type": "markdown",
   "metadata": {},
   "source": [
    "### format 함수"
   ]
  },
  {
   "cell_type": "code",
   "execution_count": 19,
   "metadata": {
    "ExecuteTime": {
     "end_time": "2019-12-01T14:15:53.440371Z",
     "start_time": "2019-12-01T14:15:53.436293Z"
    }
   },
   "outputs": [
    {
     "data": {
      "text/plain": [
       "'풍속 5ms/s'"
      ]
     },
     "execution_count": 19,
     "metadata": {},
     "output_type": "execute_result"
    }
   ],
   "source": [
    "\"풍속 {0}ms/s\".format(5)"
   ]
  },
  {
   "cell_type": "code",
   "execution_count": 20,
   "metadata": {
    "ExecuteTime": {
     "end_time": "2019-12-01T14:15:56.850857Z",
     "start_time": "2019-12-01T14:15:56.845943Z"
    }
   },
   "outputs": [
    {
     "data": {
      "text/plain": [
       "'풍속 fivems/s'"
      ]
     },
     "execution_count": 20,
     "metadata": {},
     "output_type": "execute_result"
    }
   ],
   "source": [
    "\"풍속 {0}ms/s\".format(\"five\")"
   ]
  },
  {
   "cell_type": "code",
   "execution_count": 21,
   "metadata": {
    "ExecuteTime": {
     "end_time": "2019-12-01T14:16:06.801079Z",
     "start_time": "2019-12-01T14:16:06.797257Z"
    }
   },
   "outputs": [
    {
     "data": {
      "text/plain": [
       "'풍속 15ms/s'"
      ]
     },
     "execution_count": 21,
     "metadata": {},
     "output_type": "execute_result"
    }
   ],
   "source": [
    "\"{title} {wind}ms/s\".format( wind= 15 , title='풍속')"
   ]
  },
  {
   "cell_type": "code",
   "execution_count": 22,
   "metadata": {
    "ExecuteTime": {
     "end_time": "2019-12-01T14:16:12.330162Z",
     "start_time": "2019-12-01T14:16:12.325291Z"
    }
   },
   "outputs": [
    {
     "data": {
      "text/plain": [
       "'hello     '"
      ]
     },
     "execution_count": 22,
     "metadata": {},
     "output_type": "execute_result"
    }
   ],
   "source": [
    "\"{0:10}\".format(\"hello\")  # 여백"
   ]
  },
  {
   "cell_type": "markdown",
   "metadata": {},
   "source": [
    "#### 9.1 format의 빈칸 채우기"
   ]
  },
  {
   "cell_type": "code",
   "execution_count": 23,
   "metadata": {
    "ExecuteTime": {
     "end_time": "2019-12-01T14:16:47.322163Z",
     "start_time": "2019-12-01T14:16:47.318150Z"
    }
   },
   "outputs": [
    {
     "data": {
      "text/plain": [
       "'hello====='"
      ]
     },
     "execution_count": 23,
     "metadata": {},
     "output_type": "execute_result"
    }
   ],
   "source": [
    " \"{0:=<10}\".format(\"hello\")"
   ]
  },
  {
   "cell_type": "code",
   "execution_count": 24,
   "metadata": {
    "ExecuteTime": {
     "end_time": "2019-12-01T14:16:47.515760Z",
     "start_time": "2019-12-01T14:16:47.511333Z"
    }
   },
   "outputs": [
    {
     "data": {
      "text/plain": [
       "'**hello***'"
      ]
     },
     "execution_count": 24,
     "metadata": {},
     "output_type": "execute_result"
    }
   ],
   "source": [
    "\"{0:*^10}\".format(\"hello\")"
   ]
  },
  {
   "cell_type": "code",
   "execution_count": 25,
   "metadata": {
    "ExecuteTime": {
     "end_time": "2019-12-01T14:16:47.664794Z",
     "start_time": "2019-12-01T14:16:47.660523Z"
    }
   },
   "outputs": [
    {
     "data": {
      "text/plain": [
       "'$$$$$hello'"
      ]
     },
     "execution_count": 25,
     "metadata": {},
     "output_type": "execute_result"
    }
   ],
   "source": [
    " \"{0:$>10}\".format(\"hello\")"
   ]
  },
  {
   "cell_type": "markdown",
   "metadata": {},
   "source": [
    "#### format의 숫자 서식"
   ]
  },
  {
   "cell_type": "code",
   "execution_count": 29,
   "metadata": {
    "ExecuteTime": {
     "end_time": "2019-12-01T14:18:22.141089Z",
     "start_time": "2019-12-01T14:18:22.136709Z"
    }
   },
   "outputs": [
    {
     "data": {
      "text/plain": [
       "'123,456.789'"
      ]
     },
     "execution_count": 29,
     "metadata": {},
     "output_type": "execute_result"
    }
   ],
   "source": [
    "\"{0:,}\".format(123456.789)"
   ]
  },
  {
   "cell_type": "code",
   "execution_count": 30,
   "metadata": {
    "ExecuteTime": {
     "end_time": "2019-12-01T14:18:22.326117Z",
     "start_time": "2019-12-01T14:18:22.321903Z"
    }
   },
   "outputs": [
    {
     "data": {
      "text/plain": [
       "'     123456.789'"
      ]
     },
     "execution_count": 30,
     "metadata": {},
     "output_type": "execute_result"
    }
   ],
   "source": [
    "\"{0:15}\".format(123456.789)"
   ]
  },
  {
   "cell_type": "code",
   "execution_count": 31,
   "metadata": {
    "ExecuteTime": {
     "end_time": "2019-12-01T14:18:22.461462Z",
     "start_time": "2019-12-01T14:18:22.457600Z"
    }
   },
   "outputs": [
    {
     "data": {
      "text/plain": [
       "'    123,456.789'"
      ]
     },
     "execution_count": 31,
     "metadata": {},
     "output_type": "execute_result"
    }
   ],
   "source": [
    "\"{0:15,}\".format(123456.789) # 콤마 붙여줌"
   ]
  },
  {
   "cell_type": "markdown",
   "metadata": {},
   "source": [
    "### 예제"
   ]
  },
  {
   "cell_type": "code",
   "execution_count": 28,
   "metadata": {
    "ExecuteTime": {
     "end_time": "2019-12-01T14:18:19.401390Z",
     "start_time": "2019-12-01T14:18:14.396045Z"
    }
   },
   "outputs": [
    {
     "name": "stdout",
     "output_type": "stream",
     "text": [
      "이름과 점수를 입력하세요 : 홍길동, 90\n",
      "****홍길동****님은 90.0점을 받았습니다.\n",
      "합격하였습니다.\n"
     ]
    }
   ],
   "source": [
    "name, score = input('이름과 점수를 입력하세요 : ').replace(',',' ').split()\n",
    "score = float(score)\n",
    "print(\"{name:*^11}님은 {score}점을 받았습니다.\".format(name=name,score=score))\n",
    "if score < 60:\n",
    "    print(\"불합격하엿습니다. %.2f점이 부족합니다.\"%(60-score))\n",
    "else:\n",
    "    print('합격하였습니다.')"
   ]
  },
  {
   "cell_type": "code",
   "execution_count": 32,
   "metadata": {
    "ExecuteTime": {
     "end_time": "2019-12-01T14:18:25.274170Z",
     "start_time": "2019-12-01T14:18:25.269935Z"
    }
   },
   "outputs": [
    {
     "name": "stdout",
     "output_type": "stream",
     "text": [
      "10\n",
      "2\n",
      "LIFE IF SHORT, LEARN PYTHON!\n",
      "Life if short, Learn Python!\n"
     ]
    }
   ],
   "source": [
    "s = \"Life if short, Learn Python!\"\n",
    "print(s.find('o'))\n",
    "print(s.count('o'))\n",
    "print(s.upper())\n",
    "print(s.strip())"
   ]
  },
  {
   "cell_type": "code",
   "execution_count": null,
   "metadata": {},
   "outputs": [],
   "source": []
  }
 ],
 "metadata": {
  "kernelspec": {
   "display_name": "Python 3",
   "language": "python",
   "name": "python3"
  },
  "language_info": {
   "codemirror_mode": {
    "name": "ipython",
    "version": 3
   },
   "file_extension": ".py",
   "mimetype": "text/x-python",
   "name": "python",
   "nbconvert_exporter": "python",
   "pygments_lexer": "ipython3",
   "version": "3.6.9"
  },
  "toc": {
   "base_numbering": 1,
   "nav_menu": {},
   "number_sections": true,
   "sideBar": true,
   "skip_h1_title": true,
   "title_cell": "강의목차",
   "title_sidebar": "Contents",
   "toc_cell": true,
   "toc_position": {},
   "toc_section_display": true,
   "toc_window_display": true
  }
 },
 "nbformat": 4,
 "nbformat_minor": 2
}
