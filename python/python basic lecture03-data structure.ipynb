{
 "cells": [
  {
   "cell_type": "markdown",
   "metadata": {},
   "source": [
    "<img src='./img/intel-logo.jpg' width=50%, Fig1>\n",
    "\n",
    "# 파이썬 기초강의\n",
    "<font size=5><b>03. Data Structure<b></font>\n",
    "\n",
    "<div align='right'>성  민  석 (Minsuk  Sung)</div>\n",
    "<div align='right'>류  회  성 (Hoesung Ryu)</div>\n",
    "\n",
    "<img src='./img/life is short.png' width=50%, Fig2> \n",
    "\n",
    "    \n",
    "\n",
    "    "
   ]
  },
  {
   "cell_type": "markdown",
   "metadata": {
    "toc": true
   },
   "source": [
    "<h1>강의목차<span class=\"tocSkip\"></span></h1>\n",
    "<div class=\"toc\"><ul class=\"toc-item\"><li><span><a href=\"#리스트(List)\" data-toc-modified-id=\"리스트(List)-1\"><span class=\"toc-item-num\">1&nbsp;&nbsp;</span>리스트(List)</a></span><ul class=\"toc-item\"><li><span><a href=\"#리스트-기본연산\" data-toc-modified-id=\"리스트-기본연산-1.1\"><span class=\"toc-item-num\">1.1&nbsp;&nbsp;</span>리스트 기본연산</a></span></li><li><span><a href=\"#리스트-원소-추가하기\" data-toc-modified-id=\"리스트-원소-추가하기-1.2\"><span class=\"toc-item-num\">1.2&nbsp;&nbsp;</span>리스트 원소 추가하기</a></span></li><li><span><a href=\"#2차원,-3차원-리스트\" data-toc-modified-id=\"2차원,-3차원-리스트-1.3\"><span class=\"toc-item-num\">1.3&nbsp;&nbsp;</span>2차원, 3차원 리스트</a></span></li><li><span><a href=\"#POP-함수\" data-toc-modified-id=\"POP-함수-1.4\"><span class=\"toc-item-num\">1.4&nbsp;&nbsp;</span>POP 함수</a></span></li><li><span><a href=\"#insert-함수\" data-toc-modified-id=\"insert-함수-1.5\"><span class=\"toc-item-num\">1.5&nbsp;&nbsp;</span>insert 함수</a></span></li><li><span><a href=\"#sort함수\" data-toc-modified-id=\"sort함수-1.6\"><span class=\"toc-item-num\">1.6&nbsp;&nbsp;</span>sort함수</a></span></li><li><span><a href=\"#index-함수\" data-toc-modified-id=\"index-함수-1.7\"><span class=\"toc-item-num\">1.7&nbsp;&nbsp;</span>index 함수</a></span></li><li><span><a href=\"#remove-함수\" data-toc-modified-id=\"remove-함수-1.8\"><span class=\"toc-item-num\">1.8&nbsp;&nbsp;</span>remove 함수</a></span></li><li><span><a href=\"#len--함수\" data-toc-modified-id=\"len--함수-1.9\"><span class=\"toc-item-num\">1.9&nbsp;&nbsp;</span>len  함수</a></span></li></ul></li><li><span><a href=\"#튜플\" data-toc-modified-id=\"튜플-2\"><span class=\"toc-item-num\">2&nbsp;&nbsp;</span>튜플</a></span><ul class=\"toc-item\"><li><span><a href=\"#Tuple-Assignment\" data-toc-modified-id=\"Tuple-Assignment-2.1\"><span class=\"toc-item-num\">2.1&nbsp;&nbsp;</span>Tuple Assignment</a></span></li></ul></li><li><span><a href=\"#딕셔너리(Dict)\" data-toc-modified-id=\"딕셔너리(Dict)-3\"><span class=\"toc-item-num\">3&nbsp;&nbsp;</span>딕셔너리(Dict)</a></span></li><li><span><a href=\"#집합\" data-toc-modified-id=\"집합-4\"><span class=\"toc-item-num\">4&nbsp;&nbsp;</span>집합</a></span></li></ul></div>"
   ]
  },
  {
   "cell_type": "markdown",
   "metadata": {},
   "source": [
    "---\n",
    "\n",
    "## 리스트(List)\n",
    "### 리스트 기본연산"
   ]
  },
  {
   "cell_type": "code",
   "execution_count": 2,
   "metadata": {
    "ExecuteTime": {
     "end_time": "2019-12-01T12:54:58.758703Z",
     "start_time": "2019-12-01T12:54:58.754973Z"
    }
   },
   "outputs": [
    {
     "name": "stdout",
     "output_type": "stream",
     "text": [
      "x: []\n",
      "y: []\n"
     ]
    }
   ],
   "source": [
    "# 빈 리스트\n",
    "x = list() \n",
    "y = []\n",
    "\n",
    "print('x:',x)\n",
    "print('y:',y)"
   ]
  },
  {
   "cell_type": "code",
   "execution_count": 3,
   "metadata": {
    "ExecuteTime": {
     "end_time": "2019-12-01T12:54:58.918150Z",
     "start_time": "2019-12-01T12:54:58.914534Z"
    }
   },
   "outputs": [
    {
     "name": "stdout",
     "output_type": "stream",
     "text": [
      "[10, 20, 30]\n"
     ]
    }
   ],
   "source": [
    " # 콤마(,)로 구분하자\n",
    "x = [10,20,30]\n",
    "print(x)"
   ]
  },
  {
   "cell_type": "code",
   "execution_count": 4,
   "metadata": {
    "ExecuteTime": {
     "end_time": "2019-12-01T12:54:59.063238Z",
     "start_time": "2019-12-01T12:54:59.058340Z"
    }
   },
   "outputs": [
    {
     "name": "stdout",
     "output_type": "stream",
     "text": [
      "[100, 3.14, 'abc', True, [10, 20, 30]]\n"
     ]
    }
   ],
   "source": [
    "# List 안에 원소들이 Type이 다 같을 필요가 없음!\n",
    "# 즉, 어떤 type이든 상관없음\n",
    "\n",
    "y = [100,3.14,'abc',True,x] \n",
    "print(y)"
   ]
  },
  {
   "cell_type": "code",
   "execution_count": 5,
   "metadata": {
    "ExecuteTime": {
     "end_time": "2019-12-01T12:54:59.207776Z",
     "start_time": "2019-12-01T12:54:59.204527Z"
    }
   },
   "outputs": [
    {
     "name": "stdout",
     "output_type": "stream",
     "text": [
      "['호피폴라', '애프터문', '루시', '모네', '퍼플레인', '피플 온 더 브릿지']\n"
     ]
    }
   ],
   "source": [
    "band_list = ['호피폴라','애프터문','루시','모네','퍼플레인','피플 온 더 브릿지']\n",
    "print(band_list)"
   ]
  },
  {
   "cell_type": "code",
   "execution_count": 6,
   "metadata": {
    "ExecuteTime": {
     "end_time": "2019-12-01T12:54:59.375831Z",
     "start_time": "2019-12-01T12:54:59.365658Z"
    }
   },
   "outputs": [
    {
     "data": {
      "text/plain": [
       "'호피폴라'"
      ]
     },
     "execution_count": 6,
     "metadata": {},
     "output_type": "execute_result"
    }
   ],
   "source": [
    "# 첫번째 원소 \n",
    "band_list[0] "
   ]
  },
  {
   "cell_type": "code",
   "execution_count": 7,
   "metadata": {
    "ExecuteTime": {
     "end_time": "2019-12-01T12:54:59.547879Z",
     "start_time": "2019-12-01T12:54:59.544277Z"
    }
   },
   "outputs": [
    {
     "name": "stdout",
     "output_type": "stream",
     "text": [
      "호피폴라\n"
     ]
    }
   ],
   "source": [
    "# print하면 따옴표 날아감\n",
    "print(band_list[0]) "
   ]
  },
  {
   "cell_type": "code",
   "execution_count": 8,
   "metadata": {
    "ExecuteTime": {
     "end_time": "2019-12-01T12:54:59.711001Z",
     "start_time": "2019-12-01T12:54:59.706601Z"
    }
   },
   "outputs": [
    {
     "data": {
      "text/plain": [
       "'피플 온 더 브릿지'"
      ]
     },
     "execution_count": 8,
     "metadata": {},
     "output_type": "execute_result"
    }
   ],
   "source": [
    "# 거꾸로...-1은 마지막 원소\n",
    "band_list[-1] "
   ]
  },
  {
   "cell_type": "code",
   "execution_count": 9,
   "metadata": {
    "ExecuteTime": {
     "end_time": "2019-12-01T12:54:59.875511Z",
     "start_time": "2019-12-01T12:54:59.870566Z"
    }
   },
   "outputs": [
    {
     "data": {
      "text/plain": [
       "['호피폴라', '애프터문']"
      ]
     },
     "execution_count": 9,
     "metadata": {},
     "output_type": "execute_result"
    }
   ],
   "source": [
    "# Slicing\n",
    "# 0,1 뽑아오기\n",
    "band_list[0:2]"
   ]
  },
  {
   "cell_type": "code",
   "execution_count": 13,
   "metadata": {
    "ExecuteTime": {
     "end_time": "2019-12-01T12:56:23.366372Z",
     "start_time": "2019-12-01T12:56:23.362366Z"
    }
   },
   "outputs": [
    {
     "data": {
      "text/plain": [
       "['애프터문', '모네']"
      ]
     },
     "execution_count": 13,
     "metadata": {},
     "output_type": "execute_result"
    }
   ],
   "source": [
    "# 1번 원소부터 4번 원소전까지 2칸씩\n",
    "band_list[1:4:2] "
   ]
  },
  {
   "cell_type": "code",
   "execution_count": 15,
   "metadata": {
    "ExecuteTime": {
     "end_time": "2019-12-01T12:58:24.834726Z",
     "start_time": "2019-12-01T12:58:24.830591Z"
    }
   },
   "outputs": [
    {
     "data": {
      "text/plain": [
       "['호피폴라', '모네']"
      ]
     },
     "execution_count": 15,
     "metadata": {},
     "output_type": "execute_result"
    }
   ],
   "source": [
    "# 3칸씩 이동하면서 가져오기 \n",
    "band_list[::3]"
   ]
  },
  {
   "cell_type": "markdown",
   "metadata": {},
   "source": [
    "### 리스트 원소 추가하기 "
   ]
  },
  {
   "cell_type": "code",
   "execution_count": 16,
   "metadata": {
    "ExecuteTime": {
     "end_time": "2019-12-01T12:59:25.018554Z",
     "start_time": "2019-12-01T12:59:25.013648Z"
    }
   },
   "outputs": [
    {
     "data": {
      "text/plain": [
       "['루시', '호피폴라', '애프터문', '루시', '모네']"
      ]
     },
     "execution_count": 16,
     "metadata": {},
     "output_type": "execute_result"
    }
   ],
   "source": [
    "new_list = ['루시','호피폴라','애프터문','루시']\n",
    "\n",
    "# + 연산자를 통해서 리스트에 원소를 추가할 수 있음\n",
    "new_list = new_list + ['모네'] \n",
    "new_list\n",
    "\n"
   ]
  },
  {
   "cell_type": "code",
   "execution_count": 17,
   "metadata": {
    "ExecuteTime": {
     "end_time": "2019-12-01T12:59:34.839838Z",
     "start_time": "2019-12-01T12:59:34.835573Z"
    }
   },
   "outputs": [
    {
     "data": {
      "text/plain": [
       "['루시', '호피폴라', '애프터문', '루시', '모네', '퍼플레인']"
      ]
     },
     "execution_count": 17,
     "metadata": {},
     "output_type": "execute_result"
    }
   ],
   "source": [
    "# append함수를 통해서 더할 수 있다\n",
    "new_list.append('퍼플레인') \n",
    "new_list"
   ]
  },
  {
   "cell_type": "code",
   "execution_count": 18,
   "metadata": {
    "ExecuteTime": {
     "end_time": "2019-12-01T12:59:44.962235Z",
     "start_time": "2019-12-01T12:59:44.957887Z"
    }
   },
   "outputs": [
    {
     "data": {
      "text/plain": [
       "['루시', '호피폴라', '애프터문', '루시', '모네', '퍼플레인', '옥상달빛', '볼빨간사춘기']"
      ]
     },
     "execution_count": 18,
     "metadata": {},
     "output_type": "execute_result"
    }
   ],
   "source": [
    "# extend로 리스트를 더 할 수 있다. \n",
    "new_list.extend(['옥상달빛','볼빨간사춘기'])\n",
    "new_list"
   ]
  },
  {
   "cell_type": "markdown",
   "metadata": {},
   "source": [
    "### 2차원, 3차원 리스트 "
   ]
  },
  {
   "cell_type": "code",
   "execution_count": 20,
   "metadata": {
    "ExecuteTime": {
     "end_time": "2019-12-01T13:00:48.980000Z",
     "start_time": "2019-12-01T13:00:48.974621Z"
    }
   },
   "outputs": [
    {
     "name": "stdout",
     "output_type": "stream",
     "text": [
      "[['이름', '성적', '수학'], ['홍길동', 70, 80], ['김돌쇠', 50, 50], ['강철수', 90, 100]]\n"
     ]
    }
   ],
   "source": [
    "# 2차원 리스트 \n",
    "l1 = ['이름','성적','수학']\n",
    "l2 = ['홍길동',70,80]\n",
    "l3 = ['김돌쇠',50,50]\n",
    "l4 = ['강철수',90,100]\n",
    "s = [l1,l2,l3,l4]\n",
    "print(s)"
   ]
  },
  {
   "cell_type": "code",
   "execution_count": 21,
   "metadata": {
    "ExecuteTime": {
     "end_time": "2019-12-01T13:00:54.568680Z",
     "start_time": "2019-12-01T13:00:54.562062Z"
    }
   },
   "outputs": [
    {
     "data": {
      "text/plain": [
       "[[['이름', '성적', '수학'], ['홍길동', 70, 80], ['김돌쇠', 50, 50], ['강철수', 90, 100]],\n",
       " [['홍길동', 70, 80], ['김돌쇠', 50, 50], ['강철수', 90, 100], ['이름', '성적', '수학']],\n",
       " [['김돌쇠', 50, 50], ['강철수', 90, 100], ['이름', '성적', '수학'], ['홍길동', 70, 80]],\n",
       " [['강철수', 90, 100], ['이름', '성적', '수학'], ['홍길동', 70, 80], ['김돌쇠', 50, 50]]]"
      ]
     },
     "execution_count": 21,
     "metadata": {},
     "output_type": "execute_result"
    }
   ],
   "source": [
    "# 3차원리스트 \n",
    "s1 = [l1,l2,l3,l4]\n",
    "s2 = [l2,l3,l4,l1]\n",
    "s3 = [l3,l4,l1,l2]\n",
    "s4 = [l4,l1,l2,l3]\n",
    "s = [s1,s2,s3,s4]\n",
    "s # 마지막 대괄호가 3개니까 3차원이란걸 단번에 알 수 있음"
   ]
  },
  {
   "cell_type": "markdown",
   "metadata": {},
   "source": [
    "### POP 함수 "
   ]
  },
  {
   "cell_type": "code",
   "execution_count": 25,
   "metadata": {
    "ExecuteTime": {
     "end_time": "2019-12-01T13:06:12.875620Z",
     "start_time": "2019-12-01T13:06:12.871561Z"
    }
   },
   "outputs": [
    {
     "name": "stdout",
     "output_type": "stream",
     "text": [
      "마지막 원소:  피플 온 더 브릿지\n",
      "['호피폴라', '애프터문', '루시', '모네', '퍼플레인']\n"
     ]
    }
   ],
   "source": [
    "bands = ['호피폴라','애프터문','루시','모네','퍼플레인','피플 온 더 브릿지']\n",
    "# 마지막 원소 삭제\n",
    "print(\"마지막 원소: \",bands.pop()) \n",
    "print(bands)"
   ]
  },
  {
   "cell_type": "markdown",
   "metadata": {},
   "source": [
    "### insert 함수\n"
   ]
  },
  {
   "cell_type": "code",
   "execution_count": 27,
   "metadata": {
    "ExecuteTime": {
     "end_time": "2019-12-01T13:07:36.004320Z",
     "start_time": "2019-12-01T13:07:35.999719Z"
    }
   },
   "outputs": [
    {
     "name": "stdout",
     "output_type": "stream",
     "text": [
      "원래 리스트 ['호피폴라', '애프터문', '루시', '모네', '퍼플레인', '피플 온 더 브릿지']\n",
      "3번째에 추가된 리스트 ['호피폴라', '애프터문', '루시', '옥상달빛', '모네', '퍼플레인', '피플 온 더 브릿지']\n"
     ]
    }
   ],
   "source": [
    "bands = ['호피폴라','애프터문','루시','모네','퍼플레인','피플 온 더 브릿지']\n",
    "print('원래 리스트',bands)\n",
    "# 3번째에 넣어라\n",
    "bands.insert(3,'옥상달빛') \n",
    "\n",
    "print('3번째에 추가된 리스트',bands)"
   ]
  },
  {
   "cell_type": "markdown",
   "metadata": {},
   "source": [
    "### sort함수"
   ]
  },
  {
   "cell_type": "code",
   "execution_count": 30,
   "metadata": {
    "ExecuteTime": {
     "end_time": "2019-12-01T13:11:19.838945Z",
     "start_time": "2019-12-01T13:11:19.834491Z"
    }
   },
   "outputs": [
    {
     "name": "stdout",
     "output_type": "stream",
     "text": [
      "['루시', '모네', '애프터문', '퍼플레인', '피플 온 더 브릿지', '호피폴라']\n",
      "['호피폴라', '피플 온 더 브릿지', '퍼플레인', '애프터문', '모네', '루시']\n"
     ]
    }
   ],
   "source": [
    "bands = ['호피폴라','애프터문','루시','모네','퍼플레인','피플 온 더 브릿지']\n",
    "\n",
    "# 가나다순으로 정렬해줌\n",
    "bands.sort() \n",
    "print(bands)\n",
    "\n",
    "\n",
    "# 가나다 역순으로 정렬해줌\n",
    "bands.sort(reverse=True) # 가나다 역순으로 정렬해줌\n",
    "print(bands)"
   ]
  },
  {
   "cell_type": "markdown",
   "metadata": {},
   "source": [
    "### index 함수"
   ]
  },
  {
   "cell_type": "code",
   "execution_count": 31,
   "metadata": {
    "ExecuteTime": {
     "end_time": "2019-12-01T13:11:56.396046Z",
     "start_time": "2019-12-01T13:11:56.391161Z"
    }
   },
   "outputs": [
    {
     "data": {
      "text/plain": [
       "2"
      ]
     },
     "execution_count": 31,
     "metadata": {},
     "output_type": "execute_result"
    }
   ],
   "source": [
    "# 위치 찾아주기 \n",
    "bands = ['호피폴라','애프터문','루시','모네','퍼플레인','피플 온 더 브릿지']\n",
    "bands.index('루시')"
   ]
  },
  {
   "cell_type": "markdown",
   "metadata": {},
   "source": [
    "### remove 함수"
   ]
  },
  {
   "cell_type": "code",
   "execution_count": 32,
   "metadata": {
    "ExecuteTime": {
     "end_time": "2019-12-01T13:12:22.341517Z",
     "start_time": "2019-12-01T13:12:22.336807Z"
    }
   },
   "outputs": [
    {
     "data": {
      "text/plain": [
       "['호피폴라', '애프터문', '루시', '퍼플레인', '피플 온 더 브릿지', '모네']"
      ]
     },
     "execution_count": 32,
     "metadata": {},
     "output_type": "execute_result"
    }
   ],
   "source": [
    "bands = ['호피폴라','애프터문','루시','모네','퍼플레인','피플 온 더 브릿지','모네']\n",
    "bands.remove('모네') # 중복된 값 다 지우진 않음\n",
    "bands"
   ]
  },
  {
   "cell_type": "markdown",
   "metadata": {},
   "source": [
    "### len  함수"
   ]
  },
  {
   "cell_type": "code",
   "execution_count": 33,
   "metadata": {
    "ExecuteTime": {
     "end_time": "2019-12-01T13:12:47.755812Z",
     "start_time": "2019-12-01T13:12:47.751539Z"
    }
   },
   "outputs": [
    {
     "name": "stdout",
     "output_type": "stream",
     "text": [
      "6\n",
      "4\n"
     ]
    }
   ],
   "source": [
    "bands = ['호피폴라','애프터문','루시','모네','퍼플레인','피플 온 더 브릿지']\n",
    "print(len(bands)) # list의 길이\n",
    "print(len(bands[0])) # string의 길이"
   ]
  },
  {
   "cell_type": "markdown",
   "metadata": {},
   "source": [
    "## 튜플\n",
    "값을 바꿀 수 없는 리스트, 수정 불가!!  \n",
    "값 변경, 추가, 제거, 정렬 다 안됨"
   ]
  },
  {
   "cell_type": "code",
   "execution_count": 36,
   "metadata": {
    "ExecuteTime": {
     "end_time": "2019-12-01T13:16:07.707691Z",
     "start_time": "2019-12-01T13:16:07.703214Z"
    }
   },
   "outputs": [
    {
     "name": "stdout",
     "output_type": "stream",
     "text": [
      "x: ()\n",
      "y: ()\n"
     ]
    }
   ],
   "source": [
    "# 빈 튜플 만들기\n",
    "x = tuple()\n",
    "y = ()\n",
    "\n",
    "print('x:',x)\n",
    "print('y:',y)"
   ]
  },
  {
   "cell_type": "code",
   "execution_count": 37,
   "metadata": {
    "ExecuteTime": {
     "end_time": "2019-12-01T13:16:33.643696Z",
     "start_time": "2019-12-01T13:16:33.638838Z"
    }
   },
   "outputs": [
    {
     "data": {
      "text/plain": [
       "('Sun', 'Mon', 'Tue', 'Wed', 'Thur', 'Fri', 'Sat')"
      ]
     },
     "execution_count": 37,
     "metadata": {},
     "output_type": "execute_result"
    }
   ],
   "source": [
    "t_days = ('Sun','Mon','Tue','Wed','Thur','Fri','Sat') \n",
    "t_days"
   ]
  },
  {
   "cell_type": "code",
   "execution_count": 38,
   "metadata": {
    "ExecuteTime": {
     "end_time": "2019-12-01T13:16:40.661131Z",
     "start_time": "2019-12-01T13:16:40.656614Z"
    }
   },
   "outputs": [
    {
     "data": {
      "text/plain": [
       "'Mon'"
      ]
     },
     "execution_count": 38,
     "metadata": {},
     "output_type": "execute_result"
    }
   ],
   "source": [
    "t_days[1]"
   ]
  },
  {
   "cell_type": "markdown",
   "metadata": {},
   "source": [
    "튜플은 변경이 불가하므로 Del 함수를 쓸 수 없다.\n",
    "\n",
    "del t_days[0]\n",
    "```\n",
    "---------------------------------------------------------------------------\n",
    "TypeError                                 Traceback (most recent call last)\n",
    "<ipython-input-57-eac9e44de8ae> in <module>\n",
    "----> 1 del t_days[0]\n",
    "\n",
    "TypeError: 'tuple' object doesn't support item deletion\n",
    "```"
   ]
  },
  {
   "cell_type": "markdown",
   "metadata": {},
   "source": [
    "### Tuple Assignment"
   ]
  },
  {
   "cell_type": "code",
   "execution_count": 39,
   "metadata": {
    "ExecuteTime": {
     "end_time": "2019-12-01T13:17:35.879326Z",
     "start_time": "2019-12-01T13:17:35.875499Z"
    }
   },
   "outputs": [
    {
     "name": "stdout",
     "output_type": "stream",
     "text": [
      "1 2 3\n"
     ]
    }
   ],
   "source": [
    "a,b,c = 1,2,3\n",
    "print(a,b,c)"
   ]
  },
  {
   "cell_type": "markdown",
   "metadata": {},
   "source": [
    "## 딕셔너리(Dict)\n",
    "key, value로 되어 있음!  \n",
    "key값은 유일해야하지만, value값은 유일할 필요없음!"
   ]
  },
  {
   "cell_type": "code",
   "execution_count": 40,
   "metadata": {
    "ExecuteTime": {
     "end_time": "2019-12-01T13:21:47.574338Z",
     "start_time": "2019-12-01T13:21:47.570650Z"
    }
   },
   "outputs": [
    {
     "name": "stdout",
     "output_type": "stream",
     "text": [
      "x: {}\n",
      "y: {}\n"
     ]
    }
   ],
   "source": [
    "# 빈딕셔너리 만드릭 \n",
    "x = dict()\n",
    "y = {}\n",
    "\n",
    "print('x:',x)\n",
    "print('y:',y)"
   ]
  },
  {
   "cell_type": "code",
   "execution_count": 41,
   "metadata": {
    "ExecuteTime": {
     "end_time": "2019-12-01T13:22:11.137505Z",
     "start_time": "2019-12-01T13:22:11.134317Z"
    }
   },
   "outputs": [],
   "source": [
    "singer = {'이름': '김광석',\n",
    "          '출생년도': 1980,\n",
    "          '데뷔곡': '너에게'\n",
    "          }"
   ]
  },
  {
   "cell_type": "code",
   "execution_count": 43,
   "metadata": {
    "ExecuteTime": {
     "end_time": "2019-12-01T13:22:45.080809Z",
     "start_time": "2019-12-01T13:22:45.077125Z"
    }
   },
   "outputs": [
    {
     "name": "stdout",
     "output_type": "stream",
     "text": [
      "김광석\n",
      "1980\n",
      "너에게\n"
     ]
    }
   ],
   "source": [
    "print(singer['이름'])\n",
    "print(singer['출생년도'])\n",
    "print(singer['데뷔곡'])"
   ]
  },
  {
   "cell_type": "code",
   "execution_count": 51,
   "metadata": {
    "ExecuteTime": {
     "end_time": "2019-12-01T13:28:19.367436Z",
     "start_time": "2019-12-01T13:28:19.362889Z"
    }
   },
   "outputs": [
    {
     "data": {
      "text/plain": [
       "{'이름': '김광석', '데뷔곡': '너에게', '성별': '남자', '출생년도': 1964}"
      ]
     },
     "execution_count": 51,
     "metadata": {},
     "output_type": "execute_result"
    }
   ],
   "source": [
    "# item 추가 혹은 value 수정\n",
    "singer['성별'] = '남자' \n",
    "singer['출생년도'] = 1964\n",
    "singer"
   ]
  },
  {
   "cell_type": "code",
   "execution_count": 52,
   "metadata": {
    "ExecuteTime": {
     "end_time": "2019-12-01T13:28:20.394705Z",
     "start_time": "2019-12-01T13:28:20.390327Z"
    }
   },
   "outputs": [
    {
     "data": {
      "text/plain": [
       "{'이름': '김광석', '데뷔곡': '너에게', '성별': '남자'}"
      ]
     },
     "execution_count": 52,
     "metadata": {},
     "output_type": "execute_result"
    }
   ],
   "source": [
    "# dic 삭제하기 \n",
    "del singer['출생년도']\n",
    "singer"
   ]
  },
  {
   "cell_type": "code",
   "execution_count": 55,
   "metadata": {
    "ExecuteTime": {
     "end_time": "2019-12-01T13:28:54.290005Z",
     "start_time": "2019-12-01T13:28:54.285782Z"
    }
   },
   "outputs": [
    {
     "data": {
      "text/plain": [
       "[('이름', '김광석'), ('데뷔곡', '너에게'), ('성별', '남자')]"
      ]
     },
     "execution_count": 55,
     "metadata": {},
     "output_type": "execute_result"
    }
   ],
   "source": [
    "list(singer.items())"
   ]
  },
  {
   "cell_type": "code",
   "execution_count": 63,
   "metadata": {
    "ExecuteTime": {
     "end_time": "2019-12-01T13:31:06.470038Z",
     "start_time": "2019-12-01T13:31:06.466018Z"
    }
   },
   "outputs": [
    {
     "data": {
      "text/plain": [
       "dict_keys(['이름', '데뷔곡', '성별'])"
      ]
     },
     "execution_count": 63,
     "metadata": {},
     "output_type": "execute_result"
    }
   ],
   "source": [
    "singer.keys()"
   ]
  },
  {
   "cell_type": "code",
   "execution_count": 62,
   "metadata": {
    "ExecuteTime": {
     "end_time": "2019-12-01T13:31:00.152414Z",
     "start_time": "2019-12-01T13:31:00.148466Z"
    }
   },
   "outputs": [
    {
     "data": {
      "text/plain": [
       "dict_values(['김광석', '너에게', '남자'])"
      ]
     },
     "execution_count": 62,
     "metadata": {},
     "output_type": "execute_result"
    }
   ],
   "source": [
    "singer.values()"
   ]
  },
  {
   "cell_type": "code",
   "execution_count": 65,
   "metadata": {
    "ExecuteTime": {
     "end_time": "2019-12-01T13:32:45.977264Z",
     "start_time": "2019-12-01T13:32:45.973442Z"
    }
   },
   "outputs": [
    {
     "data": {
      "text/plain": [
       "True"
      ]
     },
     "execution_count": 65,
     "metadata": {},
     "output_type": "execute_result"
    }
   ],
   "source": [
    "# in은 안에 있는지\n",
    "'김광석' in singer.values()"
   ]
  },
  {
   "cell_type": "markdown",
   "metadata": {},
   "source": [
    "## 집합\n",
    "\n",
    "순서가 없어서 indexing이 불가능  \n",
    "중복된 원소들을 제거함"
   ]
  },
  {
   "cell_type": "code",
   "execution_count": 67,
   "metadata": {
    "ExecuteTime": {
     "end_time": "2019-12-01T13:38:46.254058Z",
     "start_time": "2019-12-01T13:38:46.249910Z"
    }
   },
   "outputs": [
    {
     "data": {
      "text/plain": [
       "set()"
      ]
     },
     "execution_count": 67,
     "metadata": {},
     "output_type": "execute_result"
    }
   ],
   "source": [
    "# 빈 집합 만들기 \n",
    "\n",
    "set()"
   ]
  },
  {
   "cell_type": "code",
   "execution_count": 68,
   "metadata": {
    "ExecuteTime": {
     "end_time": "2019-12-01T13:39:00.567265Z",
     "start_time": "2019-12-01T13:39:00.562518Z"
    }
   },
   "outputs": [
    {
     "data": {
      "text/plain": [
       "{1, 2, 3, 4, 5, 6}"
      ]
     },
     "execution_count": 68,
     "metadata": {},
     "output_type": "execute_result"
    }
   ],
   "source": [
    "player_set = set([1,2,3,3,4,2,4,5,5,6])\n",
    "player_set"
   ]
  },
  {
   "cell_type": "code",
   "execution_count": 70,
   "metadata": {
    "ExecuteTime": {
     "end_time": "2019-12-01T13:39:20.462347Z",
     "start_time": "2019-12-01T13:39:20.458788Z"
    }
   },
   "outputs": [],
   "source": [
    "a = set([1,2,3,4])\n",
    "b = set([3,4,5,6])"
   ]
  },
  {
   "cell_type": "code",
   "execution_count": 73,
   "metadata": {
    "ExecuteTime": {
     "end_time": "2019-12-01T13:39:49.577160Z",
     "start_time": "2019-12-01T13:39:49.572803Z"
    }
   },
   "outputs": [
    {
     "name": "stdout",
     "output_type": "stream",
     "text": [
      "{3, 4}\n",
      "{3, 4}\n"
     ]
    }
   ],
   "source": [
    "# 교집합 \n",
    "print(a&b)\n",
    "print(a.intersection(b))"
   ]
  },
  {
   "cell_type": "code",
   "execution_count": 74,
   "metadata": {
    "ExecuteTime": {
     "end_time": "2019-12-01T13:40:22.866208Z",
     "start_time": "2019-12-01T13:40:22.862310Z"
    }
   },
   "outputs": [
    {
     "name": "stdout",
     "output_type": "stream",
     "text": [
      "{1, 2, 3, 4, 5, 6}\n",
      "{1, 2, 3, 4, 5, 6}\n"
     ]
    }
   ],
   "source": [
    "# 합집합\n",
    "print(a | b )\n",
    "print(a.union(b)) "
   ]
  },
  {
   "cell_type": "code",
   "execution_count": 75,
   "metadata": {
    "ExecuteTime": {
     "end_time": "2019-12-01T13:40:53.644779Z",
     "start_time": "2019-12-01T13:40:53.641324Z"
    }
   },
   "outputs": [
    {
     "name": "stdout",
     "output_type": "stream",
     "text": [
      "{1, 2}\n",
      "{1, 2}\n"
     ]
    }
   ],
   "source": [
    "# 차집합\n",
    "print(a-b)\n",
    "print(a.difference(b))"
   ]
  },
  {
   "cell_type": "code",
   "execution_count": 77,
   "metadata": {
    "ExecuteTime": {
     "end_time": "2019-12-01T13:41:22.055282Z",
     "start_time": "2019-12-01T13:41:22.051482Z"
    }
   },
   "outputs": [
    {
     "name": "stdout",
     "output_type": "stream",
     "text": [
      "{1, 2, 5, 6}\n",
      "{1, 2, 5, 6}\n"
     ]
    }
   ],
   "source": [
    "# 대칭차집합 \n",
    "print(a^b )\n",
    "print(a.symmetric_difference(b))"
   ]
  },
  {
   "cell_type": "code",
   "execution_count": null,
   "metadata": {},
   "outputs": [],
   "source": []
  }
 ],
 "metadata": {
  "kernelspec": {
   "display_name": "Python 3",
   "language": "python",
   "name": "python3"
  },
  "language_info": {
   "codemirror_mode": {
    "name": "ipython",
    "version": 3
   },
   "file_extension": ".py",
   "mimetype": "text/x-python",
   "name": "python",
   "nbconvert_exporter": "python",
   "pygments_lexer": "ipython3",
   "version": "3.6.9"
  },
  "toc": {
   "base_numbering": 1,
   "nav_menu": {},
   "number_sections": true,
   "sideBar": true,
   "skip_h1_title": true,
   "title_cell": "강의목차",
   "title_sidebar": "Contents",
   "toc_cell": true,
   "toc_position": {},
   "toc_section_display": true,
   "toc_window_display": true
  }
 },
 "nbformat": 4,
 "nbformat_minor": 2
}
