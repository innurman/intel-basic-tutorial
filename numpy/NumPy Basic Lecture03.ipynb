{
 "cells": [
  {
   "cell_type": "markdown",
   "metadata": {},
   "source": [
    "<img src='./img/intel-logo.jpg' width=50%, Fig1> \n",
    "\n",
    "# NumPy Basic Lecture02 - NumPy I/O 및 배열연산\n",
    "\n",
    "<img src='./img/numpy-logo.jpg' width=50%>\n",
    "\n",
    "<div align='right'>성  민  석 (Minsuk  Sung)</div>\n",
    "<div align='right'>류  회  성 (Hoesung Ryu)</div>"
   ]
  },
  {
   "cell_type": "markdown",
   "metadata": {
    "toc": true
   },
   "source": [
    "<h1>강의목차<span class=\"tocSkip\"></span></h1>\n",
    "<div class=\"toc\"><ul class=\"toc-item\"><li><span><a href=\"#NumPy-배열복사\" data-toc-modified-id=\"NumPy-배열복사-1\"><span class=\"toc-item-num\">1&nbsp;&nbsp;</span>NumPy 배열복사</a></span></li><li><span><a href=\"#NumPy-배열-정렬\" data-toc-modified-id=\"NumPy-배열-정렬-2\"><span class=\"toc-item-num\">2&nbsp;&nbsp;</span>NumPy 배열 정렬</a></span></li><li><span><a href=\"#서브셋,-슬라이싱,-인덱싱\" data-toc-modified-id=\"서브셋,-슬라이싱,-인덱싱-3\"><span class=\"toc-item-num\">3&nbsp;&nbsp;</span>서브셋, 슬라이싱, 인덱싱</a></span><ul class=\"toc-item\"><li><span><a href=\"#요소-선택\" data-toc-modified-id=\"요소-선택-3.1\"><span class=\"toc-item-num\">3.1&nbsp;&nbsp;</span>요소 선택</a></span><ul class=\"toc-item\"><li><span><a href=\"#1-차원-배열-요소-참조-및-변경\" data-toc-modified-id=\"1-차원-배열-요소-참조-및-변경-3.1.1\"><span class=\"toc-item-num\">3.1.1&nbsp;&nbsp;</span>1 차원 배열 요소 참조 및 변경</a></span></li><li><span><a href=\"#2-차원-배열-요소-참조-및-변경\" data-toc-modified-id=\"2-차원-배열-요소-참조-및-변경-3.1.2\"><span class=\"toc-item-num\">3.1.2&nbsp;&nbsp;</span>2 차원 배열 요소 참조 및 변경</a></span></li><li><span><a href=\"#3-차원-배열-요소-참조-및-변경\" data-toc-modified-id=\"3-차원-배열-요소-참조-및-변경-3.1.3\"><span class=\"toc-item-num\">3.1.3&nbsp;&nbsp;</span>3 차원 배열 요소 참조 및 변경</a></span></li></ul></li><li><span><a href=\"#슬라이싱\" data-toc-modified-id=\"슬라이싱-3.2\"><span class=\"toc-item-num\">3.2&nbsp;&nbsp;</span>슬라이싱</a></span><ul class=\"toc-item\"><li><span><a href=\"#슬라이싱-업데이트\" data-toc-modified-id=\"슬라이싱-업데이트-3.2.1\"><span class=\"toc-item-num\">3.2.1&nbsp;&nbsp;</span>슬라이싱 업데이트</a></span></li></ul></li><li><span><a href=\"#불린-인덱싱(Boolean-Indexing)\" data-toc-modified-id=\"불린-인덱싱(Boolean-Indexing)-3.3\"><span class=\"toc-item-num\">3.3&nbsp;&nbsp;</span>불린 인덱싱(Boolean Indexing)</a></span></li><li><span><a href=\"#팬시-인덱싱(Fancy-Indexing)\" data-toc-modified-id=\"팬시-인덱싱(Fancy-Indexing)-3.4\"><span class=\"toc-item-num\">3.4&nbsp;&nbsp;</span>팬시 인덱싱(Fancy Indexing)</a></span></li></ul></li><li><span><a href=\"#배열-변환\" data-toc-modified-id=\"배열-변환-4\"><span class=\"toc-item-num\">4&nbsp;&nbsp;</span>배열 변환</a></span><ul class=\"toc-item\"><li><span><a href=\"#전치(Transpose)\" data-toc-modified-id=\"전치(Transpose)-4.1\"><span class=\"toc-item-num\">4.1&nbsp;&nbsp;</span>전치(Transpose)</a></span></li><li><span><a href=\"#배열-형태-변경\" data-toc-modified-id=\"배열-형태-변경-4.2\"><span class=\"toc-item-num\">4.2&nbsp;&nbsp;</span>배열 형태 변경</a></span><ul class=\"toc-item\"><li><span><a href=\"#[numpy.ndarray-객체].ravel()\" data-toc-modified-id=\"[numpy.ndarray-객체].ravel()-4.2.1\"><span class=\"toc-item-num\">4.2.1&nbsp;&nbsp;</span>[numpy.ndarray 객체].ravel()</a></span></li><li><span><a href=\"#[numpy.ndarray-객체].reshape()\" data-toc-modified-id=\"[numpy.ndarray-객체].reshape()-4.2.2\"><span class=\"toc-item-num\">4.2.2&nbsp;&nbsp;</span>[numpy.ndarray 객체].reshape()</a></span></li></ul></li><li><span><a href=\"#배열-요소-추가-삭제\" data-toc-modified-id=\"배열-요소-추가-삭제-4.3\"><span class=\"toc-item-num\">4.3&nbsp;&nbsp;</span>배열 요소 추가 삭제</a></span><ul class=\"toc-item\"><li><span><a href=\"#resize\" data-toc-modified-id=\"resize-4.3.1\"><span class=\"toc-item-num\">4.3.1&nbsp;&nbsp;</span>resize</a></span></li><li><span><a href=\"#append\" data-toc-modified-id=\"append-4.3.2\"><span class=\"toc-item-num\">4.3.2&nbsp;&nbsp;</span>append</a></span><ul class=\"toc-item\"><li><span><a href=\"#case-1:-axis을-지정하지-않을-경우\" data-toc-modified-id=\"case-1:-axis을-지정하지-않을-경우-4.3.2.1\"><span class=\"toc-item-num\">4.3.2.1&nbsp;&nbsp;</span>case 1: axis을 지정하지 않을 경우</a></span></li><li><span><a href=\"#case-2:-axis=0-지정\" data-toc-modified-id=\"case-2:-axis=0-지정-4.3.2.2\"><span class=\"toc-item-num\">4.3.2.2&nbsp;&nbsp;</span>case 2: axis=0 지정</a></span></li><li><span><a href=\"#case-3:-axis=1-지정\" data-toc-modified-id=\"case-3:-axis=1-지정-4.3.2.3\"><span class=\"toc-item-num\">4.3.2.3&nbsp;&nbsp;</span>case 3: axis=1 지정</a></span></li></ul></li><li><span><a href=\"#insert\" data-toc-modified-id=\"insert-4.3.3\"><span class=\"toc-item-num\">4.3.3&nbsp;&nbsp;</span>insert</a></span></li><li><span><a href=\"#delete\" data-toc-modified-id=\"delete-4.3.4\"><span class=\"toc-item-num\">4.3.4&nbsp;&nbsp;</span>delete</a></span></li></ul></li><li><span><a href=\"#배열-결합\" data-toc-modified-id=\"배열-결합-4.4\"><span class=\"toc-item-num\">4.4&nbsp;&nbsp;</span>배열 결합</a></span><ul class=\"toc-item\"><li><span><a href=\"#np.concatenate\" data-toc-modified-id=\"np.concatenate-4.4.1\"><span class=\"toc-item-num\">4.4.1&nbsp;&nbsp;</span>np.concatenate</a></span></li><li><span><a href=\"#np.vstack\" data-toc-modified-id=\"np.vstack-4.4.2\"><span class=\"toc-item-num\">4.4.2&nbsp;&nbsp;</span>np.vstack</a></span></li><li><span><a href=\"#np.hstack\" data-toc-modified-id=\"np.hstack-4.4.3\"><span class=\"toc-item-num\">4.4.3&nbsp;&nbsp;</span>np.hstack</a></span></li></ul></li><li><span><a href=\"#배열-분리\" data-toc-modified-id=\"배열-분리-4.5\"><span class=\"toc-item-num\">4.5&nbsp;&nbsp;</span>배열 분리</a></span><ul class=\"toc-item\"><li><span><a href=\"#np.hsplit\" data-toc-modified-id=\"np.hsplit-4.5.1\"><span class=\"toc-item-num\">4.5.1&nbsp;&nbsp;</span>np.hsplit</a></span></li><li><span><a href=\"#np.vsplit\" data-toc-modified-id=\"np.vsplit-4.5.2\"><span class=\"toc-item-num\">4.5.2&nbsp;&nbsp;</span>np.vsplit</a></span></li></ul></li></ul></li><li><span><a href=\"#Reference\" data-toc-modified-id=\"Reference-5\"><span class=\"toc-item-num\">5&nbsp;&nbsp;</span>Reference</a></span></li></ul></div>"
   ]
  },
  {
   "cell_type": "code",
   "execution_count": 2,
   "metadata": {
    "ExecuteTime": {
     "end_time": "2019-12-03T08:13:23.923485Z",
     "start_time": "2019-12-03T08:13:23.854313Z"
    }
   },
   "outputs": [],
   "source": [
    "import numpy as np"
   ]
  },
  {
   "cell_type": "code",
   "execution_count": 3,
   "metadata": {
    "ExecuteTime": {
     "end_time": "2019-12-03T08:13:24.170991Z",
     "start_time": "2019-12-03T08:13:24.164764Z"
    }
   },
   "outputs": [],
   "source": [
    "np.random.seed(1234) # 재현성을 위하여"
   ]
  },
  {
   "cell_type": "markdown",
   "metadata": {},
   "source": [
    "---\n",
    "\n",
    "## NumPy 배열복사\n",
    "\n",
    "ndarray 배열 객체에 대한 slice, subset, indexing이 반환하는 배열은 새로운 객체가 아닌 기존 배열의 뷰입니다. 반환한 배열의 값을 변경하면 원본 배열에 반영됩니다. 따라서 기본 배열로부터 새로운 배열을 생성하기 위해서는 copy 함수로 명시적으로 사용해야 합니다. copy 함수로 복사된 원본 배열과 사본 배열은 완전히 다른 별도의 객체입니다."
   ]
  },
  {
   "cell_type": "code",
   "execution_count": 4,
   "metadata": {
    "ExecuteTime": {
     "end_time": "2019-12-03T08:13:27.382307Z",
     "start_time": "2019-12-03T08:13:27.372921Z"
    }
   },
   "outputs": [
    {
     "data": {
      "text/plain": [
       "array([[3, 6, 5],\n",
       "       [4, 8, 1],\n",
       "       [7, 6, 8]])"
      ]
     },
     "execution_count": 4,
     "metadata": {},
     "output_type": "execute_result"
    }
   ],
   "source": [
    "#데모용 배열\n",
    "a = np.random.randint(0, 9, (3, 3))\n",
    "a"
   ]
  },
  {
   "cell_type": "code",
   "execution_count": 5,
   "metadata": {
    "ExecuteTime": {
     "end_time": "2019-12-03T08:13:33.168722Z",
     "start_time": "2019-12-03T08:13:33.162474Z"
    }
   },
   "outputs": [],
   "source": [
    "copied_a1 =np.copy(a)"
   ]
  },
  {
   "cell_type": "code",
   "execution_count": 6,
   "metadata": {
    "ExecuteTime": {
     "end_time": "2019-12-03T08:13:46.485630Z",
     "start_time": "2019-12-03T08:13:46.480130Z"
    }
   },
   "outputs": [
    {
     "data": {
      "text/plain": [
       "array([[0, 6, 5],\n",
       "       [0, 8, 1],\n",
       "       [0, 6, 8]])"
      ]
     },
     "execution_count": 6,
     "metadata": {},
     "output_type": "execute_result"
    }
   ],
   "source": [
    "# 복사된 배열의 요소 업데이트\n",
    "copied_a1[:, 0]=0 #배열의 전체 row의 첫번째 요소 0으로 업데이트\n",
    "copied_a1"
   ]
  },
  {
   "cell_type": "code",
   "execution_count": 8,
   "metadata": {
    "ExecuteTime": {
     "end_time": "2019-12-03T08:14:03.973695Z",
     "start_time": "2019-12-03T08:14:03.968195Z"
    }
   },
   "outputs": [
    {
     "data": {
      "text/plain": [
       "array([[3, 6, 5],\n",
       "       [4, 8, 1],\n",
       "       [7, 6, 8]])"
      ]
     },
     "execution_count": 8,
     "metadata": {},
     "output_type": "execute_result"
    }
   ],
   "source": [
    "# 복사본 배열 변경이 원보에 영향을 미치지 않음\n",
    "a"
   ]
  },
  {
   "cell_type": "code",
   "execution_count": 10,
   "metadata": {
    "ExecuteTime": {
     "end_time": "2019-12-03T08:14:25.775513Z",
     "start_time": "2019-12-03T08:14:25.769738Z"
    }
   },
   "outputs": [
    {
     "data": {
      "text/plain": [
       "array([[3, 6, 5],\n",
       "       [4, 8, 1],\n",
       "       [7, 6, 8]])"
      ]
     },
     "execution_count": 10,
     "metadata": {},
     "output_type": "execute_result"
    }
   ],
   "source": [
    "#np.copy()를 이용한 복사\n",
    "copied_a2 = np.copy(a)\n",
    "copied_a2"
   ]
  },
  {
   "cell_type": "markdown",
   "metadata": {},
   "source": [
    "---\n",
    "\n",
    "## NumPy 배열 정렬\n",
    "\n",
    "ndarray 객체는 axis를 기준으로 요소 정렬하는 `sort 함수`를 제공합니다."
   ]
  },
  {
   "cell_type": "code",
   "execution_count": 11,
   "metadata": {
    "ExecuteTime": {
     "end_time": "2019-12-03T08:15:04.614153Z",
     "start_time": "2019-12-03T08:15:04.608281Z"
    }
   },
   "outputs": [
    {
     "data": {
      "text/plain": [
       "array([[0.50099513, 0.68346294, 0.71270203],\n",
       "       [0.37025075, 0.56119619, 0.50308317],\n",
       "       [0.01376845, 0.77282662, 0.88264119]])"
      ]
     },
     "execution_count": 11,
     "metadata": {},
     "output_type": "execute_result"
    }
   ],
   "source": [
    "#배열 생성\n",
    "unsorted_arr = np.random.random((3, 3))\n",
    "unsorted_arr"
   ]
  },
  {
   "cell_type": "code",
   "execution_count": 12,
   "metadata": {
    "ExecuteTime": {
     "end_time": "2019-12-03T08:15:12.770983Z",
     "start_time": "2019-12-03T08:15:12.765962Z"
    }
   },
   "outputs": [],
   "source": [
    "#데모를 위한 배열 복사\n",
    "unsorted_arr1 = unsorted_arr.copy()\n",
    "unsorted_arr2 = unsorted_arr.copy()\n",
    "unsorted_arr3 = unsorted_arr.copy()"
   ]
  },
  {
   "cell_type": "markdown",
   "metadata": {},
   "source": [
    "> [ndarray 객체].sort() axis의 기본 값은 -1입니다.  \n",
    "> axis=-1은 현재 배열의 마지막 axis를 의미합니다.  \n",
    "> 현재 unsorted_arr의 마지막 axis는 1입니다.  \n",
    "> [ndarray 객체].sort()와 [ndarray 객체].sort(axis=1)의 결과는 동일합니다.  "
   ]
  },
  {
   "cell_type": "code",
   "execution_count": 14,
   "metadata": {
    "ExecuteTime": {
     "end_time": "2019-12-03T08:15:48.931863Z",
     "start_time": "2019-12-03T08:15:48.926441Z"
    }
   },
   "outputs": [
    {
     "data": {
      "text/plain": [
       "array([[0.50099513, 0.68346294, 0.71270203],\n",
       "       [0.37025075, 0.50308317, 0.56119619],\n",
       "       [0.01376845, 0.77282662, 0.88264119]])"
      ]
     },
     "execution_count": 14,
     "metadata": {},
     "output_type": "execute_result"
    }
   ],
   "source": [
    "#배열 정렬\n",
    "unsorted_arr1.sort()\n",
    "unsorted_arr1"
   ]
  },
  {
   "cell_type": "code",
   "execution_count": 15,
   "metadata": {
    "ExecuteTime": {
     "end_time": "2019-12-03T08:16:05.676927Z",
     "start_time": "2019-12-03T08:16:05.672052Z"
    }
   },
   "outputs": [
    {
     "data": {
      "text/plain": [
       "array([[0.01376845, 0.56119619, 0.50308317],\n",
       "       [0.37025075, 0.68346294, 0.71270203],\n",
       "       [0.50099513, 0.77282662, 0.88264119]])"
      ]
     },
     "execution_count": 15,
     "metadata": {},
     "output_type": "execute_result"
    }
   ],
   "source": [
    "#배열 정렬, axis=0 열방향으로 정렬\n",
    "unsorted_arr2.sort(axis=0)\n",
    "unsorted_arr2"
   ]
  },
  {
   "cell_type": "code",
   "execution_count": 16,
   "metadata": {
    "ExecuteTime": {
     "end_time": "2019-12-03T08:16:43.189941Z",
     "start_time": "2019-12-03T08:16:43.185973Z"
    }
   },
   "outputs": [
    {
     "data": {
      "text/plain": [
       "array([[0.50099513, 0.68346294, 0.71270203],\n",
       "       [0.37025075, 0.50308317, 0.56119619],\n",
       "       [0.01376845, 0.77282662, 0.88264119]])"
      ]
     },
     "execution_count": 16,
     "metadata": {},
     "output_type": "execute_result"
    }
   ],
   "source": [
    "#배열 정렬, axis=1, 행방향으로 정렬\n",
    "unsorted_arr3.sort(axis=1)\n",
    "unsorted_arr3"
   ]
  },
  {
   "cell_type": "markdown",
   "metadata": {},
   "source": [
    "---\n",
    "\n",
    "## 서브셋, 슬라이싱, 인덱싱"
   ]
  },
  {
   "cell_type": "markdown",
   "metadata": {},
   "source": [
    "###  요소 선택\n",
    "\n",
    "배열의 각 요소는 axis 인덱스 배열로 참조할 수 있습니다. 1차원 배열은 1개 인덱스, 2차원 배열은 2개 인덱스, 3차원 인덱스는 3개 인덱스로 요소를 참조할 수 있습니다.\n",
    "\n",
    "인덱스로 참조한 요소는 값 참조, 값 수정이 모두 가능합니다."
   ]
  },
  {
   "cell_type": "code",
   "execution_count": 17,
   "metadata": {
    "ExecuteTime": {
     "end_time": "2019-12-03T08:18:06.384507Z",
     "start_time": "2019-12-03T08:18:06.378702Z"
    }
   },
   "outputs": [
    {
     "data": {
      "text/plain": [
       "array([ 0,  1,  2,  3,  4,  5,  6,  7,  8,  9, 10, 11, 12, 13, 14, 15, 16,\n",
       "       17, 18, 19, 20, 21, 22, 23])"
      ]
     },
     "execution_count": 17,
     "metadata": {},
     "output_type": "execute_result"
    }
   ],
   "source": [
    "# 데모 배열 생성\n",
    "a0 = np.arange(24) # 1차원 배열\n",
    "a0"
   ]
  },
  {
   "cell_type": "code",
   "execution_count": 18,
   "metadata": {
    "ExecuteTime": {
     "end_time": "2019-12-03T08:18:06.758471Z",
     "start_time": "2019-12-03T08:18:06.752667Z"
    }
   },
   "outputs": [
    {
     "data": {
      "text/plain": [
       "array([[ 0,  1,  2,  3,  4,  5],\n",
       "       [ 6,  7,  8,  9, 10, 11],\n",
       "       [12, 13, 14, 15, 16, 17],\n",
       "       [18, 19, 20, 21, 22, 23]])"
      ]
     },
     "execution_count": 18,
     "metadata": {},
     "output_type": "execute_result"
    }
   ],
   "source": [
    "a1 = np.arange(24).reshape((4, 6)) #2차원 배열\n",
    "a1"
   ]
  },
  {
   "cell_type": "code",
   "execution_count": 19,
   "metadata": {
    "ExecuteTime": {
     "end_time": "2019-12-03T08:18:07.143566Z",
     "start_time": "2019-12-03T08:18:07.137594Z"
    }
   },
   "outputs": [
    {
     "data": {
      "text/plain": [
       "array([[[ 0,  1,  2],\n",
       "        [ 3,  4,  5],\n",
       "        [ 6,  7,  8],\n",
       "        [ 9, 10, 11]],\n",
       "\n",
       "       [[12, 13, 14],\n",
       "        [15, 16, 17],\n",
       "        [18, 19, 20],\n",
       "        [21, 22, 23]]])"
      ]
     },
     "execution_count": 19,
     "metadata": {},
     "output_type": "execute_result"
    }
   ],
   "source": [
    "a2 = np.arange(24).reshape((2, 4, 3)) # 3차원 배열\n",
    "a2"
   ]
  },
  {
   "cell_type": "markdown",
   "metadata": {},
   "source": [
    "#### 1 차원 배열 요소 참조 및 변경"
   ]
  },
  {
   "cell_type": "code",
   "execution_count": 20,
   "metadata": {
    "ExecuteTime": {
     "end_time": "2019-12-03T08:19:21.126251Z",
     "start_time": "2019-12-03T08:19:21.120608Z"
    }
   },
   "outputs": [
    {
     "data": {
      "text/plain": [
       "5"
      ]
     },
     "execution_count": 20,
     "metadata": {},
     "output_type": "execute_result"
    }
   ],
   "source": [
    "a0[5] # 5번 인덱스 요소 참조"
   ]
  },
  {
   "cell_type": "code",
   "execution_count": 21,
   "metadata": {
    "ExecuteTime": {
     "end_time": "2019-12-03T08:19:38.703892Z",
     "start_time": "2019-12-03T08:19:38.700480Z"
    }
   },
   "outputs": [],
   "source": [
    "# 5번 인덱스 요소 업데이트\n",
    "a0[5] = 1000000"
   ]
  },
  {
   "cell_type": "code",
   "execution_count": 22,
   "metadata": {
    "ExecuteTime": {
     "end_time": "2019-12-03T08:19:44.734410Z",
     "start_time": "2019-12-03T08:19:44.728910Z"
    }
   },
   "outputs": [
    {
     "data": {
      "text/plain": [
       "array([      0,       1,       2,       3,       4, 1000000,       6,\n",
       "             7,       8,       9,      10,      11,      12,      13,\n",
       "            14,      15,      16,      17,      18,      19,      20,\n",
       "            21,      22,      23])"
      ]
     },
     "execution_count": 22,
     "metadata": {},
     "output_type": "execute_result"
    }
   ],
   "source": [
    "a0"
   ]
  },
  {
   "cell_type": "markdown",
   "metadata": {},
   "source": [
    "#### 2 차원 배열 요소 참조 및 변경"
   ]
  },
  {
   "cell_type": "code",
   "execution_count": 23,
   "metadata": {
    "ExecuteTime": {
     "end_time": "2019-12-03T08:19:57.025900Z",
     "start_time": "2019-12-03T08:19:57.020175Z"
    }
   },
   "outputs": [
    {
     "data": {
      "text/plain": [
       "array([[ 0,  1,  2,  3,  4,  5],\n",
       "       [ 6,  7,  8,  9, 10, 11],\n",
       "       [12, 13, 14, 15, 16, 17],\n",
       "       [18, 19, 20, 21, 22, 23]])"
      ]
     },
     "execution_count": 23,
     "metadata": {},
     "output_type": "execute_result"
    }
   ],
   "source": [
    "a1"
   ]
  },
  {
   "cell_type": "code",
   "execution_count": 24,
   "metadata": {
    "ExecuteTime": {
     "end_time": "2019-12-03T08:20:04.959145Z",
     "start_time": "2019-12-03T08:20:04.953780Z"
    }
   },
   "outputs": [
    {
     "data": {
      "text/plain": [
       "1"
      ]
     },
     "execution_count": 24,
     "metadata": {},
     "output_type": "execute_result"
    }
   ],
   "source": [
    "# 1행 두번째 컬럼 요소 참조\n",
    "a1[0, 1]"
   ]
  },
  {
   "cell_type": "code",
   "execution_count": 25,
   "metadata": {
    "ExecuteTime": {
     "end_time": "2019-12-03T08:20:09.748198Z",
     "start_time": "2019-12-03T08:20:09.742485Z"
    }
   },
   "outputs": [],
   "source": [
    "# 1행 두번째 컬럼 요소 업데이트\n",
    "a1[0, 1]=10000"
   ]
  },
  {
   "cell_type": "code",
   "execution_count": 26,
   "metadata": {
    "ExecuteTime": {
     "end_time": "2019-12-03T08:20:14.059355Z",
     "start_time": "2019-12-03T08:20:14.053764Z"
    }
   },
   "outputs": [
    {
     "data": {
      "text/plain": [
       "array([[    0, 10000,     2,     3,     4,     5],\n",
       "       [    6,     7,     8,     9,    10,    11],\n",
       "       [   12,    13,    14,    15,    16,    17],\n",
       "       [   18,    19,    20,    21,    22,    23]])"
      ]
     },
     "execution_count": 26,
     "metadata": {},
     "output_type": "execute_result"
    }
   ],
   "source": [
    "a1"
   ]
  },
  {
   "cell_type": "markdown",
   "metadata": {},
   "source": [
    "#### 3 차원 배열 요소 참조 및 변경"
   ]
  },
  {
   "cell_type": "code",
   "execution_count": 27,
   "metadata": {
    "ExecuteTime": {
     "end_time": "2019-12-03T08:20:36.816882Z",
     "start_time": "2019-12-03T08:20:36.811208Z"
    }
   },
   "outputs": [
    {
     "data": {
      "text/plain": [
       "array([[[ 0,  1,  2],\n",
       "        [ 3,  4,  5],\n",
       "        [ 6,  7,  8],\n",
       "        [ 9, 10, 11]],\n",
       "\n",
       "       [[12, 13, 14],\n",
       "        [15, 16, 17],\n",
       "        [18, 19, 20],\n",
       "        [21, 22, 23]]])"
      ]
     },
     "execution_count": 27,
     "metadata": {},
     "output_type": "execute_result"
    }
   ],
   "source": [
    "a2"
   ]
  },
  {
   "cell_type": "code",
   "execution_count": 28,
   "metadata": {
    "ExecuteTime": {
     "end_time": "2019-12-03T08:20:44.331191Z",
     "start_time": "2019-12-03T08:20:44.325565Z"
    }
   },
   "outputs": [
    {
     "data": {
      "text/plain": [
       "13"
      ]
     },
     "execution_count": 28,
     "metadata": {},
     "output_type": "execute_result"
    }
   ],
   "source": [
    "# 2 번째 행, 첫번째 컬럼, 두번째 요소 참조\n",
    "a2[1, 0, 1]"
   ]
  },
  {
   "cell_type": "code",
   "execution_count": 29,
   "metadata": {
    "ExecuteTime": {
     "end_time": "2019-12-03T08:20:50.943852Z",
     "start_time": "2019-12-03T08:20:50.937462Z"
    }
   },
   "outputs": [],
   "source": [
    "a2[1, 0, 1]=10000"
   ]
  },
  {
   "cell_type": "code",
   "execution_count": 30,
   "metadata": {
    "ExecuteTime": {
     "end_time": "2019-12-03T08:20:55.855491Z",
     "start_time": "2019-12-03T08:20:55.850305Z"
    }
   },
   "outputs": [
    {
     "data": {
      "text/plain": [
       "array([[[    0,     1,     2],\n",
       "        [    3,     4,     5],\n",
       "        [    6,     7,     8],\n",
       "        [    9,    10,    11]],\n",
       "\n",
       "       [[   12, 10000,    14],\n",
       "        [   15,    16,    17],\n",
       "        [   18,    19,    20],\n",
       "        [   21,    22,    23]]])"
      ]
     },
     "execution_count": 30,
     "metadata": {},
     "output_type": "execute_result"
    }
   ],
   "source": [
    "a2"
   ]
  },
  {
   "cell_type": "markdown",
   "metadata": {},
   "source": [
    "### 슬라이싱\n",
    "\n",
    "여러개의 배열 요소를 참조할 때 슬라이싱을 사용합니다. 슬라이싱은 axis 별로 범위를 지정하여 실행합니다. 범위는 **from `index` to `index`** 형태로 지정합니다. from_index는 범위의 시작 인덱스이며, to_index는 범위의 종료 인덱스입니다. 요소 범위를 지정할 때 to_index는 결과에 포함되지 않습니다. **from `index` to `index`** 의 범위 지정에서 from_index는 생략 가능합니다. 생략할 경우 0을 지정한 것으로 간주합니다. to_index 역시 생략 가능합니다. 이 경우 마지막 인덱스로 설정됩니다. 따라서 **`:` 형태로 지정된 범위는 전체 범위를 의미**합니다.from_index와 to_index에 음수를 지정하면 이것은 반대 방향을 의미합니다. 예를 들어서 -1은 마지막 인덱스를 의미합니다."
   ]
  },
  {
   "cell_type": "code",
   "execution_count": 31,
   "metadata": {
    "ExecuteTime": {
     "end_time": "2019-12-03T08:23:56.925676Z",
     "start_time": "2019-12-03T08:23:56.919695Z"
    }
   },
   "outputs": [
    {
     "data": {
      "text/plain": [
       "array([[ 1,  2,  3,  4,  5,  6],\n",
       "       [ 7,  8,  9, 10, 11, 12],\n",
       "       [13, 14, 15, 16, 17, 18],\n",
       "       [19, 20, 21, 22, 23, 24]])"
      ]
     },
     "execution_count": 31,
     "metadata": {},
     "output_type": "execute_result"
    }
   ],
   "source": [
    "a1 = np.arange(1,25).reshape((4,6))\n",
    "a1"
   ]
  },
  {
   "cell_type": "code",
   "execution_count": 32,
   "metadata": {
    "ExecuteTime": {
     "end_time": "2019-12-03T08:24:35.078411Z",
     "start_time": "2019-12-03T08:24:35.072528Z"
    }
   },
   "outputs": [
    {
     "data": {
      "text/plain": [
       "array([[ 8,  9, 10, 11],\n",
       "       [14, 15, 16, 17]])"
      ]
     },
     "execution_count": 32,
     "metadata": {},
     "output_type": "execute_result"
    }
   ],
   "source": [
    "a1[1:3, 1:5]"
   ]
  },
  {
   "cell_type": "code",
   "execution_count": 33,
   "metadata": {
    "ExecuteTime": {
     "end_time": "2019-12-03T08:24:46.805547Z",
     "start_time": "2019-12-03T08:24:46.799555Z"
    }
   },
   "outputs": [
    {
     "data": {
      "text/plain": [
       "array([[ 8,  9, 10, 11],\n",
       "       [14, 15, 16, 17]])"
      ]
     },
     "execution_count": 33,
     "metadata": {},
     "output_type": "execute_result"
    }
   ],
   "source": [
    "a1[1:-1, 1:-1]"
   ]
  },
  {
   "cell_type": "markdown",
   "metadata": {},
   "source": [
    "#### 슬라이싱 업데이트"
   ]
  },
  {
   "cell_type": "code",
   "execution_count": 34,
   "metadata": {
    "ExecuteTime": {
     "end_time": "2019-12-03T08:25:10.085105Z",
     "start_time": "2019-12-03T08:25:10.082336Z"
    }
   },
   "outputs": [
    {
     "data": {
      "text/plain": [
       "array([[ 1,  2,  3,  4,  5,  6],\n",
       "       [ 7,  8,  9, 10, 11, 12],\n",
       "       [13, 14, 15, 16, 17, 18],\n",
       "       [19, 20, 21, 22, 23, 24]])"
      ]
     },
     "execution_count": 34,
     "metadata": {},
     "output_type": "execute_result"
    }
   ],
   "source": [
    "a1"
   ]
  },
  {
   "cell_type": "code",
   "execution_count": 35,
   "metadata": {
    "ExecuteTime": {
     "end_time": "2019-12-03T08:25:25.828473Z",
     "start_time": "2019-12-03T08:25:25.823029Z"
    }
   },
   "outputs": [
    {
     "data": {
      "text/plain": [
       "array([[ 8,  9, 10, 11],\n",
       "       [14, 15, 16, 17]])"
      ]
     },
     "execution_count": 35,
     "metadata": {},
     "output_type": "execute_result"
    }
   ],
   "source": [
    "# 슬라이싱 배열\n",
    "slide_arr = a1[1:3, 1:5]\n",
    "slide_arr"
   ]
  },
  {
   "cell_type": "code",
   "execution_count": 36,
   "metadata": {
    "ExecuteTime": {
     "end_time": "2019-12-03T08:26:07.276928Z",
     "start_time": "2019-12-03T08:26:07.272404Z"
    }
   },
   "outputs": [
    {
     "data": {
      "text/plain": [
       "array([[    8, 99999, 99999,    11],\n",
       "       [   14, 99999, 99999,    17]])"
      ]
     },
     "execution_count": 36,
     "metadata": {},
     "output_type": "execute_result"
    }
   ],
   "source": [
    "# 슬라이싱을 적용하여 참조한 4개 요소 업데이트 및 슬라이싱 배열 조회\n",
    "slide_arr[:, 1:3] = 99999\n",
    "slide_arr"
   ]
  },
  {
   "cell_type": "markdown",
   "metadata": {},
   "source": [
    "### 불린 인덱싱(Boolean Indexing)\n",
    "\n",
    "NumPy는 불린 인덱싱은 배열 각 요소의 선택 여부를 True, False 지정하는 방식입니다. 해당 인덱스의 True만을 조회합니다."
   ]
  },
  {
   "cell_type": "code",
   "execution_count": 37,
   "metadata": {
    "ExecuteTime": {
     "end_time": "2019-12-03T08:29:34.656665Z",
     "start_time": "2019-12-03T08:29:34.650189Z"
    }
   },
   "outputs": [
    {
     "data": {
      "text/plain": [
       "array([[ 1,  2,  3,  4,  5,  6],\n",
       "       [ 7,  8,  9, 10, 11, 12],\n",
       "       [13, 14, 15, 16, 17, 18],\n",
       "       [19, 20, 21, 22, 23, 24]])"
      ]
     },
     "execution_count": 37,
     "metadata": {},
     "output_type": "execute_result"
    }
   ],
   "source": [
    "# 데모 배열 생성\n",
    "a1 = np.arange(1, 25).reshape((4, 6)) #2차원 배열\n",
    "a1"
   ]
  },
  {
   "cell_type": "code",
   "execution_count": 38,
   "metadata": {
    "ExecuteTime": {
     "end_time": "2019-12-03T08:29:50.685621Z",
     "start_time": "2019-12-03T08:29:50.680384Z"
    }
   },
   "outputs": [
    {
     "data": {
      "text/plain": [
       "array([[False,  True, False,  True, False,  True],\n",
       "       [False,  True, False,  True, False,  True],\n",
       "       [False,  True, False,  True, False,  True],\n",
       "       [False,  True, False,  True, False,  True]])"
      ]
     },
     "execution_count": 38,
     "metadata": {},
     "output_type": "execute_result"
    }
   ],
   "source": [
    "# 짝수인 요소 확인\n",
    "# numpy broadcasting을 이용하여 짝수인 배열 요소 확인\n",
    "even_arr = (a1%2==0)\n",
    "even_arr"
   ]
  },
  {
   "cell_type": "code",
   "execution_count": 39,
   "metadata": {
    "ExecuteTime": {
     "end_time": "2019-12-03T08:30:18.715118Z",
     "start_time": "2019-12-03T08:30:18.709814Z"
    }
   },
   "outputs": [
    {
     "data": {
      "text/plain": [
       "array([ 2,  4,  6,  8, 10, 12, 14, 16, 18, 20, 22, 24])"
      ]
     },
     "execution_count": 39,
     "metadata": {},
     "output_type": "execute_result"
    }
   ],
   "source": [
    "# a1[a1%2==0] 동일한 의미 \n",
    "a1[even_arr]"
   ]
  },
  {
   "cell_type": "code",
   "execution_count": 40,
   "metadata": {
    "ExecuteTime": {
     "end_time": "2019-12-03T08:30:24.953357Z",
     "start_time": "2019-12-03T08:30:24.947437Z"
    }
   },
   "outputs": [
    {
     "data": {
      "text/plain": [
       "300"
      ]
     },
     "execution_count": 40,
     "metadata": {},
     "output_type": "execute_result"
    }
   ],
   "source": [
    "np.sum(a1)"
   ]
  },
  {
   "cell_type": "markdown",
   "metadata": {},
   "source": [
    "### 팬시 인덱싱(Fancy Indexing)\n",
    "\n",
    "배열에 인덱스 배열을 전달하여 요소를 참조하는 방법입니다.\n",
    "\n"
   ]
  },
  {
   "cell_type": "code",
   "execution_count": 41,
   "metadata": {
    "ExecuteTime": {
     "end_time": "2019-12-03T08:30:48.682745Z",
     "start_time": "2019-12-03T08:30:48.671860Z"
    }
   },
   "outputs": [
    {
     "data": {
      "text/plain": [
       "array([[ 1,  2,  3,  4,  5,  6],\n",
       "       [ 7,  8,  9, 10, 11, 12],\n",
       "       [13, 14, 15, 16, 17, 18],\n",
       "       [19, 20, 21, 22, 23, 24]])"
      ]
     },
     "execution_count": 41,
     "metadata": {},
     "output_type": "execute_result"
    }
   ],
   "source": [
    "arr = np.arange(1, 25).reshape((4, 6))\n",
    "arr"
   ]
  },
  {
   "cell_type": "code",
   "execution_count": 42,
   "metadata": {
    "ExecuteTime": {
     "end_time": "2019-12-03T08:31:01.689425Z",
     "start_time": "2019-12-03T08:31:01.682392Z"
    }
   },
   "outputs": [
    {
     "data": {
      "text/plain": [
       "[1, 8, 15, 22]"
      ]
     },
     "execution_count": 42,
     "metadata": {},
     "output_type": "execute_result"
    }
   ],
   "source": [
    "# CASE 1\n",
    "[arr[0,0], arr[1, 1], arr[2, 2], arr[3, 3]]"
   ]
  },
  {
   "cell_type": "code",
   "execution_count": 43,
   "metadata": {
    "ExecuteTime": {
     "end_time": "2019-12-03T08:31:08.151615Z",
     "start_time": "2019-12-03T08:31:08.145643Z"
    }
   },
   "outputs": [
    {
     "data": {
      "text/plain": [
       "array([ 1,  8, 15, 22])"
      ]
     },
     "execution_count": 43,
     "metadata": {},
     "output_type": "execute_result"
    }
   ],
   "source": [
    "# 두 배열을 전달==> (0, 0), (1,1), (2,2), (3, 3)\n",
    "arr[[0, 1, 2, 3], [0, 1, 2, 3]]"
   ]
  },
  {
   "cell_type": "code",
   "execution_count": 44,
   "metadata": {
    "ExecuteTime": {
     "end_time": "2019-12-03T08:31:21.047953Z",
     "start_time": "2019-12-03T08:31:21.042263Z"
    }
   },
   "outputs": [
    {
     "data": {
      "text/plain": [
       "array([[ 2,  3],\n",
       "       [ 8,  9],\n",
       "       [14, 15],\n",
       "       [20, 21]])"
      ]
     },
     "execution_count": 44,
     "metadata": {},
     "output_type": "execute_result"
    }
   ],
   "source": [
    "# CASE 2\n",
    "# 전체 행에 대해서, 1, 2번 컬럼 참조\n",
    "arr[:, [1, 2]]"
   ]
  },
  {
   "cell_type": "markdown",
   "metadata": {},
   "source": [
    "---\n",
    "\n",
    "## 배열 변환\n",
    "\n",
    "배열을 변환하는 방접으로는 전치, 배열 shape 변환, 배열 요소 추가, 배열 결합, 분리 등이 있습니다. 각 배열 변경 방법에 대하여 살펴보겠습니다."
   ]
  },
  {
   "cell_type": "markdown",
   "metadata": {},
   "source": [
    "### 전치(Transpose)\n",
    "\n",
    "- Tranpose는 행렬의 인덱스가 바뀌는 변환입니다. 행렬의 Tranpose의 예는 다음과 같습니다.\n",
    "- 다음은 NumPy에서 행렬을 전치하기 위하여 [numpy.ndarray 객체]`.T` 속성을 사용합니다.\n",
    "- 이 속성은 전치된 행렬을 반환합니다."
   ]
  },
  {
   "cell_type": "code",
   "execution_count": 45,
   "metadata": {
    "ExecuteTime": {
     "end_time": "2019-12-03T08:32:19.922640Z",
     "start_time": "2019-12-03T08:32:19.916720Z"
    }
   },
   "outputs": [
    {
     "data": {
      "text/plain": [
       "array([[8, 1, 1],\n",
       "       [4, 3, 4]])"
      ]
     },
     "execution_count": 45,
     "metadata": {},
     "output_type": "execute_result"
    }
   ],
   "source": [
    "# 행렬 생성\n",
    "a = np.random.randint(1, 10, (2, 3))\n",
    "a"
   ]
  },
  {
   "cell_type": "code",
   "execution_count": 46,
   "metadata": {
    "ExecuteTime": {
     "end_time": "2019-12-03T08:32:30.845368Z",
     "start_time": "2019-12-03T08:32:30.842558Z"
    }
   },
   "outputs": [
    {
     "data": {
      "text/plain": [
       "array([[8, 4],\n",
       "       [1, 3],\n",
       "       [1, 4]])"
      ]
     },
     "execution_count": 46,
     "metadata": {},
     "output_type": "execute_result"
    }
   ],
   "source": [
    "#행렬의 전치\n",
    "a.T"
   ]
  },
  {
   "cell_type": "markdown",
   "metadata": {},
   "source": [
    "### 배열 형태 변경\n",
    "\n",
    "- [numpy.ndarray 객체]는 배열의 Shape을 변경하는 ravel 메서드와 reshape 메서드를 제공합니다.\n",
    "\n",
    "    - ravel은 배열의 shape을 1차원 배열로 만드는 메서드입니다.\n",
    "    - reshape은 데이터 변경없이 지정된 shape으로 변환하는 메서드입니다."
   ]
  },
  {
   "cell_type": "markdown",
   "metadata": {},
   "source": [
    "#### [numpy.ndarray 객체].ravel()\n",
    "\n",
    "배열을 `1차원 배열로 반환하는 메서드`입니다. numpy.ndarray 배열 객체의 View를 반환합니다. ravel 메서드가 반환하는 배열은 원본 배열이 뷰입니다. 따라서 ravel 메서드가 반환하는 배열의 요소를 수정하면 원본 배열 요소에도 반영됩니다."
   ]
  },
  {
   "cell_type": "code",
   "execution_count": 47,
   "metadata": {
    "ExecuteTime": {
     "end_time": "2019-12-03T08:33:49.867763Z",
     "start_time": "2019-12-03T08:33:49.861597Z"
    }
   },
   "outputs": [
    {
     "data": {
      "text/plain": [
       "array([[2, 4, 2],\n",
       "       [4, 8, 2]])"
      ]
     },
     "execution_count": 47,
     "metadata": {},
     "output_type": "execute_result"
    }
   ],
   "source": [
    "# 데모 배열 생성\n",
    "a = np.random.randint(1, 10, (2, 3))\n",
    "a"
   ]
  },
  {
   "cell_type": "markdown",
   "metadata": {},
   "source": [
    "> revel이 반환하는 배열은 a 행렬의 view입니다.  \n",
    "> 반환 행렬의 데이터를 변경하면 a 행렬도 변경됩니다."
   ]
  },
  {
   "cell_type": "code",
   "execution_count": 48,
   "metadata": {
    "ExecuteTime": {
     "end_time": "2019-12-03T08:33:58.126819Z",
     "start_time": "2019-12-03T08:33:58.121004Z"
    }
   },
   "outputs": [
    {
     "data": {
      "text/plain": [
       "array([2, 4, 2, 4, 8, 2])"
      ]
     },
     "execution_count": 48,
     "metadata": {},
     "output_type": "execute_result"
    }
   ],
   "source": [
    "a.ravel()"
   ]
  },
  {
   "cell_type": "markdown",
   "metadata": {},
   "source": [
    "#### [numpy.ndarray 객체].reshape()\n",
    "\n",
    "- [numpy.ndarray 객체]의 shape을 변경합니다. **실제 데이터를 변경하는 것은 아닙니다.** 배열 객체의 shape 정보만을 수정합니다."
   ]
  },
  {
   "cell_type": "code",
   "execution_count": 50,
   "metadata": {
    "ExecuteTime": {
     "end_time": "2019-12-03T08:35:04.082119Z",
     "start_time": "2019-12-03T08:35:04.076214Z"
    }
   },
   "outputs": [
    {
     "data": {
      "text/plain": [
       "array([[5, 1, 9],\n",
       "       [9, 7, 9]])"
      ]
     },
     "execution_count": 50,
     "metadata": {},
     "output_type": "execute_result"
    }
   ],
   "source": [
    "# 대상 행렬 속성 확인\n",
    "a = np.random.randint(1, 10, (2, 3))\n",
    "a"
   ]
  },
  {
   "cell_type": "code",
   "execution_count": 51,
   "metadata": {
    "ExecuteTime": {
     "end_time": "2019-12-03T08:35:11.302375Z",
     "start_time": "2019-12-03T08:35:11.297574Z"
    }
   },
   "outputs": [
    {
     "data": {
      "text/plain": [
       "array([[[5],\n",
       "        [1]],\n",
       "\n",
       "       [[9],\n",
       "        [9]],\n",
       "\n",
       "       [[7],\n",
       "        [9]]])"
      ]
     },
     "execution_count": 51,
     "metadata": {},
     "output_type": "execute_result"
    }
   ],
   "source": [
    "a.reshape((3, 2, 1))"
   ]
  },
  {
   "cell_type": "markdown",
   "metadata": {},
   "source": [
    "### 배열 요소 추가 삭제\n",
    "배열의 요소를 변경, 추가, 삽입 및 삭제하는 resize, append, insert, delete 함수를 제공합니다.\n",
    "\n"
   ]
  },
  {
   "cell_type": "markdown",
   "metadata": {},
   "source": [
    "#### resize\n",
    "\n",
    "- np.resize(a, new_shape)\n",
    "- np.ndarray.resize(new_shape, refcheck=True)\n",
    "- 배열의 shape과 크기를 변경합니다.\n",
    "\n",
    "np.resize와 np.reshape 함수는 배열의 shape을 변경한다는 부분에서 유사합니다. 차이점은 reshape 함수는 배열 요소 수를 변경하지 않습니다. reshape 전후 배열의 요소 수는 같습니다. 반면에 resize는 shape을 변경하는 과정에서 배열 요소 수를 줄이거나 늘립니다."
   ]
  },
  {
   "cell_type": "code",
   "execution_count": 52,
   "metadata": {
    "ExecuteTime": {
     "end_time": "2019-12-03T08:36:25.662377Z",
     "start_time": "2019-12-03T08:36:25.656641Z"
    }
   },
   "outputs": [
    {
     "data": {
      "text/plain": [
       "array([[7, 4, 2, 3, 6, 3],\n",
       "       [6, 7, 8, 5, 4, 6]])"
      ]
     },
     "execution_count": 52,
     "metadata": {},
     "output_type": "execute_result"
    }
   ],
   "source": [
    "#배열 생성\n",
    "a = np.random.randint(1, 10, (2, 6))\n",
    "a"
   ]
  },
  {
   "cell_type": "code",
   "execution_count": 54,
   "metadata": {
    "ExecuteTime": {
     "end_time": "2019-12-03T08:36:46.240249Z",
     "start_time": "2019-12-03T08:36:46.234259Z"
    }
   },
   "outputs": [
    {
     "data": {
      "text/plain": [
       "array([[7, 4],\n",
       "       [2, 3],\n",
       "       [6, 3],\n",
       "       [6, 7],\n",
       "       [8, 5],\n",
       "       [4, 6]])"
      ]
     },
     "execution_count": 54,
     "metadata": {},
     "output_type": "execute_result"
    }
   ],
   "source": [
    "# shape 변경 - 요소 수 변경 없음\n",
    "a.resize((6, 2))\n",
    "a"
   ]
  },
  {
   "cell_type": "code",
   "execution_count": 56,
   "metadata": {
    "ExecuteTime": {
     "end_time": "2019-12-03T08:37:24.536770Z",
     "start_time": "2019-12-03T08:37:24.530024Z"
    }
   },
   "outputs": [
    {
     "data": {
      "text/plain": [
       "array([[7, 5, 7, 3, 5, 3, 8, 8, 8, 3],\n",
       "       [8, 5, 0, 0, 0, 0, 0, 0, 0, 0]])"
      ]
     },
     "execution_count": 56,
     "metadata": {},
     "output_type": "execute_result"
    }
   ],
   "source": [
    "# 요소의 수가 12개에서 20개로 늘어남\n",
    "# 늘어난 요소는 0으로 채워짐\n",
    "a = np.random.randint(1, 10, (2, 6))\n",
    "a.resize((2, 10))\n",
    "a"
   ]
  },
  {
   "cell_type": "code",
   "execution_count": 57,
   "metadata": {
    "ExecuteTime": {
     "end_time": "2019-12-03T08:38:11.267784Z",
     "start_time": "2019-12-03T08:38:11.262012Z"
    }
   },
   "outputs": [
    {
     "data": {
      "text/plain": [
       "array([[1, 3, 2],\n",
       "       [3, 2, 6],\n",
       "       [8, 5, 8]])"
      ]
     },
     "execution_count": 57,
     "metadata": {},
     "output_type": "execute_result"
    }
   ],
   "source": [
    "#배열 생성\n",
    "# 요소숙 12개에서 9개로 줄임\n",
    "# 이전 데이터 삭제\n",
    "a = np.random.randint(1, 10, (2, 6))\n",
    "a.resize((3, 3))\n",
    "a"
   ]
  },
  {
   "cell_type": "markdown",
   "metadata": {},
   "source": [
    "#### append\n",
    "\n",
    "- np.append(arr, values, axis=None)\n",
    "- 배열의 끝에 값을 추가\n",
    "- np.append 함수는 arr의 끝에 values(배열)을 추가합니다. axis로 배열이 추가되는 방향을 지정할 수 있습니다."
   ]
  },
  {
   "cell_type": "code",
   "execution_count": 58,
   "metadata": {
    "ExecuteTime": {
     "end_time": "2019-12-03T08:38:57.467524Z",
     "start_time": "2019-12-03T08:38:57.461278Z"
    }
   },
   "outputs": [
    {
     "data": {
      "text/plain": [
       "array([[1, 2, 3],\n",
       "       [4, 5, 6],\n",
       "       [7, 8, 9]])"
      ]
     },
     "execution_count": 58,
     "metadata": {},
     "output_type": "execute_result"
    }
   ],
   "source": [
    "# 데모 배열 생성\n",
    "a = np.arange(1, 10).reshape(3, 3)\n",
    "a"
   ]
  },
  {
   "cell_type": "code",
   "execution_count": 59,
   "metadata": {
    "ExecuteTime": {
     "end_time": "2019-12-03T08:38:57.767408Z",
     "start_time": "2019-12-03T08:38:57.756708Z"
    }
   },
   "outputs": [
    {
     "data": {
      "text/plain": [
       "array([[10, 11, 12],\n",
       "       [13, 14, 15],\n",
       "       [16, 17, 18]])"
      ]
     },
     "execution_count": 59,
     "metadata": {},
     "output_type": "execute_result"
    }
   ],
   "source": [
    "b = np.arange(10, 19).reshape(3, 3)\n",
    "b"
   ]
  },
  {
   "cell_type": "markdown",
   "metadata": {},
   "source": [
    "##### case 1: axis을 지정하지 않을 경우\n",
    "\n",
    "axis를 지정하지 않으면 배열은 1차원 배열로 변형되어 결합됩니다."
   ]
  },
  {
   "cell_type": "code",
   "execution_count": 60,
   "metadata": {
    "ExecuteTime": {
     "end_time": "2019-12-03T08:45:57.264553Z",
     "start_time": "2019-12-03T08:45:57.258892Z"
    }
   },
   "outputs": [
    {
     "data": {
      "text/plain": [
       "array([ 1,  2,  3,  4,  5,  6,  7,  8,  9, 10, 11, 12, 13, 14, 15, 16, 17,\n",
       "       18])"
      ]
     },
     "execution_count": 60,
     "metadata": {},
     "output_type": "execute_result"
    }
   ],
   "source": [
    "# axis 지정 없이 추가\n",
    "result = np.append(a, b)\n",
    "result"
   ]
  },
  {
   "cell_type": "code",
   "execution_count": 61,
   "metadata": {
    "ExecuteTime": {
     "end_time": "2019-12-03T08:46:15.900632Z",
     "start_time": "2019-12-03T08:46:15.895235Z"
    }
   },
   "outputs": [
    {
     "data": {
      "text/plain": [
       "array([[1, 2, 3],\n",
       "       [4, 5, 6],\n",
       "       [7, 8, 9]])"
      ]
     },
     "execution_count": 61,
     "metadata": {},
     "output_type": "execute_result"
    }
   ],
   "source": [
    "#원본 배열을 변경하는 것이 아니며 새로운 배열이 생성됩니다. \n",
    "a"
   ]
  },
  {
   "cell_type": "markdown",
   "metadata": {},
   "source": [
    "##### case 2: axis=0 지정"
   ]
  },
  {
   "cell_type": "code",
   "execution_count": 62,
   "metadata": {
    "ExecuteTime": {
     "end_time": "2019-12-03T08:46:43.403448Z",
     "start_time": "2019-12-03T08:46:43.397445Z"
    }
   },
   "outputs": [
    {
     "data": {
      "text/plain": [
       "array([[ 1,  2,  3],\n",
       "       [ 4,  5,  6],\n",
       "       [ 7,  8,  9],\n",
       "       [10, 11, 12],\n",
       "       [13, 14, 15],\n",
       "       [16, 17, 18]])"
      ]
     },
     "execution_count": 62,
     "metadata": {},
     "output_type": "execute_result"
    }
   ],
   "source": [
    "# axis = 0\n",
    "# axis 0 방향으로 b 배열 추가\n",
    "result = np.append(a, b, axis=0)\n",
    "result"
   ]
  },
  {
   "cell_type": "markdown",
   "metadata": {},
   "source": [
    "> axis = 0 설정 시, shape[0]를 제외한 `나머지 shape은 같아야` 합니다.  \n",
    "> shape[0]를 제외한 나머지 shape이 다를 경우 append는 오류를 발생합니다.  "
   ]
  },
  {
   "cell_type": "markdown",
   "metadata": {},
   "source": [
    "##### case 3: axis=1 지정"
   ]
  },
  {
   "cell_type": "code",
   "execution_count": 63,
   "metadata": {
    "ExecuteTime": {
     "end_time": "2019-12-03T08:47:23.634904Z",
     "start_time": "2019-12-03T08:47:23.628860Z"
    }
   },
   "outputs": [
    {
     "data": {
      "text/plain": [
       "array([[ 1,  2,  3, 10, 11, 12],\n",
       "       [ 4,  5,  6, 13, 14, 15],\n",
       "       [ 7,  8,  9, 16, 17, 18]])"
      ]
     },
     "execution_count": 63,
     "metadata": {},
     "output_type": "execute_result"
    }
   ],
   "source": [
    "# axis = 1\n",
    "# axis 1 방향으로 b 배열 추가\n",
    "result = np.append(a, b, axis=1)\n",
    "result"
   ]
  },
  {
   "cell_type": "markdown",
   "metadata": {},
   "source": [
    "#### insert\n",
    "\n",
    "- np.insert(arr, obj, values, axis=None)\n",
    "- axis를 지정하지 않으며 1차원 배열로 변환\n",
    "- 추가할 방향을 axis로 지정"
   ]
  },
  {
   "cell_type": "code",
   "execution_count": 64,
   "metadata": {
    "ExecuteTime": {
     "end_time": "2019-12-03T08:47:40.810332Z",
     "start_time": "2019-12-03T08:47:40.804741Z"
    }
   },
   "outputs": [
    {
     "data": {
      "text/plain": [
       "array([[1, 2, 3],\n",
       "       [4, 5, 6],\n",
       "       [7, 8, 9]])"
      ]
     },
     "execution_count": 64,
     "metadata": {},
     "output_type": "execute_result"
    }
   ],
   "source": [
    "# 데모 배열 생성\n",
    "a = np.arange(1, 10).reshape(3, 3)\n",
    "a"
   ]
  },
  {
   "cell_type": "code",
   "execution_count": 65,
   "metadata": {
    "ExecuteTime": {
     "end_time": "2019-12-03T08:47:50.377088Z",
     "start_time": "2019-12-03T08:47:50.371630Z"
    }
   },
   "outputs": [
    {
     "data": {
      "text/plain": [
       "array([  1, 999,   2,   3,   4,   5,   6,   7,   8,   9])"
      ]
     },
     "execution_count": 65,
     "metadata": {},
     "output_type": "execute_result"
    }
   ],
   "source": [
    "#  a 배열을 일차원 배열로 변환하고 1번 index에 99 추가\n",
    "np.insert(a, 1, 999)"
   ]
  },
  {
   "cell_type": "code",
   "execution_count": 66,
   "metadata": {
    "ExecuteTime": {
     "end_time": "2019-12-03T08:48:08.674172Z",
     "start_time": "2019-12-03T08:48:08.668310Z"
    }
   },
   "outputs": [
    {
     "data": {
      "text/plain": [
       "array([[  1,   2,   3],\n",
       "       [999, 999, 999],\n",
       "       [  4,   5,   6],\n",
       "       [  7,   8,   9]])"
      ]
     },
     "execution_count": 66,
     "metadata": {},
     "output_type": "execute_result"
    }
   ],
   "source": [
    "# a 배열의 axis 0 방향 1번 인덱스에 추가\n",
    "# index가 1인 row에 999가 추가됨\n",
    "np.insert(a, 1, 999, axis=0)"
   ]
  },
  {
   "cell_type": "markdown",
   "metadata": {},
   "source": [
    "#### delete\n",
    "\n",
    "- np.delete(arr, obj, axis=None)\n",
    "- axis를 지정하지 않으며 1차원 배열로 변환\n",
    "- 삭제할 방향을 axis로 지정\n",
    "- delete 함수는 원본 배열을 변경하지 않으며 새로운 배열을 반환"
   ]
  },
  {
   "cell_type": "code",
   "execution_count": 67,
   "metadata": {
    "ExecuteTime": {
     "end_time": "2019-12-03T08:48:23.510460Z",
     "start_time": "2019-12-03T08:48:23.504899Z"
    }
   },
   "outputs": [
    {
     "data": {
      "text/plain": [
       "array([[1, 2, 3],\n",
       "       [4, 5, 6],\n",
       "       [7, 8, 9]])"
      ]
     },
     "execution_count": 67,
     "metadata": {},
     "output_type": "execute_result"
    }
   ],
   "source": [
    "# 데모 배열 생성\n",
    "a = np.arange(1, 10).reshape(3, 3)\n",
    "a"
   ]
  },
  {
   "cell_type": "code",
   "execution_count": 68,
   "metadata": {
    "ExecuteTime": {
     "end_time": "2019-12-03T08:48:30.375231Z",
     "start_time": "2019-12-03T08:48:30.370060Z"
    }
   },
   "outputs": [
    {
     "data": {
      "text/plain": [
       "array([1, 3, 4, 5, 6, 7, 8, 9])"
      ]
     },
     "execution_count": 68,
     "metadata": {},
     "output_type": "execute_result"
    }
   ],
   "source": [
    "#  a 배열을 일차원 배열로 변환하고 1번 index 삭제\n",
    "np.delete(a, 1)"
   ]
  },
  {
   "cell_type": "code",
   "execution_count": 69,
   "metadata": {
    "ExecuteTime": {
     "end_time": "2019-12-03T08:48:37.922415Z",
     "start_time": "2019-12-03T08:48:37.916632Z"
    }
   },
   "outputs": [
    {
     "data": {
      "text/plain": [
       "array([[1, 3],\n",
       "       [4, 6],\n",
       "       [7, 9]])"
      ]
     },
     "execution_count": 69,
     "metadata": {},
     "output_type": "execute_result"
    }
   ],
   "source": [
    "# a 배열의 axis 1 방향 1번 인덱스인 열을 삭제한 배열을 생성하여 반환\n",
    "np.delete(a, 1, axis=1)"
   ]
  },
  {
   "cell_type": "markdown",
   "metadata": {},
   "source": [
    "### 배열 결합\n",
    "\n",
    "배열과 배열을 결합하는 np.concatenate, np.vstack, np.hstack 함수를 제공합니다."
   ]
  },
  {
   "cell_type": "markdown",
   "metadata": {},
   "source": [
    "#### np.concatenate\n",
    "\n",
    "> concatenate((a1, a2, ...), axis=0)  \n",
    "> a1, a2....: 배열"
   ]
  },
  {
   "cell_type": "code",
   "execution_count": 70,
   "metadata": {
    "ExecuteTime": {
     "end_time": "2019-12-03T08:49:24.384036Z",
     "start_time": "2019-12-03T08:49:24.377883Z"
    }
   },
   "outputs": [
    {
     "data": {
      "text/plain": [
       "array([[1, 2, 3],\n",
       "       [4, 5, 6]])"
      ]
     },
     "execution_count": 70,
     "metadata": {},
     "output_type": "execute_result"
    }
   ],
   "source": [
    "# 데모 배열\n",
    "a = np.arange(1, 7).reshape((2, 3))\n",
    "a"
   ]
  },
  {
   "cell_type": "code",
   "execution_count": 71,
   "metadata": {
    "ExecuteTime": {
     "end_time": "2019-12-03T08:49:24.731160Z",
     "start_time": "2019-12-03T08:49:24.725251Z"
    }
   },
   "outputs": [
    {
     "data": {
      "text/plain": [
       "array([[ 7,  8,  9],\n",
       "       [10, 11, 12]])"
      ]
     },
     "execution_count": 71,
     "metadata": {},
     "output_type": "execute_result"
    }
   ],
   "source": [
    "b = np.arange(7, 13).reshape((2, 3))\n",
    "b"
   ]
  },
  {
   "cell_type": "code",
   "execution_count": 72,
   "metadata": {
    "ExecuteTime": {
     "end_time": "2019-12-03T08:49:31.143901Z",
     "start_time": "2019-12-03T08:49:31.133622Z"
    }
   },
   "outputs": [
    {
     "data": {
      "text/plain": [
       "array([[ 1,  2,  3],\n",
       "       [ 4,  5,  6],\n",
       "       [ 7,  8,  9],\n",
       "       [10, 11, 12]])"
      ]
     },
     "execution_count": 72,
     "metadata": {},
     "output_type": "execute_result"
    }
   ],
   "source": [
    "# axis=0 방향으로 두 배열 결합, axis 기본값=0\n",
    "result = np.concatenate((a, b))\n",
    "result"
   ]
  },
  {
   "cell_type": "code",
   "execution_count": 73,
   "metadata": {
    "ExecuteTime": {
     "end_time": "2019-12-03T08:49:42.000187Z",
     "start_time": "2019-12-03T08:49:41.994000Z"
    }
   },
   "outputs": [
    {
     "data": {
      "text/plain": [
       "array([[ 1,  2,  3],\n",
       "       [ 4,  5,  6],\n",
       "       [ 7,  8,  9],\n",
       "       [10, 11, 12]])"
      ]
     },
     "execution_count": 73,
     "metadata": {},
     "output_type": "execute_result"
    }
   ],
   "source": [
    "# axis=0 방향으로 두 배열 결합, 결과 동일\n",
    "result = np.concatenate((a, b), axis=0)\n",
    "result"
   ]
  },
  {
   "cell_type": "code",
   "execution_count": 74,
   "metadata": {
    "ExecuteTime": {
     "end_time": "2019-12-03T08:49:50.646698Z",
     "start_time": "2019-12-03T08:49:50.640931Z"
    }
   },
   "outputs": [
    {
     "data": {
      "text/plain": [
       "array([[ 1,  2,  3,  7,  8,  9],\n",
       "       [ 4,  5,  6, 10, 11, 12]])"
      ]
     },
     "execution_count": 74,
     "metadata": {},
     "output_type": "execute_result"
    }
   ],
   "source": [
    "# axis=1 방향으로 두 배열 결합, 결과 동일\n",
    "result = np.concatenate((a, b), axis=1)\n",
    "result"
   ]
  },
  {
   "cell_type": "markdown",
   "metadata": {},
   "source": [
    "#### np.vstack\n",
    "\n",
    "- np.vstack(tup)\n",
    "- tup: 튜플\n",
    "- 튜플로 설정된 여러 배열을 수직 방향으로 연결 (axis=0 방향)\n",
    "- np.concatenate(tup, axis=0)와 동일"
   ]
  },
  {
   "cell_type": "code",
   "execution_count": 75,
   "metadata": {
    "ExecuteTime": {
     "end_time": "2019-12-03T08:50:55.426425Z",
     "start_time": "2019-12-03T08:50:55.421681Z"
    }
   },
   "outputs": [],
   "source": [
    "# 데모 배열\n",
    "a = np.arange(1, 7).reshape((2, 3))\n",
    "b = np.arange(7, 13).reshape((2, 3))"
   ]
  },
  {
   "cell_type": "code",
   "execution_count": 76,
   "metadata": {
    "ExecuteTime": {
     "end_time": "2019-12-03T08:51:07.384263Z",
     "start_time": "2019-12-03T08:51:07.378997Z"
    }
   },
   "outputs": [
    {
     "data": {
      "text/plain": [
       "array([[ 1,  2,  3],\n",
       "       [ 4,  5,  6],\n",
       "       [ 7,  8,  9],\n",
       "       [10, 11, 12]])"
      ]
     },
     "execution_count": 76,
     "metadata": {},
     "output_type": "execute_result"
    }
   ],
   "source": [
    "np.vstack((a, b))"
   ]
  },
  {
   "cell_type": "code",
   "execution_count": 77,
   "metadata": {
    "ExecuteTime": {
     "end_time": "2019-12-03T08:51:19.510700Z",
     "start_time": "2019-12-03T08:51:19.504554Z"
    }
   },
   "outputs": [
    {
     "data": {
      "text/plain": [
       "array([[ 1,  2,  3],\n",
       "       [ 4,  5,  6],\n",
       "       [ 7,  8,  9],\n",
       "       [10, 11, 12],\n",
       "       [ 1,  2,  3],\n",
       "       [ 4,  5,  6],\n",
       "       [ 7,  8,  9],\n",
       "       [10, 11, 12]])"
      ]
     },
     "execution_count": 77,
     "metadata": {},
     "output_type": "execute_result"
    }
   ],
   "source": [
    "# 4개 배열을 튜플로 설정\n",
    "np.vstack((a, b, a, b))"
   ]
  },
  {
   "cell_type": "markdown",
   "metadata": {},
   "source": [
    "#### np.hstack\n",
    "\n",
    "- np.hstack(tup)\n",
    "- tup: 튜플\n",
    "- 튜플로 설정된 여러 배열을 수평 방향으로 연결 (axis=1 방향)\n",
    "- np.concatenate(tup, axis=1)와 동일"
   ]
  },
  {
   "cell_type": "code",
   "execution_count": 78,
   "metadata": {
    "ExecuteTime": {
     "end_time": "2019-12-03T08:51:51.317844Z",
     "start_time": "2019-12-03T08:51:51.313120Z"
    }
   },
   "outputs": [],
   "source": [
    "# 데모 배열\n",
    "a = np.arange(1, 7).reshape((2, 3))\n",
    "b = np.arange(7, 13).reshape((2, 3))"
   ]
  },
  {
   "cell_type": "code",
   "execution_count": 79,
   "metadata": {
    "ExecuteTime": {
     "end_time": "2019-12-03T08:51:57.269586Z",
     "start_time": "2019-12-03T08:51:57.264115Z"
    }
   },
   "outputs": [
    {
     "data": {
      "text/plain": [
       "array([[ 1,  2,  3,  7,  8,  9],\n",
       "       [ 4,  5,  6, 10, 11, 12]])"
      ]
     },
     "execution_count": 79,
     "metadata": {},
     "output_type": "execute_result"
    }
   ],
   "source": [
    "np.hstack((a, b))"
   ]
  },
  {
   "cell_type": "code",
   "execution_count": 80,
   "metadata": {
    "ExecuteTime": {
     "end_time": "2019-12-03T08:52:10.405698Z",
     "start_time": "2019-12-03T08:52:10.399933Z"
    }
   },
   "outputs": [
    {
     "data": {
      "text/plain": [
       "array([[ 1,  2,  3,  7,  8,  9,  1,  2,  3,  7,  8,  9],\n",
       "       [ 4,  5,  6, 10, 11, 12,  4,  5,  6, 10, 11, 12]])"
      ]
     },
     "execution_count": 80,
     "metadata": {},
     "output_type": "execute_result"
    }
   ],
   "source": [
    "np.hstack((a, b, a, b))"
   ]
  },
  {
   "cell_type": "markdown",
   "metadata": {},
   "source": [
    "###  배열 분리\n",
    "\n",
    "NumPy는 배열을 수직, 수평으로 분할하는 함수를 제공합니다.\n",
    "\n",
    "- np.hsplit(): 지정한 배열을 수평(행) 방향으로 분할\n",
    "- np.vsplit(): 지정한 배열을 수직(열) 방향으로 분할"
   ]
  },
  {
   "cell_type": "markdown",
   "metadata": {},
   "source": [
    "#### np.hsplit\n",
    "- np.hsplit(ary, indices_or_sections)\n",
    "- 배열을 컬럼 방향으로 분할하는 함수"
   ]
  },
  {
   "cell_type": "code",
   "execution_count": 81,
   "metadata": {
    "ExecuteTime": {
     "end_time": "2019-12-03T08:53:01.459374Z",
     "start_time": "2019-12-03T08:53:01.453310Z"
    }
   },
   "outputs": [
    {
     "data": {
      "text/plain": [
       "array([[ 1,  2,  3,  4,  5,  6],\n",
       "       [ 7,  8,  9, 10, 11, 12],\n",
       "       [13, 14, 15, 16, 17, 18],\n",
       "       [19, 20, 21, 22, 23, 24]])"
      ]
     },
     "execution_count": 81,
     "metadata": {},
     "output_type": "execute_result"
    }
   ],
   "source": [
    "# 분할 대상 배열 생성\n",
    "a = np.arange(1, 25).reshape((4, 6))\n",
    "a"
   ]
  },
  {
   "cell_type": "code",
   "execution_count": 82,
   "metadata": {
    "ExecuteTime": {
     "end_time": "2019-12-03T08:53:12.164812Z",
     "start_time": "2019-12-03T08:53:12.159058Z"
    }
   },
   "outputs": [
    {
     "data": {
      "text/plain": [
       "[array([[ 1,  2,  3],\n",
       "        [ 7,  8,  9],\n",
       "        [13, 14, 15],\n",
       "        [19, 20, 21]]), array([[ 4,  5,  6],\n",
       "        [10, 11, 12],\n",
       "        [16, 17, 18],\n",
       "        [22, 23, 24]])]"
      ]
     },
     "execution_count": 82,
     "metadata": {},
     "output_type": "execute_result"
    }
   ],
   "source": [
    "# 수평으로 두 그룹으로 분할하는 함수\n",
    "result = np.hsplit(a, 2)\n",
    "result"
   ]
  },
  {
   "cell_type": "code",
   "execution_count": 83,
   "metadata": {
    "ExecuteTime": {
     "end_time": "2019-12-03T08:53:31.257644Z",
     "start_time": "2019-12-03T08:53:31.246830Z"
    }
   },
   "outputs": [
    {
     "data": {
      "text/plain": [
       "[array([[ 1,  2],\n",
       "        [ 7,  8],\n",
       "        [13, 14],\n",
       "        [19, 20]]), array([[ 3,  4],\n",
       "        [ 9, 10],\n",
       "        [15, 16],\n",
       "        [21, 22]]), array([[ 5,  6],\n",
       "        [11, 12],\n",
       "        [17, 18],\n",
       "        [23, 24]])]"
      ]
     },
     "execution_count": 83,
     "metadata": {},
     "output_type": "execute_result"
    }
   ],
   "source": [
    "# 수평으로 두 그룹으로 분할하는 함수\n",
    "result = np.hsplit(a, 3)\n",
    "result"
   ]
  },
  {
   "cell_type": "markdown",
   "metadata": {},
   "source": [
    "#### np.vsplit\n",
    "\n",
    "- np.vsplit(ary, indices_or_sections)\n",
    "- 배열을 수직 방향(행 방향)으로 분할하는 함수"
   ]
  },
  {
   "cell_type": "code",
   "execution_count": 84,
   "metadata": {
    "ExecuteTime": {
     "end_time": "2019-12-03T08:54:40.651009Z",
     "start_time": "2019-12-03T08:54:40.645023Z"
    }
   },
   "outputs": [
    {
     "data": {
      "text/plain": [
       "array([[ 1,  2,  3,  4,  5,  6],\n",
       "       [ 7,  8,  9, 10, 11, 12],\n",
       "       [13, 14, 15, 16, 17, 18],\n",
       "       [19, 20, 21, 22, 23, 24]])"
      ]
     },
     "execution_count": 84,
     "metadata": {},
     "output_type": "execute_result"
    }
   ],
   "source": [
    "# 분할 대상 배열 생성\n",
    "a = np.arange(1, 25).reshape((4, 6))\n",
    "a"
   ]
  },
  {
   "cell_type": "code",
   "execution_count": 85,
   "metadata": {
    "ExecuteTime": {
     "end_time": "2019-12-03T08:54:51.229433Z",
     "start_time": "2019-12-03T08:54:51.224701Z"
    }
   },
   "outputs": [
    {
     "data": {
      "text/plain": [
       "[array([[ 1,  2,  3,  4,  5,  6],\n",
       "        [ 7,  8,  9, 10, 11, 12]]), array([[13, 14, 15, 16, 17, 18],\n",
       "        [19, 20, 21, 22, 23, 24]])]"
      ]
     },
     "execution_count": 85,
     "metadata": {},
     "output_type": "execute_result"
    }
   ],
   "source": [
    "result=np.vsplit(a, 2)\n",
    "result"
   ]
  },
  {
   "cell_type": "code",
   "execution_count": 86,
   "metadata": {
    "ExecuteTime": {
     "end_time": "2019-12-03T08:55:10.570632Z",
     "start_time": "2019-12-03T08:55:10.564283Z"
    }
   },
   "outputs": [
    {
     "data": {
      "text/plain": [
       "[array([[1, 2, 3, 4, 5, 6]]),\n",
       " array([[ 7,  8,  9, 10, 11, 12]]),\n",
       " array([[13, 14, 15, 16, 17, 18]]),\n",
       " array([[19, 20, 21, 22, 23, 24]])]"
      ]
     },
     "execution_count": 86,
     "metadata": {},
     "output_type": "execute_result"
    }
   ],
   "source": [
    "result=np.vsplit(a, 4)\n",
    "result"
   ]
  },
  {
   "cell_type": "markdown",
   "metadata": {},
   "source": [
    "---\n",
    "\n",
    "## Reference"
   ]
  },
  {
   "cell_type": "markdown",
   "metadata": {},
   "source": [
    "- https://www.intel.com\n",
    "- https://numpy.org/\n",
    "- https://github.com/rougier/numpy-tutorial\n",
    "- https://github.com/rougier/numpy-100\n",
    "- http://aikorea.org/cs231n/python-numpy-tutorial/\n",
    "- http://riseshia.github.io/2017/01/30/numpy-tutorial-with-code.html\n",
    "- https://datascienceschool.net/view-notebook/24e43f9df9ec4abab15e32e68e982cc1/\n",
    "- http://taewan.kim/post/numpy_cheat_sheet/"
   ]
  }
 ],
 "metadata": {
  "kernelspec": {
   "display_name": "Python [conda env:keras] *",
   "language": "python",
   "name": "conda-env-keras-py"
  },
  "language_info": {
   "codemirror_mode": {
    "name": "ipython",
    "version": 3
   },
   "file_extension": ".py",
   "mimetype": "text/x-python",
   "name": "python",
   "nbconvert_exporter": "python",
   "pygments_lexer": "ipython3",
   "version": "3.6.9"
  },
  "toc": {
   "base_numbering": 1,
   "nav_menu": {},
   "number_sections": true,
   "sideBar": true,
   "skip_h1_title": true,
   "title_cell": "강의목차",
   "title_sidebar": "Contents",
   "toc_cell": true,
   "toc_position": {
    "height": "calc(100% - 180px)",
    "left": "10px",
    "top": "150px",
    "width": "335.797px"
   },
   "toc_section_display": true,
   "toc_window_display": true
  }
 },
 "nbformat": 4,
 "nbformat_minor": 2
}
