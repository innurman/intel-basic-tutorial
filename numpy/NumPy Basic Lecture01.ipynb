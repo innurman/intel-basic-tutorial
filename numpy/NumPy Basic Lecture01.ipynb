{
 "cells": [
  {
   "cell_type": "markdown",
   "metadata": {},
   "source": [
    "<img src='./img/intel-logo.jpg' width=50%, Fig1> \n",
    "\n",
    "# NumPy Basic Lecture01 - NumPy 설치 및 배열 생성\n",
    "\n",
    "<img src='./img/numpy-logo.jpg' width=50%>\n",
    "\n",
    "<div align='right'>성  민  석 (Minsuk  Sung)</div>\n",
    "<div align='right'>류  회  성 (Hoesung Ryu)</div>"
   ]
  },
  {
   "cell_type": "markdown",
   "metadata": {
    "toc": true
   },
   "source": [
    "<h1>강의목차<span class=\"tocSkip\"></span></h1>\n",
    "<div class=\"toc\"><ul class=\"toc-item\"><li><span><a href=\"#NumPy란?\" data-toc-modified-id=\"NumPy란?-1\"><span class=\"toc-item-num\">1&nbsp;&nbsp;</span>NumPy란?</a></span><ul class=\"toc-item\"><li><span><a href=\"#NumPy-특징\" data-toc-modified-id=\"NumPy-특징-1.1\"><span class=\"toc-item-num\">1.1&nbsp;&nbsp;</span>NumPy 특징</a></span></li><li><span><a href=\"#NumPy-설치하기\" data-toc-modified-id=\"NumPy-설치하기-1.2\"><span class=\"toc-item-num\">1.2&nbsp;&nbsp;</span>NumPy 설치하기</a></span></li><li><span><a href=\"#NumPy-불러오기\" data-toc-modified-id=\"NumPy-불러오기-1.3\"><span class=\"toc-item-num\">1.3&nbsp;&nbsp;</span>NumPy 불러오기</a></span></li><li><span><a href=\"#NumPy-버전-확인하기\" data-toc-modified-id=\"NumPy-버전-확인하기-1.4\"><span class=\"toc-item-num\">1.4&nbsp;&nbsp;</span>NumPy 버전 확인하기</a></span></li><li><span><a href=\"#NumPy-사용시-도움말\" data-toc-modified-id=\"NumPy-사용시-도움말-1.5\"><span class=\"toc-item-num\">1.5&nbsp;&nbsp;</span>NumPy 사용시 도움말</a></span></li></ul></li><li><span><a href=\"#NumPy-데이터-타입\" data-toc-modified-id=\"NumPy-데이터-타입-2\"><span class=\"toc-item-num\">2&nbsp;&nbsp;</span>NumPy 데이터 타입</a></span></li><li><span><a href=\"#NumPy-배열-생성\" data-toc-modified-id=\"NumPy-배열-생성-3\"><span class=\"toc-item-num\">3&nbsp;&nbsp;</span>NumPy 배열 생성</a></span><ul class=\"toc-item\"><li><span><a href=\"#파이썬-배열로-NumPy-배열-생성\" data-toc-modified-id=\"파이썬-배열로-NumPy-배열-생성-3.1\"><span class=\"toc-item-num\">3.1&nbsp;&nbsp;</span>파이썬 배열로 NumPy 배열 생성</a></span></li><li><span><a href=\"#배열-생성-및-초기화\" data-toc-modified-id=\"배열-생성-및-초기화-3.2\"><span class=\"toc-item-num\">3.2&nbsp;&nbsp;</span>배열 생성 및 초기화</a></span><ul class=\"toc-item\"><li><span><a href=\"#np.zeros\" data-toc-modified-id=\"np.zeros-3.2.1\"><span class=\"toc-item-num\">3.2.1&nbsp;&nbsp;</span>np.zeros</a></span></li><li><span><a href=\"#np.ones\" data-toc-modified-id=\"np.ones-3.2.2\"><span class=\"toc-item-num\">3.2.2&nbsp;&nbsp;</span>np.ones</a></span></li><li><span><a href=\"#np.full\" data-toc-modified-id=\"np.full-3.2.3\"><span class=\"toc-item-num\">3.2.3&nbsp;&nbsp;</span>np.full</a></span></li><li><span><a href=\"#np.eye\" data-toc-modified-id=\"np.eye-3.2.4\"><span class=\"toc-item-num\">3.2.4&nbsp;&nbsp;</span>np.eye</a></span></li><li><span><a href=\"#np.empty\" data-toc-modified-id=\"np.empty-3.2.5\"><span class=\"toc-item-num\">3.2.5&nbsp;&nbsp;</span>np.empty</a></span></li><li><span><a href=\"#like\" data-toc-modified-id=\"like-3.2.6\"><span class=\"toc-item-num\">3.2.6&nbsp;&nbsp;</span>like</a></span></li></ul></li><li><span><a href=\"#데이터-생성-함수\" data-toc-modified-id=\"데이터-생성-함수-3.3\"><span class=\"toc-item-num\">3.3&nbsp;&nbsp;</span>데이터 생성 함수</a></span><ul class=\"toc-item\"><li><span><a href=\"#np.linspace\" data-toc-modified-id=\"np.linspace-3.3.1\"><span class=\"toc-item-num\">3.3.1&nbsp;&nbsp;</span>np.linspace</a></span></li><li><span><a href=\"#np.arange\" data-toc-modified-id=\"np.arange-3.3.2\"><span class=\"toc-item-num\">3.3.2&nbsp;&nbsp;</span>np.arange</a></span></li><li><span><a href=\"#np.logspace\" data-toc-modified-id=\"np.logspace-3.3.3\"><span class=\"toc-item-num\">3.3.3&nbsp;&nbsp;</span>np.logspace</a></span></li></ul></li><li><span><a href=\"#난수-기반-배열-생성\" data-toc-modified-id=\"난수-기반-배열-생성-3.4\"><span class=\"toc-item-num\">3.4&nbsp;&nbsp;</span>난수 기반 배열 생성</a></span><ul class=\"toc-item\"><li><span><a href=\"#np.random.seed\" data-toc-modified-id=\"np.random.seed-3.4.1\"><span class=\"toc-item-num\">3.4.1&nbsp;&nbsp;</span>np.random.seed</a></span></li><li><span><a href=\"#np.random.normal\" data-toc-modified-id=\"np.random.normal-3.4.2\"><span class=\"toc-item-num\">3.4.2&nbsp;&nbsp;</span>np.random.normal</a></span></li><li><span><a href=\"#np.random.rand\" data-toc-modified-id=\"np.random.rand-3.4.3\"><span class=\"toc-item-num\">3.4.3&nbsp;&nbsp;</span>np.random.rand</a></span></li><li><span><a href=\"#np.random.randn\" data-toc-modified-id=\"np.random.randn-3.4.4\"><span class=\"toc-item-num\">3.4.4&nbsp;&nbsp;</span>np.random.randn</a></span></li><li><span><a href=\"#np.random.randint\" data-toc-modified-id=\"np.random.randint-3.4.5\"><span class=\"toc-item-num\">3.4.5&nbsp;&nbsp;</span>np.random.randint</a></span></li><li><span><a href=\"#np.random.random\" data-toc-modified-id=\"np.random.random-3.4.6\"><span class=\"toc-item-num\">3.4.6&nbsp;&nbsp;</span>np.random.random</a></span></li></ul></li></ul></li><li><span><a href=\"#NumPy-배열-상태-검사\" data-toc-modified-id=\"NumPy-배열-상태-검사-4\"><span class=\"toc-item-num\">4&nbsp;&nbsp;</span>NumPy 배열 상태 검사</a></span></li><li><span><a href=\"#Reference\" data-toc-modified-id=\"Reference-5\"><span class=\"toc-item-num\">5&nbsp;&nbsp;</span>Reference</a></span></li></ul></div>"
   ]
  },
  {
   "cell_type": "markdown",
   "metadata": {},
   "source": [
    "## NumPy란?\n",
    "\n",
    "> 행렬 연산을 위한 핵심 라이브러리\n",
    "\n",
    "파이썬 기반 데이터 분석 환경에서 NumPy는 **행렬 연산을 위한 핵심 라이브러리**입니다. `NumPy`는 “Numerical Python“의 약자로 대규모 다차원 배열과 행렬 연산에 필요한 다양한 함수를 제공합니다. 특히 메모리 버퍼에 배열 데이터를 저장하고 처리하는 효율적인 인터페이스를 제공합니다. 파이썬 list 객체를 개선한 NumPy의 ndarray 객체를 사용하면 더 많은 데이터를 더 빠르게 처리할 수 있습니다.\n",
    "\n",
    "### NumPy 특징\n",
    "- 강력한 N 차원 배열 객체\n",
    "- 정교한 브로드케스팅(Broadcast) 기능\n",
    "- C/C ++ 및 포트란 코드 통합 도구\n",
    "- 유용한 선형 대수학, 푸리에 변환 및 난수 기능\n",
    "- 범용적 데이터 처리에 사용 가능한 다차원 컨테이너\n",
    "\n",
    "### NumPy 설치하기\n",
    "\n",
    "```python\n",
    "pip3 install numpy\n",
    "```"
   ]
  },
  {
   "cell_type": "markdown",
   "metadata": {},
   "source": [
    "### NumPy 불러오기\n",
    "\n",
    "이제부터 NumPy는 `np`라는 약자로 사용하기로 약속합니다."
   ]
  },
  {
   "cell_type": "code",
   "execution_count": 1,
   "metadata": {
    "ExecuteTime": {
     "end_time": "2019-12-02T15:57:26.570032Z",
     "start_time": "2019-12-02T15:57:26.504009Z"
    }
   },
   "outputs": [],
   "source": [
    "import numpy as np"
   ]
  },
  {
   "cell_type": "markdown",
   "metadata": {},
   "source": [
    "### NumPy 버전 확인하기\n",
    "아래의 명령어를 통해서 현재 사용하고 있는 NumPy의 버전을 확인할 수 있습니다."
   ]
  },
  {
   "cell_type": "code",
   "execution_count": 2,
   "metadata": {
    "ExecuteTime": {
     "end_time": "2019-12-02T15:57:54.364321Z",
     "start_time": "2019-12-02T15:57:54.355767Z"
    }
   },
   "outputs": [
    {
     "data": {
      "text/plain": [
       "'1.17.2'"
      ]
     },
     "execution_count": 2,
     "metadata": {},
     "output_type": "execute_result"
    }
   ],
   "source": [
    "np.__version__"
   ]
  },
  {
   "cell_type": "markdown",
   "metadata": {},
   "source": [
    "### NumPy 사용시 도움말\n",
    "\n",
    "> NumPy의 모든 API는 **`np.info 함수`를 이용**하여 도움말을 확인할 수 있습니다"
   ]
  },
  {
   "cell_type": "code",
   "execution_count": 71,
   "metadata": {
    "ExecuteTime": {
     "end_time": "2019-12-02T16:59:26.409938Z",
     "start_time": "2019-12-02T16:59:26.404604Z"
    }
   },
   "outputs": [
    {
     "name": "stdout",
     "output_type": "stream",
     "text": [
      "Data-type of the array's elements.\n",
      "\n",
      "Parameters\n",
      "----------\n",
      "None\n",
      "\n",
      "Returns\n",
      "-------\n",
      "d : numpy dtype object\n",
      "\n",
      "See Also\n",
      "--------\n",
      "numpy.dtype\n",
      "\n",
      "Examples\n",
      "--------\n",
      ">>> x\n",
      "array([[0, 1],\n",
      "       [2, 3]])\n",
      ">>> x.dtype\n",
      "dtype('int32')\n",
      ">>> type(x.dtype)\n",
      "<type 'numpy.dtype'>\n"
     ]
    }
   ],
   "source": [
    "np.info(np.ndarray.dtype)"
   ]
  },
  {
   "cell_type": "markdown",
   "metadata": {},
   "source": [
    "---\n",
    "\n",
    "## NumPy 데이터 타입\n",
    "\n",
    "> NumPy는 다음과 같은 데이터 타입을 지원합니다. 배열을 생성할 때 dtype속성으로 다음과 같은 데이터 타입을 지정할 수 있습니다.\n",
    "\n",
    "- np.int64 : 64 비트 정수 타입\n",
    "- np.float32 : 32 비트 부동 소수 타입\n",
    "- np.complex : 복소수 (128 float)\n",
    "- np.bool : 불린 타입 (Trur, False)\n",
    "- np.object : 파이썬 객체 타입\n",
    "- np.string_ : 고정자리 스트링 타입\n",
    "- np.unicode_ : 고정자리 유니코드 타입"
   ]
  },
  {
   "cell_type": "markdown",
   "metadata": {},
   "source": [
    "---\n",
    "\n",
    "## NumPy 배열 생성\n",
    "\n",
    "Python에서의 기본 자료형이었던 `List`와 달리, NumPy 배열은 `numpy.ndarray 객체`입니다. 이 절에서는 NumPy 배열(numpy.ndarray 객체) 생성 방법을 소개합니다."
   ]
  },
  {
   "cell_type": "markdown",
   "metadata": {},
   "source": [
    "### 파이썬 배열로 NumPy 배열 생성\n",
    "\n",
    "파이썬 배열을 인자로 NumPy 배열을 생성할 수 있습니다. 파라미터로 list 객체와 데이터 타입(dtype)을 입력하여 NumPy 배열을 생성합니다. dtype을 생략할 경우, 입력된 list 객체의 요소 타입이 설정됩니다."
   ]
  },
  {
   "cell_type": "code",
   "execution_count": 7,
   "metadata": {
    "ExecuteTime": {
     "end_time": "2019-12-02T16:01:36.662110Z",
     "start_time": "2019-12-02T16:01:36.656741Z"
    }
   },
   "outputs": [],
   "source": [
    "arr = [[1,2,3],[4,5,6]]\n",
    "a = np.array(arr,dtype=float)"
   ]
  },
  {
   "cell_type": "code",
   "execution_count": 8,
   "metadata": {
    "ExecuteTime": {
     "end_time": "2019-12-02T16:01:36.925700Z",
     "start_time": "2019-12-02T16:01:36.920393Z"
    }
   },
   "outputs": [
    {
     "data": {
      "text/plain": [
       "array([[1., 2., 3.],\n",
       "       [4., 5., 6.]])"
      ]
     },
     "execution_count": 8,
     "metadata": {},
     "output_type": "execute_result"
    }
   ],
   "source": [
    "a"
   ]
  },
  {
   "cell_type": "markdown",
   "metadata": {},
   "source": [
    "NumPy 배열의 형태를 확인하는 방법은 아래와 같이 `shape`을 통해서 가능합니다."
   ]
  },
  {
   "cell_type": "code",
   "execution_count": 9,
   "metadata": {
    "ExecuteTime": {
     "end_time": "2019-12-02T16:01:37.558414Z",
     "start_time": "2019-12-02T16:01:37.552816Z"
    }
   },
   "outputs": [
    {
     "data": {
      "text/plain": [
       "(2, 3)"
      ]
     },
     "execution_count": 9,
     "metadata": {},
     "output_type": "execute_result"
    }
   ],
   "source": [
    "a.shape"
   ]
  },
  {
   "cell_type": "markdown",
   "metadata": {},
   "source": [
    "또한 NumPy 배열의 차원을 확인하는 방법은 `ndim`을 통해서 가능합니다."
   ]
  },
  {
   "cell_type": "code",
   "execution_count": 11,
   "metadata": {
    "ExecuteTime": {
     "end_time": "2019-12-02T16:01:54.385950Z",
     "start_time": "2019-12-02T16:01:54.380618Z"
    }
   },
   "outputs": [
    {
     "data": {
      "text/plain": [
       "2"
      ]
     },
     "execution_count": 11,
     "metadata": {},
     "output_type": "execute_result"
    }
   ],
   "source": [
    "a.ndim"
   ]
  },
  {
   "cell_type": "markdown",
   "metadata": {},
   "source": [
    "NumPy 배열의 각 원소의 타입을 알고 싶으면 `dtype`을 통해서 가능합니다"
   ]
  },
  {
   "cell_type": "code",
   "execution_count": 12,
   "metadata": {
    "ExecuteTime": {
     "end_time": "2019-12-02T16:02:02.613074Z",
     "start_time": "2019-12-02T16:02:02.607372Z"
    }
   },
   "outputs": [
    {
     "data": {
      "text/plain": [
       "dtype('float64')"
      ]
     },
     "execution_count": 12,
     "metadata": {},
     "output_type": "execute_result"
    }
   ],
   "source": [
    "a.dtype"
   ]
  },
  {
   "cell_type": "markdown",
   "metadata": {},
   "source": [
    "### 배열 생성 및 초기화\n",
    "\n",
    "`NumPy`는 원하는 shape으로 배열을 설정하고, 각 요소를 특정 값으로 초기화하는 **`zeros`, `ones`, `full`, `eye` 함수를 제공**합니다. 또한, 파라미터로 입력한 배열과 같은 shape의 배열을 만드는 **`zeros_like`, `ones_like`, `full_like`** 함수도 제공합니다. 이 함수를 이용하여 배열 생성하고 초기화할 수 있습니다."
   ]
  },
  {
   "cell_type": "markdown",
   "metadata": {},
   "source": [
    "#### np.zeros\n",
    "\n",
    "> np.zeros(shape, dtype=float, order='C')\n",
    "\n",
    "지정된 shape의 배열을 생성하고, 모든 요소를 0으로 초기화"
   ]
  },
  {
   "cell_type": "code",
   "execution_count": 13,
   "metadata": {
    "ExecuteTime": {
     "end_time": "2019-12-02T16:08:28.408502Z",
     "start_time": "2019-12-02T16:08:28.402642Z"
    }
   },
   "outputs": [
    {
     "data": {
      "text/plain": [
       "array([[0., 0., 0., 0.],\n",
       "       [0., 0., 0., 0.],\n",
       "       [0., 0., 0., 0.]])"
      ]
     },
     "execution_count": 13,
     "metadata": {},
     "output_type": "execute_result"
    }
   ],
   "source": [
    "np.zeros((3, 4))"
   ]
  },
  {
   "cell_type": "markdown",
   "metadata": {},
   "source": [
    "#### np.ones\n",
    "\n",
    "> np.ones(shape, dtype=None, order='C')\n",
    "\n",
    "지정된 shape의 배열을 생성하고, 모든 요소를 1로 초기화"
   ]
  },
  {
   "cell_type": "code",
   "execution_count": 14,
   "metadata": {
    "ExecuteTime": {
     "end_time": "2019-12-02T16:08:28.744715Z",
     "start_time": "2019-12-02T16:08:28.737455Z"
    }
   },
   "outputs": [
    {
     "data": {
      "text/plain": [
       "array([[[1, 1, 1, 1],\n",
       "        [1, 1, 1, 1],\n",
       "        [1, 1, 1, 1]],\n",
       "\n",
       "       [[1, 1, 1, 1],\n",
       "        [1, 1, 1, 1],\n",
       "        [1, 1, 1, 1]]], dtype=int16)"
      ]
     },
     "execution_count": 14,
     "metadata": {},
     "output_type": "execute_result"
    }
   ],
   "source": [
    "np.ones((2,3,4),dtype=np.int16)"
   ]
  },
  {
   "cell_type": "markdown",
   "metadata": {},
   "source": [
    "#### np.full\n",
    "\n",
    "> np.full(shape, fill_value, dtype=None, order='C')\n",
    "\n",
    "지정된 shape의 배열을 생성하고, 모든 요소를 지정한 \"fill_value\"로 초기화"
   ]
  },
  {
   "cell_type": "code",
   "execution_count": 15,
   "metadata": {
    "ExecuteTime": {
     "end_time": "2019-12-02T16:08:29.251518Z",
     "start_time": "2019-12-02T16:08:29.245883Z"
    }
   },
   "outputs": [
    {
     "data": {
      "text/plain": [
       "array([[7, 7],\n",
       "       [7, 7]])"
      ]
     },
     "execution_count": 15,
     "metadata": {},
     "output_type": "execute_result"
    }
   ],
   "source": [
    "np.full((2,2),7)"
   ]
  },
  {
   "cell_type": "markdown",
   "metadata": {},
   "source": [
    "#### np.eye\n",
    "\n",
    "> np.eye(N, M=None, k=0, dtype=<class 'float'>)\n",
    "\n",
    "(N, N) shape의 단위 행렬(Unit Matrix)을 생성"
   ]
  },
  {
   "cell_type": "code",
   "execution_count": 16,
   "metadata": {
    "ExecuteTime": {
     "end_time": "2019-12-02T16:08:30.579660Z",
     "start_time": "2019-12-02T16:08:30.573801Z"
    }
   },
   "outputs": [
    {
     "data": {
      "text/plain": [
       "array([[1., 0., 0., 0.],\n",
       "       [0., 1., 0., 0.],\n",
       "       [0., 0., 1., 0.],\n",
       "       [0., 0., 0., 1.]])"
      ]
     },
     "execution_count": 16,
     "metadata": {},
     "output_type": "execute_result"
    }
   ],
   "source": [
    "np.eye(4)"
   ]
  },
  {
   "cell_type": "markdown",
   "metadata": {},
   "source": [
    "#### np.empty\n",
    "\n",
    "> np.empty(shape, dtype=float, order='C')\n",
    "\n",
    "- 지정된 shape의 배열 생성\n",
    "- **요소의 초기화 과정에 없고, 기존 메모리값을 그대로 사용**\n",
    "- 배열 생성비용이 가장 저렴하고 빠름\n",
    "- 배열 사용 시 주의가 필요(초기화를 고려)"
   ]
  },
  {
   "cell_type": "code",
   "execution_count": 17,
   "metadata": {
    "ExecuteTime": {
     "end_time": "2019-12-02T16:08:31.503723Z",
     "start_time": "2019-12-02T16:08:31.497635Z"
    }
   },
   "outputs": [
    {
     "data": {
      "text/plain": [
       "array([[6.64550650e-066, 4.01708809e-057],\n",
       "       [1.17638525e-047, 8.01024001e+165],\n",
       "       [1.47763641e+248, 1.16096346e-028],\n",
       "       [7.69165785e+218, 1.35617292e+248]])"
      ]
     },
     "execution_count": 17,
     "metadata": {},
     "output_type": "execute_result"
    }
   ],
   "source": [
    "np.empty((4,2))"
   ]
  },
  {
   "cell_type": "markdown",
   "metadata": {},
   "source": [
    "#### like\n",
    "\n",
    "> like패턴을 가진 배열생성함수는 지정된 배열과 shape이 같은 행렬을 만드는 like 함수를 제공합니다.\n",
    "\n",
    "- np.zeros_like\n",
    "- np.ones_like\n",
    "- np.full_like\n",
    "- np.enpty_like"
   ]
  },
  {
   "cell_type": "code",
   "execution_count": 18,
   "metadata": {
    "ExecuteTime": {
     "end_time": "2019-12-02T16:08:32.279773Z",
     "start_time": "2019-12-02T16:08:32.273634Z"
    }
   },
   "outputs": [
    {
     "data": {
      "text/plain": [
       "array([[1, 1, 1],\n",
       "       [1, 1, 1]])"
      ]
     },
     "execution_count": 18,
     "metadata": {},
     "output_type": "execute_result"
    }
   ],
   "source": [
    "a = np.array([[1,2,3], [4,5,6]])\n",
    "b = np.ones_like(a)\n",
    "b"
   ]
  },
  {
   "cell_type": "markdown",
   "metadata": {},
   "source": [
    "###  데이터 생성 함수\n",
    "\n",
    "NumPy는 `주어진 조건으로 데이터를 생성`한 후, 배열을 만드는 데이터 생성 함수를 제공합니다."
   ]
  },
  {
   "cell_type": "markdown",
   "metadata": {},
   "source": [
    "#### np.linspace\n",
    "\n",
    "> np.linspace(start, stop, num=50, endpoint=True, retstep=False, dtype=None)\n",
    "\n",
    "- start부터 stop의 범위에서 num개를 균일한 간격으로 데이터를 생성하고 배열을 만드는 함수\n",
    "- 요소 개수를 기준으로 균등 간격의 배열을 생성"
   ]
  },
  {
   "cell_type": "code",
   "execution_count": 19,
   "metadata": {
    "ExecuteTime": {
     "end_time": "2019-12-02T16:13:29.138053Z",
     "start_time": "2019-12-02T16:13:29.132203Z"
    }
   },
   "outputs": [
    {
     "data": {
      "text/plain": [
       "array([0.  , 0.25, 0.5 , 0.75, 1.  ])"
      ]
     },
     "execution_count": 19,
     "metadata": {},
     "output_type": "execute_result"
    }
   ],
   "source": [
    "np.linspace(0, 1, 5)"
   ]
  },
  {
   "cell_type": "code",
   "execution_count": 21,
   "metadata": {
    "ExecuteTime": {
     "end_time": "2019-12-02T16:14:12.581250Z",
     "start_time": "2019-12-02T16:14:12.463720Z"
    }
   },
   "outputs": [
    {
     "data": {
      "image/png": "[encoded data removed]",
      "text/plain": [
       "<Figure size 432x288 with 1 Axes>"
      ]
     },
     "metadata": {
      "needs_background": "light"
     },
     "output_type": "display_data"
    }
   ],
   "source": [
    "import matplotlib.pyplot as plt # 시각화를 위한 라이브러리 호출\n",
    "plt.plot(np.linspace(0, 1, 5), 'o')\n",
    "plt.show()"
   ]
  },
  {
   "cell_type": "markdown",
   "metadata": {},
   "source": [
    "#### np.arange\n",
    "\n",
    "> np.arange([start,] stop[, step,], dtype=None)\n",
    "\n",
    "- start부터 stop 미만까지 step 간격으로 데이터 생성한 후 배열을 만듦\n",
    "- 범위내에서 간격을 기준 균등 간격의 배열\n",
    "- 요소의 객수가 아닌 데이터의 간격을 기준으로 배열 생성"
   ]
  },
  {
   "cell_type": "code",
   "execution_count": 22,
   "metadata": {
    "ExecuteTime": {
     "end_time": "2019-12-02T16:15:04.166788Z",
     "start_time": "2019-12-02T16:15:04.160979Z"
    }
   },
   "outputs": [
    {
     "data": {
      "text/plain": [
       "array([0., 2., 4., 6., 8.])"
      ]
     },
     "execution_count": 22,
     "metadata": {},
     "output_type": "execute_result"
    }
   ],
   "source": [
    "np.arange(0, 10, 2, np.float)"
   ]
  },
  {
   "cell_type": "code",
   "execution_count": 23,
   "metadata": {
    "ExecuteTime": {
     "end_time": "2019-12-02T16:15:20.791817Z",
     "start_time": "2019-12-02T16:15:20.672870Z"
    }
   },
   "outputs": [
    {
     "data": {
      "image/png": "[encoded data removed]",
      "text/plain": [
       "<Figure size 432x288 with 1 Axes>"
      ]
     },
     "metadata": {
      "needs_background": "light"
     },
     "output_type": "display_data"
    }
   ],
   "source": [
    "plt.plot(np.arange(0, 10, 2, np.float), 'o')\n",
    "plt.show()"
   ]
  },
  {
   "cell_type": "markdown",
   "metadata": {},
   "source": [
    "#### np.logspace\n",
    "\n",
    "> np.logspace(start, stop, num=50, endpoint=True, base=10.0, dtype=None)\n",
    "\n",
    "- 로그 스케일의 linspace 함수\n",
    "- 로그 스케일로 지정된 범위에서 num 개수만큼 균등 간격으로 데이터 생성한 후 배열 만듦"
   ]
  },
  {
   "cell_type": "code",
   "execution_count": 24,
   "metadata": {
    "ExecuteTime": {
     "end_time": "2019-12-02T16:16:07.015600Z",
     "start_time": "2019-12-02T16:16:07.008930Z"
    }
   },
   "outputs": [
    {
     "data": {
      "text/plain": [
       "array([ 1.25892541,  1.40400425,  1.565802  ,  1.74624535,  1.94748304,\n",
       "        2.1719114 ,  2.42220294,  2.70133812,  3.0126409 ,  3.35981829,\n",
       "        3.74700446,  4.17881006,  4.66037703,  5.19743987,  5.79639395,\n",
       "        6.46437163,  7.2093272 ,  8.04013161,  8.9666781 , 10.        ])"
      ]
     },
     "execution_count": 24,
     "metadata": {},
     "output_type": "execute_result"
    }
   ],
   "source": [
    "np.logspace(0.1, 1, 20, endpoint=True)"
   ]
  },
  {
   "cell_type": "code",
   "execution_count": 25,
   "metadata": {
    "ExecuteTime": {
     "end_time": "2019-12-02T16:16:23.542184Z",
     "start_time": "2019-12-02T16:16:23.437591Z"
    }
   },
   "outputs": [
    {
     "data": {
      "image/png": "[encoded data removed]",
      "text/plain": [
       "<Figure size 432x288 with 1 Axes>"
      ]
     },
     "metadata": {
      "needs_background": "light"
     },
     "output_type": "display_data"
    }
   ],
   "source": [
    "plt.plot(np.logspace(0.1, 1, 20, endpoint=True), 'o')\n",
    "plt.show()"
   ]
  },
  {
   "cell_type": "markdown",
   "metadata": {},
   "source": [
    "### 난수 기반 배열 생성"
   ]
  },
  {
   "cell_type": "markdown",
   "metadata": {},
   "source": [
    "NumPy는 `난수 발생 및 배열 생성을 생성하는 numpy.random 모듈을 제공`합니다. 이 절에서는 이 모듈의 함수 사용법을 소개합니다. numpy.random 모듈은 다음과 같은 함수를 제공합니다.\n",
    "\n",
    "- np.random.seed\n",
    "- np.random.normal\n",
    "- np.random.rand\n",
    "- np.random.randn\n",
    "- np.random.randint\n",
    "- np.random.random"
   ]
  },
  {
   "cell_type": "markdown",
   "metadata": {},
   "source": [
    "#### np.random.seed\n",
    "\n",
    "무작위 수를 만드는 난수는 특정 시작 숫자로부터 난수처럼 보이는 수열을 만드는 알고리즘의 결과물입니다. 즉, random 모듈의 함수는 실행할 때 마다 무작위 수를 반환합니다. 따라서 `시작점을 설정함으로써 난수 발생을 재연`할 수 있습니다. 난수의 시작점을 설정하는 함수가 np.random.seed 입니다. 이 수를 고정시키면 더이상 어디서나 같은 난수가 발생됩니다"
   ]
  },
  {
   "cell_type": "code",
   "execution_count": 44,
   "metadata": {
    "ExecuteTime": {
     "end_time": "2019-12-02T16:28:03.427991Z",
     "start_time": "2019-12-02T16:28:03.423343Z"
    }
   },
   "outputs": [],
   "source": [
    "# seed값을 고정\n",
    "np.random.seed(100)"
   ]
  },
  {
   "cell_type": "markdown",
   "metadata": {},
   "source": [
    "#### np.random.normal\n",
    "\n",
    "> np.random.normal\n",
    "\n",
    "- normal(loc=0.0, scale=1.0, size=None)\n",
    "- **정규 분포 확률** 밀도에서 표본 추출\n",
    "- loc: 정규 분포의 평균\n",
    "- scale: 표준편차\n",
    "- 생성한 난수는 정규 분포의 형상"
   ]
  },
  {
   "cell_type": "code",
   "execution_count": 45,
   "metadata": {
    "ExecuteTime": {
     "end_time": "2019-12-02T16:28:05.708092Z",
     "start_time": "2019-12-02T16:28:05.702134Z"
    }
   },
   "outputs": [
    {
     "data": {
      "text/plain": [
       "array([[0.25023453, 2.3426804 , 3.1530358 ],\n",
       "       [1.74756396, 2.98132079, 2.51421884]])"
      ]
     },
     "execution_count": 45,
     "metadata": {},
     "output_type": "execute_result"
    }
   ],
   "source": [
    "np.random.normal(2, 1, (2, 3))"
   ]
  },
  {
   "cell_type": "code",
   "execution_count": 46,
   "metadata": {
    "ExecuteTime": {
     "end_time": "2019-12-02T16:28:06.070290Z",
     "start_time": "2019-12-02T16:28:05.854854Z"
    }
   },
   "outputs": [
    {
     "data": {
      "image/png": "[encoded data removed]",
      "text/plain": [
       "<Figure size 432x288 with 1 Axes>"
      ]
     },
     "metadata": {
      "needs_background": "light"
     },
     "output_type": "display_data"
    }
   ],
   "source": [
    "plt.hist(np.random.normal(2, 1, 10000), bins=100)\n",
    "plt.show()"
   ]
  },
  {
   "cell_type": "markdown",
   "metadata": {},
   "source": [
    "#### np.random.rand\n",
    "\n",
    "> numpy.random.rand(d0, d1, ..., dn)\n",
    "\n",
    "- Shape이 (d0, d1, ..., dn) 인 배열 생성 후 난수로 초기화\n",
    "- 난수: [0. 1)의 균등 분포(Uniform Distribution) 형상으로 표본 추출\n",
    "- Gaussian normal\n",
    "- 균등한 비율로 표본 추출"
   ]
  },
  {
   "cell_type": "code",
   "execution_count": 47,
   "metadata": {
    "ExecuteTime": {
     "end_time": "2019-12-02T16:28:06.178192Z",
     "start_time": "2019-12-02T16:28:06.166904Z"
    }
   },
   "outputs": [
    {
     "data": {
      "text/plain": [
       "array([[0.50382709, 0.32933849],\n",
       "       [0.47740511, 0.04176202],\n",
       "       [0.1994681 , 0.56669792]])"
      ]
     },
     "execution_count": 47,
     "metadata": {},
     "output_type": "execute_result"
    }
   ],
   "source": [
    "np.random.rand(3,2)"
   ]
  },
  {
   "cell_type": "code",
   "execution_count": 48,
   "metadata": {
    "ExecuteTime": {
     "end_time": "2019-12-02T16:28:06.456965Z",
     "start_time": "2019-12-02T16:28:06.342843Z"
    }
   },
   "outputs": [
    {
     "data": {
      "image/png": "[encoded data removed]",
      "text/plain": [
       "<Figure size 432x288 with 1 Axes>"
      ]
     },
     "metadata": {
      "needs_background": "light"
     },
     "output_type": "display_data"
    }
   ],
   "source": [
    "plt.hist(np.random.rand(10000), bins=10)\n",
    "plt.show()"
   ]
  },
  {
   "cell_type": "markdown",
   "metadata": {},
   "source": [
    "#### np.random.randn\n",
    "\n",
    "> np.random.randn(d0, d1, ..., dn)\n",
    "\n",
    "- (d0, d1, ..., dn) shape 배열 생성 후 난수로 초기화\n",
    "- 난수: **표준 정규 분포(standard normal distribution)** 에서 표본 추출"
   ]
  },
  {
   "cell_type": "code",
   "execution_count": 49,
   "metadata": {
    "ExecuteTime": {
     "end_time": "2019-12-02T16:28:06.672521Z",
     "start_time": "2019-12-02T16:28:06.667702Z"
    }
   },
   "outputs": [
    {
     "data": {
      "text/plain": [
       "array([[-1.61046596, -0.86189078,  0.52253391, -1.12269492],\n",
       "       [ 0.85529134, -0.06162638, -0.06606507,  0.44484233]])"
      ]
     },
     "execution_count": 49,
     "metadata": {},
     "output_type": "execute_result"
    }
   ],
   "source": [
    "np.random.randn(2, 4)"
   ]
  },
  {
   "cell_type": "code",
   "execution_count": 50,
   "metadata": {
    "ExecuteTime": {
     "end_time": "2019-12-02T16:28:07.081118Z",
     "start_time": "2019-12-02T16:28:06.837551Z"
    }
   },
   "outputs": [
    {
     "data": {
      "image/png": "[encoded data removed]",
      "text/plain": [
       "<Figure size 432x288 with 1 Axes>"
      ]
     },
     "metadata": {
      "needs_background": "light"
     },
     "output_type": "display_data"
    }
   ],
   "source": [
    "plt.hist(np.random.randn(10000), bins=100)\n",
    "plt.show()"
   ]
  },
  {
   "cell_type": "markdown",
   "metadata": {},
   "source": [
    "#### np.random.randint\n",
    "\n",
    "> np.random.randint(low, high=None, size=None, dtype='l')\n",
    "\n",
    "- 지정된 shape으로 배열을 만들고 low 부터 high 미만의 범위에서 정수 표본 추출\n",
    "- 균등 분포로 표본 추출"
   ]
  },
  {
   "cell_type": "code",
   "execution_count": 51,
   "metadata": {
    "ExecuteTime": {
     "end_time": "2019-12-02T16:28:07.195418Z",
     "start_time": "2019-12-02T16:28:07.184258Z"
    }
   },
   "outputs": [
    {
     "data": {
      "text/plain": [
       "array([[8, 6, 7, 5],\n",
       "       [5, 6, 5, 5]])"
      ]
     },
     "execution_count": 51,
     "metadata": {},
     "output_type": "execute_result"
    }
   ],
   "source": [
    "np.random.randint(5, 10, size=(2, 4))"
   ]
  },
  {
   "cell_type": "code",
   "execution_count": 52,
   "metadata": {
    "ExecuteTime": {
     "end_time": "2019-12-02T16:28:07.347951Z",
     "start_time": "2019-12-02T16:28:07.342358Z"
    }
   },
   "outputs": [
    {
     "data": {
      "text/plain": [
       "array([1, 1, 2, 0, 4, 0, 0, 0, 2, 0])"
      ]
     },
     "execution_count": 52,
     "metadata": {},
     "output_type": "execute_result"
    }
   ],
   "source": [
    "np.random.randint(5, size=10)"
   ]
  },
  {
   "cell_type": "code",
   "execution_count": 53,
   "metadata": {
    "ExecuteTime": {
     "end_time": "2019-12-02T16:28:07.616580Z",
     "start_time": "2019-12-02T16:28:07.501846Z"
    }
   },
   "outputs": [
    {
     "data": {
      "image/png": "[encoded data removed]",
      "text/plain": [
       "<Figure size 432x288 with 1 Axes>"
      ]
     },
     "metadata": {
      "needs_background": "light"
     },
     "output_type": "display_data"
    }
   ],
   "source": [
    "plt.hist(np.random.randint(100, size=10000), bins=10)\n",
    "plt.show()"
   ]
  },
  {
   "cell_type": "markdown",
   "metadata": {},
   "source": [
    "#### np.random.random\n",
    "\n",
    "> np.random.random(size=None)\n",
    "\n",
    "- 난수: [0., 1.)의 균등 분포(Uniform Distribution)에서 표본 추출"
   ]
  },
  {
   "cell_type": "code",
   "execution_count": 54,
   "metadata": {
    "ExecuteTime": {
     "end_time": "2019-12-02T16:28:07.848997Z",
     "start_time": "2019-12-02T16:28:07.838203Z"
    }
   },
   "outputs": [
    {
     "data": {
      "text/plain": [
       "array([[0.25544368, 0.44530194, 0.24865277, 0.55761098],\n",
       "       [0.57156207, 0.91244312, 0.79699733, 0.29869597]])"
      ]
     },
     "execution_count": 54,
     "metadata": {},
     "output_type": "execute_result"
    }
   ],
   "source": [
    "np.random.random((2, 4))"
   ]
  },
  {
   "cell_type": "code",
   "execution_count": 55,
   "metadata": {
    "ExecuteTime": {
     "end_time": "2019-12-02T16:28:08.147691Z",
     "start_time": "2019-12-02T16:28:07.998719Z"
    }
   },
   "outputs": [
    {
     "data": {
      "image/png": "[encoded data removed]",
      "text/plain": [
       "<Figure size 432x288 with 1 Axes>"
      ]
     },
     "metadata": {
      "needs_background": "light"
     },
     "output_type": "display_data"
    }
   ],
   "source": [
    "plt.hist(np.random.random(10000), bins=10)\n",
    "plt.show()"
   ]
  },
  {
   "cell_type": "markdown",
   "metadata": {},
   "source": [
    "---\n",
    "\n",
    "## NumPy 배열 상태 검사\n",
    "\n",
    "NumPy는 배열의 상태를 검사하는 다음과 같은 방법을 제공합니다.\n",
    "\n",
    "|배열 속성 검사 항목|배열 속성 확인 방법|예시|\t결과|\n",
    "|---|---|---|---|\n",
    "|배열 shape|\tnp.ndarray.shape 속성|\tarr.shape|\t(5, 2, 3)|\n",
    "|배열 길이|\t일차원의 배열 길이 확인|\tlen(arr)\t|5|\n",
    "|배열 차원|\tnp.ndarray.ndim 속성\t|arr.ndim\t|3|\n",
    "|배열 요소 수|\tnp.ndarray.size 속성|\tarr.size\t|30|\n",
    "|배열 타입|\tnp.ndarray.dtype 속성|\tarr.dtype\t|dtype(‘float64’)|\n",
    "|배열 타입 명\t|np.ndarray.dtype.name 속성|\tarr.dtype.name|\tfloat64|\n",
    "|배열 타입 변환|\tnp.ndarray.astype 함수|\tarr.astype(np.int)|\t배열 타입 변환|"
   ]
  },
  {
   "cell_type": "markdown",
   "metadata": {},
   "source": [
    "NumPy 배열 객체는 다음과 같은 방식으로 속성을 확인할 수 있습니다."
   ]
  },
  {
   "cell_type": "code",
   "execution_count": 61,
   "metadata": {
    "ExecuteTime": {
     "end_time": "2019-12-02T16:57:53.201711Z",
     "start_time": "2019-12-02T16:57:53.195789Z"
    }
   },
   "outputs": [
    {
     "data": {
      "text/plain": [
       "array([[[0.49731254, 0.43035809, 0.29662758],\n",
       "        [0.46913336, 0.26116345, 0.79803539]],\n",
       "\n",
       "       [[0.18476853, 0.63433998, 0.53290983],\n",
       "        [0.50557266, 0.31618668, 0.74499973]],\n",
       "\n",
       "       [[0.49997045, 0.49560912, 0.85603002],\n",
       "        [0.60104007, 0.20106902, 0.15935708]],\n",
       "\n",
       "       [[0.11720648, 0.3432912 , 0.22247789],\n",
       "        [0.17960719, 0.0612845 , 0.77977748]],\n",
       "\n",
       "       [[0.38887725, 0.21208616, 0.10489602],\n",
       "        [0.32535927, 0.92019936, 0.2096582 ]]])"
      ]
     },
     "execution_count": 61,
     "metadata": {},
     "output_type": "execute_result"
    }
   ],
   "source": [
    "arr = np.random.random((5,2,3))\n",
    "arr"
   ]
  },
  {
   "cell_type": "code",
   "execution_count": 62,
   "metadata": {
    "ExecuteTime": {
     "end_time": "2019-12-02T16:57:53.871882Z",
     "start_time": "2019-12-02T16:57:53.866906Z"
    }
   },
   "outputs": [
    {
     "data": {
      "text/plain": [
       "numpy.ndarray"
      ]
     },
     "execution_count": 62,
     "metadata": {},
     "output_type": "execute_result"
    }
   ],
   "source": [
    "#배열 타입 조회\n",
    "type(arr)"
   ]
  },
  {
   "cell_type": "code",
   "execution_count": 63,
   "metadata": {
    "ExecuteTime": {
     "end_time": "2019-12-02T16:57:54.203870Z",
     "start_time": "2019-12-02T16:57:54.195351Z"
    }
   },
   "outputs": [
    {
     "data": {
      "text/plain": [
       "(5, 2, 3)"
      ]
     },
     "execution_count": 63,
     "metadata": {},
     "output_type": "execute_result"
    }
   ],
   "source": [
    "# 배열의 shape 확인\n",
    "arr.shape"
   ]
  },
  {
   "cell_type": "code",
   "execution_count": 64,
   "metadata": {
    "ExecuteTime": {
     "end_time": "2019-12-02T16:57:54.481857Z",
     "start_time": "2019-12-02T16:57:54.476790Z"
    }
   },
   "outputs": [
    {
     "data": {
      "text/plain": [
       "5"
      ]
     },
     "execution_count": 64,
     "metadata": {},
     "output_type": "execute_result"
    }
   ],
   "source": [
    "# 배열의 길이\n",
    "len(arr)"
   ]
  },
  {
   "cell_type": "code",
   "execution_count": 65,
   "metadata": {
    "ExecuteTime": {
     "end_time": "2019-12-02T16:57:54.731447Z",
     "start_time": "2019-12-02T16:57:54.722858Z"
    }
   },
   "outputs": [
    {
     "data": {
      "text/plain": [
       "3"
      ]
     },
     "execution_count": 65,
     "metadata": {},
     "output_type": "execute_result"
    }
   ],
   "source": [
    "# 배열의 차원 수 \n",
    "arr.ndim"
   ]
  },
  {
   "cell_type": "code",
   "execution_count": 66,
   "metadata": {
    "ExecuteTime": {
     "end_time": "2019-12-02T16:57:59.293040Z",
     "start_time": "2019-12-02T16:57:59.287797Z"
    }
   },
   "outputs": [
    {
     "data": {
      "text/plain": [
       "30"
      ]
     },
     "execution_count": 66,
     "metadata": {},
     "output_type": "execute_result"
    }
   ],
   "source": [
    "# 배열의 요소 수: shape(k, m, n) ==> k*m*n\n",
    "arr.size"
   ]
  },
  {
   "cell_type": "code",
   "execution_count": 67,
   "metadata": {
    "ExecuteTime": {
     "end_time": "2019-12-02T16:58:03.100015Z",
     "start_time": "2019-12-02T16:58:03.094605Z"
    }
   },
   "outputs": [
    {
     "data": {
      "text/plain": [
       "dtype('float64')"
      ]
     },
     "execution_count": 67,
     "metadata": {},
     "output_type": "execute_result"
    }
   ],
   "source": [
    "# 배열 타입 확인\n",
    "arr.dtype"
   ]
  },
  {
   "cell_type": "code",
   "execution_count": 68,
   "metadata": {
    "ExecuteTime": {
     "end_time": "2019-12-02T16:58:08.188437Z",
     "start_time": "2019-12-02T16:58:08.183016Z"
    }
   },
   "outputs": [
    {
     "data": {
      "text/plain": [
       "'float64'"
      ]
     },
     "execution_count": 68,
     "metadata": {},
     "output_type": "execute_result"
    }
   ],
   "source": [
    "# 배열 타입명 \n",
    "arr.dtype.name"
   ]
  },
  {
   "cell_type": "code",
   "execution_count": 69,
   "metadata": {
    "ExecuteTime": {
     "end_time": "2019-12-02T16:58:14.269665Z",
     "start_time": "2019-12-02T16:58:14.263650Z"
    }
   },
   "outputs": [
    {
     "data": {
      "text/plain": [
       "array([[[0, 0, 0],\n",
       "        [0, 0, 0]],\n",
       "\n",
       "       [[0, 0, 0],\n",
       "        [0, 0, 0]],\n",
       "\n",
       "       [[0, 0, 0],\n",
       "        [0, 0, 0]],\n",
       "\n",
       "       [[0, 0, 0],\n",
       "        [0, 0, 0]],\n",
       "\n",
       "       [[0, 0, 0],\n",
       "        [0, 0, 0]]])"
      ]
     },
     "execution_count": 69,
     "metadata": {},
     "output_type": "execute_result"
    }
   ],
   "source": [
    "# 배열 요소를 int로 변환\n",
    "# 요소의 실제 값이 변환되는 것이 아님\n",
    "# View의 출력 타입과 연산을 변환하는 것\n",
    "arr.astype(np.int)"
   ]
  },
  {
   "cell_type": "code",
   "execution_count": 70,
   "metadata": {
    "ExecuteTime": {
     "end_time": "2019-12-02T16:58:22.041356Z",
     "start_time": "2019-12-02T16:58:22.035459Z"
    }
   },
   "outputs": [
    {
     "data": {
      "text/plain": [
       "array([[[0.49731254, 0.43035809, 0.29662758],\n",
       "        [0.46913336, 0.26116345, 0.79803539]],\n",
       "\n",
       "       [[0.18476853, 0.63433998, 0.53290983],\n",
       "        [0.50557266, 0.31618668, 0.74499973]],\n",
       "\n",
       "       [[0.49997045, 0.49560912, 0.85603002],\n",
       "        [0.60104007, 0.20106902, 0.15935708]],\n",
       "\n",
       "       [[0.11720648, 0.3432912 , 0.22247789],\n",
       "        [0.17960719, 0.0612845 , 0.77977748]],\n",
       "\n",
       "       [[0.38887725, 0.21208616, 0.10489602],\n",
       "        [0.32535927, 0.92019936, 0.2096582 ]]])"
      ]
     },
     "execution_count": 70,
     "metadata": {},
     "output_type": "execute_result"
    }
   ],
   "source": [
    "# np.float으로 타입을 다시 변환하면 np.int 변환 이전 값으로 모든 원소 값이 복원됨\n",
    "arr.astype(np.float)"
   ]
  },
  {
   "cell_type": "markdown",
   "metadata": {},
   "source": [
    "---\n",
    "\n",
    "## Reference"
   ]
  },
  {
   "cell_type": "markdown",
   "metadata": {},
   "source": [
    "- https://www.intel.com\n",
    "- https://numpy.org/\n",
    "- https://github.com/rougier/numpy-tutorial\n",
    "- https://github.com/rougier/numpy-100\n",
    "- http://aikorea.org/cs231n/python-numpy-tutorial/\n",
    "- http://riseshia.github.io/2017/01/30/numpy-tutorial-with-code.html\n",
    "- https://datascienceschool.net/view-notebook/24e43f9df9ec4abab15e32e68e982cc1/\n",
    "- http://taewan.kim/post/numpy_cheat_sheet/"
   ]
  }
 ],
 "metadata": {
  "kernelspec": {
   "display_name": "Python [conda env:keras] *",
   "language": "python",
   "name": "conda-env-keras-py"
  },
  "language_info": {
   "codemirror_mode": {
    "name": "ipython",
    "version": 3
   },
   "file_extension": ".py",
   "mimetype": "text/x-python",
   "name": "python",
   "nbconvert_exporter": "python",
   "pygments_lexer": "ipython3",
   "version": "3.6.9"
  },
  "toc": {
   "base_numbering": 1,
   "nav_menu": {},
   "number_sections": true,
   "sideBar": true,
   "skip_h1_title": true,
   "title_cell": "강의목차",
   "title_sidebar": "Contents",
   "toc_cell": true,
   "toc_position": {
    "height": "calc(100% - 180px)",
    "left": "10px",
    "top": "150px",
    "width": "335.797px"
   },
   "toc_section_display": true,
   "toc_window_display": true
  }
 },
 "nbformat": 4,
 "nbformat_minor": 2
}
