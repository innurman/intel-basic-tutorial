{
 "cells": [
  {
   "cell_type": "markdown",
   "metadata": {},
   "source": [
    "<img src='./img/intel-logo.jpg' width=50%, Fig1> \n",
    "\n",
    "# NumPy Basic Lecture02 - NumPy I/O 및 배열연산\n",
    "\n",
    "<img src='./img/numpy-logo.jpg' width=50%>\n",
    "\n",
    "<div align='right'>성  민  석 (Minsuk  Sung)</div>\n",
    "<div align='right'>류  회  성 (Hoesung Ryu)</div>"
   ]
  },
  {
   "cell_type": "markdown",
   "metadata": {
    "toc": true
   },
   "source": [
    "<h1>강의목차<span class=\"tocSkip\"></span></h1>\n",
    "<div class=\"toc\"><ul class=\"toc-item\"><li><span><a href=\"#NumPy-입출력\" data-toc-modified-id=\"NumPy-입출력-1\"><span class=\"toc-item-num\">1&nbsp;&nbsp;</span>NumPy 입출력</a></span><ul class=\"toc-item\"><li><span><a href=\"#np.save\" data-toc-modified-id=\"np.save-1.1\"><span class=\"toc-item-num\">1.1&nbsp;&nbsp;</span>np.save</a></span></li><li><span><a href=\"#np.savez\" data-toc-modified-id=\"np.savez-1.2\"><span class=\"toc-item-num\">1.2&nbsp;&nbsp;</span>np.savez</a></span></li><li><span><a href=\"#np.load\" data-toc-modified-id=\"np.load-1.3\"><span class=\"toc-item-num\">1.3&nbsp;&nbsp;</span>np.load</a></span></li><li><span><a href=\"#np.loadtxt\" data-toc-modified-id=\"np.loadtxt-1.4\"><span class=\"toc-item-num\">1.4&nbsp;&nbsp;</span>np.loadtxt</a></span></li><li><span><a href=\"#np.savetxt\" data-toc-modified-id=\"np.savetxt-1.5\"><span class=\"toc-item-num\">1.5&nbsp;&nbsp;</span>np.savetxt</a></span></li></ul></li><li><span><a href=\"#NumPy-배열연산\" data-toc-modified-id=\"NumPy-배열연산-2\"><span class=\"toc-item-num\">2&nbsp;&nbsp;</span>NumPy 배열연산</a></span><ul class=\"toc-item\"><li><span><a href=\"#배열-일반-연산\" data-toc-modified-id=\"배열-일반-연산-2.1\"><span class=\"toc-item-num\">2.1&nbsp;&nbsp;</span>배열 일반 연산</a></span><ul class=\"toc-item\"><li><span><a href=\"#산술-연산\" data-toc-modified-id=\"산술-연산-2.1.1\"><span class=\"toc-item-num\">2.1.1&nbsp;&nbsp;</span>산술 연산</a></span><ul class=\"toc-item\"><li><span><a href=\"#덧셈\" data-toc-modified-id=\"덧셈-2.1.1.1\"><span class=\"toc-item-num\">2.1.1.1&nbsp;&nbsp;</span>덧셈</a></span></li><li><span><a href=\"#뺄셈\" data-toc-modified-id=\"뺄셈-2.1.1.2\"><span class=\"toc-item-num\">2.1.1.2&nbsp;&nbsp;</span>뺄셈</a></span></li><li><span><a href=\"#곱셈\" data-toc-modified-id=\"곱셈-2.1.1.3\"><span class=\"toc-item-num\">2.1.1.3&nbsp;&nbsp;</span>곱셈</a></span></li><li><span><a href=\"#나눗셈\" data-toc-modified-id=\"나눗셈-2.1.1.4\"><span class=\"toc-item-num\">2.1.1.4&nbsp;&nbsp;</span>나눗셈</a></span></li><li><span><a href=\"#지수\" data-toc-modified-id=\"지수-2.1.1.5\"><span class=\"toc-item-num\">2.1.1.5&nbsp;&nbsp;</span>지수</a></span></li><li><span><a href=\"#로그\" data-toc-modified-id=\"로그-2.1.1.6\"><span class=\"toc-item-num\">2.1.1.6&nbsp;&nbsp;</span>로그</a></span></li><li><span><a href=\"#제곱근\" data-toc-modified-id=\"제곱근-2.1.1.7\"><span class=\"toc-item-num\">2.1.1.7&nbsp;&nbsp;</span>제곱근</a></span></li><li><span><a href=\"#삼각함수-sin\" data-toc-modified-id=\"삼각함수-sin-2.1.1.8\"><span class=\"toc-item-num\">2.1.1.8&nbsp;&nbsp;</span>삼각함수 sin</a></span></li><li><span><a href=\"#삼각함수-cos\" data-toc-modified-id=\"삼각함수-cos-2.1.1.9\"><span class=\"toc-item-num\">2.1.1.9&nbsp;&nbsp;</span>삼각함수 cos</a></span></li><li><span><a href=\"#삼각함수-tan\" data-toc-modified-id=\"삼각함수-tan-2.1.1.10\"><span class=\"toc-item-num\">2.1.1.10&nbsp;&nbsp;</span>삼각함수 tan</a></span></li><li><span><a href=\"#내적-(dot-product)\" data-toc-modified-id=\"내적-(dot-product)-2.1.1.11\"><span class=\"toc-item-num\">2.1.1.11&nbsp;&nbsp;</span>내적 (dot product)</a></span></li></ul></li><li><span><a href=\"#비교-연산\" data-toc-modified-id=\"비교-연산-2.1.2\"><span class=\"toc-item-num\">2.1.2&nbsp;&nbsp;</span>비교 연산</a></span><ul class=\"toc-item\"><li><span><a href=\"#배열의-요소별-비교-(Element-wise)\" data-toc-modified-id=\"배열의-요소별-비교-(Element-wise)-2.1.2.1\"><span class=\"toc-item-num\">2.1.2.1&nbsp;&nbsp;</span>배열의 요소별 비교 (Element-wise)</a></span></li><li><span><a href=\"#배열-비교-(Array-wise)\" data-toc-modified-id=\"배열-비교-(Array-wise)-2.1.2.2\"><span class=\"toc-item-num\">2.1.2.2&nbsp;&nbsp;</span>배열 비교 (Array-wise)</a></span></li></ul></li><li><span><a href=\"#집계-연산\" data-toc-modified-id=\"집계-연산-2.1.3\"><span class=\"toc-item-num\">2.1.3&nbsp;&nbsp;</span>집계 연산</a></span><ul class=\"toc-item\"><li><span><a href=\"#np.sum\" data-toc-modified-id=\"np.sum-2.1.3.1\"><span class=\"toc-item-num\">2.1.3.1&nbsp;&nbsp;</span>np.sum</a></span></li><li><span><a href=\"#np.min\" data-toc-modified-id=\"np.min-2.1.3.2\"><span class=\"toc-item-num\">2.1.3.2&nbsp;&nbsp;</span>np.min</a></span></li><li><span><a href=\"#np.max\" data-toc-modified-id=\"np.max-2.1.3.3\"><span class=\"toc-item-num\">2.1.3.3&nbsp;&nbsp;</span>np.max</a></span></li><li><span><a href=\"#np.cumsum\" data-toc-modified-id=\"np.cumsum-2.1.3.4\"><span class=\"toc-item-num\">2.1.3.4&nbsp;&nbsp;</span>np.cumsum</a></span></li><li><span><a href=\"#np.mean\" data-toc-modified-id=\"np.mean-2.1.3.5\"><span class=\"toc-item-num\">2.1.3.5&nbsp;&nbsp;</span>np.mean</a></span></li><li><span><a href=\"#np.median\" data-toc-modified-id=\"np.median-2.1.3.6\"><span class=\"toc-item-num\">2.1.3.6&nbsp;&nbsp;</span>np.median</a></span></li><li><span><a href=\"#np.corrcoef\" data-toc-modified-id=\"np.corrcoef-2.1.3.7\"><span class=\"toc-item-num\">2.1.3.7&nbsp;&nbsp;</span>np.corrcoef</a></span></li><li><span><a href=\"#np.std\" data-toc-modified-id=\"np.std-2.1.3.8\"><span class=\"toc-item-num\">2.1.3.8&nbsp;&nbsp;</span>np.std</a></span></li></ul></li></ul></li><li><span><a href=\"#브로드캐스팅\" data-toc-modified-id=\"브로드캐스팅-2.2\"><span class=\"toc-item-num\">2.2&nbsp;&nbsp;</span>브로드캐스팅</a></span></li><li><span><a href=\"#백터연산\" data-toc-modified-id=\"백터연산-2.3\"><span class=\"toc-item-num\">2.3&nbsp;&nbsp;</span>백터연산</a></span></li></ul></li><li><span><a href=\"#NumPy-배열복사\" data-toc-modified-id=\"NumPy-배열복사-3\"><span class=\"toc-item-num\">3&nbsp;&nbsp;</span>NumPy 배열복사</a></span></li><li><span><a href=\"#NumPy-배열-정렬\" data-toc-modified-id=\"NumPy-배열-정렬-4\"><span class=\"toc-item-num\">4&nbsp;&nbsp;</span>NumPy 배열 정렬</a></span></li><li><span><a href=\"#Reference\" data-toc-modified-id=\"Reference-5\"><span class=\"toc-item-num\">5&nbsp;&nbsp;</span>Reference</a></span></li></ul></div>"
   ]
  },
  {
   "cell_type": "code",
   "execution_count": 1,
   "metadata": {
    "ExecuteTime": {
     "end_time": "2019-12-02T17:29:47.930250Z",
     "start_time": "2019-12-02T17:29:47.862662Z"
    }
   },
   "outputs": [],
   "source": [
    "import numpy as np"
   ]
  },
  {
   "cell_type": "code",
   "execution_count": 2,
   "metadata": {
    "ExecuteTime": {
     "end_time": "2019-12-02T17:29:47.933470Z",
     "start_time": "2019-12-02T17:29:47.931458Z"
    }
   },
   "outputs": [],
   "source": [
    "np.random.seed(1234) # 재현성을 위하여"
   ]
  },
  {
   "cell_type": "markdown",
   "metadata": {},
   "source": [
    "---\n",
    "\n",
    "## NumPy 입출력\n",
    "\n",
    "NumPy는 배열 객체를 바이너리 파일 혹은 텍스트 파일에 저장하고 로딩하는 기능을 제공합니다.\n",
    "\n",
    "|함수명|기능|파일포맷|\n",
    "|---|---|---|\n",
    "|np.`save`()|\tNumPy 배열 객체 1개를 파일에 저장|\t바이너리\n",
    "|np.`savez`()|\tNumPy 배열 객체 복수개를 파일에 저장|\t바이너리\n",
    "|np.`load`()|\tNumPy 배열 저장 파일로 부터 객체 로딩|\t바이너리\n",
    "|np.`loadtxt`()|\t텍스트 파일로 부터 배열 로딩|\t텍스트\n",
    "|np.`savetxt`()|\t텍스트 파일에 NumPy 배열 객체 저장|\t텍스트"
   ]
  },
  {
   "cell_type": "code",
   "execution_count": 3,
   "metadata": {
    "ExecuteTime": {
     "end_time": "2019-12-02T17:29:47.941535Z",
     "start_time": "2019-12-02T17:29:47.934779Z"
    }
   },
   "outputs": [
    {
     "data": {
      "text/plain": [
       "array([[3, 6, 5],\n",
       "       [4, 8, 9]])"
      ]
     },
     "execution_count": 3,
     "metadata": {},
     "output_type": "execute_result"
    }
   ],
   "source": [
    "a = np.random.randint(0, 10, (2, 3))\n",
    "a"
   ]
  },
  {
   "cell_type": "code",
   "execution_count": 4,
   "metadata": {
    "ExecuteTime": {
     "end_time": "2019-12-02T17:29:47.945763Z",
     "start_time": "2019-12-02T17:29:47.942648Z"
    }
   },
   "outputs": [
    {
     "data": {
      "text/plain": [
       "array([[1, 7, 9],\n",
       "       [6, 8, 0]])"
      ]
     },
     "execution_count": 4,
     "metadata": {},
     "output_type": "execute_result"
    }
   ],
   "source": [
    "b = np.random.randint(0, 10, (2, 3))\n",
    "b"
   ]
  },
  {
   "cell_type": "markdown",
   "metadata": {},
   "source": [
    "### np.save\n",
    "\n",
    "> np.save : 배열 객체 저장\n",
    "\n",
    "- np.save 함수를 이용하여 배열 객체를 파일로 저장할 수 있습니다.\n",
    "- np.save: 1개 배열 저장, 확장자: npy\n",
    "\n",
    "배열 저장 파일은 바이너리 형태입니다."
   ]
  },
  {
   "cell_type": "code",
   "execution_count": 5,
   "metadata": {
    "ExecuteTime": {
     "end_time": "2019-12-02T17:29:47.948967Z",
     "start_time": "2019-12-02T17:29:47.946825Z"
    }
   },
   "outputs": [],
   "source": [
    "# 배열 하나 저장\n",
    "np.save(\"./data/array_a\", a)"
   ]
  },
  {
   "cell_type": "code",
   "execution_count": 6,
   "metadata": {
    "ExecuteTime": {
     "end_time": "2019-12-02T17:29:48.061545Z",
     "start_time": "2019-12-02T17:29:47.949956Z"
    }
   },
   "outputs": [
    {
     "name": "stdout",
     "output_type": "stream",
     "text": [
      "-rw-rw-r-- 1 minsuk minsuk 176 Dec  3 02:29 data/array_a.npy\r\n",
      "-rw-rw-r-- 1 minsuk minsuk 602 Dec  3 01:43 data/array_ab.npz\r\n"
     ]
    }
   ],
   "source": [
    "!ls -al data/array_a*"
   ]
  },
  {
   "cell_type": "markdown",
   "metadata": {},
   "source": [
    "### np.savez\n",
    "\n",
    "> np.savez : 배열 객체 저장\n",
    "\n",
    "- np.savez: 복수 배열을 1개의 파일에 저장, 확장자: npz\n",
    "\n",
    "배열 저장 파일은 바이너리 형태입니다."
   ]
  },
  {
   "cell_type": "code",
   "execution_count": 7,
   "metadata": {
    "ExecuteTime": {
     "end_time": "2019-12-02T17:29:48.079009Z",
     "start_time": "2019-12-02T17:29:48.067372Z"
    }
   },
   "outputs": [],
   "source": [
    "# 배열 2개 저장\n",
    "np.savez(\"./data/array_ab\", a, b)"
   ]
  },
  {
   "cell_type": "code",
   "execution_count": 8,
   "metadata": {
    "ExecuteTime": {
     "end_time": "2019-12-02T17:29:48.191708Z",
     "start_time": "2019-12-02T17:29:48.080170Z"
    }
   },
   "outputs": [
    {
     "name": "stdout",
     "output_type": "stream",
     "text": [
      "-rw-rw-r-- 1 minsuk minsuk 602 Dec  3 02:29 data/array_ab.npz\r\n"
     ]
    }
   ],
   "source": [
    "!ls -al data/array_ab*"
   ]
  },
  {
   "cell_type": "markdown",
   "metadata": {},
   "source": [
    "### np.load\n",
    "\n",
    "> np.load : npy와 npz 파일을 읽어옴"
   ]
  },
  {
   "cell_type": "code",
   "execution_count": 9,
   "metadata": {
    "ExecuteTime": {
     "end_time": "2019-12-02T17:29:48.213328Z",
     "start_time": "2019-12-02T17:29:48.200457Z"
    }
   },
   "outputs": [
    {
     "data": {
      "text/plain": [
       "array([[3, 6, 5],\n",
       "       [4, 8, 9]])"
      ]
     },
     "execution_count": 9,
     "metadata": {},
     "output_type": "execute_result"
    }
   ],
   "source": [
    "np.load(\"./data/array_a.npy\")"
   ]
  },
  {
   "cell_type": "code",
   "execution_count": 10,
   "metadata": {
    "ExecuteTime": {
     "end_time": "2019-12-02T17:29:48.231929Z",
     "start_time": "2019-12-02T17:29:48.219307Z"
    }
   },
   "outputs": [
    {
     "data": {
      "text/plain": [
       "['arr_0', 'arr_1']"
      ]
     },
     "execution_count": 10,
     "metadata": {},
     "output_type": "execute_result"
    }
   ],
   "source": [
    "npzfiles = np.load(\"./data/array_ab.npz\")\n",
    "npzfiles.files"
   ]
  },
  {
   "cell_type": "code",
   "execution_count": 11,
   "metadata": {
    "ExecuteTime": {
     "end_time": "2019-12-02T17:29:48.247489Z",
     "start_time": "2019-12-02T17:29:48.236445Z"
    }
   },
   "outputs": [
    {
     "data": {
      "text/plain": [
       "array([[3, 6, 5],\n",
       "       [4, 8, 9]])"
      ]
     },
     "execution_count": 11,
     "metadata": {},
     "output_type": "execute_result"
    }
   ],
   "source": [
    "npzfiles['arr_0']"
   ]
  },
  {
   "cell_type": "code",
   "execution_count": 12,
   "metadata": {
    "ExecuteTime": {
     "end_time": "2019-12-02T17:29:48.261782Z",
     "start_time": "2019-12-02T17:29:48.252012Z"
    }
   },
   "outputs": [
    {
     "data": {
      "text/plain": [
       "array([[1, 7, 9],\n",
       "       [6, 8, 0]])"
      ]
     },
     "execution_count": 12,
     "metadata": {},
     "output_type": "execute_result"
    }
   ],
   "source": [
    "npzfiles['arr_1']"
   ]
  },
  {
   "cell_type": "markdown",
   "metadata": {},
   "source": [
    "### np.loadtxt\n",
    "\n",
    "> np.loadtxt(fname, dtype=<class 'float'>, comments='#', delimiter=None, converters=None, skiprows=0, usecols=None, unpack=False, ndmin=0)\n",
    "- fname: 파일명\n",
    "- dtype: 데이터 타입\n",
    "- comments: comment 시작 부호\n",
    "- delimiter: 구분자\n",
    "- skiprows: 제외 라인 수(header 제거용)\n",
    "\n",
    "텍스트 파일을 np.loadtxt 로 로딩 할 수 있습니다."
   ]
  },
  {
   "cell_type": "code",
   "execution_count": 13,
   "metadata": {
    "ExecuteTime": {
     "end_time": "2019-12-02T17:29:48.380022Z",
     "start_time": "2019-12-02T17:29:48.264588Z"
    }
   },
   "outputs": [
    {
     "name": "stdout",
     "output_type": "stream",
     "text": [
      "-rw-rw-r-- 1 minsuk minsuk 11 Dec  3 01:50 ./data/sample.txt\r\n"
     ]
    }
   ],
   "source": [
    "# 데이터 파일 위치\n",
    "!ls -al ./data/sample.txt"
   ]
  },
  {
   "cell_type": "code",
   "execution_count": 14,
   "metadata": {
    "ExecuteTime": {
     "end_time": "2019-12-02T17:29:48.513771Z",
     "start_time": "2019-12-02T17:29:48.385315Z"
    }
   },
   "outputs": [
    {
     "name": "stdout",
     "output_type": "stream",
     "text": [
      "1,2,3,4,5,6"
     ]
    }
   ],
   "source": [
    "# 데이터 파일 내용\n",
    "!cat ./data/sample.txt"
   ]
  },
  {
   "cell_type": "code",
   "execution_count": 15,
   "metadata": {
    "ExecuteTime": {
     "end_time": "2019-12-02T17:29:48.536042Z",
     "start_time": "2019-12-02T17:29:48.519282Z"
    }
   },
   "outputs": [
    {
     "data": {
      "text/plain": [
       "array([1, 2, 3, 4, 5, 6])"
      ]
     },
     "execution_count": 15,
     "metadata": {},
     "output_type": "execute_result"
    }
   ],
   "source": [
    "np.loadtxt(\"./data/sample.txt\",delimiter=',',dtype=np.int)"
   ]
  },
  {
   "cell_type": "markdown",
   "metadata": {},
   "source": [
    "### np.savetxt\n",
    "\n",
    "> np.savetxt(fname, X, fmt='%.18e', delimiter=' ', newline='\\n', header='', footer='', comments='# ')\n",
    "\n",
    "- 배열 객체 텍스트 파일로 저장\n",
    "- np.savetxt 함수를 이용하여 배열 객체를 텍스트 파일로 저장할 수 있습니다."
   ]
  },
  {
   "cell_type": "code",
   "execution_count": 16,
   "metadata": {
    "ExecuteTime": {
     "end_time": "2019-12-02T17:29:48.551725Z",
     "start_time": "2019-12-02T17:29:48.540633Z"
    }
   },
   "outputs": [
    {
     "data": {
      "text/plain": [
       "array([[0.48683344, 0.33101543, 0.80263957, 0.09825194],\n",
       "       [0.05599345, 0.44266265, 0.02214391, 0.29072855],\n",
       "       [0.24639444, 0.73828677, 0.88922613, 0.9871393 ]])"
      ]
     },
     "execution_count": 16,
     "metadata": {},
     "output_type": "execute_result"
    }
   ],
   "source": [
    "data = np.random.random((3, 4))\n",
    "data"
   ]
  },
  {
   "cell_type": "code",
   "execution_count": 17,
   "metadata": {
    "ExecuteTime": {
     "end_time": "2019-12-02T17:29:48.564458Z",
     "start_time": "2019-12-02T17:29:48.556400Z"
    }
   },
   "outputs": [],
   "source": [
    "np.savetxt(\"./data/saved_sample.csv\", data, delimiter=\",\")"
   ]
  },
  {
   "cell_type": "code",
   "execution_count": 18,
   "metadata": {
    "ExecuteTime": {
     "end_time": "2019-12-02T17:29:48.684142Z",
     "start_time": "2019-12-02T17:29:48.567875Z"
    }
   },
   "outputs": [
    {
     "name": "stdout",
     "output_type": "stream",
     "text": [
      "-rw-rw-r-- 1 minsuk minsuk 300 Dec  3 02:29 ./data/saved_sample.csv\r\n"
     ]
    }
   ],
   "source": [
    "#파일 조회\n",
    "!ls -al ./data/saved_sample.csv"
   ]
  },
  {
   "cell_type": "code",
   "execution_count": 19,
   "metadata": {
    "ExecuteTime": {
     "end_time": "2019-12-02T17:29:48.817893Z",
     "start_time": "2019-12-02T17:29:48.689649Z"
    }
   },
   "outputs": [
    {
     "name": "stdout",
     "output_type": "stream",
     "text": [
      "4.868334433694402330e-01,3.310154282502980605e-01,8.026395691204871730e-01,9.825193555054201333e-02\r\n",
      "5.599344896587099552e-02,4.426626489592228042e-01,2.214391360302725431e-02,2.907285532552091878e-01\r\n",
      "2.463944432503429871e-01,7.382867680147005007e-01,8.892261317028197221e-01,9.871393022598624611e-01\r\n"
     ]
    }
   ],
   "source": [
    "#파일 내용 확인\n",
    "!cat ./data/saved_sample.csv"
   ]
  },
  {
   "cell_type": "markdown",
   "metadata": {},
   "source": [
    "---\n",
    "\n",
    "## NumPy 배열연산"
   ]
  },
  {
   "cell_type": "markdown",
   "metadata": {},
   "source": [
    "### 배열 일반 연산\n",
    "\n",
    "NumPy는 기본 연산자를 연산자 재정의하여 배열(행렬) 연산에 대한 직관적으로 표현을 강화하였습니다. 모든 산술 연산 함수는 np 모듈에 포함되어 있습니다."
   ]
  },
  {
   "cell_type": "code",
   "execution_count": 20,
   "metadata": {
    "ExecuteTime": {
     "end_time": "2019-12-02T17:29:48.835301Z",
     "start_time": "2019-12-02T17:29:48.823453Z"
    }
   },
   "outputs": [
    {
     "data": {
      "text/plain": [
       "array([[1, 2, 3],\n",
       "       [4, 5, 6],\n",
       "       [7, 8, 9]])"
      ]
     },
     "execution_count": 20,
     "metadata": {},
     "output_type": "execute_result"
    }
   ],
   "source": [
    "# arange로 1부터 10 미만의 범위에서 1씩 증가하는 배열 생성\n",
    "# 배열의 shape을 (3, 3)으로 지정\n",
    "a = np.arange(1, 10).reshape(3, 3)\n",
    "a"
   ]
  },
  {
   "cell_type": "code",
   "execution_count": 21,
   "metadata": {
    "ExecuteTime": {
     "end_time": "2019-12-02T17:29:48.851529Z",
     "start_time": "2019-12-02T17:29:48.840277Z"
    }
   },
   "outputs": [
    {
     "data": {
      "text/plain": [
       "array([[9, 8, 7],\n",
       "       [6, 5, 4],\n",
       "       [3, 2, 1]])"
      ]
     },
     "execution_count": 21,
     "metadata": {},
     "output_type": "execute_result"
    }
   ],
   "source": [
    "# arange로 9부터 0까지 범위에서 1씩 감소하는 배열 생성\n",
    "# 배열의 shape을 (3, 3)으로 지정\n",
    "b = np.arange(9, 0, -1).reshape(3, 3)\n",
    "b"
   ]
  },
  {
   "cell_type": "markdown",
   "metadata": {},
   "source": [
    "> 주의해야할 점 : 기본적으로 배열의 연산에서는 **모두 원소별(pairwise) 연산**입니다."
   ]
  },
  {
   "cell_type": "markdown",
   "metadata": {},
   "source": [
    "####  산술 연산"
   ]
  },
  {
   "cell_type": "markdown",
   "metadata": {},
   "source": [
    "##### 덧셈"
   ]
  },
  {
   "cell_type": "code",
   "execution_count": 22,
   "metadata": {
    "ExecuteTime": {
     "end_time": "2019-12-02T17:29:48.864991Z",
     "start_time": "2019-12-02T17:29:48.856120Z"
    }
   },
   "outputs": [
    {
     "data": {
      "text/plain": [
       "array([[10, 10, 10],\n",
       "       [10, 10, 10],\n",
       "       [10, 10, 10]])"
      ]
     },
     "execution_count": 22,
     "metadata": {},
     "output_type": "execute_result"
    }
   ],
   "source": [
    "a + b"
   ]
  },
  {
   "cell_type": "markdown",
   "metadata": {},
   "source": [
    "##### 뺄셈"
   ]
  },
  {
   "cell_type": "code",
   "execution_count": 23,
   "metadata": {
    "ExecuteTime": {
     "end_time": "2019-12-02T17:29:48.872884Z",
     "start_time": "2019-12-02T17:29:48.868070Z"
    }
   },
   "outputs": [
    {
     "data": {
      "text/plain": [
       "array([[-8, -6, -4],\n",
       "       [-2,  0,  2],\n",
       "       [ 4,  6,  8]])"
      ]
     },
     "execution_count": 23,
     "metadata": {},
     "output_type": "execute_result"
    }
   ],
   "source": [
    "a - b"
   ]
  },
  {
   "cell_type": "markdown",
   "metadata": {},
   "source": [
    "##### 곱셈\n",
    "\n",
    "주의해야할건 행렬곱(dot product)이 아닌 원소별(pairwise) 곱셈입니다."
   ]
  },
  {
   "cell_type": "code",
   "execution_count": 24,
   "metadata": {
    "ExecuteTime": {
     "end_time": "2019-12-02T17:29:48.878497Z",
     "start_time": "2019-12-02T17:29:48.874848Z"
    }
   },
   "outputs": [
    {
     "data": {
      "text/plain": [
       "array([[ 9, 16, 21],\n",
       "       [24, 25, 24],\n",
       "       [21, 16,  9]])"
      ]
     },
     "execution_count": 24,
     "metadata": {},
     "output_type": "execute_result"
    }
   ],
   "source": [
    "a*b"
   ]
  },
  {
   "cell_type": "code",
   "execution_count": 25,
   "metadata": {
    "ExecuteTime": {
     "end_time": "2019-12-02T17:29:48.883648Z",
     "start_time": "2019-12-02T17:29:48.880111Z"
    }
   },
   "outputs": [
    {
     "data": {
      "text/plain": [
       "array([[ 9, 16, 21],\n",
       "       [24, 25, 24],\n",
       "       [21, 16,  9]])"
      ]
     },
     "execution_count": 25,
     "metadata": {},
     "output_type": "execute_result"
    }
   ],
   "source": [
    "np.multiply(a, b)"
   ]
  },
  {
   "cell_type": "markdown",
   "metadata": {},
   "source": [
    "##### 나눗셈"
   ]
  },
  {
   "cell_type": "code",
   "execution_count": 26,
   "metadata": {
    "ExecuteTime": {
     "end_time": "2019-12-02T17:29:48.888113Z",
     "start_time": "2019-12-02T17:29:48.884907Z"
    }
   },
   "outputs": [
    {
     "data": {
      "text/plain": [
       "array([[0.11111111, 0.25      , 0.42857143],\n",
       "       [0.66666667, 1.        , 1.5       ],\n",
       "       [2.33333333, 4.        , 9.        ]])"
      ]
     },
     "execution_count": 26,
     "metadata": {},
     "output_type": "execute_result"
    }
   ],
   "source": [
    "a / b"
   ]
  },
  {
   "cell_type": "code",
   "execution_count": 27,
   "metadata": {
    "ExecuteTime": {
     "end_time": "2019-12-02T17:29:48.894446Z",
     "start_time": "2019-12-02T17:29:48.891227Z"
    }
   },
   "outputs": [
    {
     "data": {
      "text/plain": [
       "array([[0.11111111, 0.25      , 0.42857143],\n",
       "       [0.66666667, 1.        , 1.5       ],\n",
       "       [2.33333333, 4.        , 9.        ]])"
      ]
     },
     "execution_count": 27,
     "metadata": {},
     "output_type": "execute_result"
    }
   ],
   "source": [
    "np.divide(a, b)"
   ]
  },
  {
   "cell_type": "markdown",
   "metadata": {},
   "source": [
    "##### 지수"
   ]
  },
  {
   "cell_type": "code",
   "execution_count": 28,
   "metadata": {
    "ExecuteTime": {
     "end_time": "2019-12-02T17:29:48.898471Z",
     "start_time": "2019-12-02T17:29:48.895866Z"
    }
   },
   "outputs": [
    {
     "data": {
      "text/plain": [
       "array([[2.71828183e+00, 7.38905610e+00, 2.00855369e+01],\n",
       "       [5.45981500e+01, 1.48413159e+02, 4.03428793e+02],\n",
       "       [1.09663316e+03, 2.98095799e+03, 8.10308393e+03]])"
      ]
     },
     "execution_count": 28,
     "metadata": {},
     "output_type": "execute_result"
    }
   ],
   "source": [
    "np.exp(a)"
   ]
  },
  {
   "cell_type": "markdown",
   "metadata": {},
   "source": [
    "##### 로그"
   ]
  },
  {
   "cell_type": "code",
   "execution_count": 29,
   "metadata": {
    "ExecuteTime": {
     "end_time": "2019-12-02T17:29:48.902136Z",
     "start_time": "2019-12-02T17:29:48.899392Z"
    }
   },
   "outputs": [
    {
     "data": {
      "text/plain": [
       "array([[0.        , 0.69314718, 1.09861229],\n",
       "       [1.38629436, 1.60943791, 1.79175947],\n",
       "       [1.94591015, 2.07944154, 2.19722458]])"
      ]
     },
     "execution_count": 29,
     "metadata": {},
     "output_type": "execute_result"
    }
   ],
   "source": [
    "np.log(a)"
   ]
  },
  {
   "cell_type": "markdown",
   "metadata": {},
   "source": [
    "##### 제곱근"
   ]
  },
  {
   "cell_type": "code",
   "execution_count": 30,
   "metadata": {
    "ExecuteTime": {
     "end_time": "2019-12-02T17:29:48.906167Z",
     "start_time": "2019-12-02T17:29:48.903110Z"
    }
   },
   "outputs": [
    {
     "data": {
      "text/plain": [
       "array([[1.        , 1.41421356, 1.73205081],\n",
       "       [2.        , 2.23606798, 2.44948974],\n",
       "       [2.64575131, 2.82842712, 3.        ]])"
      ]
     },
     "execution_count": 30,
     "metadata": {},
     "output_type": "execute_result"
    }
   ],
   "source": [
    "np.sqrt(a)"
   ]
  },
  {
   "cell_type": "markdown",
   "metadata": {},
   "source": [
    "##### 삼각함수 sin"
   ]
  },
  {
   "cell_type": "code",
   "execution_count": 31,
   "metadata": {
    "ExecuteTime": {
     "end_time": "2019-12-02T17:29:48.909745Z",
     "start_time": "2019-12-02T17:29:48.907137Z"
    }
   },
   "outputs": [
    {
     "data": {
      "text/plain": [
       "array([[ 0.84147098,  0.90929743,  0.14112001],\n",
       "       [-0.7568025 , -0.95892427, -0.2794155 ],\n",
       "       [ 0.6569866 ,  0.98935825,  0.41211849]])"
      ]
     },
     "execution_count": 31,
     "metadata": {},
     "output_type": "execute_result"
    }
   ],
   "source": [
    "np.sin(a)"
   ]
  },
  {
   "cell_type": "markdown",
   "metadata": {},
   "source": [
    "##### 삼각함수 cos"
   ]
  },
  {
   "cell_type": "code",
   "execution_count": 32,
   "metadata": {
    "ExecuteTime": {
     "end_time": "2019-12-02T17:29:48.913292Z",
     "start_time": "2019-12-02T17:29:48.910674Z"
    }
   },
   "outputs": [
    {
     "data": {
      "text/plain": [
       "array([[ 0.54030231, -0.41614684, -0.9899925 ],\n",
       "       [-0.65364362,  0.28366219,  0.96017029],\n",
       "       [ 0.75390225, -0.14550003, -0.91113026]])"
      ]
     },
     "execution_count": 32,
     "metadata": {},
     "output_type": "execute_result"
    }
   ],
   "source": [
    "np.cos(a)"
   ]
  },
  {
   "cell_type": "markdown",
   "metadata": {},
   "source": [
    "##### 삼각함수 tan"
   ]
  },
  {
   "cell_type": "code",
   "execution_count": 33,
   "metadata": {
    "ExecuteTime": {
     "end_time": "2019-12-02T17:29:48.916863Z",
     "start_time": "2019-12-02T17:29:48.914252Z"
    }
   },
   "outputs": [
    {
     "data": {
      "text/plain": [
       "array([[ 1.55740772, -2.18503986, -0.14254654],\n",
       "       [ 1.15782128, -3.38051501, -0.29100619],\n",
       "       [ 0.87144798, -6.79971146, -0.45231566]])"
      ]
     },
     "execution_count": 33,
     "metadata": {},
     "output_type": "execute_result"
    }
   ],
   "source": [
    "np.tan(a)"
   ]
  },
  {
   "cell_type": "markdown",
   "metadata": {},
   "source": [
    "##### 내적 (dot product)"
   ]
  },
  {
   "cell_type": "code",
   "execution_count": 34,
   "metadata": {
    "ExecuteTime": {
     "end_time": "2019-12-02T17:29:48.920361Z",
     "start_time": "2019-12-02T17:29:48.917875Z"
    }
   },
   "outputs": [
    {
     "data": {
      "text/plain": [
       "array([[ 30,  24,  18],\n",
       "       [ 84,  69,  54],\n",
       "       [138, 114,  90]])"
      ]
     },
     "execution_count": 34,
     "metadata": {},
     "output_type": "execute_result"
    }
   ],
   "source": [
    "np.dot(a, b)"
   ]
  },
  {
   "cell_type": "markdown",
   "metadata": {},
   "source": [
    "#### 비교 연산"
   ]
  },
  {
   "cell_type": "markdown",
   "metadata": {},
   "source": [
    "##### 배열의 요소별 비교 (Element-wise)\n",
    "\n",
    "> 기본 연산자를 이용하여 요소별 비교를 할 수 있습니다."
   ]
  },
  {
   "cell_type": "code",
   "execution_count": 35,
   "metadata": {
    "ExecuteTime": {
     "end_time": "2019-12-02T17:29:48.923535Z",
     "start_time": "2019-12-02T17:29:48.921267Z"
    }
   },
   "outputs": [
    {
     "data": {
      "text/plain": [
       "array([[False, False, False],\n",
       "       [False,  True, False],\n",
       "       [False, False, False]])"
      ]
     },
     "execution_count": 35,
     "metadata": {},
     "output_type": "execute_result"
    }
   ],
   "source": [
    "a == b"
   ]
  },
  {
   "cell_type": "code",
   "execution_count": 36,
   "metadata": {
    "ExecuteTime": {
     "end_time": "2019-12-02T17:29:48.926823Z",
     "start_time": "2019-12-02T17:29:48.924390Z"
    }
   },
   "outputs": [
    {
     "data": {
      "text/plain": [
       "array([[False, False, False],\n",
       "       [False, False,  True],\n",
       "       [ True,  True,  True]])"
      ]
     },
     "execution_count": 36,
     "metadata": {},
     "output_type": "execute_result"
    }
   ],
   "source": [
    "a > b"
   ]
  },
  {
   "cell_type": "markdown",
   "metadata": {},
   "source": [
    "##### 배열 비교 (Array-wise)\n",
    "\n",
    "> 두 배열 전체는 np.array_equal 함수를 사용하여 비교합니다."
   ]
  },
  {
   "cell_type": "code",
   "execution_count": 37,
   "metadata": {
    "ExecuteTime": {
     "end_time": "2019-12-02T17:29:48.930354Z",
     "start_time": "2019-12-02T17:29:48.927796Z"
    }
   },
   "outputs": [
    {
     "data": {
      "text/plain": [
       "False"
      ]
     },
     "execution_count": 37,
     "metadata": {},
     "output_type": "execute_result"
    }
   ],
   "source": [
    "np.array_equal(a, b)"
   ]
  },
  {
   "cell_type": "markdown",
   "metadata": {},
   "source": [
    "#### 집계 연산\n",
    "\n",
    "NumPy의 모든 집계 함수는 집계 함수는 **`AXIS`를 기준으로 계산**됩니다. 집계함수에 AXIS를 지정하지 않으면 axis=None입니다. axis=None, 0, 1은 다음과 같은 기준으로 생각할 수 있습니다."
   ]
  },
  {
   "cell_type": "code",
   "execution_count": 38,
   "metadata": {
    "ExecuteTime": {
     "end_time": "2019-12-02T17:29:48.933549Z",
     "start_time": "2019-12-02T17:29:48.931326Z"
    }
   },
   "outputs": [
    {
     "data": {
      "text/plain": [
       "array([[1, 2, 3],\n",
       "       [4, 5, 6],\n",
       "       [7, 8, 9]])"
      ]
     },
     "execution_count": 38,
     "metadata": {},
     "output_type": "execute_result"
    }
   ],
   "source": [
    "a"
   ]
  },
  {
   "cell_type": "markdown",
   "metadata": {},
   "source": [
    "##### np.sum\n",
    "\n",
    "> 지정된 axis를 기준으로 요소의 합을 반환합니다."
   ]
  },
  {
   "cell_type": "code",
   "execution_count": 39,
   "metadata": {
    "ExecuteTime": {
     "end_time": "2019-12-02T17:29:48.936843Z",
     "start_time": "2019-12-02T17:29:48.934408Z"
    }
   },
   "outputs": [
    {
     "data": {
      "text/plain": [
       "45"
      ]
     },
     "execution_count": 39,
     "metadata": {},
     "output_type": "execute_result"
    }
   ],
   "source": [
    "a.sum()"
   ]
  },
  {
   "cell_type": "code",
   "execution_count": 40,
   "metadata": {
    "ExecuteTime": {
     "end_time": "2019-12-02T17:29:48.940179Z",
     "start_time": "2019-12-02T17:29:48.937660Z"
    }
   },
   "outputs": [
    {
     "data": {
      "text/plain": [
       "45"
      ]
     },
     "execution_count": 40,
     "metadata": {},
     "output_type": "execute_result"
    }
   ],
   "source": [
    "np.sum(a)"
   ]
  },
  {
   "cell_type": "code",
   "execution_count": 41,
   "metadata": {
    "ExecuteTime": {
     "end_time": "2019-12-02T17:29:48.943389Z",
     "start_time": "2019-12-02T17:29:48.941037Z"
    }
   },
   "outputs": [
    {
     "data": {
      "text/plain": [
       "array([12, 15, 18])"
      ]
     },
     "execution_count": 41,
     "metadata": {},
     "output_type": "execute_result"
    }
   ],
   "source": [
    "np.sum(a, axis=0) # 열 기준"
   ]
  },
  {
   "cell_type": "code",
   "execution_count": 42,
   "metadata": {
    "ExecuteTime": {
     "end_time": "2019-12-02T17:29:48.946666Z",
     "start_time": "2019-12-02T17:29:48.944267Z"
    }
   },
   "outputs": [
    {
     "data": {
      "text/plain": [
       "array([ 6, 15, 24])"
      ]
     },
     "execution_count": 42,
     "metadata": {},
     "output_type": "execute_result"
    }
   ],
   "source": [
    "a.sum(axis=1) # 행 기준"
   ]
  },
  {
   "cell_type": "markdown",
   "metadata": {},
   "source": [
    "##### np.min\n",
    "\n",
    "> 지정된 axis를 기준으로 요소의 최소값을 반환합니다."
   ]
  },
  {
   "cell_type": "code",
   "execution_count": 43,
   "metadata": {
    "ExecuteTime": {
     "end_time": "2019-12-02T17:29:48.950366Z",
     "start_time": "2019-12-02T17:29:48.947930Z"
    }
   },
   "outputs": [
    {
     "data": {
      "text/plain": [
       "1"
      ]
     },
     "execution_count": 43,
     "metadata": {},
     "output_type": "execute_result"
    }
   ],
   "source": [
    "a.min()"
   ]
  },
  {
   "cell_type": "code",
   "execution_count": 44,
   "metadata": {
    "ExecuteTime": {
     "end_time": "2019-12-02T17:29:48.953643Z",
     "start_time": "2019-12-02T17:29:48.951307Z"
    }
   },
   "outputs": [
    {
     "data": {
      "text/plain": [
       "1"
      ]
     },
     "execution_count": 44,
     "metadata": {},
     "output_type": "execute_result"
    }
   ],
   "source": [
    "np.min(a)"
   ]
  },
  {
   "cell_type": "code",
   "execution_count": 45,
   "metadata": {
    "ExecuteTime": {
     "end_time": "2019-12-02T17:29:48.957037Z",
     "start_time": "2019-12-02T17:29:48.954461Z"
    }
   },
   "outputs": [
    {
     "data": {
      "text/plain": [
       "array([1, 2, 3])"
      ]
     },
     "execution_count": 45,
     "metadata": {},
     "output_type": "execute_result"
    }
   ],
   "source": [
    "np.min(a, axis=0)"
   ]
  },
  {
   "cell_type": "code",
   "execution_count": 46,
   "metadata": {
    "ExecuteTime": {
     "end_time": "2019-12-02T17:29:48.960550Z",
     "start_time": "2019-12-02T17:29:48.957845Z"
    }
   },
   "outputs": [
    {
     "data": {
      "text/plain": [
       "array([1, 4, 7])"
      ]
     },
     "execution_count": 46,
     "metadata": {},
     "output_type": "execute_result"
    }
   ],
   "source": [
    "a.min(axis=1)"
   ]
  },
  {
   "cell_type": "markdown",
   "metadata": {},
   "source": [
    "##### np.max\n",
    "\n",
    "> 지정된 axis를 기준으로 요소의 최대값을 반환합니다."
   ]
  },
  {
   "cell_type": "code",
   "execution_count": 47,
   "metadata": {
    "ExecuteTime": {
     "end_time": "2019-12-02T17:29:48.963827Z",
     "start_time": "2019-12-02T17:29:48.961508Z"
    }
   },
   "outputs": [
    {
     "data": {
      "text/plain": [
       "9"
      ]
     },
     "execution_count": 47,
     "metadata": {},
     "output_type": "execute_result"
    }
   ],
   "source": [
    "a.max()"
   ]
  },
  {
   "cell_type": "code",
   "execution_count": 48,
   "metadata": {
    "ExecuteTime": {
     "end_time": "2019-12-02T17:29:48.967246Z",
     "start_time": "2019-12-02T17:29:48.964649Z"
    }
   },
   "outputs": [
    {
     "data": {
      "text/plain": [
       "9"
      ]
     },
     "execution_count": 48,
     "metadata": {},
     "output_type": "execute_result"
    }
   ],
   "source": [
    "np.max(a)"
   ]
  },
  {
   "cell_type": "code",
   "execution_count": 49,
   "metadata": {
    "ExecuteTime": {
     "end_time": "2019-12-02T17:29:48.970978Z",
     "start_time": "2019-12-02T17:29:48.968125Z"
    }
   },
   "outputs": [
    {
     "data": {
      "text/plain": [
       "array([7, 8, 9])"
      ]
     },
     "execution_count": 49,
     "metadata": {},
     "output_type": "execute_result"
    }
   ],
   "source": [
    "np.max(a, axis=0)"
   ]
  },
  {
   "cell_type": "code",
   "execution_count": 50,
   "metadata": {
    "ExecuteTime": {
     "end_time": "2019-12-02T17:29:48.974259Z",
     "start_time": "2019-12-02T17:29:48.971787Z"
    }
   },
   "outputs": [
    {
     "data": {
      "text/plain": [
       "array([3, 6, 9])"
      ]
     },
     "execution_count": 50,
     "metadata": {},
     "output_type": "execute_result"
    }
   ],
   "source": [
    "a.max(axis=1)"
   ]
  },
  {
   "cell_type": "markdown",
   "metadata": {},
   "source": [
    "##### np.cumsum\n",
    "\n",
    "> 지정된 axis를 기준으로 각 요소의 누적 합의 결과를 반환합니다."
   ]
  },
  {
   "cell_type": "code",
   "execution_count": 51,
   "metadata": {
    "ExecuteTime": {
     "end_time": "2019-12-02T17:29:48.977607Z",
     "start_time": "2019-12-02T17:29:48.975141Z"
    }
   },
   "outputs": [
    {
     "data": {
      "text/plain": [
       "array([ 1,  3,  6, 10, 15, 21, 28, 36, 45])"
      ]
     },
     "execution_count": 51,
     "metadata": {},
     "output_type": "execute_result"
    }
   ],
   "source": [
    "a.cumsum()"
   ]
  },
  {
   "cell_type": "code",
   "execution_count": 52,
   "metadata": {
    "ExecuteTime": {
     "end_time": "2019-12-02T17:29:48.980846Z",
     "start_time": "2019-12-02T17:29:48.978432Z"
    }
   },
   "outputs": [
    {
     "data": {
      "text/plain": [
       "array([ 1,  3,  6, 10, 15, 21, 28, 36, 45])"
      ]
     },
     "execution_count": 52,
     "metadata": {},
     "output_type": "execute_result"
    }
   ],
   "source": [
    "np.cumsum(a)"
   ]
  },
  {
   "cell_type": "code",
   "execution_count": 53,
   "metadata": {
    "ExecuteTime": {
     "end_time": "2019-12-02T17:29:48.984198Z",
     "start_time": "2019-12-02T17:29:48.981650Z"
    }
   },
   "outputs": [
    {
     "data": {
      "text/plain": [
       "array([[ 1,  2,  3],\n",
       "       [ 5,  7,  9],\n",
       "       [12, 15, 18]])"
      ]
     },
     "execution_count": 53,
     "metadata": {},
     "output_type": "execute_result"
    }
   ],
   "source": [
    "np.cumsum(a, axis=0)"
   ]
  },
  {
   "cell_type": "code",
   "execution_count": 54,
   "metadata": {
    "ExecuteTime": {
     "end_time": "2019-12-02T17:29:48.987566Z",
     "start_time": "2019-12-02T17:29:48.985021Z"
    }
   },
   "outputs": [
    {
     "data": {
      "text/plain": [
       "array([[ 1,  3,  6],\n",
       "       [ 4,  9, 15],\n",
       "       [ 7, 15, 24]])"
      ]
     },
     "execution_count": 54,
     "metadata": {},
     "output_type": "execute_result"
    }
   ],
   "source": [
    "a.cumsum(axis=1)"
   ]
  },
  {
   "cell_type": "markdown",
   "metadata": {},
   "source": [
    "##### np.mean\n",
    "\n",
    "> 지정된 axis를 기준으로 요소의 평균을 반환합니다."
   ]
  },
  {
   "cell_type": "code",
   "execution_count": 55,
   "metadata": {
    "ExecuteTime": {
     "end_time": "2019-12-02T17:29:48.990705Z",
     "start_time": "2019-12-02T17:29:48.988466Z"
    }
   },
   "outputs": [
    {
     "data": {
      "text/plain": [
       "5.0"
      ]
     },
     "execution_count": 55,
     "metadata": {},
     "output_type": "execute_result"
    }
   ],
   "source": [
    "a.mean()"
   ]
  },
  {
   "cell_type": "code",
   "execution_count": 56,
   "metadata": {
    "ExecuteTime": {
     "end_time": "2019-12-02T17:29:48.994183Z",
     "start_time": "2019-12-02T17:29:48.991655Z"
    }
   },
   "outputs": [
    {
     "data": {
      "text/plain": [
       "5.0"
      ]
     },
     "execution_count": 56,
     "metadata": {},
     "output_type": "execute_result"
    }
   ],
   "source": [
    "np.mean(a)"
   ]
  },
  {
   "cell_type": "code",
   "execution_count": 57,
   "metadata": {
    "ExecuteTime": {
     "end_time": "2019-12-02T17:29:48.997798Z",
     "start_time": "2019-12-02T17:29:48.995145Z"
    }
   },
   "outputs": [
    {
     "data": {
      "text/plain": [
       "array([4., 5., 6.])"
      ]
     },
     "execution_count": 57,
     "metadata": {},
     "output_type": "execute_result"
    }
   ],
   "source": [
    "np.mean(a, axis=0)"
   ]
  },
  {
   "cell_type": "code",
   "execution_count": 58,
   "metadata": {
    "ExecuteTime": {
     "end_time": "2019-12-02T17:29:49.001232Z",
     "start_time": "2019-12-02T17:29:48.998625Z"
    }
   },
   "outputs": [
    {
     "data": {
      "text/plain": [
       "array([2., 5., 8.])"
      ]
     },
     "execution_count": 58,
     "metadata": {},
     "output_type": "execute_result"
    }
   ],
   "source": [
    "a.mean(axis=1)"
   ]
  },
  {
   "cell_type": "markdown",
   "metadata": {},
   "source": [
    "##### np.median\n",
    "\n",
    "> 지정된 axis를 기준으로 요소의 중앙값을 반환합니다."
   ]
  },
  {
   "cell_type": "code",
   "execution_count": 59,
   "metadata": {
    "ExecuteTime": {
     "end_time": "2019-12-02T17:29:49.004531Z",
     "start_time": "2019-12-02T17:29:49.002055Z"
    }
   },
   "outputs": [
    {
     "data": {
      "text/plain": [
       "5.0"
      ]
     },
     "execution_count": 59,
     "metadata": {},
     "output_type": "execute_result"
    }
   ],
   "source": [
    "np.median(a)"
   ]
  },
  {
   "cell_type": "markdown",
   "metadata": {},
   "source": [
    "##### np.corrcoef"
   ]
  },
  {
   "cell_type": "code",
   "execution_count": 60,
   "metadata": {
    "ExecuteTime": {
     "end_time": "2019-12-02T17:29:49.028826Z",
     "start_time": "2019-12-02T17:29:49.005346Z"
    }
   },
   "outputs": [
    {
     "data": {
      "text/plain": [
       "array([[1., 1., 1.],\n",
       "       [1., 1., 1.],\n",
       "       [1., 1., 1.]])"
      ]
     },
     "execution_count": 60,
     "metadata": {},
     "output_type": "execute_result"
    }
   ],
   "source": [
    "np.corrcoef(a)"
   ]
  },
  {
   "cell_type": "markdown",
   "metadata": {},
   "source": [
    "##### np.std\n",
    "\n",
    "> 지정된 axis를 기준으로 요소의 표준 편차를 계산합니다."
   ]
  },
  {
   "cell_type": "code",
   "execution_count": 61,
   "metadata": {
    "ExecuteTime": {
     "end_time": "2019-12-02T17:29:49.032326Z",
     "start_time": "2019-12-02T17:29:49.029848Z"
    }
   },
   "outputs": [
    {
     "data": {
      "text/plain": [
       "2.581988897471611"
      ]
     },
     "execution_count": 61,
     "metadata": {},
     "output_type": "execute_result"
    }
   ],
   "source": [
    "a.std()"
   ]
  },
  {
   "cell_type": "code",
   "execution_count": 62,
   "metadata": {
    "ExecuteTime": {
     "end_time": "2019-12-02T17:29:49.035982Z",
     "start_time": "2019-12-02T17:29:49.033164Z"
    }
   },
   "outputs": [
    {
     "data": {
      "text/plain": [
       "2.581988897471611"
      ]
     },
     "execution_count": 62,
     "metadata": {},
     "output_type": "execute_result"
    }
   ],
   "source": [
    "np.std(a)"
   ]
  },
  {
   "cell_type": "code",
   "execution_count": 63,
   "metadata": {
    "ExecuteTime": {
     "end_time": "2019-12-02T17:29:49.039693Z",
     "start_time": "2019-12-02T17:29:49.036891Z"
    }
   },
   "outputs": [
    {
     "data": {
      "text/plain": [
       "array([2.44948974, 2.44948974, 2.44948974])"
      ]
     },
     "execution_count": 63,
     "metadata": {},
     "output_type": "execute_result"
    }
   ],
   "source": [
    "np.std(a, axis=0)"
   ]
  },
  {
   "cell_type": "code",
   "execution_count": 64,
   "metadata": {
    "ExecuteTime": {
     "end_time": "2019-12-02T17:29:49.043081Z",
     "start_time": "2019-12-02T17:29:49.040596Z"
    }
   },
   "outputs": [
    {
     "data": {
      "text/plain": [
       "array([0.81649658, 0.81649658, 0.81649658])"
      ]
     },
     "execution_count": 64,
     "metadata": {},
     "output_type": "execute_result"
    }
   ],
   "source": [
    "a.std(axis=1)"
   ]
  },
  {
   "cell_type": "markdown",
   "metadata": {},
   "source": [
    "### 브로드캐스팅\n",
    "\n",
    "Shape이 같은 두 배열에 대한 이항 연산은 배열의 요소별로 수행됩니다. **두 배열 간의 Shape이 다를 경우** 두 배열 간의 형상을 맞추는 아래와 같은 Broadcasting 과정을 거칩니다.\n",
    "\n",
    "<img src='./img/numpy-broadcasting.png'>\n",
    "Ref : https://mathematica.stackexchange.com/questions/99171/how-to-implement-the-general-array-broadcasting-method-from-numpy"
   ]
  },
  {
   "cell_type": "code",
   "execution_count": null,
   "metadata": {},
   "outputs": [],
   "source": []
  },
  {
   "cell_type": "markdown",
   "metadata": {},
   "source": [
    "### 백터연산"
   ]
  },
  {
   "cell_type": "code",
   "execution_count": null,
   "metadata": {},
   "outputs": [],
   "source": []
  },
  {
   "cell_type": "markdown",
   "metadata": {},
   "source": [
    "---\n",
    "\n",
    "## NumPy 배열복사"
   ]
  },
  {
   "cell_type": "code",
   "execution_count": null,
   "metadata": {},
   "outputs": [],
   "source": []
  },
  {
   "cell_type": "markdown",
   "metadata": {},
   "source": [
    "---\n",
    "\n",
    "## NumPy 배열 정렬"
   ]
  },
  {
   "cell_type": "code",
   "execution_count": null,
   "metadata": {},
   "outputs": [],
   "source": []
  },
  {
   "cell_type": "markdown",
   "metadata": {},
   "source": [
    "---\n",
    "\n",
    "## Reference"
   ]
  },
  {
   "cell_type": "markdown",
   "metadata": {},
   "source": [
    "- https://www.intel.com\n",
    "- https://numpy.org/\n",
    "- https://github.com/rougier/numpy-tutorial\n",
    "- https://github.com/rougier/numpy-100\n",
    "- http://aikorea.org/cs231n/python-numpy-tutorial/\n",
    "- http://riseshia.github.io/2017/01/30/numpy-tutorial-with-code.html\n",
    "- https://datascienceschool.net/view-notebook/24e43f9df9ec4abab15e32e68e982cc1/\n",
    "- http://taewan.kim/post/numpy_cheat_sheet/"
   ]
  }
 ],
 "metadata": {
  "kernelspec": {
   "display_name": "Python [conda env:keras] *",
   "language": "python",
   "name": "conda-env-keras-py"
  },
  "language_info": {
   "codemirror_mode": {
    "name": "ipython",
    "version": 3
   },
   "file_extension": ".py",
   "mimetype": "text/x-python",
   "name": "python",
   "nbconvert_exporter": "python",
   "pygments_lexer": "ipython3",
   "version": "3.6.9"
  },
  "toc": {
   "base_numbering": 1,
   "nav_menu": {},
   "number_sections": true,
   "sideBar": true,
   "skip_h1_title": true,
   "title_cell": "강의목차",
   "title_sidebar": "Contents",
   "toc_cell": true,
   "toc_position": {
    "height": "calc(100% - 180px)",
    "left": "10px",
    "top": "150px",
    "width": "335.797px"
   },
   "toc_section_display": true,
   "toc_window_display": true
  }
 },
 "nbformat": 4,
 "nbformat_minor": 2
}
