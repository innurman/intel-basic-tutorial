{
 "cells": [
  {
   "cell_type": "markdown",
   "metadata": {},
   "source": [
    "<img src='./img/intel-logo.jpg' width=50%, Fig1> \n",
    "\n",
    "# NumPy Basic Lecture02 - NumPy I/O 및 배열연산\n",
    "\n",
    "<img src='./img/numpy-logo.jpg' width=50%>\n",
    "\n",
    "<div align='right'>성  민  석 (Minsuk  Sung)</div>\n",
    "<div align='right'>류  회  성 (Hoesung Ryu)</div>"
   ]
  },
  {
   "cell_type": "markdown",
   "metadata": {
    "toc": true
   },
   "source": [
    "<h1>강의목차<span class=\"tocSkip\"></span></h1>\n",
    "<div class=\"toc\"><ul class=\"toc-item\"><li><span><a href=\"#NumPy-입출력\" data-toc-modified-id=\"NumPy-입출력-1\"><span class=\"toc-item-num\">1&nbsp;&nbsp;</span>NumPy 입출력</a></span><ul class=\"toc-item\"><li><span><a href=\"#np.save\" data-toc-modified-id=\"np.save-1.1\"><span class=\"toc-item-num\">1.1&nbsp;&nbsp;</span>np.save</a></span></li><li><span><a href=\"#np.savez\" data-toc-modified-id=\"np.savez-1.2\"><span class=\"toc-item-num\">1.2&nbsp;&nbsp;</span>np.savez</a></span></li><li><span><a href=\"#np.load\" data-toc-modified-id=\"np.load-1.3\"><span class=\"toc-item-num\">1.3&nbsp;&nbsp;</span>np.load</a></span></li><li><span><a href=\"#np.loadtxt\" data-toc-modified-id=\"np.loadtxt-1.4\"><span class=\"toc-item-num\">1.4&nbsp;&nbsp;</span>np.loadtxt</a></span></li><li><span><a href=\"#np.savetxt\" data-toc-modified-id=\"np.savetxt-1.5\"><span class=\"toc-item-num\">1.5&nbsp;&nbsp;</span>np.savetxt</a></span></li></ul></li><li><span><a href=\"#NumPy-배열연산\" data-toc-modified-id=\"NumPy-배열연산-2\"><span class=\"toc-item-num\">2&nbsp;&nbsp;</span>NumPy 배열연산</a></span><ul class=\"toc-item\"><li><span><a href=\"#배열-일반-연산\" data-toc-modified-id=\"배열-일반-연산-2.1\"><span class=\"toc-item-num\">2.1&nbsp;&nbsp;</span>배열 일반 연산</a></span><ul class=\"toc-item\"><li><span><a href=\"#산술-연산\" data-toc-modified-id=\"산술-연산-2.1.1\"><span class=\"toc-item-num\">2.1.1&nbsp;&nbsp;</span>산술 연산</a></span><ul class=\"toc-item\"><li><span><a href=\"#덧셈\" data-toc-modified-id=\"덧셈-2.1.1.1\"><span class=\"toc-item-num\">2.1.1.1&nbsp;&nbsp;</span>덧셈</a></span></li><li><span><a href=\"#뺄셈\" data-toc-modified-id=\"뺄셈-2.1.1.2\"><span class=\"toc-item-num\">2.1.1.2&nbsp;&nbsp;</span>뺄셈</a></span></li><li><span><a href=\"#곱셈\" data-toc-modified-id=\"곱셈-2.1.1.3\"><span class=\"toc-item-num\">2.1.1.3&nbsp;&nbsp;</span>곱셈</a></span></li><li><span><a href=\"#나눗셈\" data-toc-modified-id=\"나눗셈-2.1.1.4\"><span class=\"toc-item-num\">2.1.1.4&nbsp;&nbsp;</span>나눗셈</a></span></li><li><span><a href=\"#지수\" data-toc-modified-id=\"지수-2.1.1.5\"><span class=\"toc-item-num\">2.1.1.5&nbsp;&nbsp;</span>지수</a></span></li><li><span><a href=\"#로그\" data-toc-modified-id=\"로그-2.1.1.6\"><span class=\"toc-item-num\">2.1.1.6&nbsp;&nbsp;</span>로그</a></span></li><li><span><a href=\"#제곱근\" data-toc-modified-id=\"제곱근-2.1.1.7\"><span class=\"toc-item-num\">2.1.1.7&nbsp;&nbsp;</span>제곱근</a></span></li><li><span><a href=\"#삼각함수-sin\" data-toc-modified-id=\"삼각함수-sin-2.1.1.8\"><span class=\"toc-item-num\">2.1.1.8&nbsp;&nbsp;</span>삼각함수 sin</a></span></li><li><span><a href=\"#삼각함수-cos\" data-toc-modified-id=\"삼각함수-cos-2.1.1.9\"><span class=\"toc-item-num\">2.1.1.9&nbsp;&nbsp;</span>삼각함수 cos</a></span></li><li><span><a href=\"#삼각함수-tan\" data-toc-modified-id=\"삼각함수-tan-2.1.1.10\"><span class=\"toc-item-num\">2.1.1.10&nbsp;&nbsp;</span>삼각함수 tan</a></span></li><li><span><a href=\"#내적-(dot-product)\" data-toc-modified-id=\"내적-(dot-product)-2.1.1.11\"><span class=\"toc-item-num\">2.1.1.11&nbsp;&nbsp;</span>내적 (dot product)</a></span></li></ul></li><li><span><a href=\"#비교-연산\" data-toc-modified-id=\"비교-연산-2.1.2\"><span class=\"toc-item-num\">2.1.2&nbsp;&nbsp;</span>비교 연산</a></span><ul class=\"toc-item\"><li><span><a href=\"#배열의-요소별-비교-(Element-wise)\" data-toc-modified-id=\"배열의-요소별-비교-(Element-wise)-2.1.2.1\"><span class=\"toc-item-num\">2.1.2.1&nbsp;&nbsp;</span>배열의 요소별 비교 (Element-wise)</a></span></li><li><span><a href=\"#배열-비교-(Array-wise)\" data-toc-modified-id=\"배열-비교-(Array-wise)-2.1.2.2\"><span class=\"toc-item-num\">2.1.2.2&nbsp;&nbsp;</span>배열 비교 (Array-wise)</a></span></li></ul></li><li><span><a href=\"#집계-연산\" data-toc-modified-id=\"집계-연산-2.1.3\"><span class=\"toc-item-num\">2.1.3&nbsp;&nbsp;</span>집계 연산</a></span><ul class=\"toc-item\"><li><span><a href=\"#np.sum\" data-toc-modified-id=\"np.sum-2.1.3.1\"><span class=\"toc-item-num\">2.1.3.1&nbsp;&nbsp;</span>np.sum</a></span></li><li><span><a href=\"#np.min\" data-toc-modified-id=\"np.min-2.1.3.2\"><span class=\"toc-item-num\">2.1.3.2&nbsp;&nbsp;</span>np.min</a></span></li><li><span><a href=\"#np.max\" data-toc-modified-id=\"np.max-2.1.3.3\"><span class=\"toc-item-num\">2.1.3.3&nbsp;&nbsp;</span>np.max</a></span></li><li><span><a href=\"#np.cumsum\" data-toc-modified-id=\"np.cumsum-2.1.3.4\"><span class=\"toc-item-num\">2.1.3.4&nbsp;&nbsp;</span>np.cumsum</a></span></li><li><span><a href=\"#np.mean\" data-toc-modified-id=\"np.mean-2.1.3.5\"><span class=\"toc-item-num\">2.1.3.5&nbsp;&nbsp;</span>np.mean</a></span></li><li><span><a href=\"#np.median\" data-toc-modified-id=\"np.median-2.1.3.6\"><span class=\"toc-item-num\">2.1.3.6&nbsp;&nbsp;</span>np.median</a></span></li><li><span><a href=\"#np.corrcoef\" data-toc-modified-id=\"np.corrcoef-2.1.3.7\"><span class=\"toc-item-num\">2.1.3.7&nbsp;&nbsp;</span>np.corrcoef</a></span></li><li><span><a href=\"#np.std\" data-toc-modified-id=\"np.std-2.1.3.8\"><span class=\"toc-item-num\">2.1.3.8&nbsp;&nbsp;</span>np.std</a></span></li></ul></li></ul></li><li><span><a href=\"#브로드캐스팅\" data-toc-modified-id=\"브로드캐스팅-2.2\"><span class=\"toc-item-num\">2.2&nbsp;&nbsp;</span>브로드캐스팅</a></span><ul class=\"toc-item\"><li><span><a href=\"#Shape이-같은-배열의-이항-연산\" data-toc-modified-id=\"Shape이-같은-배열의-이항-연산-2.2.1\"><span class=\"toc-item-num\">2.2.1&nbsp;&nbsp;</span>Shape이 같은 배열의 이항 연산</a></span></li><li><span><a href=\"#Shape이-다른-두-배열의-연산\" data-toc-modified-id=\"Shape이-다른-두-배열의-연산-2.2.2\"><span class=\"toc-item-num\">2.2.2&nbsp;&nbsp;</span>Shape이 다른 두 배열의 연산</a></span><ul class=\"toc-item\"><li><span><a href=\"#배열과-스칼라\" data-toc-modified-id=\"배열과-스칼라-2.2.2.1\"><span class=\"toc-item-num\">2.2.2.1&nbsp;&nbsp;</span>배열과 스칼라</a></span></li><li><span><a href=\"#Shape이-다른-배열들의-연산\" data-toc-modified-id=\"Shape이-다른-배열들의-연산-2.2.2.2\"><span class=\"toc-item-num\">2.2.2.2&nbsp;&nbsp;</span>Shape이 다른 배열들의 연산</a></span></li></ul></li></ul></li><li><span><a href=\"#백터연산\" data-toc-modified-id=\"백터연산-2.3\"><span class=\"toc-item-num\">2.3&nbsp;&nbsp;</span>백터연산</a></span><ul class=\"toc-item\"><li><span><a href=\"#loop-문을-이용한-연산\" data-toc-modified-id=\"loop-문을-이용한-연산-2.3.1\"><span class=\"toc-item-num\">2.3.1&nbsp;&nbsp;</span>loop 문을 이용한 연산</a></span></li><li><span><a href=\"#NumPy의-벡터연산\" data-toc-modified-id=\"NumPy의-벡터연산-2.3.2\"><span class=\"toc-item-num\">2.3.2&nbsp;&nbsp;</span>NumPy의 벡터연산</a></span></li></ul></li></ul></li><li><span><a href=\"#NumPy-배열복사\" data-toc-modified-id=\"NumPy-배열복사-3\"><span class=\"toc-item-num\">3&nbsp;&nbsp;</span>NumPy 배열복사</a></span></li><li><span><a href=\"#NumPy-배열-정렬\" data-toc-modified-id=\"NumPy-배열-정렬-4\"><span class=\"toc-item-num\">4&nbsp;&nbsp;</span>NumPy 배열 정렬</a></span></li><li><span><a href=\"#Reference\" data-toc-modified-id=\"Reference-5\"><span class=\"toc-item-num\">5&nbsp;&nbsp;</span>Reference</a></span></li></ul></div>"
   ]
  },
  {
   "cell_type": "code",
   "execution_count": 2,
   "metadata": {
    "ExecuteTime": {
     "end_time": "2019-12-03T07:50:43.645546Z",
     "start_time": "2019-12-03T07:50:43.574948Z"
    }
   },
   "outputs": [],
   "source": [
    "import numpy as np"
   ]
  },
  {
   "cell_type": "code",
   "execution_count": 3,
   "metadata": {
    "ExecuteTime": {
     "end_time": "2019-12-03T07:50:43.648652Z",
     "start_time": "2019-12-03T07:50:43.646748Z"
    }
   },
   "outputs": [],
   "source": [
    "np.random.seed(1234) # 재현성을 위하여"
   ]
  },
  {
   "cell_type": "markdown",
   "metadata": {},
   "source": [
    "---\n",
    "\n",
    "## NumPy 입출력\n",
    "\n",
    "NumPy는 배열 객체를 바이너리 파일 혹은 텍스트 파일에 저장하고 로딩하는 기능을 제공합니다.\n",
    "\n",
    "|함수명|기능|파일포맷|\n",
    "|---|---|---|\n",
    "|np.`save`()|\tNumPy 배열 객체 1개를 파일에 저장|\t바이너리\n",
    "|np.`savez`()|\tNumPy 배열 객체 복수개를 파일에 저장|\t바이너리\n",
    "|np.`load`()|\tNumPy 배열 저장 파일로 부터 객체 로딩|\t바이너리\n",
    "|np.`loadtxt`()|\t텍스트 파일로 부터 배열 로딩|\t텍스트\n",
    "|np.`savetxt`()|\t텍스트 파일에 NumPy 배열 객체 저장|\t텍스트"
   ]
  },
  {
   "cell_type": "code",
   "execution_count": 4,
   "metadata": {
    "ExecuteTime": {
     "end_time": "2019-12-03T07:50:43.657324Z",
     "start_time": "2019-12-03T07:50:43.649743Z"
    }
   },
   "outputs": [
    {
     "data": {
      "text/plain": [
       "array([[3, 6, 5],\n",
       "       [4, 8, 9]])"
      ]
     },
     "execution_count": 4,
     "metadata": {},
     "output_type": "execute_result"
    }
   ],
   "source": [
    "a = np.random.randint(0, 10, (2, 3))\n",
    "a"
   ]
  },
  {
   "cell_type": "code",
   "execution_count": 5,
   "metadata": {
    "ExecuteTime": {
     "end_time": "2019-12-03T07:50:43.661417Z",
     "start_time": "2019-12-03T07:50:43.658470Z"
    }
   },
   "outputs": [
    {
     "data": {
      "text/plain": [
       "array([[1, 7, 9],\n",
       "       [6, 8, 0]])"
      ]
     },
     "execution_count": 5,
     "metadata": {},
     "output_type": "execute_result"
    }
   ],
   "source": [
    "b = np.random.randint(0, 10, (2, 3))\n",
    "b"
   ]
  },
  {
   "cell_type": "markdown",
   "metadata": {},
   "source": [
    "### np.save\n",
    "\n",
    "> np.save : 배열 객체 저장\n",
    "\n",
    "- np.save 함수를 이용하여 배열 객체를 파일로 저장할 수 있습니다.\n",
    "- np.save: 1개 배열 저장, 확장자: npy\n",
    "\n",
    "배열 저장 파일은 바이너리 형태입니다."
   ]
  },
  {
   "cell_type": "code",
   "execution_count": 6,
   "metadata": {
    "ExecuteTime": {
     "end_time": "2019-12-03T07:50:43.664472Z",
     "start_time": "2019-12-03T07:50:43.662421Z"
    }
   },
   "outputs": [],
   "source": [
    "# 배열 하나 저장\n",
    "np.save(\"./data/array_a\", a)"
   ]
  },
  {
   "cell_type": "code",
   "execution_count": 7,
   "metadata": {
    "ExecuteTime": {
     "end_time": "2019-12-03T07:50:43.778880Z",
     "start_time": "2019-12-03T07:50:43.665333Z"
    }
   },
   "outputs": [
    {
     "name": "stdout",
     "output_type": "stream",
     "text": [
      "-rw-rw-r-- 1 minsuk minsuk 176 Dec  3 16:50 data/array_a.npy\r\n",
      "-rw-rw-r-- 1 minsuk minsuk 602 Dec  3 02:29 data/array_ab.npz\r\n"
     ]
    }
   ],
   "source": [
    "!ls -al data/array_a*"
   ]
  },
  {
   "cell_type": "markdown",
   "metadata": {},
   "source": [
    "### np.savez\n",
    "\n",
    "> np.savez : 배열 객체 저장\n",
    "\n",
    "- np.savez: 복수 배열을 1개의 파일에 저장, 확장자: npz\n",
    "\n",
    "배열 저장 파일은 바이너리 형태입니다."
   ]
  },
  {
   "cell_type": "code",
   "execution_count": 8,
   "metadata": {
    "ExecuteTime": {
     "end_time": "2019-12-03T07:50:43.790721Z",
     "start_time": "2019-12-03T07:50:43.784626Z"
    }
   },
   "outputs": [],
   "source": [
    "# 배열 2개 저장\n",
    "np.savez(\"./data/array_ab\", a, b)"
   ]
  },
  {
   "cell_type": "code",
   "execution_count": 9,
   "metadata": {
    "ExecuteTime": {
     "end_time": "2019-12-03T07:50:43.905591Z",
     "start_time": "2019-12-03T07:50:43.792479Z"
    }
   },
   "outputs": [
    {
     "name": "stdout",
     "output_type": "stream",
     "text": [
      "-rw-rw-r-- 1 minsuk minsuk 602 Dec  3 16:50 data/array_ab.npz\r\n"
     ]
    }
   ],
   "source": [
    "!ls -al data/array_ab*"
   ]
  },
  {
   "cell_type": "markdown",
   "metadata": {},
   "source": [
    "### np.load\n",
    "\n",
    "> np.load : npy와 npz 파일을 읽어옴"
   ]
  },
  {
   "cell_type": "code",
   "execution_count": 10,
   "metadata": {
    "ExecuteTime": {
     "end_time": "2019-12-03T07:50:43.917356Z",
     "start_time": "2019-12-03T07:50:43.912700Z"
    }
   },
   "outputs": [
    {
     "data": {
      "text/plain": [
       "array([[3, 6, 5],\n",
       "       [4, 8, 9]])"
      ]
     },
     "execution_count": 10,
     "metadata": {},
     "output_type": "execute_result"
    }
   ],
   "source": [
    "np.load(\"./data/array_a.npy\")"
   ]
  },
  {
   "cell_type": "code",
   "execution_count": 11,
   "metadata": {
    "ExecuteTime": {
     "end_time": "2019-12-03T07:50:43.921894Z",
     "start_time": "2019-12-03T07:50:43.918359Z"
    }
   },
   "outputs": [
    {
     "data": {
      "text/plain": [
       "['arr_0', 'arr_1']"
      ]
     },
     "execution_count": 11,
     "metadata": {},
     "output_type": "execute_result"
    }
   ],
   "source": [
    "npzfiles = np.load(\"./data/array_ab.npz\")\n",
    "npzfiles.files"
   ]
  },
  {
   "cell_type": "code",
   "execution_count": 12,
   "metadata": {
    "ExecuteTime": {
     "end_time": "2019-12-03T07:50:43.925746Z",
     "start_time": "2019-12-03T07:50:43.922823Z"
    }
   },
   "outputs": [
    {
     "data": {
      "text/plain": [
       "array([[3, 6, 5],\n",
       "       [4, 8, 9]])"
      ]
     },
     "execution_count": 12,
     "metadata": {},
     "output_type": "execute_result"
    }
   ],
   "source": [
    "npzfiles['arr_0']"
   ]
  },
  {
   "cell_type": "code",
   "execution_count": 13,
   "metadata": {
    "ExecuteTime": {
     "end_time": "2019-12-03T07:50:43.929328Z",
     "start_time": "2019-12-03T07:50:43.926674Z"
    }
   },
   "outputs": [
    {
     "data": {
      "text/plain": [
       "array([[1, 7, 9],\n",
       "       [6, 8, 0]])"
      ]
     },
     "execution_count": 13,
     "metadata": {},
     "output_type": "execute_result"
    }
   ],
   "source": [
    "npzfiles['arr_1']"
   ]
  },
  {
   "cell_type": "markdown",
   "metadata": {},
   "source": [
    "### np.loadtxt\n",
    "\n",
    "> np.loadtxt(fname, dtype=<class 'float'>, comments='#', delimiter=None, converters=None, skiprows=0, usecols=None, unpack=False, ndmin=0)\n",
    "- fname: 파일명\n",
    "- dtype: 데이터 타입\n",
    "- comments: comment 시작 부호\n",
    "- delimiter: 구분자\n",
    "- skiprows: 제외 라인 수(header 제거용)\n",
    "\n",
    "텍스트 파일을 np.loadtxt 로 로딩 할 수 있습니다."
   ]
  },
  {
   "cell_type": "code",
   "execution_count": 14,
   "metadata": {
    "ExecuteTime": {
     "end_time": "2019-12-03T07:50:44.041195Z",
     "start_time": "2019-12-03T07:50:43.930385Z"
    }
   },
   "outputs": [
    {
     "name": "stdout",
     "output_type": "stream",
     "text": [
      "-rw-rw-r-- 1 minsuk minsuk 11 Dec  3 01:50 ./data/sample.txt\r\n"
     ]
    }
   ],
   "source": [
    "# 데이터 파일 위치\n",
    "!ls -al ./data/sample.txt"
   ]
  },
  {
   "cell_type": "code",
   "execution_count": 15,
   "metadata": {
    "ExecuteTime": {
     "end_time": "2019-12-03T07:50:44.176098Z",
     "start_time": "2019-12-03T07:50:44.046825Z"
    }
   },
   "outputs": [
    {
     "name": "stdout",
     "output_type": "stream",
     "text": [
      "1,2,3,4,5,6"
     ]
    }
   ],
   "source": [
    "# 데이터 파일 내용\n",
    "!cat ./data/sample.txt"
   ]
  },
  {
   "cell_type": "code",
   "execution_count": 16,
   "metadata": {
    "ExecuteTime": {
     "end_time": "2019-12-03T07:50:44.200289Z",
     "start_time": "2019-12-03T07:50:44.181742Z"
    }
   },
   "outputs": [
    {
     "data": {
      "text/plain": [
       "array([1, 2, 3, 4, 5, 6])"
      ]
     },
     "execution_count": 16,
     "metadata": {},
     "output_type": "execute_result"
    }
   ],
   "source": [
    "np.loadtxt(\"./data/sample.txt\",delimiter=',',dtype=np.int)"
   ]
  },
  {
   "cell_type": "markdown",
   "metadata": {},
   "source": [
    "### np.savetxt\n",
    "\n",
    "> np.savetxt(fname, X, fmt='%.18e', delimiter=' ', newline='\\n', header='', footer='', comments='# ')\n",
    "\n",
    "- 배열 객체 텍스트 파일로 저장\n",
    "- np.savetxt 함수를 이용하여 배열 객체를 텍스트 파일로 저장할 수 있습니다."
   ]
  },
  {
   "cell_type": "code",
   "execution_count": 17,
   "metadata": {
    "ExecuteTime": {
     "end_time": "2019-12-03T07:50:44.216026Z",
     "start_time": "2019-12-03T07:50:44.204637Z"
    }
   },
   "outputs": [
    {
     "data": {
      "text/plain": [
       "array([[0.48683344, 0.33101543, 0.80263957, 0.09825194],\n",
       "       [0.05599345, 0.44266265, 0.02214391, 0.29072855],\n",
       "       [0.24639444, 0.73828677, 0.88922613, 0.9871393 ]])"
      ]
     },
     "execution_count": 17,
     "metadata": {},
     "output_type": "execute_result"
    }
   ],
   "source": [
    "data = np.random.random((3, 4))\n",
    "data"
   ]
  },
  {
   "cell_type": "code",
   "execution_count": 18,
   "metadata": {
    "ExecuteTime": {
     "end_time": "2019-12-03T07:50:44.229057Z",
     "start_time": "2019-12-03T07:50:44.220951Z"
    }
   },
   "outputs": [],
   "source": [
    "np.savetxt(\"./data/saved_sample.csv\", data, delimiter=\",\")"
   ]
  },
  {
   "cell_type": "code",
   "execution_count": 19,
   "metadata": {
    "ExecuteTime": {
     "end_time": "2019-12-03T07:50:44.351611Z",
     "start_time": "2019-12-03T07:50:44.233381Z"
    }
   },
   "outputs": [
    {
     "name": "stdout",
     "output_type": "stream",
     "text": [
      "-rw-rw-r-- 1 minsuk minsuk 300 Dec  3 16:50 ./data/saved_sample.csv\r\n"
     ]
    }
   ],
   "source": [
    "#파일 조회\n",
    "!ls -al ./data/saved_sample.csv"
   ]
  },
  {
   "cell_type": "code",
   "execution_count": 20,
   "metadata": {
    "ExecuteTime": {
     "end_time": "2019-12-03T07:50:44.487045Z",
     "start_time": "2019-12-03T07:50:44.357268Z"
    }
   },
   "outputs": [
    {
     "name": "stdout",
     "output_type": "stream",
     "text": [
      "4.868334433694402330e-01,3.310154282502980605e-01,8.026395691204871730e-01,9.825193555054201333e-02\r\n",
      "5.599344896587099552e-02,4.426626489592228042e-01,2.214391360302725431e-02,2.907285532552091878e-01\r\n",
      "2.463944432503429871e-01,7.382867680147005007e-01,8.892261317028197221e-01,9.871393022598624611e-01\r\n"
     ]
    }
   ],
   "source": [
    "#파일 내용 확인\n",
    "!cat ./data/saved_sample.csv"
   ]
  },
  {
   "cell_type": "markdown",
   "metadata": {},
   "source": [
    "---\n",
    "\n",
    "## NumPy 배열연산"
   ]
  },
  {
   "cell_type": "markdown",
   "metadata": {},
   "source": [
    "### 배열 일반 연산\n",
    "\n",
    "NumPy는 기본 연산자를 연산자 재정의하여 배열(행렬) 연산에 대한 직관적으로 표현을 강화하였습니다. 모든 산술 연산 함수는 np 모듈에 포함되어 있습니다."
   ]
  },
  {
   "cell_type": "code",
   "execution_count": 21,
   "metadata": {
    "ExecuteTime": {
     "end_time": "2019-12-03T07:50:44.505593Z",
     "start_time": "2019-12-03T07:50:44.492694Z"
    }
   },
   "outputs": [
    {
     "data": {
      "text/plain": [
       "array([[1, 2, 3],\n",
       "       [4, 5, 6],\n",
       "       [7, 8, 9]])"
      ]
     },
     "execution_count": 21,
     "metadata": {},
     "output_type": "execute_result"
    }
   ],
   "source": [
    "# arange로 1부터 10 미만의 범위에서 1씩 증가하는 배열 생성\n",
    "# 배열의 shape을 (3, 3)으로 지정\n",
    "a = np.arange(1, 10).reshape(3, 3)\n",
    "a"
   ]
  },
  {
   "cell_type": "code",
   "execution_count": 22,
   "metadata": {
    "ExecuteTime": {
     "end_time": "2019-12-03T07:50:44.522542Z",
     "start_time": "2019-12-03T07:50:44.510194Z"
    }
   },
   "outputs": [
    {
     "data": {
      "text/plain": [
       "array([[9, 8, 7],\n",
       "       [6, 5, 4],\n",
       "       [3, 2, 1]])"
      ]
     },
     "execution_count": 22,
     "metadata": {},
     "output_type": "execute_result"
    }
   ],
   "source": [
    "# arange로 9부터 0까지 범위에서 1씩 감소하는 배열 생성\n",
    "# 배열의 shape을 (3, 3)으로 지정\n",
    "b = np.arange(9, 0, -1).reshape(3, 3)\n",
    "b"
   ]
  },
  {
   "cell_type": "markdown",
   "metadata": {},
   "source": [
    "> 주의해야할 점 : 기본적으로 배열의 연산에서는 **모두 원소별(pairwise) 연산**입니다."
   ]
  },
  {
   "cell_type": "markdown",
   "metadata": {},
   "source": [
    "####  산술 연산"
   ]
  },
  {
   "cell_type": "markdown",
   "metadata": {},
   "source": [
    "##### 덧셈"
   ]
  },
  {
   "cell_type": "code",
   "execution_count": 23,
   "metadata": {
    "ExecuteTime": {
     "end_time": "2019-12-03T07:50:44.535787Z",
     "start_time": "2019-12-03T07:50:44.527419Z"
    }
   },
   "outputs": [
    {
     "data": {
      "text/plain": [
       "array([[10, 10, 10],\n",
       "       [10, 10, 10],\n",
       "       [10, 10, 10]])"
      ]
     },
     "execution_count": 23,
     "metadata": {},
     "output_type": "execute_result"
    }
   ],
   "source": [
    "a + b"
   ]
  },
  {
   "cell_type": "markdown",
   "metadata": {},
   "source": [
    "##### 뺄셈"
   ]
  },
  {
   "cell_type": "code",
   "execution_count": 24,
   "metadata": {
    "ExecuteTime": {
     "end_time": "2019-12-03T07:50:44.547397Z",
     "start_time": "2019-12-03T07:50:44.543023Z"
    }
   },
   "outputs": [
    {
     "data": {
      "text/plain": [
       "array([[-8, -6, -4],\n",
       "       [-2,  0,  2],\n",
       "       [ 4,  6,  8]])"
      ]
     },
     "execution_count": 24,
     "metadata": {},
     "output_type": "execute_result"
    }
   ],
   "source": [
    "a - b"
   ]
  },
  {
   "cell_type": "markdown",
   "metadata": {},
   "source": [
    "##### 곱셈\n",
    "\n",
    "주의해야할건 행렬곱(dot product)이 아닌 원소별(pairwise) 곱셈입니다."
   ]
  },
  {
   "cell_type": "code",
   "execution_count": 25,
   "metadata": {
    "ExecuteTime": {
     "end_time": "2019-12-03T07:50:44.553099Z",
     "start_time": "2019-12-03T07:50:44.549508Z"
    }
   },
   "outputs": [
    {
     "data": {
      "text/plain": [
       "array([[ 9, 16, 21],\n",
       "       [24, 25, 24],\n",
       "       [21, 16,  9]])"
      ]
     },
     "execution_count": 25,
     "metadata": {},
     "output_type": "execute_result"
    }
   ],
   "source": [
    "a*b"
   ]
  },
  {
   "cell_type": "code",
   "execution_count": 26,
   "metadata": {
    "ExecuteTime": {
     "end_time": "2019-12-03T07:50:44.557519Z",
     "start_time": "2019-12-03T07:50:44.554306Z"
    }
   },
   "outputs": [
    {
     "data": {
      "text/plain": [
       "array([[ 9, 16, 21],\n",
       "       [24, 25, 24],\n",
       "       [21, 16,  9]])"
      ]
     },
     "execution_count": 26,
     "metadata": {},
     "output_type": "execute_result"
    }
   ],
   "source": [
    "np.multiply(a, b)"
   ]
  },
  {
   "cell_type": "markdown",
   "metadata": {},
   "source": [
    "##### 나눗셈"
   ]
  },
  {
   "cell_type": "code",
   "execution_count": 27,
   "metadata": {
    "ExecuteTime": {
     "end_time": "2019-12-03T07:50:44.561490Z",
     "start_time": "2019-12-03T07:50:44.558765Z"
    }
   },
   "outputs": [
    {
     "data": {
      "text/plain": [
       "array([[0.11111111, 0.25      , 0.42857143],\n",
       "       [0.66666667, 1.        , 1.5       ],\n",
       "       [2.33333333, 4.        , 9.        ]])"
      ]
     },
     "execution_count": 27,
     "metadata": {},
     "output_type": "execute_result"
    }
   ],
   "source": [
    "a / b"
   ]
  },
  {
   "cell_type": "code",
   "execution_count": 28,
   "metadata": {
    "ExecuteTime": {
     "end_time": "2019-12-03T07:50:44.565250Z",
     "start_time": "2019-12-03T07:50:44.562503Z"
    }
   },
   "outputs": [
    {
     "data": {
      "text/plain": [
       "array([[0.11111111, 0.25      , 0.42857143],\n",
       "       [0.66666667, 1.        , 1.5       ],\n",
       "       [2.33333333, 4.        , 9.        ]])"
      ]
     },
     "execution_count": 28,
     "metadata": {},
     "output_type": "execute_result"
    }
   ],
   "source": [
    "np.divide(a, b)"
   ]
  },
  {
   "cell_type": "markdown",
   "metadata": {},
   "source": [
    "##### 지수"
   ]
  },
  {
   "cell_type": "code",
   "execution_count": 29,
   "metadata": {
    "ExecuteTime": {
     "end_time": "2019-12-03T07:50:44.568757Z",
     "start_time": "2019-12-03T07:50:44.566169Z"
    }
   },
   "outputs": [
    {
     "data": {
      "text/plain": [
       "array([[2.71828183e+00, 7.38905610e+00, 2.00855369e+01],\n",
       "       [5.45981500e+01, 1.48413159e+02, 4.03428793e+02],\n",
       "       [1.09663316e+03, 2.98095799e+03, 8.10308393e+03]])"
      ]
     },
     "execution_count": 29,
     "metadata": {},
     "output_type": "execute_result"
    }
   ],
   "source": [
    "np.exp(a)"
   ]
  },
  {
   "cell_type": "markdown",
   "metadata": {},
   "source": [
    "##### 로그"
   ]
  },
  {
   "cell_type": "code",
   "execution_count": 30,
   "metadata": {
    "ExecuteTime": {
     "end_time": "2019-12-03T07:50:44.572131Z",
     "start_time": "2019-12-03T07:50:44.569583Z"
    }
   },
   "outputs": [
    {
     "data": {
      "text/plain": [
       "array([[0.        , 0.69314718, 1.09861229],\n",
       "       [1.38629436, 1.60943791, 1.79175947],\n",
       "       [1.94591015, 2.07944154, 2.19722458]])"
      ]
     },
     "execution_count": 30,
     "metadata": {},
     "output_type": "execute_result"
    }
   ],
   "source": [
    "np.log(a)"
   ]
  },
  {
   "cell_type": "markdown",
   "metadata": {},
   "source": [
    "##### 제곱근"
   ]
  },
  {
   "cell_type": "code",
   "execution_count": 31,
   "metadata": {
    "ExecuteTime": {
     "end_time": "2019-12-03T07:50:44.575499Z",
     "start_time": "2019-12-03T07:50:44.573030Z"
    }
   },
   "outputs": [
    {
     "data": {
      "text/plain": [
       "array([[1.        , 1.41421356, 1.73205081],\n",
       "       [2.        , 2.23606798, 2.44948974],\n",
       "       [2.64575131, 2.82842712, 3.        ]])"
      ]
     },
     "execution_count": 31,
     "metadata": {},
     "output_type": "execute_result"
    }
   ],
   "source": [
    "np.sqrt(a)"
   ]
  },
  {
   "cell_type": "markdown",
   "metadata": {},
   "source": [
    "##### 삼각함수 sin"
   ]
  },
  {
   "cell_type": "code",
   "execution_count": 32,
   "metadata": {
    "ExecuteTime": {
     "end_time": "2019-12-03T07:50:44.578974Z",
     "start_time": "2019-12-03T07:50:44.576408Z"
    }
   },
   "outputs": [
    {
     "data": {
      "text/plain": [
       "array([[ 0.84147098,  0.90929743,  0.14112001],\n",
       "       [-0.7568025 , -0.95892427, -0.2794155 ],\n",
       "       [ 0.6569866 ,  0.98935825,  0.41211849]])"
      ]
     },
     "execution_count": 32,
     "metadata": {},
     "output_type": "execute_result"
    }
   ],
   "source": [
    "np.sin(a)"
   ]
  },
  {
   "cell_type": "markdown",
   "metadata": {},
   "source": [
    "##### 삼각함수 cos"
   ]
  },
  {
   "cell_type": "code",
   "execution_count": 33,
   "metadata": {
    "ExecuteTime": {
     "end_time": "2019-12-03T07:50:44.582333Z",
     "start_time": "2019-12-03T07:50:44.579800Z"
    }
   },
   "outputs": [
    {
     "data": {
      "text/plain": [
       "array([[ 0.54030231, -0.41614684, -0.9899925 ],\n",
       "       [-0.65364362,  0.28366219,  0.96017029],\n",
       "       [ 0.75390225, -0.14550003, -0.91113026]])"
      ]
     },
     "execution_count": 33,
     "metadata": {},
     "output_type": "execute_result"
    }
   ],
   "source": [
    "np.cos(a)"
   ]
  },
  {
   "cell_type": "markdown",
   "metadata": {},
   "source": [
    "##### 삼각함수 tan"
   ]
  },
  {
   "cell_type": "code",
   "execution_count": 34,
   "metadata": {
    "ExecuteTime": {
     "end_time": "2019-12-03T07:50:44.585677Z",
     "start_time": "2019-12-03T07:50:44.583175Z"
    }
   },
   "outputs": [
    {
     "data": {
      "text/plain": [
       "array([[ 1.55740772, -2.18503986, -0.14254654],\n",
       "       [ 1.15782128, -3.38051501, -0.29100619],\n",
       "       [ 0.87144798, -6.79971146, -0.45231566]])"
      ]
     },
     "execution_count": 34,
     "metadata": {},
     "output_type": "execute_result"
    }
   ],
   "source": [
    "np.tan(a)"
   ]
  },
  {
   "cell_type": "markdown",
   "metadata": {},
   "source": [
    "##### 내적 (dot product)"
   ]
  },
  {
   "cell_type": "code",
   "execution_count": 35,
   "metadata": {
    "ExecuteTime": {
     "end_time": "2019-12-03T07:50:44.589029Z",
     "start_time": "2019-12-03T07:50:44.586512Z"
    }
   },
   "outputs": [
    {
     "data": {
      "text/plain": [
       "array([[ 30,  24,  18],\n",
       "       [ 84,  69,  54],\n",
       "       [138, 114,  90]])"
      ]
     },
     "execution_count": 35,
     "metadata": {},
     "output_type": "execute_result"
    }
   ],
   "source": [
    "np.dot(a, b)"
   ]
  },
  {
   "cell_type": "markdown",
   "metadata": {},
   "source": [
    "#### 비교 연산"
   ]
  },
  {
   "cell_type": "markdown",
   "metadata": {},
   "source": [
    "##### 배열의 요소별 비교 (Element-wise)\n",
    "\n",
    "> 기본 연산자를 이용하여 요소별 비교를 할 수 있습니다."
   ]
  },
  {
   "cell_type": "code",
   "execution_count": 36,
   "metadata": {
    "ExecuteTime": {
     "end_time": "2019-12-03T07:50:44.592236Z",
     "start_time": "2019-12-03T07:50:44.589899Z"
    }
   },
   "outputs": [
    {
     "data": {
      "text/plain": [
       "array([[False, False, False],\n",
       "       [False,  True, False],\n",
       "       [False, False, False]])"
      ]
     },
     "execution_count": 36,
     "metadata": {},
     "output_type": "execute_result"
    }
   ],
   "source": [
    "a == b"
   ]
  },
  {
   "cell_type": "code",
   "execution_count": 37,
   "metadata": {
    "ExecuteTime": {
     "end_time": "2019-12-03T07:50:44.595238Z",
     "start_time": "2019-12-03T07:50:44.593051Z"
    }
   },
   "outputs": [
    {
     "data": {
      "text/plain": [
       "array([[False, False, False],\n",
       "       [False, False,  True],\n",
       "       [ True,  True,  True]])"
      ]
     },
     "execution_count": 37,
     "metadata": {},
     "output_type": "execute_result"
    }
   ],
   "source": [
    "a > b"
   ]
  },
  {
   "cell_type": "markdown",
   "metadata": {},
   "source": [
    "##### 배열 비교 (Array-wise)\n",
    "\n",
    "> 두 배열 전체는 np.array_equal 함수를 사용하여 비교합니다."
   ]
  },
  {
   "cell_type": "code",
   "execution_count": 38,
   "metadata": {
    "ExecuteTime": {
     "end_time": "2019-12-03T07:50:44.598501Z",
     "start_time": "2019-12-03T07:50:44.596155Z"
    }
   },
   "outputs": [
    {
     "data": {
      "text/plain": [
       "False"
      ]
     },
     "execution_count": 38,
     "metadata": {},
     "output_type": "execute_result"
    }
   ],
   "source": [
    "np.array_equal(a, b)"
   ]
  },
  {
   "cell_type": "markdown",
   "metadata": {},
   "source": [
    "#### 집계 연산\n",
    "\n",
    "NumPy의 모든 집계 함수는 집계 함수는 **`AXIS`를 기준으로 계산**됩니다. 집계함수에 AXIS를 지정하지 않으면 axis=None입니다. axis=None, 0, 1은 다음과 같은 기준으로 생각할 수 있습니다."
   ]
  },
  {
   "cell_type": "code",
   "execution_count": 39,
   "metadata": {
    "ExecuteTime": {
     "end_time": "2019-12-03T07:50:44.601801Z",
     "start_time": "2019-12-03T07:50:44.599443Z"
    }
   },
   "outputs": [
    {
     "data": {
      "text/plain": [
       "array([[1, 2, 3],\n",
       "       [4, 5, 6],\n",
       "       [7, 8, 9]])"
      ]
     },
     "execution_count": 39,
     "metadata": {},
     "output_type": "execute_result"
    }
   ],
   "source": [
    "a"
   ]
  },
  {
   "cell_type": "markdown",
   "metadata": {},
   "source": [
    "##### np.sum\n",
    "\n",
    "> 지정된 axis를 기준으로 요소의 합을 반환합니다."
   ]
  },
  {
   "cell_type": "code",
   "execution_count": 40,
   "metadata": {
    "ExecuteTime": {
     "end_time": "2019-12-03T07:50:44.605198Z",
     "start_time": "2019-12-03T07:50:44.602706Z"
    }
   },
   "outputs": [
    {
     "data": {
      "text/plain": [
       "45"
      ]
     },
     "execution_count": 40,
     "metadata": {},
     "output_type": "execute_result"
    }
   ],
   "source": [
    "a.sum()"
   ]
  },
  {
   "cell_type": "code",
   "execution_count": 41,
   "metadata": {
    "ExecuteTime": {
     "end_time": "2019-12-03T07:50:44.608653Z",
     "start_time": "2019-12-03T07:50:44.606048Z"
    }
   },
   "outputs": [
    {
     "data": {
      "text/plain": [
       "45"
      ]
     },
     "execution_count": 41,
     "metadata": {},
     "output_type": "execute_result"
    }
   ],
   "source": [
    "np.sum(a)"
   ]
  },
  {
   "cell_type": "code",
   "execution_count": 42,
   "metadata": {
    "ExecuteTime": {
     "end_time": "2019-12-03T07:50:44.612202Z",
     "start_time": "2019-12-03T07:50:44.609579Z"
    }
   },
   "outputs": [
    {
     "data": {
      "text/plain": [
       "array([12, 15, 18])"
      ]
     },
     "execution_count": 42,
     "metadata": {},
     "output_type": "execute_result"
    }
   ],
   "source": [
    "np.sum(a, axis=0) # 열 기준"
   ]
  },
  {
   "cell_type": "code",
   "execution_count": 43,
   "metadata": {
    "ExecuteTime": {
     "end_time": "2019-12-03T07:50:44.615530Z",
     "start_time": "2019-12-03T07:50:44.613035Z"
    }
   },
   "outputs": [
    {
     "data": {
      "text/plain": [
       "array([ 6, 15, 24])"
      ]
     },
     "execution_count": 43,
     "metadata": {},
     "output_type": "execute_result"
    }
   ],
   "source": [
    "a.sum(axis=1) # 행 기준"
   ]
  },
  {
   "cell_type": "markdown",
   "metadata": {},
   "source": [
    "##### np.min\n",
    "\n",
    "> 지정된 axis를 기준으로 요소의 최소값을 반환합니다."
   ]
  },
  {
   "cell_type": "code",
   "execution_count": 44,
   "metadata": {
    "ExecuteTime": {
     "end_time": "2019-12-03T07:50:44.619526Z",
     "start_time": "2019-12-03T07:50:44.616420Z"
    }
   },
   "outputs": [
    {
     "data": {
      "text/plain": [
       "1"
      ]
     },
     "execution_count": 44,
     "metadata": {},
     "output_type": "execute_result"
    }
   ],
   "source": [
    "a.min()"
   ]
  },
  {
   "cell_type": "code",
   "execution_count": 45,
   "metadata": {
    "ExecuteTime": {
     "end_time": "2019-12-03T07:50:44.622887Z",
     "start_time": "2019-12-03T07:50:44.620385Z"
    }
   },
   "outputs": [
    {
     "data": {
      "text/plain": [
       "1"
      ]
     },
     "execution_count": 45,
     "metadata": {},
     "output_type": "execute_result"
    }
   ],
   "source": [
    "np.min(a)"
   ]
  },
  {
   "cell_type": "code",
   "execution_count": 46,
   "metadata": {
    "ExecuteTime": {
     "end_time": "2019-12-03T07:50:44.626140Z",
     "start_time": "2019-12-03T07:50:44.623760Z"
    }
   },
   "outputs": [
    {
     "data": {
      "text/plain": [
       "array([1, 2, 3])"
      ]
     },
     "execution_count": 46,
     "metadata": {},
     "output_type": "execute_result"
    }
   ],
   "source": [
    "np.min(a, axis=0)"
   ]
  },
  {
   "cell_type": "code",
   "execution_count": 47,
   "metadata": {
    "ExecuteTime": {
     "end_time": "2019-12-03T07:50:44.629526Z",
     "start_time": "2019-12-03T07:50:44.627088Z"
    }
   },
   "outputs": [
    {
     "data": {
      "text/plain": [
       "array([1, 4, 7])"
      ]
     },
     "execution_count": 47,
     "metadata": {},
     "output_type": "execute_result"
    }
   ],
   "source": [
    "a.min(axis=1)"
   ]
  },
  {
   "cell_type": "markdown",
   "metadata": {},
   "source": [
    "##### np.max\n",
    "\n",
    "> 지정된 axis를 기준으로 요소의 최대값을 반환합니다."
   ]
  },
  {
   "cell_type": "code",
   "execution_count": 48,
   "metadata": {
    "ExecuteTime": {
     "end_time": "2019-12-03T07:50:44.632795Z",
     "start_time": "2019-12-03T07:50:44.630344Z"
    }
   },
   "outputs": [
    {
     "data": {
      "text/plain": [
       "9"
      ]
     },
     "execution_count": 48,
     "metadata": {},
     "output_type": "execute_result"
    }
   ],
   "source": [
    "a.max()"
   ]
  },
  {
   "cell_type": "code",
   "execution_count": 49,
   "metadata": {
    "ExecuteTime": {
     "end_time": "2019-12-03T07:50:44.636150Z",
     "start_time": "2019-12-03T07:50:44.633712Z"
    }
   },
   "outputs": [
    {
     "data": {
      "text/plain": [
       "9"
      ]
     },
     "execution_count": 49,
     "metadata": {},
     "output_type": "execute_result"
    }
   ],
   "source": [
    "np.max(a)"
   ]
  },
  {
   "cell_type": "code",
   "execution_count": 50,
   "metadata": {
    "ExecuteTime": {
     "end_time": "2019-12-03T07:50:44.639369Z",
     "start_time": "2019-12-03T07:50:44.636990Z"
    }
   },
   "outputs": [
    {
     "data": {
      "text/plain": [
       "array([7, 8, 9])"
      ]
     },
     "execution_count": 50,
     "metadata": {},
     "output_type": "execute_result"
    }
   ],
   "source": [
    "np.max(a, axis=0)"
   ]
  },
  {
   "cell_type": "code",
   "execution_count": 51,
   "metadata": {
    "ExecuteTime": {
     "end_time": "2019-12-03T07:50:44.642753Z",
     "start_time": "2019-12-03T07:50:44.640209Z"
    }
   },
   "outputs": [
    {
     "data": {
      "text/plain": [
       "array([3, 6, 9])"
      ]
     },
     "execution_count": 51,
     "metadata": {},
     "output_type": "execute_result"
    }
   ],
   "source": [
    "a.max(axis=1)"
   ]
  },
  {
   "cell_type": "markdown",
   "metadata": {},
   "source": [
    "##### np.cumsum\n",
    "\n",
    "> 지정된 axis를 기준으로 각 요소의 누적 합의 결과를 반환합니다."
   ]
  },
  {
   "cell_type": "code",
   "execution_count": 52,
   "metadata": {
    "ExecuteTime": {
     "end_time": "2019-12-03T07:50:44.645890Z",
     "start_time": "2019-12-03T07:50:44.643600Z"
    }
   },
   "outputs": [
    {
     "data": {
      "text/plain": [
       "array([ 1,  3,  6, 10, 15, 21, 28, 36, 45])"
      ]
     },
     "execution_count": 52,
     "metadata": {},
     "output_type": "execute_result"
    }
   ],
   "source": [
    "a.cumsum()"
   ]
  },
  {
   "cell_type": "code",
   "execution_count": 53,
   "metadata": {
    "ExecuteTime": {
     "end_time": "2019-12-03T07:50:44.649191Z",
     "start_time": "2019-12-03T07:50:44.646679Z"
    }
   },
   "outputs": [
    {
     "data": {
      "text/plain": [
       "array([ 1,  3,  6, 10, 15, 21, 28, 36, 45])"
      ]
     },
     "execution_count": 53,
     "metadata": {},
     "output_type": "execute_result"
    }
   ],
   "source": [
    "np.cumsum(a)"
   ]
  },
  {
   "cell_type": "code",
   "execution_count": 54,
   "metadata": {
    "ExecuteTime": {
     "end_time": "2019-12-03T07:50:44.652818Z",
     "start_time": "2019-12-03T07:50:44.650031Z"
    }
   },
   "outputs": [
    {
     "data": {
      "text/plain": [
       "array([[ 1,  2,  3],\n",
       "       [ 5,  7,  9],\n",
       "       [12, 15, 18]])"
      ]
     },
     "execution_count": 54,
     "metadata": {},
     "output_type": "execute_result"
    }
   ],
   "source": [
    "np.cumsum(a, axis=0)"
   ]
  },
  {
   "cell_type": "code",
   "execution_count": 55,
   "metadata": {
    "ExecuteTime": {
     "end_time": "2019-12-03T07:50:44.656409Z",
     "start_time": "2019-12-03T07:50:44.653759Z"
    }
   },
   "outputs": [
    {
     "data": {
      "text/plain": [
       "array([[ 1,  3,  6],\n",
       "       [ 4,  9, 15],\n",
       "       [ 7, 15, 24]])"
      ]
     },
     "execution_count": 55,
     "metadata": {},
     "output_type": "execute_result"
    }
   ],
   "source": [
    "a.cumsum(axis=1)"
   ]
  },
  {
   "cell_type": "markdown",
   "metadata": {},
   "source": [
    "##### np.mean\n",
    "\n",
    "> 지정된 axis를 기준으로 요소의 평균을 반환합니다."
   ]
  },
  {
   "cell_type": "code",
   "execution_count": 56,
   "metadata": {
    "ExecuteTime": {
     "end_time": "2019-12-03T07:50:44.659685Z",
     "start_time": "2019-12-03T07:50:44.657245Z"
    }
   },
   "outputs": [
    {
     "data": {
      "text/plain": [
       "5.0"
      ]
     },
     "execution_count": 56,
     "metadata": {},
     "output_type": "execute_result"
    }
   ],
   "source": [
    "a.mean()"
   ]
  },
  {
   "cell_type": "code",
   "execution_count": 57,
   "metadata": {
    "ExecuteTime": {
     "end_time": "2019-12-03T07:50:44.662938Z",
     "start_time": "2019-12-03T07:50:44.660548Z"
    }
   },
   "outputs": [
    {
     "data": {
      "text/plain": [
       "5.0"
      ]
     },
     "execution_count": 57,
     "metadata": {},
     "output_type": "execute_result"
    }
   ],
   "source": [
    "np.mean(a)"
   ]
  },
  {
   "cell_type": "code",
   "execution_count": 58,
   "metadata": {
    "ExecuteTime": {
     "end_time": "2019-12-03T07:50:44.666381Z",
     "start_time": "2019-12-03T07:50:44.663878Z"
    }
   },
   "outputs": [
    {
     "data": {
      "text/plain": [
       "array([4., 5., 6.])"
      ]
     },
     "execution_count": 58,
     "metadata": {},
     "output_type": "execute_result"
    }
   ],
   "source": [
    "np.mean(a, axis=0)"
   ]
  },
  {
   "cell_type": "code",
   "execution_count": 59,
   "metadata": {
    "ExecuteTime": {
     "end_time": "2019-12-03T07:50:44.670243Z",
     "start_time": "2019-12-03T07:50:44.667226Z"
    }
   },
   "outputs": [
    {
     "data": {
      "text/plain": [
       "array([2., 5., 8.])"
      ]
     },
     "execution_count": 59,
     "metadata": {},
     "output_type": "execute_result"
    }
   ],
   "source": [
    "a.mean(axis=1)"
   ]
  },
  {
   "cell_type": "markdown",
   "metadata": {},
   "source": [
    "##### np.median\n",
    "\n",
    "> 지정된 axis를 기준으로 요소의 중앙값을 반환합니다."
   ]
  },
  {
   "cell_type": "code",
   "execution_count": 60,
   "metadata": {
    "ExecuteTime": {
     "end_time": "2019-12-03T07:50:44.673920Z",
     "start_time": "2019-12-03T07:50:44.671314Z"
    }
   },
   "outputs": [
    {
     "data": {
      "text/plain": [
       "5.0"
      ]
     },
     "execution_count": 60,
     "metadata": {},
     "output_type": "execute_result"
    }
   ],
   "source": [
    "np.median(a)"
   ]
  },
  {
   "cell_type": "markdown",
   "metadata": {},
   "source": [
    "##### np.corrcoef"
   ]
  },
  {
   "cell_type": "code",
   "execution_count": 61,
   "metadata": {
    "ExecuteTime": {
     "end_time": "2019-12-03T07:50:44.696800Z",
     "start_time": "2019-12-03T07:50:44.674828Z"
    }
   },
   "outputs": [
    {
     "data": {
      "text/plain": [
       "array([[1., 1., 1.],\n",
       "       [1., 1., 1.],\n",
       "       [1., 1., 1.]])"
      ]
     },
     "execution_count": 61,
     "metadata": {},
     "output_type": "execute_result"
    }
   ],
   "source": [
    "np.corrcoef(a)"
   ]
  },
  {
   "cell_type": "markdown",
   "metadata": {},
   "source": [
    "##### np.std\n",
    "\n",
    "> 지정된 axis를 기준으로 요소의 표준 편차를 계산합니다."
   ]
  },
  {
   "cell_type": "code",
   "execution_count": 62,
   "metadata": {
    "ExecuteTime": {
     "end_time": "2019-12-03T07:50:44.700363Z",
     "start_time": "2019-12-03T07:50:44.697822Z"
    }
   },
   "outputs": [
    {
     "data": {
      "text/plain": [
       "2.581988897471611"
      ]
     },
     "execution_count": 62,
     "metadata": {},
     "output_type": "execute_result"
    }
   ],
   "source": [
    "a.std()"
   ]
  },
  {
   "cell_type": "code",
   "execution_count": 63,
   "metadata": {
    "ExecuteTime": {
     "end_time": "2019-12-03T07:50:44.704840Z",
     "start_time": "2019-12-03T07:50:44.701217Z"
    }
   },
   "outputs": [
    {
     "data": {
      "text/plain": [
       "2.581988897471611"
      ]
     },
     "execution_count": 63,
     "metadata": {},
     "output_type": "execute_result"
    }
   ],
   "source": [
    "np.std(a)"
   ]
  },
  {
   "cell_type": "code",
   "execution_count": 64,
   "metadata": {
    "ExecuteTime": {
     "end_time": "2019-12-03T07:50:44.708542Z",
     "start_time": "2019-12-03T07:50:44.705715Z"
    }
   },
   "outputs": [
    {
     "data": {
      "text/plain": [
       "array([2.44948974, 2.44948974, 2.44948974])"
      ]
     },
     "execution_count": 64,
     "metadata": {},
     "output_type": "execute_result"
    }
   ],
   "source": [
    "np.std(a, axis=0)"
   ]
  },
  {
   "cell_type": "code",
   "execution_count": 65,
   "metadata": {
    "ExecuteTime": {
     "end_time": "2019-12-03T07:50:44.711834Z",
     "start_time": "2019-12-03T07:50:44.709345Z"
    }
   },
   "outputs": [
    {
     "data": {
      "text/plain": [
       "array([0.81649658, 0.81649658, 0.81649658])"
      ]
     },
     "execution_count": 65,
     "metadata": {},
     "output_type": "execute_result"
    }
   ],
   "source": [
    "a.std(axis=1)"
   ]
  },
  {
   "cell_type": "markdown",
   "metadata": {},
   "source": [
    "### 브로드캐스팅\n",
    "\n",
    "Shape이 같은 두 배열에 대한 이항 연산은 배열의 요소별로 수행됩니다. **두 배열 간의 Shape이 다를 경우** 두 배열 간의 형상을 맞추는 아래와 같은 Broadcasting 과정을 거칩니다.\n",
    "\n",
    "<img src='./img/numpy-broadcasting.png'>\n",
    "Ref : https://mathematica.stackexchange.com/questions/99171/how-to-implement-the-general-array-broadcasting-method-from-numpy"
   ]
  },
  {
   "cell_type": "markdown",
   "metadata": {},
   "source": [
    "#### Shape이 같은 배열의 이항 연산\n",
    "Shape이 같은 두 배열을 이항 연살 할 경우 위치가 같은 요소 단위로 수행됩니다."
   ]
  },
  {
   "cell_type": "code",
   "execution_count": 66,
   "metadata": {
    "ExecuteTime": {
     "end_time": "2019-12-03T07:50:44.715288Z",
     "start_time": "2019-12-03T07:50:44.712609Z"
    }
   },
   "outputs": [
    {
     "data": {
      "text/plain": [
       "array([[ 1,  2,  3,  4,  5,  6],\n",
       "       [ 7,  8,  9, 10, 11, 12],\n",
       "       [13, 14, 15, 16, 17, 18],\n",
       "       [19, 20, 21, 22, 23, 24]])"
      ]
     },
     "execution_count": 66,
     "metadata": {},
     "output_type": "execute_result"
    }
   ],
   "source": [
    "a = np.arange(1, 25).reshape(4, 6)\n",
    "a"
   ]
  },
  {
   "cell_type": "code",
   "execution_count": 67,
   "metadata": {
    "ExecuteTime": {
     "end_time": "2019-12-03T07:50:47.342605Z",
     "start_time": "2019-12-03T07:50:47.336913Z"
    }
   },
   "outputs": [
    {
     "data": {
      "text/plain": [
       "array([[25, 26, 27, 28, 29, 30],\n",
       "       [31, 32, 33, 34, 35, 36],\n",
       "       [37, 38, 39, 40, 41, 42],\n",
       "       [43, 44, 45, 46, 47, 48]])"
      ]
     },
     "execution_count": 67,
     "metadata": {},
     "output_type": "execute_result"
    }
   ],
   "source": [
    "b = np.arange(25, 49).reshape(4, 6)\n",
    "b"
   ]
  },
  {
   "cell_type": "code",
   "execution_count": 68,
   "metadata": {
    "ExecuteTime": {
     "end_time": "2019-12-03T07:51:30.377534Z",
     "start_time": "2019-12-03T07:51:30.372424Z"
    }
   },
   "outputs": [
    {
     "data": {
      "text/plain": [
       "array([[26, 28, 30, 32, 34, 36],\n",
       "       [38, 40, 42, 44, 46, 48],\n",
       "       [50, 52, 54, 56, 58, 60],\n",
       "       [62, 64, 66, 68, 70, 72]])"
      ]
     },
     "execution_count": 68,
     "metadata": {},
     "output_type": "execute_result"
    }
   ],
   "source": [
    "a + b"
   ]
  },
  {
   "cell_type": "markdown",
   "metadata": {},
   "source": [
    "#### Shape이 다른 두 배열의 연산\n",
    "- Shape이 다른 두 배열 사이의 이항 연산에서 브로드케스팅 발생\n",
    "- 두 배열을 같은 Shape으로 만든 후 연산을 수행"
   ]
  },
  {
   "cell_type": "markdown",
   "metadata": {},
   "source": [
    "##### 배열과 스칼라\n",
    "배열과 스칼라 사이의 이항 연산 시 스칼라를 배열로 변형합니다."
   ]
  },
  {
   "cell_type": "code",
   "execution_count": 69,
   "metadata": {
    "ExecuteTime": {
     "end_time": "2019-12-03T07:56:11.503431Z",
     "start_time": "2019-12-03T07:56:11.497220Z"
    }
   },
   "outputs": [
    {
     "data": {
      "text/plain": [
       "array([[ 1,  2,  3,  4,  5,  6],\n",
       "       [ 7,  8,  9, 10, 11, 12],\n",
       "       [13, 14, 15, 16, 17, 18],\n",
       "       [19, 20, 21, 22, 23, 24]])"
      ]
     },
     "execution_count": 69,
     "metadata": {},
     "output_type": "execute_result"
    }
   ],
   "source": [
    "a = np.arange(1, 25).reshape(4, 6)\n",
    "a"
   ]
  },
  {
   "cell_type": "code",
   "execution_count": 70,
   "metadata": {
    "ExecuteTime": {
     "end_time": "2019-12-03T07:56:15.131272Z",
     "start_time": "2019-12-03T07:56:15.125395Z"
    }
   },
   "outputs": [
    {
     "data": {
      "text/plain": [
       "array([[101, 102, 103, 104, 105, 106],\n",
       "       [107, 108, 109, 110, 111, 112],\n",
       "       [113, 114, 115, 116, 117, 118],\n",
       "       [119, 120, 121, 122, 123, 124]])"
      ]
     },
     "execution_count": 70,
     "metadata": {},
     "output_type": "execute_result"
    }
   ],
   "source": [
    "a + 100"
   ]
  },
  {
   "cell_type": "markdown",
   "metadata": {},
   "source": [
    "##### Shape이 다른 배열들의 연산"
   ]
  },
  {
   "cell_type": "code",
   "execution_count": 71,
   "metadata": {
    "ExecuteTime": {
     "end_time": "2019-12-03T07:57:09.712135Z",
     "start_time": "2019-12-03T07:57:09.706457Z"
    }
   },
   "outputs": [
    {
     "data": {
      "text/plain": [
       "array([[0, 1, 2, 3, 4]])"
      ]
     },
     "execution_count": 71,
     "metadata": {},
     "output_type": "execute_result"
    }
   ],
   "source": [
    "a = np.arange(5).reshape((1, 5))\n",
    "a"
   ]
  },
  {
   "cell_type": "code",
   "execution_count": 72,
   "metadata": {
    "ExecuteTime": {
     "end_time": "2019-12-03T07:57:09.850395Z",
     "start_time": "2019-12-03T07:57:09.839871Z"
    }
   },
   "outputs": [
    {
     "data": {
      "text/plain": [
       "array([[0],\n",
       "       [1],\n",
       "       [2],\n",
       "       [3],\n",
       "       [4]])"
      ]
     },
     "execution_count": 72,
     "metadata": {},
     "output_type": "execute_result"
    }
   ],
   "source": [
    "b = np.arange(5).reshape((5, 1))\n",
    "b"
   ]
  },
  {
   "cell_type": "code",
   "execution_count": 73,
   "metadata": {
    "ExecuteTime": {
     "end_time": "2019-12-03T07:57:18.606236Z",
     "start_time": "2019-12-03T07:57:18.600824Z"
    }
   },
   "outputs": [
    {
     "data": {
      "text/plain": [
       "array([[0, 1, 2, 3, 4],\n",
       "       [1, 2, 3, 4, 5],\n",
       "       [2, 3, 4, 5, 6],\n",
       "       [3, 4, 5, 6, 7],\n",
       "       [4, 5, 6, 7, 8]])"
      ]
     },
     "execution_count": 73,
     "metadata": {},
     "output_type": "execute_result"
    }
   ],
   "source": [
    "a+b"
   ]
  },
  {
   "cell_type": "markdown",
   "metadata": {},
   "source": [
    "### 백터연산\n",
    "\n",
    "NumPy는 벡터 연산을 지원합니다. NumPy의 집합 연산에는 Vectorization이 적용되어 있습니다. 배열 처리에 대한 벡터 연산을 적용할 경우 처리 속도가 100배 이상 향상됩니다. 머신러닝에서 선형대수 연산을 처리할 때 매우 높은 효과가 있을 수 있습니다.\n",
    "\n",
    "아래 테스트에서 천만 개의 요소를 갖는 배열의 요소를 합산하는 코드를 반복문으로 처리하면 2.5초가 소요됩니다. 이 연산을 벡터 연산으로 처리하면 10밀리세컨드로 단축됩니다."
   ]
  },
  {
   "cell_type": "code",
   "execution_count": 74,
   "metadata": {
    "ExecuteTime": {
     "end_time": "2019-12-03T07:58:30.900341Z",
     "start_time": "2019-12-03T07:58:30.886725Z"
    }
   },
   "outputs": [],
   "source": [
    "# sample array\n",
    "a = np.arange(10000000)"
   ]
  },
  {
   "cell_type": "code",
   "execution_count": 75,
   "metadata": {
    "ExecuteTime": {
     "end_time": "2019-12-03T07:58:37.440400Z",
     "start_time": "2019-12-03T07:58:37.435923Z"
    }
   },
   "outputs": [],
   "source": [
    "result = 0"
   ]
  },
  {
   "cell_type": "markdown",
   "metadata": {},
   "source": [
    "#### loop 문을 이용한 연산"
   ]
  },
  {
   "cell_type": "code",
   "execution_count": 76,
   "metadata": {
    "ExecuteTime": {
     "end_time": "2019-12-03T07:58:53.835079Z",
     "start_time": "2019-12-03T07:58:51.941454Z"
    }
   },
   "outputs": [
    {
     "name": "stdout",
     "output_type": "stream",
     "text": [
      "CPU times: user 1.89 s, sys: 0 ns, total: 1.89 s\n",
      "Wall time: 1.89 s\n"
     ]
    },
    {
     "data": {
      "text/plain": [
       "49999995000000"
      ]
     },
     "execution_count": 76,
     "metadata": {},
     "output_type": "execute_result"
    }
   ],
   "source": [
    "%%time\n",
    "for v in a:\n",
    "    result += v\n",
    "result"
   ]
  },
  {
   "cell_type": "markdown",
   "metadata": {},
   "source": [
    "#### NumPy의 벡터연산"
   ]
  },
  {
   "cell_type": "code",
   "execution_count": 77,
   "metadata": {
    "ExecuteTime": {
     "end_time": "2019-12-03T07:59:10.642994Z",
     "start_time": "2019-12-03T07:59:10.631271Z"
    }
   },
   "outputs": [
    {
     "name": "stdout",
     "output_type": "stream",
     "text": [
      "CPU times: user 6.32 ms, sys: 0 ns, total: 6.32 ms\n",
      "Wall time: 5.39 ms\n"
     ]
    },
    {
     "data": {
      "text/plain": [
       "49999995000000"
      ]
     },
     "execution_count": 77,
     "metadata": {},
     "output_type": "execute_result"
    }
   ],
   "source": [
    "%%time\n",
    "result = np.sum(a)\n",
    "result"
   ]
  },
  {
   "cell_type": "markdown",
   "metadata": {},
   "source": [
    "---\n",
    "\n",
    "## NumPy 배열복사"
   ]
  },
  {
   "cell_type": "code",
   "execution_count": null,
   "metadata": {},
   "outputs": [],
   "source": []
  },
  {
   "cell_type": "markdown",
   "metadata": {},
   "source": [
    "---\n",
    "\n",
    "## NumPy 배열 정렬"
   ]
  },
  {
   "cell_type": "code",
   "execution_count": null,
   "metadata": {},
   "outputs": [],
   "source": []
  },
  {
   "cell_type": "markdown",
   "metadata": {},
   "source": [
    "---\n",
    "\n",
    "## Reference"
   ]
  },
  {
   "cell_type": "markdown",
   "metadata": {},
   "source": [
    "- https://www.intel.com\n",
    "- https://numpy.org/\n",
    "- https://github.com/rougier/numpy-tutorial\n",
    "- https://github.com/rougier/numpy-100\n",
    "- http://aikorea.org/cs231n/python-numpy-tutorial/\n",
    "- http://riseshia.github.io/2017/01/30/numpy-tutorial-with-code.html\n",
    "- https://datascienceschool.net/view-notebook/24e43f9df9ec4abab15e32e68e982cc1/\n",
    "- http://taewan.kim/post/numpy_cheat_sheet/"
   ]
  }
 ],
 "metadata": {
  "kernelspec": {
   "display_name": "Python [conda env:keras] *",
   "language": "python",
   "name": "conda-env-keras-py"
  },
  "language_info": {
   "codemirror_mode": {
    "name": "ipython",
    "version": 3
   },
   "file_extension": ".py",
   "mimetype": "text/x-python",
   "name": "python",
   "nbconvert_exporter": "python",
   "pygments_lexer": "ipython3",
   "version": "3.6.9"
  },
  "toc": {
   "base_numbering": 1,
   "nav_menu": {},
   "number_sections": true,
   "sideBar": true,
   "skip_h1_title": true,
   "title_cell": "강의목차",
   "title_sidebar": "Contents",
   "toc_cell": true,
   "toc_position": {
    "height": "calc(100% - 180px)",
    "left": "10px",
    "top": "150px",
    "width": "335.797px"
   },
   "toc_section_display": true,
   "toc_window_display": true
  }
 },
 "nbformat": 4,
 "nbformat_minor": 2
}
