{
 "cells": [
  {
   "cell_type": "markdown",
   "metadata": {},
   "source": [
    "<img src='./img/intel-logo.jpg' width=40%, Fig1> \n",
    "\n",
    "# Histogram \n",
    "<font size=5><b>04. 히스토그램 <b></font>\n",
    "\n",
    "<div align='right'>성  민  석 (Minsuk  Sung)</div>\n",
    "<div align='right'>류  회  성 (Hoesung Ryu)</div>\n",
    "\n",
    "<img src='./img/matplotlib_logo.png' width=50%, Fig2> \n",
    "\n",
    "\n",
    "---"
   ]
  },
  {
   "cell_type": "markdown",
   "metadata": {
    "toc": true
   },
   "source": [
    "<h1>Table of Contents<span class=\"tocSkip\"></span></h1>\n",
    "<div class=\"toc\"><ul class=\"toc-item\"><li><span><a href=\"#도수-분포표와-히스토그램\" data-toc-modified-id=\"도수-분포표와-히스토그램-1\"><span class=\"toc-item-num\">1&nbsp;&nbsp;</span>도수 분포표와 히스토그램</a></span></li><li><span><a href=\"#히스토그램-그리기\" data-toc-modified-id=\"히스토그램-그리기-2\"><span class=\"toc-item-num\">2&nbsp;&nbsp;</span>히스토그램 그리기</a></span></li><li><span><a href=\"#환자-유형별-히스토그램-그리기\" data-toc-modified-id=\"환자-유형별-히스토그램-그리기-3\"><span class=\"toc-item-num\">3&nbsp;&nbsp;</span>환자 유형별 히스토그램 그리기</a></span></li><li><span><a href=\"#히스토그램-스타일-변경하기\" data-toc-modified-id=\"히스토그램-스타일-변경하기-4\"><span class=\"toc-item-num\">4&nbsp;&nbsp;</span>히스토그램 스타일 변경하기</a></span><ul class=\"toc-item\"><li><span><a href=\"#히스토그램-스타일-바꾸기\" data-toc-modified-id=\"히스토그램-스타일-바꾸기-4.1\"><span class=\"toc-item-num\">4.1&nbsp;&nbsp;</span>히스토그램 스타일 바꾸기</a></span></li><li><span><a href=\"#투명도-설정하기\" data-toc-modified-id=\"투명도-설정하기-4.2\"><span class=\"toc-item-num\">4.2&nbsp;&nbsp;</span>투명도 설정하기</a></span></li><li><span><a href=\"#수평히스토그램그리기\" data-toc-modified-id=\"수평히스토그램그리기-4.3\"><span class=\"toc-item-num\">4.3&nbsp;&nbsp;</span>수평히스토그램그리기</a></span></li></ul></li><li><span><a href=\"#멀티히스토그램-그리기\" data-toc-modified-id=\"멀티히스토그램-그리기-5\"><span class=\"toc-item-num\">5&nbsp;&nbsp;</span>멀티히스토그램 그리기</a></span></li><li><span><a href=\"#Exercise-히스토그램-그리기\" data-toc-modified-id=\"Exercise-히스토그램-그리기-6\"><span class=\"toc-item-num\">6&nbsp;&nbsp;</span>Exercise 히스토그램 그리기</a></span><ul class=\"toc-item\"><li><span><a href=\"#bin-파라미터-조정하기\" data-toc-modified-id=\"bin-파라미터-조정하기-6.1\"><span class=\"toc-item-num\">6.1&nbsp;&nbsp;</span>bin 파라미터 조정하기</a></span></li></ul></li></ul></div>"
   ]
  },
  {
   "cell_type": "markdown",
   "metadata": {},
   "source": [
    "## 도수 분포표와 히스토그램\n",
    " \n",
    "> 도수분포표(Frrequency table): 특정 구간에 속하는 자료의 개수를 나타내는 표 <p>\n",
    "> 히스토그램(Histogram): 도수분포표를 시각적으로 표현한 막대그래프\n",
    "\n",
    "도수분포표를 가지고 데이터의 분포를 파악 할 수 있지만, 좀 더 직관적으로 파악하기 위하여 도수분포표를 사용하여 히스토그램을 그려서 분석합니다.\n",
    " \n"
   ]
  },
  {
   "cell_type": "markdown",
   "metadata": {},
   "source": [
    "## 히스토그램 그리기\n",
    "\n",
    "히스토그램 그래프를 그리기 위해서는 `plt.hist`명령어를 사용합니다. \n",
    "\n",
    "`bin` 은 몇 개의 구간으로 나눌것인지에 대한 명령어 이다. 고정값(default)는 10으로 설정 되어있습니다. \n",
    "\n",
    "우선, 환자의 혈당량에 대한 간단한 히스토그램을 그려보도록 하겠습니다. "
   ]
  },
  {
   "cell_type": "code",
   "execution_count": 12,
   "metadata": {
    "ExecuteTime": {
     "end_time": "2019-12-26T06:19:31.936307Z",
     "start_time": "2019-12-26T06:19:31.932235Z"
    },
    "scrolled": true
   },
   "outputs": [],
   "source": [
    "%matplotlib inline\n",
    "import matplotlib.pyplot as plt\n",
    "import numpy as np"
   ]
  },
  {
   "cell_type": "code",
   "execution_count": 13,
   "metadata": {
    "ExecuteTime": {
     "end_time": "2019-12-26T06:19:32.315234Z",
     "start_time": "2019-12-26T06:19:32.103815Z"
    }
   },
   "outputs": [
    {
     "data": {
      "text/plain": [
       "(array([3., 3., 1., 0., 1., 1., 0., 2., 0., 2.]),\n",
       " array([ 77. ,  84.3,  91.6,  98.9, 106.2, 113.5, 120.8, 128.1, 135.4,\n",
       "        142.7, 150. ]),\n",
       " <a list of 10 Patch objects>)"
      ]
     },
     "execution_count": 13,
     "metadata": {},
     "output_type": "execute_result"
    },
    {
     "data": {
      "image/png": "[encoded data removed]",
      "text/plain": [
       "<Figure size 432x288 with 1 Axes>"
      ]
     },
     "metadata": {
      "needs_background": "light"
     },
     "output_type": "display_data"
    }
   ],
   "source": [
    "blood_sugar = [113, 85, 90, 150, 149, 88, 93, 115, 135, 80, 77, 82, 129]\n",
    "# by default number of bins is set to 10\n",
    "plt.hist(blood_sugar, rwidth=0.8)"
   ]
  },
  {
   "cell_type": "markdown",
   "metadata": {},
   "source": [
    "## 환자 유형별 히스토그램 그리기\n",
    "\n",
    "환자의 혈당량에 대한 히스토그램 그래프를 정상, 당뇨병전증(pre-diabetic), 당뇨병(diabetic) 구분하여 그려 보도록 하겠습니다.\n",
    "\n",
    " - `bins` 에 리스트를 넣음으로써 구간을 강제 할당 할수 있습니다.\n",
    " - `color` 에 색깔 옵션을 넣어 히스토그램의 색깔을 바꿀 수 있습니다."
   ]
  },
  {
   "cell_type": "code",
   "execution_count": 18,
   "metadata": {
    "ExecuteTime": {
     "end_time": "2019-12-26T06:26:52.934439Z",
     "start_time": "2019-12-26T06:26:52.730103Z"
    },
    "scrolled": true
   },
   "outputs": [
    {
     "data": {
      "text/plain": [
       "(array([6., 2., 4.]), array([ 80, 100, 125, 150]), <a list of 3 Patch objects>)"
      ]
     },
     "execution_count": 18,
     "metadata": {},
     "output_type": "execute_result"
    },
    {
     "data": {
      "image/png": "[encoded data removed]",
      "text/plain": [
       "<Figure size 432x288 with 1 Axes>"
      ]
     },
     "metadata": {
      "needs_background": "light"
     },
     "output_type": "display_data"
    }
   ],
   "source": [
    "plt.xlabel(\"Sugar Level\")\n",
    "plt.ylabel(\"Number Of Patients\")\n",
    "plt.title(\"Blood Sugar Chart\")\n",
    "\n",
    "plt.hist(blood_sugar, bins=[80,100,125,150], rwidth=0.95, color='r')"
   ]
  },
  {
   "cell_type": "markdown",
   "metadata": {},
   "source": [
    "## 히스토그램 스타일 변경하기\n",
    "### 히스토그램 스타일 바꾸기 \n",
    "\n",
    "`histtype` 을 통해 히스토그램의 스타일을 결정할 수 있습니다. \n",
    "\n",
    "`'bar', 'barstacked', 'step', 'stepfilled'` 중 하나를 선택할 수 있으며, default 값은 `bar` 입니다."
   ]
  },
  {
   "cell_type": "code",
   "execution_count": 21,
   "metadata": {
    "ExecuteTime": {
     "end_time": "2019-12-26T06:33:59.081207Z",
     "start_time": "2019-12-26T06:33:58.892705Z"
    }
   },
   "outputs": [
    {
     "data": {
      "text/plain": [
       "(array([6., 2., 4.]), array([ 80, 100, 125, 150]), <a list of 1 Patch objects>)"
      ]
     },
     "execution_count": 21,
     "metadata": {},
     "output_type": "execute_result"
    },
    {
     "data": {
      "image/png": "[encoded data removed]",
      "text/plain": [
       "<Figure size 432x288 with 1 Axes>"
      ]
     },
     "metadata": {
      "needs_background": "light"
     },
     "output_type": "display_data"
    }
   ],
   "source": [
    "plt.hist(blood_sugar,\n",
    "         bins=[80,100,125,150],\n",
    "         rwidth=0.95,\n",
    "         color='r',\n",
    "         histtype='step'\n",
    "        )"
   ]
  },
  {
   "cell_type": "markdown",
   "metadata": {},
   "source": [
    "### 투명도 설정하기 \n",
    "`alpha` 값을 0에서 1사이로 넣어 투명도를 조정할 수 있다."
   ]
  },
  {
   "cell_type": "code",
   "execution_count": 19,
   "metadata": {
    "ExecuteTime": {
     "end_time": "2019-12-26T06:32:17.171162Z",
     "start_time": "2019-12-26T06:32:16.961631Z"
    },
    "scrolled": true
   },
   "outputs": [
    {
     "data": {
      "text/plain": [
       "(array([3., 3., 1., 0., 1., 1., 0., 2., 0., 2.]),\n",
       " array([ 77. ,  84.3,  91.6,  98.9, 106.2, 113.5, 120.8, 128.1, 135.4,\n",
       "        142.7, 150. ]),\n",
       " <a list of 10 Patch objects>)"
      ]
     },
     "execution_count": 19,
     "metadata": {},
     "output_type": "execute_result"
    },
    {
     "data": {
      "image/png": "[encoded data removed]",
      "text/plain": [
       "<Figure size 432x288 with 1 Axes>"
      ]
     },
     "metadata": {
      "needs_background": "light"
     },
     "output_type": "display_data"
    }
   ],
   "source": [
    "plt.hist(blood_sugar, rwidth=0.8, alpha=0.5)"
   ]
  },
  {
   "cell_type": "markdown",
   "metadata": {},
   "source": [
    "### 수평히스토그램그리기 \n",
    "\n",
    "```python\n",
    "orientation='horizontal'\n",
    "```\n",
    "명령어를 사용하여 수평으로 히스토그램을 그릴수 있습니다. \n",
    "\n",
    "\n",
    "\n"
   ]
  },
  {
   "cell_type": "code",
   "execution_count": 23,
   "metadata": {
    "ExecuteTime": {
     "end_time": "2019-12-26T06:36:01.406540Z",
     "start_time": "2019-12-26T06:36:01.191420Z"
    }
   },
   "outputs": [
    {
     "data": {
      "text/plain": [
       "(array([6., 2., 4.]), array([ 80, 100, 125, 150]), <a list of 3 Patch objects>)"
      ]
     },
     "execution_count": 23,
     "metadata": {},
     "output_type": "execute_result"
    },
    {
     "data": {
      "image/png": "[encoded data removed]",
      "text/plain": [
       "<Figure size 432x288 with 1 Axes>"
      ]
     },
     "metadata": {
      "needs_background": "light"
     },
     "output_type": "display_data"
    }
   ],
   "source": [
    "plt.xlabel(\"Number Of Patients\")\n",
    "plt.ylabel(\"Sugar Level\")\n",
    "plt.title(\"Blood Sugar Chart\")\n",
    "\n",
    "plt.hist(blood_sugar, bins=[80,100,125,150], rwidth=0.95, orientation='horizontal')"
   ]
  },
  {
   "cell_type": "markdown",
   "metadata": {},
   "source": [
    "## 멀티히스토그램 그리기 \n",
    "\n",
    "단일 히스토그램이 아닌 남자와 여자로 나뉘어진 히스토그램을 같이 그렵도록 하겠습니다. "
   ]
  },
  {
   "cell_type": "code",
   "execution_count": 16,
   "metadata": {
    "ExecuteTime": {
     "end_time": "2019-12-26T06:25:48.740426Z",
     "start_time": "2019-12-26T06:25:48.473563Z"
    }
   },
   "outputs": [
    {
     "data": {
      "text/plain": [
       "<matplotlib.legend.Legend at 0x12136d588>"
      ]
     },
     "execution_count": 16,
     "metadata": {},
     "output_type": "execute_result"
    },
    {
     "data": {
      "image/png": "[encoded data removed]",
      "text/plain": [
       "<Figure size 432x288 with 1 Axes>"
      ]
     },
     "metadata": {
      "needs_background": "light"
     },
     "output_type": "display_data"
    }
   ],
   "source": [
    "plt.xlabel(\"Sugar Level\")\n",
    "plt.ylabel(\"Number Of Patients\")\n",
    "plt.title(\"Blood Sugar Chart\")\n",
    "\n",
    "blood_sugar_men = [113, 85, 90, 150, 149, 88, 93, 115, 135, 80, 77, 82, 129]\n",
    "blood_sugar_women = [67, 98, 89, 120, 133, 150, 84, 69, 89, 79, 120, 112, 100]\n",
    "\n",
    "\n",
    "# 남자 혈당량, 여자혈당량 \n",
    "plt.hist([blood_sugar_men,blood_sugar_women],\n",
    "          bins=[80,100,125,150],\n",
    "          rwidth=0.95,\n",
    "          color=['green','orange'], \n",
    "          label=['men','women'])\n",
    "plt.legend()"
   ]
  },
  {
   "cell_type": "markdown",
   "metadata": {},
   "source": [
    "## Exercise 히스토그램 그리기 \n",
    "\n",
    " 도수분표표는 자료의 분포를 몇 개의 구간으로 나누고, 나누어진 각 구간에 속하는 자료가 몇 개인지 정리한 표입니다. 도수분포표는 전체 자료를 구간별로 나누어 정리되어 있으므로  전체적인 분포 모양을 좀 더 쉽게 요약해서 볼 수 있는 장점이 잇습니다. \n",
    "실제로 남학생 55명에 대한 신장(cm)에 대한 자료를 가지고 도수분포표를 작성해 봅시다. \n",
    "\n",
    "|계급구간(cm)|도수(명)|\n",
    "|:--|:--|\n",
    "|161.5 이상 165.5 미만 |6|\n",
    "|165.5 이상 169.5 미만 |12|\n",
    "|169.5 이상 173.5 미만 |18|\n",
    "|173.5 이상 177.5 미만 |11|\n",
    "|177.5 이상 181.5 미만 |8|\n",
    "|합계|55|\n",
    "\n",
    "위의 도수분포표를 가지고 데이터의 분포를 파악 할 수 있지만, 좀 더 직관적으로 파악하기 위하여 도수분포표를 사용하여 히스토그램을 그려서 분석합니다."
   ]
  },
  {
   "cell_type": "code",
   "execution_count": 7,
   "metadata": {
    "ExecuteTime": {
     "end_time": "2019-12-26T06:08:38.316322Z",
     "start_time": "2019-12-26T06:08:38.310635Z"
    }
   },
   "outputs": [],
   "source": [
    "students_height = [170, 178, 171, 168, 173,\n",
    "                   178, 171, 174, 170, 170,\n",
    "                   175, 170, 169, 166, 162,\n",
    "                   170, 171, 175, 175, 171,\n",
    "                   171, 170, 172, 179, 164,\n",
    "                   170, 181, 178, 180, 177,\n",
    "                   166, 169, 168, 165, 163,\n",
    "                   175, 166, 178, 165, 168,\n",
    "                   167, 177, 168, 177, 174,\n",
    "                   174, 176, 179, 169, 173,\n",
    "                   167, 170, 173, 170, 162 ]"
   ]
  },
  {
   "cell_type": "code",
   "execution_count": 9,
   "metadata": {
    "ExecuteTime": {
     "end_time": "2019-12-26T06:08:57.496827Z",
     "start_time": "2019-12-26T06:08:57.294565Z"
    }
   },
   "outputs": [
    {
     "data": {
      "text/plain": [
       "(array([ 6., 12., 18., 11.,  8.]),\n",
       " array([162. , 165.8, 169.6, 173.4, 177.2, 181. ]),\n",
       " <a list of 5 Patch objects>)"
      ]
     },
     "execution_count": 9,
     "metadata": {},
     "output_type": "execute_result"
    },
    {
     "data": {
      "image/png": "[encoded data removed]",
      "text/plain": [
       "<Figure size 432x288 with 1 Axes>"
      ]
     },
     "metadata": {
      "needs_background": "light"
     },
     "output_type": "display_data"
    }
   ],
   "source": [
    "# bin= 5 구간은 5개로 나눈다. \n",
    "# rwidth = 0.8 구간별 간격은 0.8로 그리도록 한다. \n",
    "plt.hist(students_height, rwidth=0.8, bins= 5) "
   ]
  },
  {
   "cell_type": "markdown",
   "metadata": {},
   "source": [
    "### bin 파라미터 조정하기 "
   ]
  },
  {
   "cell_type": "code",
   "execution_count": 11,
   "metadata": {
    "ExecuteTime": {
     "end_time": "2019-12-26T06:13:45.536422Z",
     "start_time": "2019-12-26T06:13:45.331857Z"
    },
    "scrolled": true
   },
   "outputs": [
    {
     "data": {
      "text/plain": [
       "(array([ 4.,  5.,  9., 14.,  4.,  8.,  7.,  4.]),\n",
       " array([162.   , 164.375, 166.75 , 169.125, 171.5  , 173.875, 176.25 ,\n",
       "        178.625, 181.   ]),\n",
       " <a list of 8 Patch objects>)"
      ]
     },
     "execution_count": 11,
     "metadata": {},
     "output_type": "execute_result"
    },
    {
     "data": {
      "image/png": "[encoded data removed]",
      "text/plain": [
       "<Figure size 432x288 with 1 Axes>"
      ]
     },
     "metadata": {
      "needs_background": "light"
     },
     "output_type": "display_data"
    }
   ],
   "source": [
    "plt.hist(students_height,rwidth=0.5,bins=8)"
   ]
  }
 ],
 "metadata": {
  "kernelspec": {
   "display_name": "Python 3",
   "language": "python",
   "name": "python3"
  },
  "language_info": {
   "codemirror_mode": {
    "name": "ipython",
    "version": 3
   },
   "file_extension": ".py",
   "mimetype": "text/x-python",
   "name": "python",
   "nbconvert_exporter": "python",
   "pygments_lexer": "ipython3",
   "version": "3.6.9"
  },
  "toc": {
   "base_numbering": 1,
   "nav_menu": {},
   "number_sections": true,
   "sideBar": true,
   "skip_h1_title": true,
   "title_cell": "Table of Contents",
   "title_sidebar": "Contents",
   "toc_cell": true,
   "toc_position": {},
   "toc_section_display": true,
   "toc_window_display": false
  }
 },
 "nbformat": 4,
 "nbformat_minor": 2
}
