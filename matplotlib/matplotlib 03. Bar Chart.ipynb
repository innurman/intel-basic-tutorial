{
 "cells": [
  {
   "cell_type": "markdown",
   "metadata": {},
   "source": [
    "<img src='./img/intel-logo.jpg' width=40%, Fig1> \n",
    "\n",
    "# Bar Chart \n",
    "<font size=5><b>03. 바(bar) 차트 그리기 <b></font>\n",
    "\n",
    "<div align='right'>성  민  석 (Minsuk  Sung)</div>\n",
    "<div align='right'>류  회  성 (Hoesung Ryu)</div>\n",
    "\n",
    "<img src='./img/matplotlib_logo.png' width=50%, Fig2> \n",
    "\n",
    "\n",
    "---"
   ]
  },
  {
   "cell_type": "markdown",
   "metadata": {
    "toc": true
   },
   "source": [
    "<h1>Table of Contents<span class=\"tocSkip\"></span></h1>\n",
    "<div class=\"toc\"><ul class=\"toc-item\"><li><span><a href=\"#기본-막대그래프(bar-chart)-그리기\" data-toc-modified-id=\"기본-막대그래프(bar-chart)-그리기-1\"><span class=\"toc-item-num\">1&nbsp;&nbsp;</span>기본 막대그래프(bar chart) 그리기</a></span></li><li><span><a href=\"#복합-막대그래프-그리기\" data-toc-modified-id=\"복합-막대그래프-그리기-2\"><span class=\"toc-item-num\">2&nbsp;&nbsp;</span>복합 막대그래프 그리기</a></span></li><li><span><a href=\"#가로-막대그래프(Horizontal-bar-cahrt)-그리기\" data-toc-modified-id=\"가로-막대그래프(Horizontal-bar-cahrt)-그리기-3\"><span class=\"toc-item-num\">3&nbsp;&nbsp;</span>가로 막대그래프(Horizontal bar cahrt) 그리기</a></span></li></ul></div>"
   ]
  },
  {
   "cell_type": "code",
   "execution_count": 2,
   "metadata": {
    "ExecuteTime": {
     "end_time": "2019-12-26T06:04:00.890560Z",
     "start_time": "2019-12-26T06:04:00.886110Z"
    }
   },
   "outputs": [],
   "source": [
    "%matplotlib inline\n",
    "import matplotlib.pyplot as plt\n",
    "import numpy as np"
   ]
  },
  {
   "cell_type": "markdown",
   "metadata": {},
   "source": [
    "## 기본 막대그래프(bar chart) 그리기\n",
    "\n",
    "`bar` 차트는 데이터를 분류한 후 각 데이터를 비교하는데 많이 사용되는 그래프입니다.\n",
    "\n",
    "미국 테크기업의 수익에 해당 하는 막대그래프를 `plt.bar()`  이라는 명령어를 사용하여 그려 보도록 하겠습니다.  "
   ]
  },
  {
   "cell_type": "code",
   "execution_count": 5,
   "metadata": {
    "ExecuteTime": {
     "end_time": "2019-12-24T08:43:26.461598Z",
     "start_time": "2019-12-24T08:43:26.456496Z"
    }
   },
   "outputs": [
    {
     "data": {
      "text/plain": [
       "array([0, 1, 2, 3])"
      ]
     },
     "execution_count": 5,
     "metadata": {},
     "output_type": "execute_result"
    }
   ],
   "source": [
    "# 초기값 설정 \n",
    "# 1. 회사이름, 수익\n",
    "company=['GOOGL','AMZN','MSFT','FB']\n",
    "revenue=[90,136,89,27]\n",
    "\n",
    "\n",
    "# 2. 기업 수 구하기 \n",
    "xpos = np.arange(len(company))\n",
    "xpos"
   ]
  },
  {
   "cell_type": "code",
   "execution_count": 6,
   "metadata": {
    "ExecuteTime": {
     "end_time": "2019-12-24T08:43:26.940395Z",
     "start_time": "2019-12-24T08:43:26.731138Z"
    },
    "scrolled": true
   },
   "outputs": [
    {
     "data": {
      "text/plain": [
       "<matplotlib.legend.Legend at 0x1205be080>"
      ]
     },
     "execution_count": 6,
     "metadata": {},
     "output_type": "execute_result"
    },
    {
     "data": {
      "image/png": "[encoded data removed]",
      "text/plain": [
       "<Figure size 432x288 with 1 Axes>"
      ]
     },
     "metadata": {
      "needs_background": "light"
     },
     "output_type": "display_data"
    }
   ],
   "source": [
    "# bar 그래프 그리기 \n",
    "plt.bar(xpos,revenue, label=\"Revenue\")\n",
    "\n",
    "plt.xticks(xpos,company) # x축 틱 설정\n",
    "plt.ylabel(\"Revenue(Bln)\") # y축 label 설정 \n",
    "plt.title('US Technology Stocks') # 제목 설정 \n",
    "plt.legend()"
   ]
  },
  {
   "cell_type": "markdown",
   "metadata": {},
   "source": [
    "## 복합 막대그래프 그리기 \n",
    "\n",
    "\n",
    "두가지 이상의 정보를 동시에 막대그래프에 그리기 위해서는 `plt.plot()` 과 같이 그래프를 두번 불러 오도록 합니다. "
   ]
  },
  {
   "cell_type": "code",
   "execution_count": 8,
   "metadata": {
    "ExecuteTime": {
     "end_time": "2019-12-24T08:56:04.596578Z",
     "start_time": "2019-12-24T08:56:04.593846Z"
    }
   },
   "outputs": [],
   "source": [
    "# 변수 추가\n",
    "profit=[40,2,34,12]"
   ]
  },
  {
   "cell_type": "code",
   "execution_count": 9,
   "metadata": {
    "ExecuteTime": {
     "end_time": "2019-12-24T08:56:05.499505Z",
     "start_time": "2019-12-24T08:56:05.312861Z"
    }
   },
   "outputs": [
    {
     "data": {
      "text/plain": [
       "<matplotlib.legend.Legend at 0x120885748>"
      ]
     },
     "execution_count": 9,
     "metadata": {},
     "output_type": "execute_result"
    },
    {
     "data": {
      "image/png": "[encoded data removed]",
      "text/plain": [
       "<Figure size 432x288 with 1 Axes>"
      ]
     },
     "metadata": {
      "needs_background": "light"
     },
     "output_type": "display_data"
    }
   ],
   "source": [
    "plt.bar(xpos-0.2, revenue, width=0.4, label=\"Revenue\")\n",
    "plt.bar(xpos+0.2, profit, width=0.4, label=\"Profit\")\n",
    "\n",
    "plt.xticks(xpos, company)\n",
    "plt.ylabel(\"Revenue(Bln)\")\n",
    "plt.title('US Technology Stocks')\n",
    "plt.legend()"
   ]
  },
  {
   "cell_type": "markdown",
   "metadata": {},
   "source": [
    "## 가로 막대그래프(Horizontal bar cahrt) 그리기 \n",
    "\n",
    "가로 막대그레프는 `plt.barh` 을 사용하여 그리며, `bar()` 함수와 사용법이 동일합니다.\n"
   ]
  },
  {
   "cell_type": "code",
   "execution_count": 7,
   "metadata": {
    "ExecuteTime": {
     "end_time": "2019-12-24T08:45:25.500643Z",
     "start_time": "2019-12-24T08:45:25.318060Z"
    }
   },
   "outputs": [
    {
     "data": {
      "text/plain": [
       "<matplotlib.legend.Legend at 0x12065bdd8>"
      ]
     },
     "execution_count": 7,
     "metadata": {},
     "output_type": "execute_result"
    },
    {
     "data": {
      "image/png": "[encoded data removed]",
      "text/plain": [
       "<Figure size 432x288 with 1 Axes>"
      ]
     },
     "metadata": {
      "needs_background": "light"
     },
     "output_type": "display_data"
    }
   ],
   "source": [
    "plt.barh(xpos,revenue, label=\"Revenue\")\n",
    "\n",
    "plt.yticks(xpos,company)\n",
    "plt.ylabel(\"Revenue(Bln)\")\n",
    "plt.title('US Technolog Stocks')\n",
    "plt.legend()"
   ]
  }
 ],
 "metadata": {
  "kernelspec": {
   "display_name": "Python 3",
   "language": "python",
   "name": "python3"
  },
  "language_info": {
   "codemirror_mode": {
    "name": "ipython",
    "version": 3
   },
   "file_extension": ".py",
   "mimetype": "text/x-python",
   "name": "python",
   "nbconvert_exporter": "python",
   "pygments_lexer": "ipython3",
   "version": "3.6.9"
  },
  "toc": {
   "base_numbering": 1,
   "nav_menu": {},
   "number_sections": true,
   "sideBar": true,
   "skip_h1_title": true,
   "title_cell": "Table of Contents",
   "title_sidebar": "Contents",
   "toc_cell": true,
   "toc_position": {},
   "toc_section_display": true,
   "toc_window_display": true
  }
 },
 "nbformat": 4,
 "nbformat_minor": 2
}
