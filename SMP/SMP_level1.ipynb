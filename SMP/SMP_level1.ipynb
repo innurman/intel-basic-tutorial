{
 "cells": [
  {
   "cell_type": "markdown",
   "metadata": {},
   "source": [
    "<img src='./img/intel-logo.jpg' width=50%, Fig1>\n",
    "\n",
    "# Solve Math Problem(SMP)\n",
    "<font size=5><b>01. 파이썬을 사용하여 초등수학문제 풀기<b></font>\n",
    "\n",
    "<div align='right'>성  민  석 (Minsuk  Sung)</div>\n",
    "<div align='right'>류  회  성 (Hoesung Ryu)</div>"
   ]
  },
  {
   "cell_type": "markdown",
   "metadata": {
    "toc": true
   },
   "source": [
    "<h1>Table of Contents<span class=\"tocSkip\"></span></h1>\n",
    "<div class=\"toc\"><ul class=\"toc-item\"><li><span><a href=\"#들어가기-앞서\" data-toc-modified-id=\"들어가기-앞서-1\"><span class=\"toc-item-num\">1&nbsp;&nbsp;</span>들어가기 앞서</a></span></li><li><span><a href=\"#기본문제\" data-toc-modified-id=\"기본문제-2\"><span class=\"toc-item-num\">2&nbsp;&nbsp;</span>기본문제</a></span></li><li><span><a href=\"#Advance-level\" data-toc-modified-id=\"Advance-level-3\"><span class=\"toc-item-num\">3&nbsp;&nbsp;</span>Advance level</a></span></li></ul></div>"
   ]
  },
  {
   "cell_type": "markdown",
   "metadata": {},
   "source": [
    "## 들어가기 앞서 \n",
    "\n",
    "1. 기본적으로 파이썬에서는 기본 사칙 연산자를 다음과 같은 기호로 사용할 수 있습니다. \n",
    "    - 더하기 (+)\n",
    "    - 빼기 (-)\n",
    "    - 곱하기 (*)\n",
    "    - 나누기 (/,//,%)\n",
    "    - $n$ 제곱 (**)\n",
    "\n",
    "\n",
    "\n",
    "2. 파이썬에서는 `print` 기호를 사용하여 결과를 인쇄 할수 있습니다. \n",
    " - `print` 기호와 `.format()`을 사용하여 특정 변수를 문자와 같이 출력 할수 있습니다.\n",
    "표시하고자 하는 위치에 `{}`를 사용하여 표시한 후 `.format()` 괄호안에 특정변수를 입력하여 출력합니다. \n",
    "\n",
    "ex) \n",
    "```python\n",
    "print('문자와 같이 표시하기 {}'.format(특정변수))\n",
    "```"
   ]
  },
  {
   "cell_type": "markdown",
   "metadata": {},
   "source": [
    "## 기본문제\n",
    "\n",
    "덧셈, 뺄셈, 곱셈, 나눗셈 과 같은 기본 연산자를 사용하는 문제를 풀어 보는 시간을 가져보고자 합니다. "
   ]
  },
  {
   "cell_type": "markdown",
   "metadata": {},
   "source": [
    "```\n",
    "Q1. 분수의 나눗셈을 하시오. \n",
    "```\n",
    "$$\\frac{5}{9} \\div \\frac{4}{15}$$\n",
    "\n",
    "```\n",
    "(Hint)\n",
    "------------------------------\n",
    "파이썬에서 나눗셈은 '/' 기호를 사용한다.\n",
    "------------------------------\n",
    "```"
   ]
  },
  {
   "cell_type": "code",
   "execution_count": 1,
   "metadata": {
    "ExecuteTime": {
     "end_time": "2020-01-01T06:01:46.543138Z",
     "start_time": "2020-01-01T06:01:46.530919Z"
    }
   },
   "outputs": [
    {
     "data": {
      "text/plain": [
       "0.00925925925925926"
      ]
     },
     "execution_count": 1,
     "metadata": {},
     "output_type": "execute_result"
    }
   ],
   "source": [
    "(5/9)/4/15"
   ]
  },
  {
   "cell_type": "markdown",
   "metadata": {},
   "source": [
    "---\n",
    "```\n",
    "Q2. 몫을 구하시오.\n",
    "```\n",
    "$$\\frac{13}{6}$$\n",
    "\n",
    "```\n",
    "(Hint)\n",
    "------------------------------\n",
    "파이썬에서 몫은 '//' 기호를 사용하여 쉽게 구할 수 있다.\n",
    "------------------------------\n",
    "```\n",
    "\n"
   ]
  },
  {
   "cell_type": "code",
   "execution_count": 2,
   "metadata": {
    "ExecuteTime": {
     "end_time": "2020-01-01T06:01:46.552589Z",
     "start_time": "2020-01-01T06:01:46.546385Z"
    }
   },
   "outputs": [
    {
     "data": {
      "text/plain": [
       "2"
      ]
     },
     "execution_count": 2,
     "metadata": {},
     "output_type": "execute_result"
    }
   ],
   "source": [
    "13//6"
   ]
  },
  {
   "cell_type": "markdown",
   "metadata": {},
   "source": [
    "```\n",
    "Q3. 2의 10제곱을 구하시오.\n",
    "```\n",
    "$$2^{10}$$\n",
    "\n",
    "```\n",
    "(Hint)\n",
    "------------------------------\n",
    "파이썬에서 제곱승은 '**' 기호를 사용한다.\n",
    "------------------------------\n",
    "```\n",
    "\n",
    "\n"
   ]
  },
  {
   "cell_type": "code",
   "execution_count": 3,
   "metadata": {
    "ExecuteTime": {
     "end_time": "2020-01-01T06:01:46.561081Z",
     "start_time": "2020-01-01T06:01:46.555742Z"
    }
   },
   "outputs": [
    {
     "data": {
      "text/plain": [
       "1024"
      ]
     },
     "execution_count": 3,
     "metadata": {},
     "output_type": "execute_result"
    }
   ],
   "source": [
    "2**10"
   ]
  },
  {
   "cell_type": "markdown",
   "metadata": {},
   "source": [
    "---\n",
    "```\n",
    "Q4. 다음 그림과 같은 삼각형의 넓이를 구하시오.\n",
    "```\n",
    "\n",
    "<img src='./problem_set/01.triangle.png' width=30%>"
   ]
  },
  {
   "cell_type": "code",
   "execution_count": 4,
   "metadata": {
    "ExecuteTime": {
     "end_time": "2020-01-01T06:01:46.568054Z",
     "start_time": "2020-01-01T06:01:46.564247Z"
    }
   },
   "outputs": [],
   "source": [
    "# 변수 설정\n",
    "밑변 = 5 \n",
    "높이 = 12"
   ]
  },
  {
   "cell_type": "code",
   "execution_count": 5,
   "metadata": {
    "ExecuteTime": {
     "end_time": "2020-01-01T06:01:46.574858Z",
     "start_time": "2020-01-01T06:01:46.570548Z"
    }
   },
   "outputs": [
    {
     "name": "stdout",
     "output_type": "stream",
     "text": [
      "삼각형의 넓이 : 30.0\n"
     ]
    }
   ],
   "source": [
    "넓이 = (1/2)*밑변*높이\n",
    "print('삼각형의 넓이 : {}'.format(넓이))"
   ]
  },
  {
   "cell_type": "markdown",
   "metadata": {},
   "source": [
    "```\n",
    "\n",
    "\n",
    "Q5. 다음과 같은 원이 주어졌을때, 지름을 구하시오. \n",
    "```\n",
    "\n",
    "<img src='./problem_set/05.circle.png' width=45%>\n",
    "\n",
    "```\n",
    "(Hint)\n",
    "---------------------------------------------------------------\n",
    "원주율은 원의 지름의 길이에 대한 원주의 비율이며, 다음과 같은 식으로 나타낼 수 있다.\n",
    "    원주율(3.14) = 원주/지름\n",
    "---------------------------------------------------------------\n",
    "```\n",
    "\n"
   ]
  },
  {
   "cell_type": "code",
   "execution_count": 6,
   "metadata": {
    "ExecuteTime": {
     "end_time": "2020-01-01T06:01:46.580585Z",
     "start_time": "2020-01-01T06:01:46.577464Z"
    }
   },
   "outputs": [],
   "source": [
    "# 변수 설정\n",
    "원주율 = 14 \n",
    "원주 = 27.9"
   ]
  },
  {
   "cell_type": "code",
   "execution_count": 7,
   "metadata": {
    "ExecuteTime": {
     "end_time": "2020-01-01T06:01:46.588854Z",
     "start_time": "2020-01-01T06:01:46.585027Z"
    }
   },
   "outputs": [
    {
     "name": "stdout",
     "output_type": "stream",
     "text": [
      "지름의 길이: 1.9928571428571427cm\n"
     ]
    }
   ],
   "source": [
    "지름 = 원주/원주율\n",
    "\n",
    "print(\"지름의 길이: {}cm\".format(지름))"
   ]
  },
  {
   "cell_type": "markdown",
   "metadata": {},
   "source": [
    "---\n",
    "```\n",
    "Q6. 다음 그림과 같은 직육면체의 부피를 구하시오.\n",
    "```\n",
    "<img src='./problem_set/02.volume.png' width=70%>"
   ]
  },
  {
   "cell_type": "code",
   "execution_count": 8,
   "metadata": {
    "ExecuteTime": {
     "end_time": "2020-01-01T06:01:46.596668Z",
     "start_time": "2020-01-01T06:01:46.592772Z"
    }
   },
   "outputs": [],
   "source": [
    "# 변수 설정 \n",
    "length = 5\n",
    "height = 5\n",
    "width = 20"
   ]
  },
  {
   "cell_type": "code",
   "execution_count": 9,
   "metadata": {
    "ExecuteTime": {
     "end_time": "2020-01-01T06:01:46.603708Z",
     "start_time": "2020-01-01T06:01:46.599759Z"
    }
   },
   "outputs": [
    {
     "name": "stdout",
     "output_type": "stream",
     "text": [
      "직육면체의 부피 : 500\n"
     ]
    }
   ],
   "source": [
    "volume = length*width*height\n",
    "print('직육면체의 부피 : %d'%volume)"
   ]
  },
  {
   "cell_type": "markdown",
   "metadata": {},
   "source": [
    "```\n",
    "Q7. 다음 평행사변형 넓이가 77/8 일때, 높이를 구하시오. \n",
    "```\n",
    "\n",
    "<img src='./problem_set/06.parallelogram.png' width=45%>"
   ]
  },
  {
   "cell_type": "code",
   "execution_count": 10,
   "metadata": {
    "ExecuteTime": {
     "end_time": "2020-01-01T06:01:46.609494Z",
     "start_time": "2020-01-01T06:01:46.606097Z"
    }
   },
   "outputs": [],
   "source": [
    "# 변수설정 \n",
    "넓이 = 77/8\n",
    "밑변 = 21/4\n",
    "\n",
    "높이 = 넓이/밑변"
   ]
  },
  {
   "cell_type": "code",
   "execution_count": 11,
   "metadata": {
    "ExecuteTime": {
     "end_time": "2020-01-01T06:01:46.616954Z",
     "start_time": "2020-01-01T06:01:46.612329Z"
    }
   },
   "outputs": [
    {
     "name": "stdout",
     "output_type": "stream",
     "text": [
      "높이 1.8333333333333333 cm\n"
     ]
    }
   ],
   "source": [
    "print('높이 {} cm'.format(높이))"
   ]
  },
  {
   "cell_type": "markdown",
   "metadata": {
    "ExecuteTime": {
     "end_time": "2019-12-31T15:29:57.499547Z",
     "start_time": "2019-12-31T15:29:57.494639Z"
    }
   },
   "source": [
    "```\n",
    "Q8. 다음은 현서네 학교 학생 200명이 방학동안 하고 싶은 일을 조사하여 나타낸 것이다. 빈칸을 채우시오. \n",
    "```\n",
    "<img src='./problem_set/03.percentage.png' width=50%>"
   ]
  },
  {
   "cell_type": "code",
   "execution_count": 12,
   "metadata": {
    "ExecuteTime": {
     "end_time": "2020-01-01T06:01:46.624630Z",
     "start_time": "2020-01-01T06:01:46.620673Z"
    }
   },
   "outputs": [],
   "source": [
    "운동 = (60/200) * 100 \n",
    "게임 = (40/200) * 100\n",
    "독서 = (20/200) * 100"
   ]
  },
  {
   "cell_type": "code",
   "execution_count": 13,
   "metadata": {
    "ExecuteTime": {
     "end_time": "2020-01-01T06:01:46.633112Z",
     "start_time": "2020-01-01T06:01:46.627723Z"
    }
   },
   "outputs": [
    {
     "name": "stdout",
     "output_type": "stream",
     "text": [
      "운동에 해당하는 백분율 30.0 %\n",
      "게임에 해당하는 백분율 20.0 %\n",
      "독서에 해당하는 백분율 10.0 %\n"
     ]
    }
   ],
   "source": [
    "print('운동에 해당하는 백분율 {} %'.format(운동))\n",
    "print('게임에 해당하는 백분율 {} %'.format(게임))\n",
    "print('독서에 해당하는 백분율 {} %'.format(독서))"
   ]
  },
  {
   "cell_type": "markdown",
   "metadata": {},
   "source": [
    "---\n",
    "```\n",
    "Q9. 다음 표는 팬파이프의 음계별 관의 길이의 비율이다. 낮은 도 관의 길이를 8cm 로 할때, 높은도 관의 길이는 몇 cm로 해야하는가? \n",
    "(단, 파이프 두께는 일정하다.)\n",
    "```\n",
    "<img src='./problem_set/04.dodo.png' width=45%>\n",
    "\n"
   ]
  },
  {
   "cell_type": "code",
   "execution_count": 14,
   "metadata": {
    "ExecuteTime": {
     "end_time": "2020-01-01T06:01:46.639231Z",
     "start_time": "2020-01-01T06:01:46.636046Z"
    }
   },
   "outputs": [],
   "source": [
    "#변수설정\n",
    "낮은도 = 8\n",
    "높은도 = 낮은도 * (1/2)"
   ]
  },
  {
   "cell_type": "code",
   "execution_count": 15,
   "metadata": {
    "ExecuteTime": {
     "end_time": "2020-01-01T06:01:46.646564Z",
     "start_time": "2020-01-01T06:01:46.642033Z"
    }
   },
   "outputs": [
    {
     "name": "stdout",
     "output_type": "stream",
     "text": [
      "높은'도'관의 길이: 4.0cm\n"
     ]
    }
   ],
   "source": [
    "print(\"높은'도'관의 길이: {}cm\".format(높은도))"
   ]
  },
  {
   "cell_type": "markdown",
   "metadata": {},
   "source": [
    "## Advance level"
   ]
  },
  {
   "cell_type": "markdown",
   "metadata": {},
   "source": [
    "```\n",
    "Q10. 민석이와 회성이는 7.56km 떨어진 직선도로에 마주보고 서있습니다. 민석이는 한 시간에 3km를 걷고, 회성이는 한 시간에 2.4km 를 걷습니다. 두사람이 서로를 향해 같은 빠르기로 동시에 출발하여 쉬지 않고 걸었다면 몇 분 후에 만나는지 구하시오. \n",
    "\n",
    "```\n",
    "\n",
    "<img src='./problem_set/07.street.png' width=50%>"
   ]
  },
  {
   "cell_type": "code",
   "execution_count": 16,
   "metadata": {
    "ExecuteTime": {
     "end_time": "2020-01-01T06:01:46.653401Z",
     "start_time": "2020-01-01T06:01:46.649830Z"
    }
   },
   "outputs": [],
   "source": [
    "# 두 사람이 서로를 향해 걸어가므로 \n",
    "전체 = 7.56\n",
    "민석 = 3\n",
    "회성 = 2.4\n",
    "가까워지는_거리 = 민석 + 회성"
   ]
  },
  {
   "cell_type": "code",
   "execution_count": 17,
   "metadata": {
    "ExecuteTime": {
     "end_time": "2020-01-01T06:01:46.659257Z",
     "start_time": "2020-01-01T06:01:46.656082Z"
    }
   },
   "outputs": [],
   "source": [
    "만나는_시간 = 전체/가까워지는_거리\n",
    "만나는_분 = 만나는_시간 * 60 "
   ]
  },
  {
   "cell_type": "code",
   "execution_count": 18,
   "metadata": {
    "ExecuteTime": {
     "end_time": "2020-01-01T06:01:46.667711Z",
     "start_time": "2020-01-01T06:01:46.662146Z"
    }
   },
   "outputs": [
    {
     "name": "stdout",
     "output_type": "stream",
     "text": [
      "84.0 분 후에 만난다.  %\n"
     ]
    }
   ],
   "source": [
    "print('{} 분 후에 만난다.  %'.format(만나는_분))"
   ]
  },
  {
   "cell_type": "markdown",
   "metadata": {},
   "source": [
    "```\n",
    "Q11. 길이가 20cm 인 양초가 있습니다. 이 양초에 불을 붙이면 1분에 0.24cm 씩 일정한 빠르기로 탑니다. 양초에 불을 붙인 후 몇 분 후 6.8cm가 되겠습니까?\n",
    "\n",
    "```\n",
    "\n",
    "<img src='./problem_set/candle.png' width=30%>"
   ]
  },
  {
   "cell_type": "code",
   "execution_count": 19,
   "metadata": {
    "ExecuteTime": {
     "end_time": "2020-01-01T06:01:46.674136Z",
     "start_time": "2020-01-01T06:01:46.671048Z"
    }
   },
   "outputs": [],
   "source": [
    "# 변수 설정 \n",
    "타야하는_길이 = 20 - 6.8\n",
    "타는길이 = 0.24"
   ]
  },
  {
   "cell_type": "code",
   "execution_count": 20,
   "metadata": {
    "ExecuteTime": {
     "end_time": "2020-01-01T06:01:46.681014Z",
     "start_time": "2020-01-01T06:01:46.677057Z"
    }
   },
   "outputs": [],
   "source": [
    "답 = 타야하는_길이/타는길이"
   ]
  },
  {
   "cell_type": "code",
   "execution_count": 21,
   "metadata": {
    "ExecuteTime": {
     "end_time": "2020-01-01T06:01:46.687634Z",
     "start_time": "2020-01-01T06:01:46.683578Z"
    }
   },
   "outputs": [
    {
     "name": "stdout",
     "output_type": "stream",
     "text": [
      "55.0 분 후 양초가 6.8cm가 됩니다.\n"
     ]
    }
   ],
   "source": [
    "print('{} 분 후 양초가 6.8cm가 됩니다.'.format(답))"
   ]
  },
  {
   "cell_type": "markdown",
   "metadata": {},
   "source": [
    "```\n",
    "Q12. 민석이는 자취방을 구하고 있다. 열심히 발품을 팔며 조사한 끝에 가장 마음에 드는 방 두 개를 찾았다.\n",
    "                --------------------------------------------------\n",
    "                    방 A는 가로 2.5m, 세로 3m이고, 월세 27만원이다.\n",
    "                    방 B는 가로 4m, 세로 2m이고, 월세 30만원이다.\n",
    "                --------------------------------------------------    \n",
    "어느 방이 가격 대비 더 넓은가?\n",
    "```"
   ]
  },
  {
   "cell_type": "code",
   "execution_count": 22,
   "metadata": {
    "ExecuteTime": {
     "end_time": "2020-01-01T06:01:46.697607Z",
     "start_time": "2020-01-01T06:01:46.694024Z"
    }
   },
   "outputs": [],
   "source": [
    "방A = (2.5 * 3 / 27)\n",
    "방B = (4 * 2 / 30)"
   ]
  },
  {
   "cell_type": "code",
   "execution_count": 23,
   "metadata": {
    "ExecuteTime": {
     "end_time": "2020-01-01T06:01:46.704816Z",
     "start_time": "2020-01-01T06:01:46.700402Z"
    }
   },
   "outputs": [
    {
     "data": {
      "text/plain": [
       "False"
      ]
     },
     "execution_count": 23,
     "metadata": {},
     "output_type": "execute_result"
    }
   ],
   "source": [
    "# 방B 가  방A 보다 큰가? \n",
    "방A < 방B"
   ]
  }
 ],
 "metadata": {
  "kernelspec": {
   "display_name": "Python 3",
   "language": "python",
   "name": "python3"
  },
  "language_info": {
   "codemirror_mode": {
    "name": "ipython",
    "version": 3
   },
   "file_extension": ".py",
   "mimetype": "text/x-python",
   "name": "python",
   "nbconvert_exporter": "python",
   "pygments_lexer": "ipython3",
   "version": "3.6.9"
  },
  "toc": {
   "base_numbering": 1,
   "nav_menu": {},
   "number_sections": true,
   "sideBar": true,
   "skip_h1_title": true,
   "title_cell": "Table of Contents",
   "title_sidebar": "Contents",
   "toc_cell": true,
   "toc_position": {},
   "toc_section_display": true,
   "toc_window_display": false
  }
 },
 "nbformat": 4,
 "nbformat_minor": 2
}
