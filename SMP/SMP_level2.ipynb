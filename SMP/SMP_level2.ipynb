{
 "cells": [
  {
   "cell_type": "markdown",
   "metadata": {},
   "source": [
    "<img src='./img/intel-logo.jpg' width=50%, Fig1>\n",
    "\n",
    "# Solve Math Problem(SMP)\n",
    "<font size=5><b>02. 파이썬을 사용하여 중학수학문제 풀기<b></font>\n",
    "\n",
    "<div align='right'>성  민  석 (Minsuk  Sung)</div>\n",
    "<div align='right'>류  회  성 (Hoesung Ryu)</div>"
   ]
  },
  {
   "cell_type": "markdown",
   "metadata": {
    "toc": true
   },
   "source": [
    "<h1>Table of Contents<span class=\"tocSkip\"></span></h1>\n",
    "<div class=\"toc\"><ul class=\"toc-item\"><li><span><a href=\"#들어가기-앞서\" data-toc-modified-id=\"들어가기-앞서-1\"><span class=\"toc-item-num\">1&nbsp;&nbsp;</span>들어가기 앞서</a></span></li><li><span><a href=\"#sympy-패키지-설치\" data-toc-modified-id=\"sympy-패키지-설치-2\"><span class=\"toc-item-num\">2&nbsp;&nbsp;</span>sympy 패키지 설치</a></span></li><li><span><a href=\"#다항식의-표현\" data-toc-modified-id=\"다항식의-표현-3\"><span class=\"toc-item-num\">3&nbsp;&nbsp;</span>다항식의 표현</a></span></li><li><span><a href=\"#다항식의-덧셈과-뺄셈\" data-toc-modified-id=\"다항식의-덧셈과-뺄셈-4\"><span class=\"toc-item-num\">4&nbsp;&nbsp;</span>다항식의 덧셈과 뺄셈</a></span></li><li><span><a href=\"#전개-와-인수분해\" data-toc-modified-id=\"전개-와-인수분해-5\"><span class=\"toc-item-num\">5&nbsp;&nbsp;</span>전개 와 인수분해</a></span></li><li><span><a href=\"#일차방정식,-이차방정식-근-구하기\" data-toc-modified-id=\"일차방정식,-이차방정식-근-구하기-6\"><span class=\"toc-item-num\">6&nbsp;&nbsp;</span>일차방정식, 이차방정식 근 구하기</a></span></li><li><span><a href=\"#Advance-level\" data-toc-modified-id=\"Advance-level-7\"><span class=\"toc-item-num\">7&nbsp;&nbsp;</span>Advance level</a></span></li></ul></div>"
   ]
  },
  {
   "cell_type": "markdown",
   "metadata": {},
   "source": [
    "## 들어가기 앞서 \n",
    "\n",
    "문제를 풀기 앞서서 간단한 개념을 정리해보는 시간을 가지겠습니다. \n",
    "\n",
    "\n",
    "- 단항식: 항이 하나인 식<p> \n",
    " 예) $x$, $1$, $x^2$\n",
    "   \n",
    "    \n",
    "- 다항식: 항이 하나 이상인 식<p>\n",
    " 예) $x+2$, $4x+3y$\n",
    "    \n",
    "  \n",
    "- 동류항: '문자와 차수가 같은 항'을 뜻합니다. <p>\n",
    " 예) $x$ 와 $x$는 동류항 , $3x^3$ 와 $x^3$는 동류항 \n",
    "\n",
    "    \n",
    "- 계수: 항에서 무자와 곱한 수 \n",
    " 예 $2x$의 계수는 2입니다.\n",
    "    \n",
    "    \n",
    "- 항의 차수: 하나의 항에서 특정한 문자가 곱해진 개수입니다.\n",
    "    \n",
    "    \n",
    "- 다항식의 차수: 다항식의 차수는 다항식에서 차수가 가장 높은 항의 차수입니다."
   ]
  },
  {
   "cell_type": "markdown",
   "metadata": {},
   "source": [
    "## sympy 패키지 설치\n",
    "\n",
    "이번시간에는 파이썬 `sympy package`를 이용하여 수학문제를 풀어도록 하겠습니다. \n",
    "\n",
    "우선 다음 명령어를 실행하여 `sympy package`를 컴퓨터에 설치하도록 하겠습니다."
   ]
  },
  {
   "cell_type": "code",
   "execution_count": 1,
   "metadata": {
    "ExecuteTime": {
     "end_time": "2020-01-01T06:04:42.158990Z",
     "start_time": "2020-01-01T06:04:40.608316Z"
    }
   },
   "outputs": [
    {
     "name": "stdout",
     "output_type": "stream",
     "text": [
      "Requirement already satisfied: sympy in /Users/hwesungryu/anaconda3/envs/tensorflow/lib/python3.6/site-packages (1.5)\r\n",
      "Requirement already satisfied: mpmath>=0.19 in /Users/hwesungryu/anaconda3/envs/tensorflow/lib/python3.6/site-packages (from sympy) (1.1.0)\r\n"
     ]
    }
   ],
   "source": [
    "!pip install sympy"
   ]
  },
  {
   "cell_type": "code",
   "execution_count": 2,
   "metadata": {
    "ExecuteTime": {
     "end_time": "2020-01-01T06:04:42.768098Z",
     "start_time": "2020-01-01T06:04:42.162151Z"
    }
   },
   "outputs": [],
   "source": [
    "# package load\n",
    "from sympy import Symbol, solve\n",
    "from sympy import pprint"
   ]
  },
  {
   "cell_type": "markdown",
   "metadata": {},
   "source": [
    "## 다항식의 표현 \n",
    "\n",
    "1. 우리는 계산을 좀 더 쉽게 하기 위하여 다항식을 한 문자에 대하여 정리합니다.\n",
    "다항식을 정리하는 방법에는 다음과 같이 두가지가 있습니다.\n",
    "\n",
    " - 오름차순으로 정리하기: 낮은 항부터 높은 항의 순서로 정리\n",
    " - 내림차순으로 정리하기: 높은 항으로 부터 낮은 항으로 정리 \n",
    "\n",
    "\n",
    "2. 좀 더 알아보기 쉽게 표현하기 위하여 `sympy` 패키지 안에 `pprint` 패키지를 사용하도록 합니다.\n",
    "```python \n",
    "from sympy import pprint\n",
    "```\n",
    "\n",
    "3. 파이썬에서 다항식을 정리 하기 위해서는 `pprint` 변수를 `'rev-lex'`(reverse lexicographical order) 로 넣어줍니다. \n",
    "\n",
    "```python\n",
    "pprint(polynomial,order='rev-lex')\n",
    "```\n",
    "\n"
   ]
  },
  {
   "cell_type": "markdown",
   "metadata": {},
   "source": [
    "---\n",
    "``` \n",
    "Q1. 다음 식을 x에 대하여 오름차순과 내림차순으로 정리하시오.\n",
    "```\n",
    "$$2x^3+x^2+ 7+ 10x + 10x^5 $$"
   ]
  },
  {
   "cell_type": "code",
   "execution_count": 3,
   "metadata": {
    "ExecuteTime": {
     "end_time": "2020-01-01T06:04:42.820775Z",
     "start_time": "2020-01-01T06:04:42.770767Z"
    }
   },
   "outputs": [],
   "source": [
    "# 미지수 설정 \n",
    "x = Symbol('x')\n",
    "\n",
    "# 다항식 설정 \n",
    "polynomial = 2*x**3 + x**2 + 7 + 10*x + 10*x**5"
   ]
  },
  {
   "cell_type": "code",
   "execution_count": 4,
   "metadata": {
    "ExecuteTime": {
     "end_time": "2020-01-01T06:04:43.096468Z",
     "start_time": "2020-01-01T06:04:42.822725Z"
    }
   },
   "outputs": [
    {
     "name": "stdout",
     "output_type": "stream",
     "text": [
      "    5      3    2           \n",
      "10⋅x  + 2⋅x  + x  + 10⋅x + 7\n"
     ]
    }
   ],
   "source": [
    "# 내림차순으로 정리하기 \n",
    "pprint(polynomial)"
   ]
  },
  {
   "cell_type": "code",
   "execution_count": 5,
   "metadata": {
    "ExecuteTime": {
     "end_time": "2020-01-01T06:04:43.103371Z",
     "start_time": "2020-01-01T06:04:43.098445Z"
    },
    "scrolled": true
   },
   "outputs": [
    {
     "name": "stdout",
     "output_type": "stream",
     "text": [
      "            2      3       5\n",
      "7 + 10⋅x + x  + 2⋅x  + 10⋅x \n"
     ]
    }
   ],
   "source": [
    "# 오름 차순으로 정리하기 \n",
    "pprint(polynomial,order='rev-lex')"
   ]
  },
  {
   "cell_type": "markdown",
   "metadata": {},
   "source": [
    "## 다항식의 덧셈과 뺄셈\n",
    "\n",
    "1. 다항식의 덧셈과 뺄셈은 `동류항`의 `계수`끼리 연산을 합니다.  \n",
    "\n",
    "\n",
    "2. 미지수가 x,y 와 같이 두개 이상 나타낼 때에는 `symbols` 패키지를 사용합니다. \n",
    "\n",
    "```python \n",
    "from sympy import symbols\n",
    "```"
   ]
  },
  {
   "cell_type": "markdown",
   "metadata": {},
   "source": [
    "----\n",
    "```\n",
    "Q2. 다음 두 다항식의 덧셈을 하시오.  \n",
    "\n",
    "```\n",
    "\n",
    "$$A: x+3$$\n",
    "$$B: 2x+6$$"
   ]
  },
  {
   "cell_type": "code",
   "execution_count": 6,
   "metadata": {
    "ExecuteTime": {
     "end_time": "2020-01-01T06:04:43.119743Z",
     "start_time": "2020-01-01T06:04:43.105673Z"
    }
   },
   "outputs": [
    {
     "data": {
      "text/latex": [
       "$\\displaystyle 3 x + 9$"
      ],
      "text/plain": [
       "3*x + 9"
      ]
     },
     "execution_count": 6,
     "metadata": {},
     "output_type": "execute_result"
    }
   ],
   "source": [
    "# 미지수 설정 \n",
    "x = Symbol('x')\n",
    "A = x + 3\n",
    "B = 2*x + 6\n",
    "A+B"
   ]
  },
  {
   "cell_type": "markdown",
   "metadata": {},
   "source": [
    "```\n",
    "Q3. 다음 두 다항식의 뺄셈을 하시오.  \n",
    "\n",
    "```\n",
    "\n",
    "$$A: 2+xy+3$$\n",
    "$$B: 2xy+6$$"
   ]
  },
  {
   "cell_type": "code",
   "execution_count": 7,
   "metadata": {
    "ExecuteTime": {
     "end_time": "2020-01-01T06:04:43.128433Z",
     "start_time": "2020-01-01T06:04:43.125549Z"
    }
   },
   "outputs": [],
   "source": [
    "# 미지수가 2개이므로 symbols 패키지를 불러온다. \n",
    "from sympy import symbols"
   ]
  },
  {
   "cell_type": "code",
   "execution_count": 8,
   "metadata": {
    "ExecuteTime": {
     "end_time": "2020-01-01T06:04:43.140510Z",
     "start_time": "2020-01-01T06:04:43.132289Z"
    }
   },
   "outputs": [
    {
     "data": {
      "text/latex": [
       "$\\displaystyle - x y - 1$"
      ],
      "text/plain": [
       "-x*y - 1"
      ]
     },
     "execution_count": 8,
     "metadata": {},
     "output_type": "execute_result"
    }
   ],
   "source": [
    "# 미지수설정\n",
    "x, y = symbols('x, y')\n",
    "A = 2+x*y+3\n",
    "B = 2*x*y + 6\n",
    "A-B"
   ]
  },
  {
   "cell_type": "markdown",
   "metadata": {},
   "source": [
    "## 전개 와 인수분해\n",
    "\n",
    "1. 개념 \n",
    " > 인수분해란? 주어진 다항식을 인수들의 곱의 형태로 나타내는 것을 의미한다.\n",
    "\n",
    " > 전개란? 다항식의 곱으로 이루어진 식을 분배법칙을 통해 계산해 풀어내는 것을 의미한다. \n",
    "\n",
    "\n",
    "2. 파이썬에서 다항식을 `전개` 하기 위해서는 다음과 같은 `expand`를 사용하도록 합니다. \n",
    "```python    \n",
    "from sympy import expand\n",
    "```\n",
    "3. 파이썬에서 다항식을 `인수분해` 하기 위해서는 다음과 같은 `expand`를 사용하도록 합니다. \n",
    "```python    \n",
    "from sympy import expand\n",
    "```"
   ]
  },
  {
   "cell_type": "markdown",
   "metadata": {},
   "source": [
    "``` \n",
    "Q4. 다음 다항식을 전개하여라. \n",
    "```\n",
    " $$(x+2)(x+3)$$\n"
   ]
  },
  {
   "cell_type": "code",
   "execution_count": 9,
   "metadata": {
    "ExecuteTime": {
     "end_time": "2020-01-01T06:04:43.153005Z",
     "start_time": "2020-01-01T06:04:43.143234Z"
    }
   },
   "outputs": [
    {
     "data": {
      "text/latex": [
       "$\\displaystyle x^{2} + 5 x + 6$"
      ],
      "text/plain": [
       "x**2 + 5*x + 6"
      ]
     },
     "execution_count": 9,
     "metadata": {},
     "output_type": "execute_result"
    }
   ],
   "source": [
    "from sympy import expand, factor\n",
    "\n",
    "expand((x + 2) * (x + 3))"
   ]
  },
  {
   "cell_type": "markdown",
   "metadata": {},
   "source": [
    "``` \n",
    "Q5. 다음 다항식을 전개하여라. \n",
    "```\n",
    "$$(x+2)^2$$"
   ]
  },
  {
   "cell_type": "code",
   "execution_count": 10,
   "metadata": {
    "ExecuteTime": {
     "end_time": "2020-01-01T06:04:43.164320Z",
     "start_time": "2020-01-01T06:04:43.155672Z"
    }
   },
   "outputs": [
    {
     "data": {
      "text/latex": [
       "$\\displaystyle x^{2} + 4 x + 4$"
      ],
      "text/plain": [
       "x**2 + 4*x + 4"
      ]
     },
     "execution_count": 10,
     "metadata": {},
     "output_type": "execute_result"
    }
   ],
   "source": [
    "expand((x + 2)**2)"
   ]
  },
  {
   "cell_type": "markdown",
   "metadata": {},
   "source": [
    "```\n",
    "Q6.다음 식을 인수분해 하시오. \n",
    "```\n",
    "$$x^2-6x + 9 $$"
   ]
  },
  {
   "cell_type": "code",
   "execution_count": 11,
   "metadata": {
    "ExecuteTime": {
     "end_time": "2020-01-01T06:04:43.175824Z",
     "start_time": "2020-01-01T06:04:43.166871Z"
    }
   },
   "outputs": [
    {
     "data": {
      "text/latex": [
       "$\\displaystyle \\left(x - 3\\right)^{2}$"
      ],
      "text/plain": [
       "(x - 3)**2"
      ]
     },
     "execution_count": 11,
     "metadata": {},
     "output_type": "execute_result"
    }
   ],
   "source": [
    "factor(x**2 - 6*x + 9)"
   ]
  },
  {
   "cell_type": "markdown",
   "metadata": {},
   "source": [
    "## 일차방정식, 이차방정식 근 구하기\n",
    "\n",
    "파이썬으로 방정식을 풀기 위해서는 다음과 같은 단계를 거칩니다.\n",
    "\n",
    "- 1단계: 미지수 설정하기 \n",
    "```python\n",
    "x = Symbol('x')\n",
    "```\n",
    "\n",
    "- 2단계: 방정식 설정하기\n",
    "```python\n",
    "equation = 원하는식\n",
    "```\n",
    "\n",
    "- 3단계: 근 구하기\n",
    "```python\n",
    "solve(equation)\n",
    "```"
   ]
  },
  {
   "cell_type": "markdown",
   "metadata": {},
   "source": [
    "```\n",
    "Q7. 다음 일차방정식의 해를 구하여라.\n",
    "```\n",
    "\n",
    "$$ 2x -6 = 0$$"
   ]
  },
  {
   "cell_type": "code",
   "execution_count": 12,
   "metadata": {
    "ExecuteTime": {
     "end_time": "2020-01-01T06:04:43.181903Z",
     "start_time": "2020-01-01T06:04:43.178864Z"
    }
   },
   "outputs": [],
   "source": [
    "# 미지수 설정 \n",
    "x = Symbol('x')"
   ]
  },
  {
   "cell_type": "code",
   "execution_count": 13,
   "metadata": {
    "ExecuteTime": {
     "end_time": "2020-01-01T06:04:43.188186Z",
     "start_time": "2020-01-01T06:04:43.184486Z"
    }
   },
   "outputs": [],
   "source": [
    "# 방정식 설정 \n",
    "equation = 2 * x - 8"
   ]
  },
  {
   "cell_type": "code",
   "execution_count": 14,
   "metadata": {
    "ExecuteTime": {
     "end_time": "2020-01-01T06:04:43.201305Z",
     "start_time": "2020-01-01T06:04:43.191280Z"
    }
   },
   "outputs": [
    {
     "data": {
      "text/plain": [
       "[4]"
      ]
     },
     "execution_count": 14,
     "metadata": {},
     "output_type": "execute_result"
    }
   ],
   "source": [
    "# 답 구하기 \n",
    "solve(equation)"
   ]
  },
  {
   "cell_type": "markdown",
   "metadata": {},
   "source": [
    "```\n",
    "Q8. 미지수 x 에 2를 빼어 2배한 후 6을 더하면 4가 된다. 이때, 미지수 x를 구하여라.\n",
    "```\n",
    "\n",
    "$$ (x-2)*2 + 6 = 4 $$"
   ]
  },
  {
   "cell_type": "code",
   "execution_count": 15,
   "metadata": {
    "ExecuteTime": {
     "end_time": "2020-01-01T06:04:43.206529Z",
     "start_time": "2020-01-01T06:04:43.203689Z"
    }
   },
   "outputs": [],
   "source": [
    "# 미지수 설정 \n",
    "x = Symbol('x')"
   ]
  },
  {
   "cell_type": "code",
   "execution_count": 16,
   "metadata": {
    "ExecuteTime": {
     "end_time": "2020-01-01T06:04:43.213212Z",
     "start_time": "2020-01-01T06:04:43.209702Z"
    }
   },
   "outputs": [],
   "source": [
    "# 방정식 설정 \n",
    "equation = (x - 2) * 2 + 6 - 4 "
   ]
  },
  {
   "cell_type": "code",
   "execution_count": 17,
   "metadata": {
    "ExecuteTime": {
     "end_time": "2020-01-01T06:04:43.222552Z",
     "start_time": "2020-01-01T06:04:43.216110Z"
    }
   },
   "outputs": [
    {
     "data": {
      "text/plain": [
       "[1]"
      ]
     },
     "execution_count": 17,
     "metadata": {},
     "output_type": "execute_result"
    }
   ],
   "source": [
    "# 답 구하기 \n",
    "solve(equation)"
   ]
  },
  {
   "cell_type": "markdown",
   "metadata": {},
   "source": [
    "```\n",
    "Q9. 다음 이차방정식의 해를 구하여라.\n",
    "```\n",
    "\n",
    "$$ x^2 -3x + 2 = 0$$"
   ]
  },
  {
   "cell_type": "code",
   "execution_count": 18,
   "metadata": {
    "ExecuteTime": {
     "end_time": "2020-01-01T06:04:43.229366Z",
     "start_time": "2020-01-01T06:04:43.225370Z"
    }
   },
   "outputs": [],
   "source": [
    "# 미지수 설정 \n",
    "x = Symbol('x')\n",
    "\n",
    "# 방정식 설정 \n",
    "equation = x ** 2 - 3 * x + 2 "
   ]
  },
  {
   "cell_type": "code",
   "execution_count": 19,
   "metadata": {
    "ExecuteTime": {
     "end_time": "2020-01-01T06:04:43.254171Z",
     "start_time": "2020-01-01T06:04:43.232079Z"
    }
   },
   "outputs": [
    {
     "data": {
      "text/plain": [
       "[1, 2]"
      ]
     },
     "execution_count": 19,
     "metadata": {},
     "output_type": "execute_result"
    }
   ],
   "source": [
    "solve(equation)"
   ]
  },
  {
   "cell_type": "markdown",
   "metadata": {},
   "source": [
    "```\n",
    "Q10. 다음 이차방정식의 해를 구하여라.\n",
    "```\n",
    "\n",
    "$$ x^2 +3x + 2 = 0$$"
   ]
  },
  {
   "cell_type": "code",
   "execution_count": 20,
   "metadata": {
    "ExecuteTime": {
     "end_time": "2020-01-01T06:04:43.261027Z",
     "start_time": "2020-01-01T06:04:43.256689Z"
    }
   },
   "outputs": [],
   "source": [
    "# 미지수 설정 \n",
    "x = Symbol('x')\n",
    "\n",
    "# 방정식 설정 \n",
    "equation = x ** 2 + 3 * x + 2 "
   ]
  },
  {
   "cell_type": "code",
   "execution_count": 21,
   "metadata": {
    "ExecuteTime": {
     "end_time": "2020-01-01T06:04:43.278407Z",
     "start_time": "2020-01-01T06:04:43.263829Z"
    }
   },
   "outputs": [
    {
     "data": {
      "text/plain": [
       "[-2, -1]"
      ]
     },
     "execution_count": 21,
     "metadata": {},
     "output_type": "execute_result"
    }
   ],
   "source": [
    "solve(equation)"
   ]
  },
  {
   "cell_type": "markdown",
   "metadata": {},
   "source": [
    "```\n",
    "Q11. 다음 이차방정식의 해를 구하여라. \n",
    "\n",
    "```\n",
    "\n",
    "$$ x^2 +x + 1 = 0$$"
   ]
  },
  {
   "cell_type": "code",
   "execution_count": 22,
   "metadata": {
    "ExecuteTime": {
     "end_time": "2020-01-01T06:04:43.342300Z",
     "start_time": "2020-01-01T06:04:43.284717Z"
    }
   },
   "outputs": [
    {
     "name": "stdout",
     "output_type": "stream",
     "text": [
      "⎡  1   √3⋅ⅈ    1   √3⋅ⅈ⎤\n",
      "⎢- ─ - ────, - ─ + ────⎥\n",
      "⎣  2    2      2    2  ⎦\n"
     ]
    }
   ],
   "source": [
    "# 미지수 설정 \n",
    "x = Symbol('x')\n",
    "# 방정식 설정\n",
    "equation = x ** 2 + x + 1\n",
    "\n",
    "\n",
    "# pprint : 복소수 범위에 이차방정식 알아보기 쉽게 프린트 하기\n",
    "pprint(solve(equation))"
   ]
  },
  {
   "cell_type": "markdown",
   "metadata": {},
   "source": [
    "## Advance level\n",
    "\n",
    "유명한 `디오판토스 묘비` 문제를 풀어보도록 하겠습니다. \n",
    "```\n",
    "디오판토스는 자신의 묘비(墓碑)에 다음과 같이 새겨놓았다고 한다.\n",
    "신의 축복으로 태어난 그는 인생의 1/6을 소년으로 보냈다. 그리고 다시 인생의 1/12이 지난 뒤에는 얼굴에 수염이 자라기 시작했다. \n",
    "다시 1/7이 지난 뒤 그는 아름다운 여인을 맞이하여 화촉을 밝혔으며, 결혼한 지 5년 만에 귀한 아들을 얻었다. \n",
    "아! 그러나 그의 가엾은 아들은 아버지의 반 밖에 살지 못했다. \n",
    "아들을 먼저 보내고 깊은 슬픔에 빠진 그는 그 뒤 4년간 정수론에 몰입하여 스스로를 달래다가 일생을 마쳤다.\n",
    "```\n",
    "이것을 방정식을 세워 표시하여 보면 다음 과 같이 표시 할 수 있습니다. \n",
    "\n",
    "$$\\frac{x}{6}+\\frac{x}{12} + \\frac{x}{7} + 5 + \\frac{x}{2} + 4  = x $$"
   ]
  },
  {
   "cell_type": "code",
   "execution_count": 23,
   "metadata": {
    "ExecuteTime": {
     "end_time": "2020-01-01T06:04:43.352968Z",
     "start_time": "2020-01-01T06:04:43.345240Z"
    }
   },
   "outputs": [],
   "source": [
    "# 미지수 설정 \n",
    "x = Symbol('x')\n",
    "# 방정식 설정\n",
    "equation = x/6 + x/12 + x/7 + 5 + x/2 + 4 - x\n",
    "\n",
    "# solve \n",
    "\n",
    "답 = solve(equation)"
   ]
  },
  {
   "cell_type": "code",
   "execution_count": 24,
   "metadata": {
    "ExecuteTime": {
     "end_time": "2020-01-01T06:04:43.360427Z",
     "start_time": "2020-01-01T06:04:43.355715Z"
    }
   },
   "outputs": [
    {
     "name": "stdout",
     "output_type": "stream",
     "text": [
      "디오판토스는 [84]세에 사망하였음을 알 수 있다. \n"
     ]
    }
   ],
   "source": [
    "print(\"디오판토스는 {}세에 사망하였음을 알 수 있다. \".format(답))"
   ]
  }
 ],
 "metadata": {
  "kernelspec": {
   "display_name": "Python 3",
   "language": "python",
   "name": "python3"
  },
  "language_info": {
   "codemirror_mode": {
    "name": "ipython",
    "version": 3
   },
   "file_extension": ".py",
   "mimetype": "text/x-python",
   "name": "python",
   "nbconvert_exporter": "python",
   "pygments_lexer": "ipython3",
   "version": "3.6.9"
  },
  "toc": {
   "base_numbering": 1,
   "nav_menu": {},
   "number_sections": true,
   "sideBar": true,
   "skip_h1_title": true,
   "title_cell": "Table of Contents",
   "title_sidebar": "Contents",
   "toc_cell": true,
   "toc_position": {},
   "toc_section_display": true,
   "toc_window_display": false
  }
 },
 "nbformat": 4,
 "nbformat_minor": 2
}
