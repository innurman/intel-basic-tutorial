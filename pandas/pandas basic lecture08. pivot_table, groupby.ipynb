{
 "cells": [
  {
   "cell_type": "markdown",
   "metadata": {},
   "source": [
    "<img src='./img/intel-logo.jpg' width=50%, Fig1> \n",
    "\n",
    "# 판다스 기초강의\n",
    "<font size=5><b>08. pivot_table, groupby<b></font>\n",
    "\n",
    "<div align='right'>성  민  석 (Minsuk  Sung)</div>\n",
    "<div align='right'>류  회  성 (Hoesung Ryu)</div>\n",
    "\n",
    "<img src='./img/pandas-logo.png' width=50%, Fig2> \n",
    "\n",
    "\n",
    "---"
   ]
  },
  {
   "cell_type": "markdown",
   "metadata": {
    "toc": true
   },
   "source": [
    "<h1>강의목차<span class=\"tocSkip\"></span></h1>\n",
    "<div class=\"toc\"><ul class=\"toc-item\"><li><span><a href=\"#Group-by()\" data-toc-modified-id=\"Group-by()-1\"><span class=\"toc-item-num\">1&nbsp;&nbsp;</span>Group by()</a></span><ul class=\"toc-item\"><li><span><a href=\"#연도별-전체의-총인구수-구하기\" data-toc-modified-id=\"연도별-전체의-총인구수-구하기-1.1\"><span class=\"toc-item-num\">1.1&nbsp;&nbsp;</span>연도별 전체의 총인구수 구하기</a></span></li><li><span><a href=\"#연도별-전체의-남자인구,-여자인구,-총인구-수-구하기\" data-toc-modified-id=\"연도별-전체의-남자인구,-여자인구,-총인구-수-구하기-1.2\"><span class=\"toc-item-num\">1.2&nbsp;&nbsp;</span>연도별 전체의 남자인구, 여자인구, 총인구 수 구하기</a></span></li><li><span><a href=\"#자치구별로-평균-총인구수\" data-toc-modified-id=\"자치구별로-평균-총인구수-1.3\"><span class=\"toc-item-num\">1.3&nbsp;&nbsp;</span>자치구별로 평균 총인구수</a></span></li><li><span><a href=\"#도시/자치구별-평균-총인구수\" data-toc-modified-id=\"도시/자치구별-평균-총인구수-1.4\"><span class=\"toc-item-num\">1.4&nbsp;&nbsp;</span>도시/자치구별 평균 총인구수</a></span></li></ul></li><li><span><a href=\"#pivot_table()\" data-toc-modified-id=\"pivot_table()-2\"><span class=\"toc-item-num\">2&nbsp;&nbsp;</span>pivot_table()</a></span><ul class=\"toc-item\"><li><span><a href=\"#도시/자치구-별로-남자인구의-평균을-구한-후,-남자인구가-가장-많은-도시/자치구-5개를-출력하시오.\" data-toc-modified-id=\"도시/자치구-별로-남자인구의-평균을-구한-후,-남자인구가-가장-많은-도시/자치구-5개를-출력하시오.-2.1\"><span class=\"toc-item-num\">2.1&nbsp;&nbsp;</span>도시/자치구 별로 남자인구의 평균을 구한 후, 남자인구가 가장 많은 도시/자치구 5개를 출력하시오.</a></span></li><li><span><a href=\"#남자와-여자인구수-차이의-평균을-구한-후,-가장-많이-차이나는-도시/자치구-3개를-찾으시오.\" data-toc-modified-id=\"남자와-여자인구수-차이의-평균을-구한-후,-가장-많이-차이나는-도시/자치구-3개를-찾으시오.-2.2\"><span class=\"toc-item-num\">2.2&nbsp;&nbsp;</span>남자와 여자인구수 차이의 평균을 구한 후, 가장 많이 차이나는 도시/자치구 3개를 찾으시오.</a></span></li></ul></li></ul></div>"
   ]
  },
  {
   "cell_type": "markdown",
   "metadata": {},
   "source": [
    "## Group by()"
   ]
  },
  {
   "cell_type": "code",
   "execution_count": 3,
   "metadata": {
    "ExecuteTime": {
     "end_time": "2019-12-03T07:23:58.668850Z",
     "start_time": "2019-12-03T07:23:58.650540Z"
    }
   },
   "outputs": [
    {
     "data": {
      "text/html": [
       "<div>\n",
       "<style scoped>\n",
       "    .dataframe tbody tr th:only-of-type {\n",
       "        vertical-align: middle;\n",
       "    }\n",
       "\n",
       "    .dataframe tbody tr th {\n",
       "        vertical-align: top;\n",
       "    }\n",
       "\n",
       "    .dataframe thead th {\n",
       "        text-align: right;\n",
       "    }\n",
       "</style>\n",
       "<table border=\"1\" class=\"dataframe\">\n",
       "  <thead>\n",
       "    <tr style=\"text-align: right;\">\n",
       "      <th></th>\n",
       "      <th>도시</th>\n",
       "      <th>자치구</th>\n",
       "      <th>연도</th>\n",
       "      <th>남자인구</th>\n",
       "      <th>여자인구</th>\n",
       "      <th>총인구</th>\n",
       "    </tr>\n",
       "  </thead>\n",
       "  <tbody>\n",
       "    <tr>\n",
       "      <th>0</th>\n",
       "      <td>서울</td>\n",
       "      <td>강남구</td>\n",
       "      <td>2013</td>\n",
       "      <td>73</td>\n",
       "      <td>92</td>\n",
       "      <td>165</td>\n",
       "    </tr>\n",
       "    <tr>\n",
       "      <th>1</th>\n",
       "      <td>서울</td>\n",
       "      <td>강남구</td>\n",
       "      <td>2014</td>\n",
       "      <td>139</td>\n",
       "      <td>55</td>\n",
       "      <td>194</td>\n",
       "    </tr>\n",
       "    <tr>\n",
       "      <th>2</th>\n",
       "      <td>서울</td>\n",
       "      <td>강남구</td>\n",
       "      <td>2015</td>\n",
       "      <td>123</td>\n",
       "      <td>83</td>\n",
       "      <td>206</td>\n",
       "    </tr>\n",
       "    <tr>\n",
       "      <th>3</th>\n",
       "      <td>서울</td>\n",
       "      <td>강남구</td>\n",
       "      <td>2016</td>\n",
       "      <td>147</td>\n",
       "      <td>150</td>\n",
       "      <td>297</td>\n",
       "    </tr>\n",
       "    <tr>\n",
       "      <th>4</th>\n",
       "      <td>서울</td>\n",
       "      <td>강남구</td>\n",
       "      <td>2017</td>\n",
       "      <td>57</td>\n",
       "      <td>133</td>\n",
       "      <td>190</td>\n",
       "    </tr>\n",
       "  </tbody>\n",
       "</table>\n",
       "</div>"
      ],
      "text/plain": [
       "   도시  자치구    연도  남자인구  여자인구  총인구\n",
       "0  서울  강남구  2013    73    92  165\n",
       "1  서울  강남구  2014   139    55  194\n",
       "2  서울  강남구  2015   123    83  206\n",
       "3  서울  강남구  2016   147   150  297\n",
       "4  서울  강남구  2017    57   133  190"
      ]
     },
     "execution_count": 3,
     "metadata": {},
     "output_type": "execute_result"
    }
   ],
   "source": [
    "# 실습 데이터 적재\n",
    "import pandas as pd\n",
    "import numpy as np \n",
    "data = pd.read_excel('data/population.xlsx')\n",
    "data.head()"
   ]
  },
  {
   "cell_type": "markdown",
   "metadata": {},
   "source": [
    "### 연도별 전체의 총인구수 구하기\n",
    "\n",
    "slq\n",
    "```(sqllite3)\n",
    "SELECT 연도, sum(총인구)\n",
    "FROM data\n",
    "GROUP BY 연도\n",
    "```"
   ]
  },
  {
   "cell_type": "code",
   "execution_count": 4,
   "metadata": {
    "ExecuteTime": {
     "end_time": "2019-12-03T07:29:22.954390Z",
     "start_time": "2019-12-03T07:29:22.947079Z"
    }
   },
   "outputs": [
    {
     "data": {
      "text/plain": [
       "연도\n",
       "2013    2130\n",
       "2014    2256\n",
       "2015    1848\n",
       "2016    2045\n",
       "2017    2128\n",
       "Name: 총인구, dtype: int64"
      ]
     },
     "execution_count": 4,
     "metadata": {},
     "output_type": "execute_result"
    }
   ],
   "source": [
    "data.groupby('연도')['총인구'].sum()"
   ]
  },
  {
   "cell_type": "markdown",
   "metadata": {},
   "source": [
    "### 연도별 전체의 남자인구, 여자인구, 총인구 수 구하기"
   ]
  },
  {
   "cell_type": "code",
   "execution_count": 5,
   "metadata": {
    "ExecuteTime": {
     "end_time": "2019-12-03T07:31:55.460064Z",
     "start_time": "2019-12-03T07:31:55.448142Z"
    }
   },
   "outputs": [
    {
     "data": {
      "text/html": [
       "<div>\n",
       "<style scoped>\n",
       "    .dataframe tbody tr th:only-of-type {\n",
       "        vertical-align: middle;\n",
       "    }\n",
       "\n",
       "    .dataframe tbody tr th {\n",
       "        vertical-align: top;\n",
       "    }\n",
       "\n",
       "    .dataframe thead th {\n",
       "        text-align: right;\n",
       "    }\n",
       "</style>\n",
       "<table border=\"1\" class=\"dataframe\">\n",
       "  <thead>\n",
       "    <tr style=\"text-align: right;\">\n",
       "      <th></th>\n",
       "      <th>남자인구</th>\n",
       "      <th>여자인구</th>\n",
       "      <th>총인구</th>\n",
       "    </tr>\n",
       "    <tr>\n",
       "      <th>연도</th>\n",
       "      <th></th>\n",
       "      <th></th>\n",
       "      <th></th>\n",
       "    </tr>\n",
       "  </thead>\n",
       "  <tbody>\n",
       "    <tr>\n",
       "      <th>2013</th>\n",
       "      <td>1099</td>\n",
       "      <td>1031</td>\n",
       "      <td>2130</td>\n",
       "    </tr>\n",
       "    <tr>\n",
       "      <th>2014</th>\n",
       "      <td>1196</td>\n",
       "      <td>1060</td>\n",
       "      <td>2256</td>\n",
       "    </tr>\n",
       "    <tr>\n",
       "      <th>2015</th>\n",
       "      <td>872</td>\n",
       "      <td>976</td>\n",
       "      <td>1848</td>\n",
       "    </tr>\n",
       "    <tr>\n",
       "      <th>2016</th>\n",
       "      <td>947</td>\n",
       "      <td>1098</td>\n",
       "      <td>2045</td>\n",
       "    </tr>\n",
       "    <tr>\n",
       "      <th>2017</th>\n",
       "      <td>1063</td>\n",
       "      <td>1065</td>\n",
       "      <td>2128</td>\n",
       "    </tr>\n",
       "  </tbody>\n",
       "</table>\n",
       "</div>"
      ],
      "text/plain": [
       "      남자인구  여자인구   총인구\n",
       "연도                    \n",
       "2013  1099  1031  2130\n",
       "2014  1196  1060  2256\n",
       "2015   872   976  1848\n",
       "2016   947  1098  2045\n",
       "2017  1063  1065  2128"
      ]
     },
     "execution_count": 5,
     "metadata": {},
     "output_type": "execute_result"
    }
   ],
   "source": [
    "data.groupby('연도')[['남자인구','여자인구','총인구']].sum()"
   ]
  },
  {
   "cell_type": "markdown",
   "metadata": {},
   "source": [
    "### 자치구별로 평균 총인구수"
   ]
  },
  {
   "cell_type": "code",
   "execution_count": 6,
   "metadata": {
    "ExecuteTime": {
     "end_time": "2019-12-03T07:32:15.133521Z",
     "start_time": "2019-12-03T07:32:15.126249Z"
    },
    "scrolled": true
   },
   "outputs": [
    {
     "data": {
      "text/plain": [
       "자치구\n",
       "강남구     210.4\n",
       "도봉구     207.0\n",
       "동래구     207.2\n",
       "동작구     207.2\n",
       "서대문구    206.2\n",
       "송파구     194.8\n",
       "수영구     212.2\n",
       "영등포구    238.2\n",
       "종로구     171.2\n",
       "해운대구    227.0\n",
       "Name: 총인구, dtype: float64"
      ]
     },
     "execution_count": 6,
     "metadata": {},
     "output_type": "execute_result"
    }
   ],
   "source": [
    "data.groupby('자치구')['총인구'].mean()"
   ]
  },
  {
   "cell_type": "markdown",
   "metadata": {},
   "source": [
    "### 도시/자치구별 평균 총인구수"
   ]
  },
  {
   "cell_type": "code",
   "execution_count": 7,
   "metadata": {
    "ExecuteTime": {
     "end_time": "2019-12-03T07:32:29.466968Z",
     "start_time": "2019-12-03T07:32:29.458196Z"
    }
   },
   "outputs": [
    {
     "data": {
      "text/plain": [
       "도시  자치구 \n",
       "부산  동래구     207.2\n",
       "    수영구     212.2\n",
       "    해운대구    227.0\n",
       "서울  강남구     210.4\n",
       "    도봉구     207.0\n",
       "    동작구     207.2\n",
       "    서대문구    206.2\n",
       "    송파구     194.8\n",
       "    영등포구    238.2\n",
       "    종로구     171.2\n",
       "Name: 총인구, dtype: float64"
      ]
     },
     "execution_count": 7,
     "metadata": {},
     "output_type": "execute_result"
    }
   ],
   "source": [
    "data.groupby(['도시','자치구'])['총인구'].mean()"
   ]
  },
  {
   "cell_type": "markdown",
   "metadata": {},
   "source": [
    "## pivot_table()\n",
    "\n",
    "- index: 로우 인덱스 활용할 컬럼 \n",
    "- column: 컬럼인덱스로 활용할 컬럼\n",
    "- aggfunc: 적용할 집계함수\n",
    "- values: 집계함수를 적용할 컬럼 \n"
   ]
  },
  {
   "cell_type": "markdown",
   "metadata": {},
   "source": [
    "### 도시/자치구 별로 남자인구의 평균을 구한 후, 남자인구가 가장 많은 도시/자치구 5개를 출력하시오. "
   ]
  },
  {
   "cell_type": "code",
   "execution_count": 8,
   "metadata": {
    "ExecuteTime": {
     "end_time": "2019-12-03T07:32:56.561787Z",
     "start_time": "2019-12-03T07:32:56.541384Z"
    }
   },
   "outputs": [
    {
     "data": {
      "text/html": [
       "<div>\n",
       "<style scoped>\n",
       "    .dataframe tbody tr th:only-of-type {\n",
       "        vertical-align: middle;\n",
       "    }\n",
       "\n",
       "    .dataframe tbody tr th {\n",
       "        vertical-align: top;\n",
       "    }\n",
       "\n",
       "    .dataframe thead th {\n",
       "        text-align: right;\n",
       "    }\n",
       "</style>\n",
       "<table border=\"1\" class=\"dataframe\">\n",
       "  <thead>\n",
       "    <tr style=\"text-align: right;\">\n",
       "      <th></th>\n",
       "      <th></th>\n",
       "      <th>남자인구</th>\n",
       "    </tr>\n",
       "    <tr>\n",
       "      <th>도시</th>\n",
       "      <th>자치구</th>\n",
       "      <th></th>\n",
       "    </tr>\n",
       "  </thead>\n",
       "  <tbody>\n",
       "    <tr>\n",
       "      <th>서울</th>\n",
       "      <th>영등포구</th>\n",
       "      <td>125.8</td>\n",
       "    </tr>\n",
       "    <tr>\n",
       "      <th rowspan=\"2\" valign=\"top\">부산</th>\n",
       "      <th>해운대구</th>\n",
       "      <td>124.0</td>\n",
       "    </tr>\n",
       "    <tr>\n",
       "      <th>동래구</th>\n",
       "      <td>112.4</td>\n",
       "    </tr>\n",
       "    <tr>\n",
       "      <th>서울</th>\n",
       "      <th>강남구</th>\n",
       "      <td>107.8</td>\n",
       "    </tr>\n",
       "    <tr>\n",
       "      <th>부산</th>\n",
       "      <th>수영구</th>\n",
       "      <td>100.4</td>\n",
       "    </tr>\n",
       "  </tbody>\n",
       "</table>\n",
       "</div>"
      ],
      "text/plain": [
       "          남자인구\n",
       "도시 자치구        \n",
       "서울 영등포구  125.8\n",
       "부산 해운대구  124.0\n",
       "   동래구   112.4\n",
       "서울 강남구   107.8\n",
       "부산 수영구   100.4"
      ]
     },
     "execution_count": 8,
     "metadata": {},
     "output_type": "execute_result"
    }
   ],
   "source": [
    "data.pivot_table(index=['도시','자치구'],\n",
    "                 aggfunc='mean',\n",
    "                 values='남자인구').sort_values(by='남자인구',\n",
    "                                              ascending=False).head()"
   ]
  },
  {
   "cell_type": "markdown",
   "metadata": {},
   "source": [
    "### 남자와 여자인구수 차이의 평균을 구한 후, 가장 많이 차이나는 도시/자치구 3개를 찾으시오. \n",
    "Hint.abs() = 절대값을 구하는 함수"
   ]
  },
  {
   "cell_type": "code",
   "execution_count": 9,
   "metadata": {
    "ExecuteTime": {
     "end_time": "2019-12-03T07:33:19.211958Z",
     "start_time": "2019-12-03T07:33:19.187376Z"
    }
   },
   "outputs": [
    {
     "data": {
      "text/html": [
       "<div>\n",
       "<style scoped>\n",
       "    .dataframe tbody tr th:only-of-type {\n",
       "        vertical-align: middle;\n",
       "    }\n",
       "\n",
       "    .dataframe tbody tr th {\n",
       "        vertical-align: top;\n",
       "    }\n",
       "\n",
       "    .dataframe thead th {\n",
       "        text-align: right;\n",
       "    }\n",
       "</style>\n",
       "<table border=\"1\" class=\"dataframe\">\n",
       "  <thead>\n",
       "    <tr style=\"text-align: right;\">\n",
       "      <th></th>\n",
       "      <th></th>\n",
       "      <th>남녀차이</th>\n",
       "    </tr>\n",
       "    <tr>\n",
       "      <th>도시</th>\n",
       "      <th>자치구</th>\n",
       "      <th></th>\n",
       "    </tr>\n",
       "  </thead>\n",
       "  <tbody>\n",
       "    <tr>\n",
       "      <th>서울</th>\n",
       "      <th>송파구</th>\n",
       "      <td>50.8</td>\n",
       "    </tr>\n",
       "    <tr>\n",
       "      <th>부산</th>\n",
       "      <th>수영구</th>\n",
       "      <td>45.8</td>\n",
       "    </tr>\n",
       "    <tr>\n",
       "      <th>서울</th>\n",
       "      <th>강남구</th>\n",
       "      <td>44.4</td>\n",
       "    </tr>\n",
       "  </tbody>\n",
       "</table>\n",
       "</div>"
      ],
      "text/plain": [
       "        남녀차이\n",
       "도시 자치구      \n",
       "서울 송파구  50.8\n",
       "부산 수영구  45.8\n",
       "서울 강남구  44.4"
      ]
     },
     "execution_count": 9,
     "metadata": {},
     "output_type": "execute_result"
    }
   ],
   "source": [
    "data['남녀차이'] = abs(data['남자인구']-data['여자인구'])\n",
    "data.pivot_table(index=['도시','자치구'],\n",
    "                 aggfunc='mean',\n",
    "                 values='남녀차이').sort_values('남녀차이',\n",
    "                                              ascending=False).head(3)"
   ]
  }
 ],
 "metadata": {
  "kernelspec": {
   "display_name": "Python 3",
   "language": "python",
   "name": "python3"
  },
  "language_info": {
   "codemirror_mode": {
    "name": "ipython",
    "version": 3
   },
   "file_extension": ".py",
   "mimetype": "text/x-python",
   "name": "python",
   "nbconvert_exporter": "python",
   "pygments_lexer": "ipython3",
   "version": "3.6.9"
  },
  "toc": {
   "base_numbering": 1,
   "nav_menu": {},
   "number_sections": true,
   "sideBar": true,
   "skip_h1_title": true,
   "title_cell": "강의목차",
   "title_sidebar": "Contents",
   "toc_cell": true,
   "toc_position": {},
   "toc_section_display": true,
   "toc_window_display": true
  }
 },
 "nbformat": 4,
 "nbformat_minor": 2
}
