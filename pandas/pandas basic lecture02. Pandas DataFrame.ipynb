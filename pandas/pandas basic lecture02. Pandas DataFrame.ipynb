{
 "cells": [
  {
   "cell_type": "markdown",
   "metadata": {},
   "source": [
    "<img src='./img/intel-logo.jpg' width=50%, Fig1> \n",
    "\n",
    "# 판다스 기초강의\n",
    "<font size=5><b>2.Pandas DataFrame<b></font>\n",
    "\n",
    "<div align='right'>성  민  석 (Minsuk  Sung)</div>\n",
    "<div align='right'>류  회  성 (Hoesung Ryu)</div>\n",
    "\n",
    "<img src='./img/pandas-logo.png' width=50%, Fig2> \n",
    "\n",
    "\n",
    "---"
   ]
  },
  {
   "cell_type": "markdown",
   "metadata": {
    "toc": true
   },
   "source": [
    "<h1>강의목차<span class=\"tocSkip\"></span></h1>\n",
    "<div class=\"toc\"><ul class=\"toc-item\"><li><span><a href=\"#DataFrame-이란?\" data-toc-modified-id=\"DataFrame-이란?-1\"><span class=\"toc-item-num\">1&nbsp;&nbsp;</span>DataFrame 이란?</a></span></li><li><span><a href=\"#데이터프레임-생성\" data-toc-modified-id=\"데이터프레임-생성-2\"><span class=\"toc-item-num\">2&nbsp;&nbsp;</span>데이터프레임 생성</a></span><ul class=\"toc-item\"><li><span><a href=\"#2차원-데이터-생성\" data-toc-modified-id=\"2차원-데이터-생성-2.1\"><span class=\"toc-item-num\">2.1&nbsp;&nbsp;</span>2차원 데이터 생성</a></span></li><li><span><a href=\"#로우-인덱스와-컬럼-인덱스-설정\" data-toc-modified-id=\"로우-인덱스와-컬럼-인덱스-설정-2.2\"><span class=\"toc-item-num\">2.2&nbsp;&nbsp;</span>로우 인덱스와 컬럼 인덱스 설정</a></span></li><li><span><a href=\"#한번에-데이터-프레임과-로우,인덱스-만들기\" data-toc-modified-id=\"한번에-데이터-프레임과-로우,인덱스-만들기-2.3\"><span class=\"toc-item-num\">2.3&nbsp;&nbsp;</span>한번에 데이터 프레임과 로우,인덱스 만들기</a></span></li><li><span><a href=\"#Transpose\" data-toc-modified-id=\"Transpose-2.4\"><span class=\"toc-item-num\">2.4&nbsp;&nbsp;</span>Transpose</a></span></li><li><span><a href=\"#axes-:--행과-열-이름을-리스트로-반환\" data-toc-modified-id=\"axes-:--행과-열-이름을-리스트로-반환-2.5\"><span class=\"toc-item-num\">2.5&nbsp;&nbsp;</span>axes :  행과 열 이름을 리스트로 반환</a></span></li><li><span><a href=\"#dtypes-:-데이터-형태-반환\" data-toc-modified-id=\"dtypes-:-데이터-형태-반환-2.6\"><span class=\"toc-item-num\">2.6&nbsp;&nbsp;</span>dtypes : 데이터 형태 반환</a></span></li><li><span><a href=\"#shape-:-행과-열의-개수(차원)을-튜플로-반환\" data-toc-modified-id=\"shape-:-행과-열의-개수(차원)을-튜플로-반환-2.7\"><span class=\"toc-item-num\">2.7&nbsp;&nbsp;</span>shape : 행과 열의 개수(차원)을 튜플로 반환</a></span></li><li><span><a href=\"#size-:-DataFrame의-원소의-개수를-반환\" data-toc-modified-id=\"size-:-DataFrame의-원소의-개수를-반환-2.8\"><span class=\"toc-item-num\">2.8&nbsp;&nbsp;</span>size : DataFrame의 원소의 개수를 반환</a></span></li><li><span><a href=\"#index-:-데이터프레임의-인덱스를-리스트로-반환\" data-toc-modified-id=\"index-:-데이터프레임의-인덱스를-리스트로-반환-2.9\"><span class=\"toc-item-num\">2.9&nbsp;&nbsp;</span>index : 데이터프레임의 인덱스를 리스트로 반환</a></span></li><li><span><a href=\"#columns-:-데이터프레임의-컬럼을-리스트로-반환\" data-toc-modified-id=\"columns-:-데이터프레임의-컬럼을-리스트로-반환-2.10\"><span class=\"toc-item-num\">2.10&nbsp;&nbsp;</span>columns : 데이터프레임의 컬럼을 리스트로 반환</a></span></li><li><span><a href=\"#values-:-데이터프레임의-값들을-반환\" data-toc-modified-id=\"values-:-데이터프레임의-값들을-반환-2.11\"><span class=\"toc-item-num\">2.11&nbsp;&nbsp;</span>values : 데이터프레임의 값들을 반환</a></span></li></ul></li><li><span><a href=\"#데이터프레임-조회하기\" data-toc-modified-id=\"데이터프레임-조회하기-3\"><span class=\"toc-item-num\">3&nbsp;&nbsp;</span>데이터프레임 조회하기</a></span><ul class=\"toc-item\"><li><span><a href=\"#Lastname-조회하기\" data-toc-modified-id=\"Lastname-조회하기-3.1\"><span class=\"toc-item-num\">3.1&nbsp;&nbsp;</span>Lastname 조회하기</a></span></li><li><span><a href=\"#name-조회하기\" data-toc-modified-id=\"name-조회하기-3.2\"><span class=\"toc-item-num\">3.2&nbsp;&nbsp;</span>name 조회하기</a></span></li><li><span><a href=\"#로우-인덱스로-접근하여-조회하기-(.ioc)\" data-toc-modified-id=\"로우-인덱스로-접근하여-조회하기-(.ioc)-3.3\"><span class=\"toc-item-num\">3.3&nbsp;&nbsp;</span>로우 인덱스로 접근하여 조회하기 (.ioc)</a></span></li><li><span><a href=\"#기본적으로--인덱싱을-하면-로우에-적용된다.-column-은-순서가-없다.\" data-toc-modified-id=\"기본적으로--인덱싱을-하면-로우에-적용된다.-column-은-순서가-없다.-3.4\"><span class=\"toc-item-num\">3.4&nbsp;&nbsp;</span>기본적으로  인덱싱을 하면 로우에 적용된다. column 은 순서가 없다.</a></span></li><li><span><a href=\"#loc로-row데이터-접근하기\" data-toc-modified-id=\"loc로-row데이터-접근하기-3.5\"><span class=\"toc-item-num\">3.5&nbsp;&nbsp;</span>loc로 row데이터 접근하기</a></span></li><li><span><a href=\"#loc로-column데이터-접근하기\" data-toc-modified-id=\"loc로-column데이터-접근하기-3.6\"><span class=\"toc-item-num\">3.6&nbsp;&nbsp;</span>loc로 column데이터 접근하기</a></span></li><li><span><a href=\"#조건-인덱싱\" data-toc-modified-id=\"조건-인덱싱-3.7\"><span class=\"toc-item-num\">3.7&nbsp;&nbsp;</span>조건 인덱싱</a></span></li><li><span><a href=\"#데이터프레임에-새로운-컬럼-추가하기(1)\" data-toc-modified-id=\"데이터프레임에-새로운-컬럼-추가하기(1)-3.8\"><span class=\"toc-item-num\">3.8&nbsp;&nbsp;</span>데이터프레임에 새로운 컬럼 추가하기(1)</a></span></li><li><span><a href=\"#데이터프레임에-새로운-컬럼-추가하기(2)\" data-toc-modified-id=\"데이터프레임에-새로운-컬럼-추가하기(2)-3.9\"><span class=\"toc-item-num\">3.9&nbsp;&nbsp;</span>데이터프레임에 새로운 컬럼 추가하기(2)</a></span></li><li><span><a href=\"#데이터프레임-로우,-컬럼-삭제\" data-toc-modified-id=\"데이터프레임-로우,-컬럼-삭제-3.10\"><span class=\"toc-item-num\">3.10&nbsp;&nbsp;</span>데이터프레임 로우, 컬럼 삭제</a></span></li><li><span><a href=\"#변경값-저장-하기(1)\" data-toc-modified-id=\"변경값-저장-하기(1)-3.11\"><span class=\"toc-item-num\">3.11&nbsp;&nbsp;</span>변경값 저장 하기(1)</a></span></li><li><span><a href=\"#변경값-저장-하기(2)\" data-toc-modified-id=\"변경값-저장-하기(2)-3.12\"><span class=\"toc-item-num\">3.12&nbsp;&nbsp;</span>변경값 저장 하기(2)</a></span></li></ul></li></ul></div>"
   ]
  },
  {
   "cell_type": "markdown",
   "metadata": {},
   "source": [
    "## DataFrame 이란?\n",
    "\n",
    "<img src='./img/DataFrame.png' width=150%, Fig2> \n",
    "\n",
    "\n",
    "## 데이터프레임 생성\n",
    "\n",
    "1. 생성자 인자\n",
    "\n",
    "    1. data : dataFrame에 저장할 데이터 (numpy ndarray, dict, DataFrame 등 여러 형태 가능)\n",
    "    1. index : 행(row) 이름, 기본값 = 0부터 1씩 증가하는 정수\n",
    "    1. columns : 열(column) 이름, 기본값 = 0부터 1씩 증가하는 정수\n",
    "    1. dtype : 데이터 형태(type), 만약 지정하지 않으면 파이썬이 자동으로 값의 형태를 보고 결정\n",
    "    1. copy : 입력 데이터를 복사할지 지정. 디폴트는 False 임. (복사할 거 아니면 메모리 관리 차원에서 디폴트인 False 설정 사용하면 됨)"
   ]
  },
  {
   "cell_type": "markdown",
   "metadata": {},
   "source": [
    "### 2차원 데이터 생성"
   ]
  },
  {
   "cell_type": "code",
   "execution_count": 1,
   "metadata": {
    "ExecuteTime": {
     "end_time": "2019-12-02T12:35:06.837004Z",
     "start_time": "2019-12-02T12:35:06.398201Z"
    }
   },
   "outputs": [
    {
     "name": "stderr",
     "output_type": "stream",
     "text": [
      "Duplicate key in file '/Users/hwesungryu/.matplotlib/matplotlibrc' line #2.\n",
      "Duplicate key in file '/Users/hwesungryu/.matplotlib/matplotlibrc' line #3.\n"
     ]
    },
    {
     "name": "stdout",
     "output_type": "stream",
     "text": [
      "(4, 4)\n"
     ]
    },
    {
     "data": {
      "text/html": [
       "<div>\n",
       "<style scoped>\n",
       "    .dataframe tbody tr th:only-of-type {\n",
       "        vertical-align: middle;\n",
       "    }\n",
       "\n",
       "    .dataframe tbody tr th {\n",
       "        vertical-align: top;\n",
       "    }\n",
       "\n",
       "    .dataframe thead th {\n",
       "        text-align: right;\n",
       "    }\n",
       "</style>\n",
       "<table border=\"1\" class=\"dataframe\">\n",
       "  <thead>\n",
       "    <tr style=\"text-align: right;\">\n",
       "      <th></th>\n",
       "      <th>0</th>\n",
       "      <th>1</th>\n",
       "      <th>2</th>\n",
       "      <th>3</th>\n",
       "    </tr>\n",
       "  </thead>\n",
       "  <tbody>\n",
       "    <tr>\n",
       "      <th>0</th>\n",
       "      <td>Hong</td>\n",
       "      <td>Gildong</td>\n",
       "      <td>Pyonyang</td>\n",
       "      <td>21</td>\n",
       "    </tr>\n",
       "    <tr>\n",
       "      <th>1</th>\n",
       "      <td>Sung</td>\n",
       "      <td>Munsuk</td>\n",
       "      <td>Seoul</td>\n",
       "      <td>27</td>\n",
       "    </tr>\n",
       "    <tr>\n",
       "      <th>2</th>\n",
       "      <td>Ryu</td>\n",
       "      <td>Hoesung</td>\n",
       "      <td>Jeju</td>\n",
       "      <td>29</td>\n",
       "    </tr>\n",
       "    <tr>\n",
       "      <th>3</th>\n",
       "      <td>Hwang</td>\n",
       "      <td>Jinha</td>\n",
       "      <td>Gyeonggi-do</td>\n",
       "      <td>30</td>\n",
       "    </tr>\n",
       "  </tbody>\n",
       "</table>\n",
       "</div>"
      ],
      "text/plain": [
       "       0        1            2   3\n",
       "0   Hong  Gildong     Pyonyang  21\n",
       "1   Sung   Munsuk        Seoul  27\n",
       "2    Ryu  Hoesung         Jeju  29\n",
       "3  Hwang    Jinha  Gyeonggi-do  30"
      ]
     },
     "execution_count": 1,
     "metadata": {},
     "output_type": "execute_result"
    }
   ],
   "source": [
    "import pandas as pd\n",
    "\n",
    "df1 = pd.DataFrame([\n",
    "                    ['Hong', 'Gildong', 'Pyonyang', 21],\n",
    "                    ['Sung', 'Munsuk', 'Seoul', 27],\n",
    "                    ['Ryu', 'Hoesung', 'Jeju', 29],\n",
    "                    ['Hwang', 'Jinha', 'Gyeonggi-do', 30]\n",
    "                    ]\n",
    "                    \n",
    "                    )\n",
    "print(df1.shape)\n",
    "df1"
   ]
  },
  {
   "cell_type": "markdown",
   "metadata": {
    "ExecuteTime": {
     "end_time": "2019-12-02T12:10:36.031534Z",
     "start_time": "2019-12-02T12:10:36.021713Z"
    }
   },
   "source": [
    "### 로우 인덱스와 컬럼 인덱스 설정"
   ]
  },
  {
   "cell_type": "code",
   "execution_count": 2,
   "metadata": {
    "ExecuteTime": {
     "end_time": "2019-12-02T12:35:06.848725Z",
     "start_time": "2019-12-02T12:35:06.839963Z"
    }
   },
   "outputs": [
    {
     "data": {
      "text/html": [
       "<div>\n",
       "<style scoped>\n",
       "    .dataframe tbody tr th:only-of-type {\n",
       "        vertical-align: middle;\n",
       "    }\n",
       "\n",
       "    .dataframe tbody tr th {\n",
       "        vertical-align: top;\n",
       "    }\n",
       "\n",
       "    .dataframe thead th {\n",
       "        text-align: right;\n",
       "    }\n",
       "</style>\n",
       "<table border=\"1\" class=\"dataframe\">\n",
       "  <thead>\n",
       "    <tr style=\"text-align: right;\">\n",
       "      <th></th>\n",
       "      <th>Last name</th>\n",
       "      <th>First name</th>\n",
       "      <th>City</th>\n",
       "      <th>Age</th>\n",
       "    </tr>\n",
       "  </thead>\n",
       "  <tbody>\n",
       "    <tr>\n",
       "      <th>1</th>\n",
       "      <td>Hong</td>\n",
       "      <td>Gildong</td>\n",
       "      <td>Pyonyang</td>\n",
       "      <td>21</td>\n",
       "    </tr>\n",
       "    <tr>\n",
       "      <th>2</th>\n",
       "      <td>Sung</td>\n",
       "      <td>Munsuk</td>\n",
       "      <td>Seoul</td>\n",
       "      <td>27</td>\n",
       "    </tr>\n",
       "    <tr>\n",
       "      <th>3</th>\n",
       "      <td>Ryu</td>\n",
       "      <td>Hoesung</td>\n",
       "      <td>Jeju</td>\n",
       "      <td>29</td>\n",
       "    </tr>\n",
       "    <tr>\n",
       "      <th>4</th>\n",
       "      <td>Hwang</td>\n",
       "      <td>Jinha</td>\n",
       "      <td>Gyeonggi-do</td>\n",
       "      <td>30</td>\n",
       "    </tr>\n",
       "  </tbody>\n",
       "</table>\n",
       "</div>"
      ],
      "text/plain": [
       "  Last name First name         City  Age\n",
       "1      Hong    Gildong     Pyonyang   21\n",
       "2      Sung     Munsuk        Seoul   27\n",
       "3       Ryu    Hoesung         Jeju   29\n",
       "4     Hwang      Jinha  Gyeonggi-do   30"
      ]
     },
     "execution_count": 2,
     "metadata": {},
     "output_type": "execute_result"
    }
   ],
   "source": [
    "df1.index = ['1','2','3','4']\n",
    "df1.columns = ['Last name', 'First name', 'City', 'Age']\n",
    "df1"
   ]
  },
  {
   "cell_type": "markdown",
   "metadata": {
    "ExecuteTime": {
     "end_time": "2019-12-02T12:12:35.938678Z",
     "start_time": "2019-12-02T12:12:35.936178Z"
    }
   },
   "source": [
    "### 한번에 데이터 프레임과 로우,인덱스 만들기 "
   ]
  },
  {
   "cell_type": "code",
   "execution_count": 3,
   "metadata": {
    "ExecuteTime": {
     "end_time": "2019-12-02T12:35:06.862648Z",
     "start_time": "2019-12-02T12:35:06.850887Z"
    }
   },
   "outputs": [
    {
     "name": "stdout",
     "output_type": "stream",
     "text": [
      "(4, 4)\n"
     ]
    },
    {
     "data": {
      "text/html": [
       "<div>\n",
       "<style scoped>\n",
       "    .dataframe tbody tr th:only-of-type {\n",
       "        vertical-align: middle;\n",
       "    }\n",
       "\n",
       "    .dataframe tbody tr th {\n",
       "        vertical-align: top;\n",
       "    }\n",
       "\n",
       "    .dataframe thead th {\n",
       "        text-align: right;\n",
       "    }\n",
       "</style>\n",
       "<table border=\"1\" class=\"dataframe\">\n",
       "  <thead>\n",
       "    <tr style=\"text-align: right;\">\n",
       "      <th></th>\n",
       "      <th>Last name</th>\n",
       "      <th>First name</th>\n",
       "      <th>City</th>\n",
       "      <th>Age</th>\n",
       "    </tr>\n",
       "  </thead>\n",
       "  <tbody>\n",
       "    <tr>\n",
       "      <th>1</th>\n",
       "      <td>Hong</td>\n",
       "      <td>Gildong</td>\n",
       "      <td>Pyonyang</td>\n",
       "      <td>21</td>\n",
       "    </tr>\n",
       "    <tr>\n",
       "      <th>2</th>\n",
       "      <td>Sung</td>\n",
       "      <td>Munsuk</td>\n",
       "      <td>Seoul</td>\n",
       "      <td>27</td>\n",
       "    </tr>\n",
       "    <tr>\n",
       "      <th>3</th>\n",
       "      <td>Ryu</td>\n",
       "      <td>Hoesung</td>\n",
       "      <td>Jeju</td>\n",
       "      <td>29</td>\n",
       "    </tr>\n",
       "    <tr>\n",
       "      <th>4</th>\n",
       "      <td>Hwang</td>\n",
       "      <td>Jinha</td>\n",
       "      <td>Gyeonggi-do</td>\n",
       "      <td>30</td>\n",
       "    </tr>\n",
       "  </tbody>\n",
       "</table>\n",
       "</div>"
      ],
      "text/plain": [
       "  Last name First name         City  Age\n",
       "1      Hong    Gildong     Pyonyang   21\n",
       "2      Sung     Munsuk        Seoul   27\n",
       "3       Ryu    Hoesung         Jeju   29\n",
       "4     Hwang      Jinha  Gyeonggi-do   30"
      ]
     },
     "execution_count": 3,
     "metadata": {},
     "output_type": "execute_result"
    }
   ],
   "source": [
    "import pandas as pd\n",
    "# 1. 2차원 데이터 생성\n",
    "df = pd.DataFrame([\n",
    "                    ['Hong', 'Gildong', 'Pyonyang', 21],\n",
    "                    ['Sung', 'Munsuk', 'Seoul', 27],\n",
    "                    ['Ryu', 'Hoesung', 'Jeju', 29],\n",
    "                    ['Hwang', 'Jinha', 'Gyeonggi-do', 30]\n",
    "                    ]\n",
    "                    ,index = ['1','2','3','4']\n",
    "                    ,columns = ['Last name', 'First name', 'City', 'Age']\n",
    "                    )\n",
    "print(df.shape)\n",
    "df"
   ]
  },
  {
   "cell_type": "markdown",
   "metadata": {},
   "source": [
    "### Transpose"
   ]
  },
  {
   "cell_type": "code",
   "execution_count": 4,
   "metadata": {
    "ExecuteTime": {
     "end_time": "2019-12-02T12:35:06.873077Z",
     "start_time": "2019-12-02T12:35:06.864657Z"
    }
   },
   "outputs": [
    {
     "data": {
      "text/html": [
       "<div>\n",
       "<style scoped>\n",
       "    .dataframe tbody tr th:only-of-type {\n",
       "        vertical-align: middle;\n",
       "    }\n",
       "\n",
       "    .dataframe tbody tr th {\n",
       "        vertical-align: top;\n",
       "    }\n",
       "\n",
       "    .dataframe thead th {\n",
       "        text-align: right;\n",
       "    }\n",
       "</style>\n",
       "<table border=\"1\" class=\"dataframe\">\n",
       "  <thead>\n",
       "    <tr style=\"text-align: right;\">\n",
       "      <th></th>\n",
       "      <th>1</th>\n",
       "      <th>2</th>\n",
       "      <th>3</th>\n",
       "      <th>4</th>\n",
       "    </tr>\n",
       "  </thead>\n",
       "  <tbody>\n",
       "    <tr>\n",
       "      <th>Last name</th>\n",
       "      <td>Hong</td>\n",
       "      <td>Sung</td>\n",
       "      <td>Ryu</td>\n",
       "      <td>Hwang</td>\n",
       "    </tr>\n",
       "    <tr>\n",
       "      <th>First name</th>\n",
       "      <td>Gildong</td>\n",
       "      <td>Munsuk</td>\n",
       "      <td>Hoesung</td>\n",
       "      <td>Jinha</td>\n",
       "    </tr>\n",
       "    <tr>\n",
       "      <th>City</th>\n",
       "      <td>Pyonyang</td>\n",
       "      <td>Seoul</td>\n",
       "      <td>Jeju</td>\n",
       "      <td>Gyeonggi-do</td>\n",
       "    </tr>\n",
       "    <tr>\n",
       "      <th>Age</th>\n",
       "      <td>21</td>\n",
       "      <td>27</td>\n",
       "      <td>29</td>\n",
       "      <td>30</td>\n",
       "    </tr>\n",
       "  </tbody>\n",
       "</table>\n",
       "</div>"
      ],
      "text/plain": [
       "                   1       2        3            4\n",
       "Last name       Hong    Sung      Ryu        Hwang\n",
       "First name   Gildong  Munsuk  Hoesung        Jinha\n",
       "City        Pyonyang   Seoul     Jeju  Gyeonggi-do\n",
       "Age               21      27       29           30"
      ]
     },
     "execution_count": 4,
     "metadata": {},
     "output_type": "execute_result"
    }
   ],
   "source": [
    "df1.T"
   ]
  },
  {
   "cell_type": "markdown",
   "metadata": {},
   "source": [
    "### axes :  행과 열 이름을 리스트로 반환"
   ]
  },
  {
   "cell_type": "code",
   "execution_count": 5,
   "metadata": {
    "ExecuteTime": {
     "end_time": "2019-12-02T12:35:06.879047Z",
     "start_time": "2019-12-02T12:35:06.874888Z"
    }
   },
   "outputs": [
    {
     "data": {
      "text/plain": [
       "[Index(['1', '2', '3', '4'], dtype='object'),\n",
       " Index(['Last name', 'First name', 'City', 'Age'], dtype='object')]"
      ]
     },
     "execution_count": 5,
     "metadata": {},
     "output_type": "execute_result"
    }
   ],
   "source": [
    "df1.axes"
   ]
  },
  {
   "cell_type": "code",
   "execution_count": 6,
   "metadata": {
    "ExecuteTime": {
     "end_time": "2019-12-02T12:35:06.884220Z",
     "start_time": "2019-12-02T12:35:06.880776Z"
    }
   },
   "outputs": [
    {
     "name": "stdout",
     "output_type": "stream",
     "text": [
      "Index(['1', '2', '3', '4'], dtype='object')\n",
      "Index(['Last name', 'First name', 'City', 'Age'], dtype='object')\n"
     ]
    }
   ],
   "source": [
    "print(df1.axes[0]) # colum \n",
    "print(df1.axes[1]) # row "
   ]
  },
  {
   "cell_type": "markdown",
   "metadata": {},
   "source": [
    "### dtypes : 데이터 형태 반환"
   ]
  },
  {
   "cell_type": "code",
   "execution_count": 7,
   "metadata": {
    "ExecuteTime": {
     "end_time": "2019-12-02T12:35:06.891927Z",
     "start_time": "2019-12-02T12:35:06.887584Z"
    }
   },
   "outputs": [
    {
     "data": {
      "text/plain": [
       "Last name     object\n",
       "First name    object\n",
       "City          object\n",
       "Age            int64\n",
       "dtype: object"
      ]
     },
     "execution_count": 7,
     "metadata": {},
     "output_type": "execute_result"
    }
   ],
   "source": [
    "df1.dtypes"
   ]
  },
  {
   "cell_type": "markdown",
   "metadata": {},
   "source": [
    "### shape : 행과 열의 개수(차원)을 튜플로 반환"
   ]
  },
  {
   "cell_type": "code",
   "execution_count": 8,
   "metadata": {
    "ExecuteTime": {
     "end_time": "2019-12-02T12:35:06.898124Z",
     "start_time": "2019-12-02T12:35:06.894535Z"
    }
   },
   "outputs": [
    {
     "data": {
      "text/plain": [
       "(4, 4)"
      ]
     },
     "execution_count": 8,
     "metadata": {},
     "output_type": "execute_result"
    }
   ],
   "source": [
    "df1.shape"
   ]
  },
  {
   "cell_type": "markdown",
   "metadata": {},
   "source": [
    "### size : DataFrame의 원소의 개수를 반환"
   ]
  },
  {
   "cell_type": "code",
   "execution_count": 9,
   "metadata": {
    "ExecuteTime": {
     "end_time": "2019-12-02T12:35:06.903395Z",
     "start_time": "2019-12-02T12:35:06.899760Z"
    }
   },
   "outputs": [
    {
     "data": {
      "text/plain": [
       "16"
      ]
     },
     "execution_count": 9,
     "metadata": {},
     "output_type": "execute_result"
    }
   ],
   "source": [
    "df1.size"
   ]
  },
  {
   "cell_type": "markdown",
   "metadata": {},
   "source": [
    "### index : 데이터프레임의 인덱스를 리스트로 반환"
   ]
  },
  {
   "cell_type": "code",
   "execution_count": 10,
   "metadata": {
    "ExecuteTime": {
     "end_time": "2019-12-02T12:35:06.908658Z",
     "start_time": "2019-12-02T12:35:06.904942Z"
    }
   },
   "outputs": [
    {
     "data": {
      "text/plain": [
       "Index(['1', '2', '3', '4'], dtype='object')"
      ]
     },
     "execution_count": 10,
     "metadata": {},
     "output_type": "execute_result"
    }
   ],
   "source": [
    "df1.index"
   ]
  },
  {
   "cell_type": "markdown",
   "metadata": {},
   "source": [
    "### columns : 데이터프레임의 컬럼을 리스트로 반환"
   ]
  },
  {
   "cell_type": "code",
   "execution_count": 11,
   "metadata": {
    "ExecuteTime": {
     "end_time": "2019-12-02T12:35:06.913859Z",
     "start_time": "2019-12-02T12:35:06.910270Z"
    }
   },
   "outputs": [
    {
     "data": {
      "text/plain": [
       "Index(['Last name', 'First name', 'City', 'Age'], dtype='object')"
      ]
     },
     "execution_count": 11,
     "metadata": {},
     "output_type": "execute_result"
    }
   ],
   "source": [
    "df1.columns"
   ]
  },
  {
   "cell_type": "markdown",
   "metadata": {},
   "source": [
    "### values : 데이터프레임의 값들을 반환"
   ]
  },
  {
   "cell_type": "code",
   "execution_count": 12,
   "metadata": {
    "ExecuteTime": {
     "end_time": "2019-12-02T12:35:06.919398Z",
     "start_time": "2019-12-02T12:35:06.915526Z"
    }
   },
   "outputs": [
    {
     "data": {
      "text/plain": [
       "array([['Hong', 'Gildong', 'Pyonyang', 21],\n",
       "       ['Sung', 'Munsuk', 'Seoul', 27],\n",
       "       ['Ryu', 'Hoesung', 'Jeju', 29],\n",
       "       ['Hwang', 'Jinha', 'Gyeonggi-do', 30]], dtype=object)"
      ]
     },
     "execution_count": 12,
     "metadata": {},
     "output_type": "execute_result"
    }
   ],
   "source": [
    "df1.values"
   ]
  },
  {
   "cell_type": "code",
   "execution_count": 13,
   "metadata": {
    "ExecuteTime": {
     "end_time": "2019-12-02T12:35:06.924720Z",
     "start_time": "2019-12-02T12:35:06.921197Z"
    }
   },
   "outputs": [
    {
     "data": {
      "text/plain": [
       "numpy.ndarray"
      ]
     },
     "execution_count": 13,
     "metadata": {},
     "output_type": "execute_result"
    }
   ],
   "source": [
    "type(df1.values)"
   ]
  },
  {
   "cell_type": "markdown",
   "metadata": {},
   "source": [
    "## 데이터프레임 조회하기\n",
    "\n",
    "<img src='./img/DataFrame.png' width=150%, Fig2> \n",
    "\n",
    "\n",
    "  **데이터프레임 조회 규칙 **\n",
    "    \n",
    "   1. 로우 인덱스는 숫자 슬라이싱이 되지만, 컬럼은 불가능하다. (컬럼은 순서 개념이 없음)\n",
    "   1. 기본적으로 \"컬럼\"을 먼저 인덱싱한다. \n",
    "\n",
    "   1. cf) pandas loc acronym\n",
    "        1. iloc = index-location\n",
    "        1. loc =  location"
   ]
  },
  {
   "cell_type": "code",
   "execution_count": 14,
   "metadata": {
    "ExecuteTime": {
     "end_time": "2019-12-02T12:35:06.936715Z",
     "start_time": "2019-12-02T12:35:06.926393Z"
    }
   },
   "outputs": [
    {
     "name": "stdout",
     "output_type": "stream",
     "text": [
      "(4, 4)\n"
     ]
    },
    {
     "data": {
      "text/html": [
       "<div>\n",
       "<style scoped>\n",
       "    .dataframe tbody tr th:only-of-type {\n",
       "        vertical-align: middle;\n",
       "    }\n",
       "\n",
       "    .dataframe tbody tr th {\n",
       "        vertical-align: top;\n",
       "    }\n",
       "\n",
       "    .dataframe thead th {\n",
       "        text-align: right;\n",
       "    }\n",
       "</style>\n",
       "<table border=\"1\" class=\"dataframe\">\n",
       "  <thead>\n",
       "    <tr style=\"text-align: right;\">\n",
       "      <th></th>\n",
       "      <th>Last name</th>\n",
       "      <th>First name</th>\n",
       "      <th>City</th>\n",
       "      <th>Age</th>\n",
       "    </tr>\n",
       "  </thead>\n",
       "  <tbody>\n",
       "    <tr>\n",
       "      <th>1</th>\n",
       "      <td>Hong</td>\n",
       "      <td>Gildong</td>\n",
       "      <td>Pyonyang</td>\n",
       "      <td>21</td>\n",
       "    </tr>\n",
       "    <tr>\n",
       "      <th>2</th>\n",
       "      <td>Sung</td>\n",
       "      <td>Munsuk</td>\n",
       "      <td>Seoul</td>\n",
       "      <td>27</td>\n",
       "    </tr>\n",
       "    <tr>\n",
       "      <th>3</th>\n",
       "      <td>Ryu</td>\n",
       "      <td>Hoesung</td>\n",
       "      <td>Jeju</td>\n",
       "      <td>29</td>\n",
       "    </tr>\n",
       "    <tr>\n",
       "      <th>4</th>\n",
       "      <td>Hwang</td>\n",
       "      <td>Jinha</td>\n",
       "      <td>Gyeonggi-do</td>\n",
       "      <td>30</td>\n",
       "    </tr>\n",
       "  </tbody>\n",
       "</table>\n",
       "</div>"
      ],
      "text/plain": [
       "  Last name First name         City  Age\n",
       "1      Hong    Gildong     Pyonyang   21\n",
       "2      Sung     Munsuk        Seoul   27\n",
       "3       Ryu    Hoesung         Jeju   29\n",
       "4     Hwang      Jinha  Gyeonggi-do   30"
      ]
     },
     "execution_count": 14,
     "metadata": {},
     "output_type": "execute_result"
    }
   ],
   "source": [
    "import pandas as pd\n",
    "# 1. 2차원 데이터 생성\n",
    "df = pd.DataFrame([\n",
    "                    ['Hong', 'Gildong', 'Pyonyang', 21],\n",
    "                    ['Sung', 'Munsuk', 'Seoul', 27],\n",
    "                    ['Ryu', 'Hoesung', 'Jeju', 29],\n",
    "                    ['Hwang', 'Jinha', 'Gyeonggi-do', 30]\n",
    "                    ]\n",
    "                    ,index = ['1','2','3','4']\n",
    "                    ,columns = ['Last name', 'First name', 'City', 'Age']\n",
    "                    )\n",
    "print(df.shape)\n",
    "df"
   ]
  },
  {
   "cell_type": "markdown",
   "metadata": {},
   "source": [
    "### Lastname 조회하기"
   ]
  },
  {
   "cell_type": "code",
   "execution_count": 15,
   "metadata": {
    "ExecuteTime": {
     "end_time": "2019-12-02T12:35:06.942754Z",
     "start_time": "2019-12-02T12:35:06.938325Z"
    }
   },
   "outputs": [
    {
     "data": {
      "text/plain": [
       "1     Hong\n",
       "2     Sung\n",
       "3      Ryu\n",
       "4    Hwang\n",
       "Name: Last name, dtype: object"
      ]
     },
     "execution_count": 15,
     "metadata": {},
     "output_type": "execute_result"
    }
   ],
   "source": [
    "df1['Last name']"
   ]
  },
  {
   "cell_type": "markdown",
   "metadata": {},
   "source": [
    "### name 조회하기"
   ]
  },
  {
   "cell_type": "code",
   "execution_count": 16,
   "metadata": {
    "ExecuteTime": {
     "end_time": "2019-12-02T12:35:06.952555Z",
     "start_time": "2019-12-02T12:35:06.944493Z"
    }
   },
   "outputs": [
    {
     "data": {
      "text/html": [
       "<div>\n",
       "<style scoped>\n",
       "    .dataframe tbody tr th:only-of-type {\n",
       "        vertical-align: middle;\n",
       "    }\n",
       "\n",
       "    .dataframe tbody tr th {\n",
       "        vertical-align: top;\n",
       "    }\n",
       "\n",
       "    .dataframe thead th {\n",
       "        text-align: right;\n",
       "    }\n",
       "</style>\n",
       "<table border=\"1\" class=\"dataframe\">\n",
       "  <thead>\n",
       "    <tr style=\"text-align: right;\">\n",
       "      <th></th>\n",
       "      <th>Last name</th>\n",
       "      <th>First name</th>\n",
       "    </tr>\n",
       "  </thead>\n",
       "  <tbody>\n",
       "    <tr>\n",
       "      <th>1</th>\n",
       "      <td>Hong</td>\n",
       "      <td>Gildong</td>\n",
       "    </tr>\n",
       "    <tr>\n",
       "      <th>2</th>\n",
       "      <td>Sung</td>\n",
       "      <td>Munsuk</td>\n",
       "    </tr>\n",
       "    <tr>\n",
       "      <th>3</th>\n",
       "      <td>Ryu</td>\n",
       "      <td>Hoesung</td>\n",
       "    </tr>\n",
       "    <tr>\n",
       "      <th>4</th>\n",
       "      <td>Hwang</td>\n",
       "      <td>Jinha</td>\n",
       "    </tr>\n",
       "  </tbody>\n",
       "</table>\n",
       "</div>"
      ],
      "text/plain": [
       "  Last name First name\n",
       "1      Hong    Gildong\n",
       "2      Sung     Munsuk\n",
       "3       Ryu    Hoesung\n",
       "4     Hwang      Jinha"
      ]
     },
     "execution_count": 16,
     "metadata": {},
     "output_type": "execute_result"
    }
   ],
   "source": [
    "# 2개 이상의 컬럼을 처리할때에는 [[]]를 사용 한다\n",
    "df1[['Last name','First name']]"
   ]
  },
  {
   "cell_type": "markdown",
   "metadata": {},
   "source": [
    "### 로우 인덱스로 접근하여 조회하기 (.ioc)"
   ]
  },
  {
   "cell_type": "code",
   "execution_count": 17,
   "metadata": {
    "ExecuteTime": {
     "end_time": "2019-12-02T12:35:06.959819Z",
     "start_time": "2019-12-02T12:35:06.954758Z"
    }
   },
   "outputs": [
    {
     "data": {
      "text/plain": [
       "Last name       Sung\n",
       "First name    Munsuk\n",
       "City           Seoul\n",
       "Age               27\n",
       "Name: 2, dtype: object"
      ]
     },
     "execution_count": 17,
     "metadata": {},
     "output_type": "execute_result"
    }
   ],
   "source": [
    "# iloc 위치로 접근 하려할때 사용한다. \n",
    "# 2번째 row 를 불러온다\n",
    "df.iloc[1]"
   ]
  },
  {
   "cell_type": "markdown",
   "metadata": {},
   "source": [
    "### 기본적으로  인덱싱을 하면 로우에 적용된다. column 은 순서가 없다. "
   ]
  },
  {
   "cell_type": "code",
   "execution_count": 18,
   "metadata": {
    "ExecuteTime": {
     "end_time": "2019-12-02T12:35:06.970242Z",
     "start_time": "2019-12-02T12:35:06.961856Z"
    }
   },
   "outputs": [
    {
     "data": {
      "text/html": [
       "<div>\n",
       "<style scoped>\n",
       "    .dataframe tbody tr th:only-of-type {\n",
       "        vertical-align: middle;\n",
       "    }\n",
       "\n",
       "    .dataframe tbody tr th {\n",
       "        vertical-align: top;\n",
       "    }\n",
       "\n",
       "    .dataframe thead th {\n",
       "        text-align: right;\n",
       "    }\n",
       "</style>\n",
       "<table border=\"1\" class=\"dataframe\">\n",
       "  <thead>\n",
       "    <tr style=\"text-align: right;\">\n",
       "      <th></th>\n",
       "      <th>Last name</th>\n",
       "      <th>First name</th>\n",
       "      <th>City</th>\n",
       "      <th>Age</th>\n",
       "    </tr>\n",
       "  </thead>\n",
       "  <tbody>\n",
       "    <tr>\n",
       "      <th>2</th>\n",
       "      <td>Sung</td>\n",
       "      <td>Munsuk</td>\n",
       "      <td>Seoul</td>\n",
       "      <td>27</td>\n",
       "    </tr>\n",
       "    <tr>\n",
       "      <th>3</th>\n",
       "      <td>Ryu</td>\n",
       "      <td>Hoesung</td>\n",
       "      <td>Jeju</td>\n",
       "      <td>29</td>\n",
       "    </tr>\n",
       "    <tr>\n",
       "      <th>4</th>\n",
       "      <td>Hwang</td>\n",
       "      <td>Jinha</td>\n",
       "      <td>Gyeonggi-do</td>\n",
       "      <td>30</td>\n",
       "    </tr>\n",
       "  </tbody>\n",
       "</table>\n",
       "</div>"
      ],
      "text/plain": [
       "  Last name First name         City  Age\n",
       "2      Sung     Munsuk        Seoul   27\n",
       "3       Ryu    Hoesung         Jeju   29\n",
       "4     Hwang      Jinha  Gyeonggi-do   30"
      ]
     },
     "execution_count": 18,
     "metadata": {},
     "output_type": "execute_result"
    }
   ],
   "source": [
    "# 기본적으로  인덱싱을 하면 로우에 적용된다. column 은 순서가 없다. \n",
    "# 2번쨰부터 4번째까지 조회 \n",
    "df1[1:4]"
   ]
  },
  {
   "cell_type": "markdown",
   "metadata": {},
   "source": [
    "### loc로 row데이터 접근하기 "
   ]
  },
  {
   "cell_type": "code",
   "execution_count": 19,
   "metadata": {
    "ExecuteTime": {
     "end_time": "2019-12-02T12:35:06.981074Z",
     "start_time": "2019-12-02T12:35:06.972235Z"
    }
   },
   "outputs": [
    {
     "data": {
      "text/html": [
       "<div>\n",
       "<style scoped>\n",
       "    .dataframe tbody tr th:only-of-type {\n",
       "        vertical-align: middle;\n",
       "    }\n",
       "\n",
       "    .dataframe tbody tr th {\n",
       "        vertical-align: top;\n",
       "    }\n",
       "\n",
       "    .dataframe thead th {\n",
       "        text-align: right;\n",
       "    }\n",
       "</style>\n",
       "<table border=\"1\" class=\"dataframe\">\n",
       "  <thead>\n",
       "    <tr style=\"text-align: right;\">\n",
       "      <th></th>\n",
       "      <th>Last name</th>\n",
       "      <th>First name</th>\n",
       "      <th>City</th>\n",
       "      <th>Age</th>\n",
       "    </tr>\n",
       "  </thead>\n",
       "  <tbody>\n",
       "    <tr>\n",
       "      <th>1</th>\n",
       "      <td>Hong</td>\n",
       "      <td>Gildong</td>\n",
       "      <td>Pyonyang</td>\n",
       "      <td>21</td>\n",
       "    </tr>\n",
       "    <tr>\n",
       "      <th>2</th>\n",
       "      <td>Sung</td>\n",
       "      <td>Munsuk</td>\n",
       "      <td>Seoul</td>\n",
       "      <td>27</td>\n",
       "    </tr>\n",
       "    <tr>\n",
       "      <th>3</th>\n",
       "      <td>Ryu</td>\n",
       "      <td>Hoesung</td>\n",
       "      <td>Jeju</td>\n",
       "      <td>29</td>\n",
       "    </tr>\n",
       "  </tbody>\n",
       "</table>\n",
       "</div>"
      ],
      "text/plain": [
       "  Last name First name      City  Age\n",
       "1      Hong    Gildong  Pyonyang   21\n",
       "2      Sung     Munsuk     Seoul   27\n",
       "3       Ryu    Hoesung      Jeju   29"
      ]
     },
     "execution_count": 19,
     "metadata": {},
     "output_type": "execute_result"
    }
   ],
   "source": [
    "# row 라는것을 loc로 명시해준다. \n",
    "df1.loc[['1','2','3']]"
   ]
  },
  {
   "cell_type": "markdown",
   "metadata": {},
   "source": [
    "### loc로 column데이터 접근하기"
   ]
  },
  {
   "cell_type": "code",
   "execution_count": 20,
   "metadata": {
    "ExecuteTime": {
     "end_time": "2019-12-02T12:35:06.990454Z",
     "start_time": "2019-12-02T12:35:06.983009Z"
    }
   },
   "outputs": [
    {
     "data": {
      "text/html": [
       "<div>\n",
       "<style scoped>\n",
       "    .dataframe tbody tr th:only-of-type {\n",
       "        vertical-align: middle;\n",
       "    }\n",
       "\n",
       "    .dataframe tbody tr th {\n",
       "        vertical-align: top;\n",
       "    }\n",
       "\n",
       "    .dataframe thead th {\n",
       "        text-align: right;\n",
       "    }\n",
       "</style>\n",
       "<table border=\"1\" class=\"dataframe\">\n",
       "  <thead>\n",
       "    <tr style=\"text-align: right;\">\n",
       "      <th></th>\n",
       "      <th>City</th>\n",
       "      <th>Age</th>\n",
       "    </tr>\n",
       "  </thead>\n",
       "  <tbody>\n",
       "    <tr>\n",
       "      <th>1</th>\n",
       "      <td>Pyonyang</td>\n",
       "      <td>21</td>\n",
       "    </tr>\n",
       "    <tr>\n",
       "      <th>2</th>\n",
       "      <td>Seoul</td>\n",
       "      <td>27</td>\n",
       "    </tr>\n",
       "    <tr>\n",
       "      <th>3</th>\n",
       "      <td>Jeju</td>\n",
       "      <td>29</td>\n",
       "    </tr>\n",
       "    <tr>\n",
       "      <th>4</th>\n",
       "      <td>Gyeonggi-do</td>\n",
       "      <td>30</td>\n",
       "    </tr>\n",
       "  </tbody>\n",
       "</table>\n",
       "</div>"
      ],
      "text/plain": [
       "          City  Age\n",
       "1     Pyonyang   21\n",
       "2        Seoul   27\n",
       "3         Jeju   29\n",
       "4  Gyeonggi-do   30"
      ]
     },
     "execution_count": 20,
     "metadata": {},
     "output_type": "execute_result"
    }
   ],
   "source": [
    "# 모든 row를 불러오고 싶을때 : 을 사용한다. \n",
    "df1.loc[:,['City','Age']]"
   ]
  },
  {
   "cell_type": "markdown",
   "metadata": {},
   "source": [
    "### 조건 인덱싱 "
   ]
  },
  {
   "cell_type": "code",
   "execution_count": 21,
   "metadata": {
    "ExecuteTime": {
     "end_time": "2019-12-02T12:35:07.000398Z",
     "start_time": "2019-12-02T12:35:06.992277Z"
    }
   },
   "outputs": [
    {
     "data": {
      "text/html": [
       "<div>\n",
       "<style scoped>\n",
       "    .dataframe tbody tr th:only-of-type {\n",
       "        vertical-align: middle;\n",
       "    }\n",
       "\n",
       "    .dataframe tbody tr th {\n",
       "        vertical-align: top;\n",
       "    }\n",
       "\n",
       "    .dataframe thead th {\n",
       "        text-align: right;\n",
       "    }\n",
       "</style>\n",
       "<table border=\"1\" class=\"dataframe\">\n",
       "  <thead>\n",
       "    <tr style=\"text-align: right;\">\n",
       "      <th></th>\n",
       "      <th>Last name</th>\n",
       "      <th>First name</th>\n",
       "      <th>City</th>\n",
       "      <th>Age</th>\n",
       "    </tr>\n",
       "  </thead>\n",
       "  <tbody>\n",
       "    <tr>\n",
       "      <th>2</th>\n",
       "      <td>Sung</td>\n",
       "      <td>Munsuk</td>\n",
       "      <td>Seoul</td>\n",
       "      <td>27</td>\n",
       "    </tr>\n",
       "    <tr>\n",
       "      <th>3</th>\n",
       "      <td>Ryu</td>\n",
       "      <td>Hoesung</td>\n",
       "      <td>Jeju</td>\n",
       "      <td>29</td>\n",
       "    </tr>\n",
       "    <tr>\n",
       "      <th>4</th>\n",
       "      <td>Hwang</td>\n",
       "      <td>Jinha</td>\n",
       "      <td>Gyeonggi-do</td>\n",
       "      <td>30</td>\n",
       "    </tr>\n",
       "  </tbody>\n",
       "</table>\n",
       "</div>"
      ],
      "text/plain": [
       "  Last name First name         City  Age\n",
       "2      Sung     Munsuk        Seoul   27\n",
       "3       Ryu    Hoesung         Jeju   29\n",
       "4     Hwang      Jinha  Gyeonggi-do   30"
      ]
     },
     "execution_count": 21,
     "metadata": {},
     "output_type": "execute_result"
    }
   ],
   "source": [
    "# Age가 25보다 큰 것만 조회하기 \n",
    "df1[df1['Age']>25]"
   ]
  },
  {
   "cell_type": "markdown",
   "metadata": {},
   "source": [
    "### 데이터프레임에 새로운 컬럼 추가하기(1)"
   ]
  },
  {
   "cell_type": "code",
   "execution_count": 22,
   "metadata": {
    "ExecuteTime": {
     "end_time": "2019-12-02T12:35:07.015202Z",
     "start_time": "2019-12-02T12:35:07.005274Z"
    }
   },
   "outputs": [
    {
     "data": {
      "text/html": [
       "<div>\n",
       "<style scoped>\n",
       "    .dataframe tbody tr th:only-of-type {\n",
       "        vertical-align: middle;\n",
       "    }\n",
       "\n",
       "    .dataframe tbody tr th {\n",
       "        vertical-align: top;\n",
       "    }\n",
       "\n",
       "    .dataframe thead th {\n",
       "        text-align: right;\n",
       "    }\n",
       "</style>\n",
       "<table border=\"1\" class=\"dataframe\">\n",
       "  <thead>\n",
       "    <tr style=\"text-align: right;\">\n",
       "      <th></th>\n",
       "      <th>Last name</th>\n",
       "      <th>First name</th>\n",
       "      <th>City</th>\n",
       "      <th>Age</th>\n",
       "      <th>Math_Score</th>\n",
       "      <th>English_Score</th>\n",
       "    </tr>\n",
       "  </thead>\n",
       "  <tbody>\n",
       "    <tr>\n",
       "      <th>1</th>\n",
       "      <td>Hong</td>\n",
       "      <td>Gildong</td>\n",
       "      <td>Pyonyang</td>\n",
       "      <td>21</td>\n",
       "      <td>90</td>\n",
       "      <td>100</td>\n",
       "    </tr>\n",
       "    <tr>\n",
       "      <th>2</th>\n",
       "      <td>Sung</td>\n",
       "      <td>Munsuk</td>\n",
       "      <td>Seoul</td>\n",
       "      <td>27</td>\n",
       "      <td>99</td>\n",
       "      <td>99</td>\n",
       "    </tr>\n",
       "    <tr>\n",
       "      <th>3</th>\n",
       "      <td>Ryu</td>\n",
       "      <td>Hoesung</td>\n",
       "      <td>Jeju</td>\n",
       "      <td>29</td>\n",
       "      <td>100</td>\n",
       "      <td>90</td>\n",
       "    </tr>\n",
       "    <tr>\n",
       "      <th>4</th>\n",
       "      <td>Hwang</td>\n",
       "      <td>Jinha</td>\n",
       "      <td>Gyeonggi-do</td>\n",
       "      <td>30</td>\n",
       "      <td>97</td>\n",
       "      <td>96</td>\n",
       "    </tr>\n",
       "  </tbody>\n",
       "</table>\n",
       "</div>"
      ],
      "text/plain": [
       "  Last name First name         City  Age  Math_Score  English_Score\n",
       "1      Hong    Gildong     Pyonyang   21          90            100\n",
       "2      Sung     Munsuk        Seoul   27          99             99\n",
       "3       Ryu    Hoesung         Jeju   29         100             90\n",
       "4     Hwang      Jinha  Gyeonggi-do   30          97             96"
      ]
     },
     "execution_count": 22,
     "metadata": {},
     "output_type": "execute_result"
    }
   ],
   "source": [
    "df1['Math_Score'] = [90,99,100,97]\n",
    "df1['English_Score'] = [100,99,90,96]\n",
    "df1"
   ]
  },
  {
   "cell_type": "markdown",
   "metadata": {},
   "source": [
    "### 데이터프레임에 새로운 컬럼 추가하기(2)"
   ]
  },
  {
   "cell_type": "code",
   "execution_count": 23,
   "metadata": {
    "ExecuteTime": {
     "end_time": "2019-12-02T12:35:07.028547Z",
     "start_time": "2019-12-02T12:35:07.017802Z"
    }
   },
   "outputs": [
    {
     "data": {
      "text/html": [
       "<div>\n",
       "<style scoped>\n",
       "    .dataframe tbody tr th:only-of-type {\n",
       "        vertical-align: middle;\n",
       "    }\n",
       "\n",
       "    .dataframe tbody tr th {\n",
       "        vertical-align: top;\n",
       "    }\n",
       "\n",
       "    .dataframe thead th {\n",
       "        text-align: right;\n",
       "    }\n",
       "</style>\n",
       "<table border=\"1\" class=\"dataframe\">\n",
       "  <thead>\n",
       "    <tr style=\"text-align: right;\">\n",
       "      <th></th>\n",
       "      <th>Last name</th>\n",
       "      <th>First name</th>\n",
       "      <th>City</th>\n",
       "      <th>Age</th>\n",
       "      <th>Math_Score</th>\n",
       "      <th>English_Score</th>\n",
       "      <th>Sum_Score</th>\n",
       "    </tr>\n",
       "  </thead>\n",
       "  <tbody>\n",
       "    <tr>\n",
       "      <th>1</th>\n",
       "      <td>Hong</td>\n",
       "      <td>Gildong</td>\n",
       "      <td>Pyonyang</td>\n",
       "      <td>21</td>\n",
       "      <td>90</td>\n",
       "      <td>100</td>\n",
       "      <td>190</td>\n",
       "    </tr>\n",
       "    <tr>\n",
       "      <th>2</th>\n",
       "      <td>Sung</td>\n",
       "      <td>Munsuk</td>\n",
       "      <td>Seoul</td>\n",
       "      <td>27</td>\n",
       "      <td>99</td>\n",
       "      <td>99</td>\n",
       "      <td>198</td>\n",
       "    </tr>\n",
       "    <tr>\n",
       "      <th>3</th>\n",
       "      <td>Ryu</td>\n",
       "      <td>Hoesung</td>\n",
       "      <td>Jeju</td>\n",
       "      <td>29</td>\n",
       "      <td>100</td>\n",
       "      <td>90</td>\n",
       "      <td>190</td>\n",
       "    </tr>\n",
       "    <tr>\n",
       "      <th>4</th>\n",
       "      <td>Hwang</td>\n",
       "      <td>Jinha</td>\n",
       "      <td>Gyeonggi-do</td>\n",
       "      <td>30</td>\n",
       "      <td>97</td>\n",
       "      <td>96</td>\n",
       "      <td>193</td>\n",
       "    </tr>\n",
       "  </tbody>\n",
       "</table>\n",
       "</div>"
      ],
      "text/plain": [
       "  Last name First name         City  Age  Math_Score  English_Score  Sum_Score\n",
       "1      Hong    Gildong     Pyonyang   21          90            100        190\n",
       "2      Sung     Munsuk        Seoul   27          99             99        198\n",
       "3       Ryu    Hoesung         Jeju   29         100             90        190\n",
       "4     Hwang      Jinha  Gyeonggi-do   30          97             96        193"
      ]
     },
     "execution_count": 23,
     "metadata": {},
     "output_type": "execute_result"
    }
   ],
   "source": [
    "df1['Sum_Score'] = df1['Math_Score'] + df1['English_Score']\n",
    "df1"
   ]
  },
  {
   "cell_type": "markdown",
   "metadata": {},
   "source": [
    "### 데이터프레임 로우, 컬럼 삭제"
   ]
  },
  {
   "cell_type": "code",
   "execution_count": 24,
   "metadata": {
    "ExecuteTime": {
     "end_time": "2019-12-02T12:35:07.039223Z",
     "start_time": "2019-12-02T12:35:07.030335Z"
    }
   },
   "outputs": [
    {
     "data": {
      "text/html": [
       "<div>\n",
       "<style scoped>\n",
       "    .dataframe tbody tr th:only-of-type {\n",
       "        vertical-align: middle;\n",
       "    }\n",
       "\n",
       "    .dataframe tbody tr th {\n",
       "        vertical-align: top;\n",
       "    }\n",
       "\n",
       "    .dataframe thead th {\n",
       "        text-align: right;\n",
       "    }\n",
       "</style>\n",
       "<table border=\"1\" class=\"dataframe\">\n",
       "  <thead>\n",
       "    <tr style=\"text-align: right;\">\n",
       "      <th></th>\n",
       "      <th>Last name</th>\n",
       "      <th>First name</th>\n",
       "      <th>City</th>\n",
       "      <th>Age</th>\n",
       "      <th>Math_Score</th>\n",
       "      <th>English_Score</th>\n",
       "      <th>Sum_Score</th>\n",
       "    </tr>\n",
       "  </thead>\n",
       "  <tbody>\n",
       "    <tr>\n",
       "      <th>1</th>\n",
       "      <td>Hong</td>\n",
       "      <td>Gildong</td>\n",
       "      <td>Pyonyang</td>\n",
       "      <td>21</td>\n",
       "      <td>90</td>\n",
       "      <td>100</td>\n",
       "      <td>190</td>\n",
       "    </tr>\n",
       "    <tr>\n",
       "      <th>2</th>\n",
       "      <td>Sung</td>\n",
       "      <td>Munsuk</td>\n",
       "      <td>Seoul</td>\n",
       "      <td>27</td>\n",
       "      <td>99</td>\n",
       "      <td>99</td>\n",
       "      <td>198</td>\n",
       "    </tr>\n",
       "    <tr>\n",
       "      <th>3</th>\n",
       "      <td>Ryu</td>\n",
       "      <td>Hoesung</td>\n",
       "      <td>Jeju</td>\n",
       "      <td>29</td>\n",
       "      <td>100</td>\n",
       "      <td>90</td>\n",
       "      <td>190</td>\n",
       "    </tr>\n",
       "    <tr>\n",
       "      <th>4</th>\n",
       "      <td>Hwang</td>\n",
       "      <td>Jinha</td>\n",
       "      <td>Gyeonggi-do</td>\n",
       "      <td>30</td>\n",
       "      <td>97</td>\n",
       "      <td>96</td>\n",
       "      <td>193</td>\n",
       "    </tr>\n",
       "  </tbody>\n",
       "</table>\n",
       "</div>"
      ],
      "text/plain": [
       "  Last name First name         City  Age  Math_Score  English_Score  Sum_Score\n",
       "1      Hong    Gildong     Pyonyang   21          90            100        190\n",
       "2      Sung     Munsuk        Seoul   27          99             99        198\n",
       "3       Ryu    Hoesung         Jeju   29         100             90        190\n",
       "4     Hwang      Jinha  Gyeonggi-do   30          97             96        193"
      ]
     },
     "execution_count": 24,
     "metadata": {},
     "output_type": "execute_result"
    }
   ],
   "source": [
    "# .copy() :원본을 카피하는 명령어 \n",
    "df = df1.copy()\n",
    "df"
   ]
  },
  {
   "cell_type": "code",
   "execution_count": 25,
   "metadata": {
    "ExecuteTime": {
     "end_time": "2019-12-02T12:35:07.051339Z",
     "start_time": "2019-12-02T12:35:07.041314Z"
    }
   },
   "outputs": [
    {
     "data": {
      "text/html": [
       "<div>\n",
       "<style scoped>\n",
       "    .dataframe tbody tr th:only-of-type {\n",
       "        vertical-align: middle;\n",
       "    }\n",
       "\n",
       "    .dataframe tbody tr th {\n",
       "        vertical-align: top;\n",
       "    }\n",
       "\n",
       "    .dataframe thead th {\n",
       "        text-align: right;\n",
       "    }\n",
       "</style>\n",
       "<table border=\"1\" class=\"dataframe\">\n",
       "  <thead>\n",
       "    <tr style=\"text-align: right;\">\n",
       "      <th></th>\n",
       "      <th>Last name</th>\n",
       "      <th>First name</th>\n",
       "      <th>City</th>\n",
       "      <th>Age</th>\n",
       "      <th>Math_Score</th>\n",
       "      <th>English_Score</th>\n",
       "      <th>Sum_Score</th>\n",
       "    </tr>\n",
       "  </thead>\n",
       "  <tbody>\n",
       "    <tr>\n",
       "      <th>1</th>\n",
       "      <td>Hong</td>\n",
       "      <td>Gildong</td>\n",
       "      <td>Pyonyang</td>\n",
       "      <td>21</td>\n",
       "      <td>90</td>\n",
       "      <td>100</td>\n",
       "      <td>190</td>\n",
       "    </tr>\n",
       "    <tr>\n",
       "      <th>2</th>\n",
       "      <td>Sung</td>\n",
       "      <td>Munsuk</td>\n",
       "      <td>Seoul</td>\n",
       "      <td>27</td>\n",
       "      <td>99</td>\n",
       "      <td>99</td>\n",
       "      <td>198</td>\n",
       "    </tr>\n",
       "    <tr>\n",
       "      <th>3</th>\n",
       "      <td>Ryu</td>\n",
       "      <td>Hoesung</td>\n",
       "      <td>Jeju</td>\n",
       "      <td>29</td>\n",
       "      <td>100</td>\n",
       "      <td>90</td>\n",
       "      <td>190</td>\n",
       "    </tr>\n",
       "  </tbody>\n",
       "</table>\n",
       "</div>"
      ],
      "text/plain": [
       "  Last name First name      City  Age  Math_Score  English_Score  Sum_Score\n",
       "1      Hong    Gildong  Pyonyang   21          90            100        190\n",
       "2      Sung     Munsuk     Seoul   27          99             99        198\n",
       "3       Ryu    Hoesung      Jeju   29         100             90        190"
      ]
     },
     "execution_count": 25,
     "metadata": {},
     "output_type": "execute_result"
    }
   ],
   "source": [
    "# index 가 4인 로우 삭제 \n",
    "# axis=0이란 로우를 뜻한다\n",
    "df.drop('4', axis=0)"
   ]
  },
  {
   "cell_type": "code",
   "execution_count": 26,
   "metadata": {
    "ExecuteTime": {
     "end_time": "2019-12-02T12:35:07.062100Z",
     "start_time": "2019-12-02T12:35:07.053225Z"
    }
   },
   "outputs": [
    {
     "data": {
      "text/html": [
       "<div>\n",
       "<style scoped>\n",
       "    .dataframe tbody tr th:only-of-type {\n",
       "        vertical-align: middle;\n",
       "    }\n",
       "\n",
       "    .dataframe tbody tr th {\n",
       "        vertical-align: top;\n",
       "    }\n",
       "\n",
       "    .dataframe thead th {\n",
       "        text-align: right;\n",
       "    }\n",
       "</style>\n",
       "<table border=\"1\" class=\"dataframe\">\n",
       "  <thead>\n",
       "    <tr style=\"text-align: right;\">\n",
       "      <th></th>\n",
       "      <th>Last name</th>\n",
       "      <th>First name</th>\n",
       "      <th>Age</th>\n",
       "      <th>Math_Score</th>\n",
       "      <th>English_Score</th>\n",
       "      <th>Sum_Score</th>\n",
       "    </tr>\n",
       "  </thead>\n",
       "  <tbody>\n",
       "    <tr>\n",
       "      <th>1</th>\n",
       "      <td>Hong</td>\n",
       "      <td>Gildong</td>\n",
       "      <td>21</td>\n",
       "      <td>90</td>\n",
       "      <td>100</td>\n",
       "      <td>190</td>\n",
       "    </tr>\n",
       "    <tr>\n",
       "      <th>2</th>\n",
       "      <td>Sung</td>\n",
       "      <td>Munsuk</td>\n",
       "      <td>27</td>\n",
       "      <td>99</td>\n",
       "      <td>99</td>\n",
       "      <td>198</td>\n",
       "    </tr>\n",
       "    <tr>\n",
       "      <th>3</th>\n",
       "      <td>Ryu</td>\n",
       "      <td>Hoesung</td>\n",
       "      <td>29</td>\n",
       "      <td>100</td>\n",
       "      <td>90</td>\n",
       "      <td>190</td>\n",
       "    </tr>\n",
       "    <tr>\n",
       "      <th>4</th>\n",
       "      <td>Hwang</td>\n",
       "      <td>Jinha</td>\n",
       "      <td>30</td>\n",
       "      <td>97</td>\n",
       "      <td>96</td>\n",
       "      <td>193</td>\n",
       "    </tr>\n",
       "  </tbody>\n",
       "</table>\n",
       "</div>"
      ],
      "text/plain": [
       "  Last name First name  Age  Math_Score  English_Score  Sum_Score\n",
       "1      Hong    Gildong   21          90            100        190\n",
       "2      Sung     Munsuk   27          99             99        198\n",
       "3       Ryu    Hoesung   29         100             90        190\n",
       "4     Hwang      Jinha   30          97             96        193"
      ]
     },
     "execution_count": 26,
     "metadata": {},
     "output_type": "execute_result"
    }
   ],
   "source": [
    "# 'city' 컬럼 삭제\n",
    "# axis=1 이란 컬럼을 뜻한다.\n",
    "df.drop('City', 1)"
   ]
  },
  {
   "cell_type": "markdown",
   "metadata": {},
   "source": [
    "### 변경값 저장 하기(1)"
   ]
  },
  {
   "cell_type": "code",
   "execution_count": 27,
   "metadata": {
    "ExecuteTime": {
     "end_time": "2019-12-02T12:35:07.072618Z",
     "start_time": "2019-12-02T12:35:07.063952Z"
    }
   },
   "outputs": [
    {
     "data": {
      "text/html": [
       "<div>\n",
       "<style scoped>\n",
       "    .dataframe tbody tr th:only-of-type {\n",
       "        vertical-align: middle;\n",
       "    }\n",
       "\n",
       "    .dataframe tbody tr th {\n",
       "        vertical-align: top;\n",
       "    }\n",
       "\n",
       "    .dataframe thead th {\n",
       "        text-align: right;\n",
       "    }\n",
       "</style>\n",
       "<table border=\"1\" class=\"dataframe\">\n",
       "  <thead>\n",
       "    <tr style=\"text-align: right;\">\n",
       "      <th></th>\n",
       "      <th>Last name</th>\n",
       "      <th>First name</th>\n",
       "      <th>Age</th>\n",
       "      <th>Math_Score</th>\n",
       "      <th>English_Score</th>\n",
       "      <th>Sum_Score</th>\n",
       "    </tr>\n",
       "  </thead>\n",
       "  <tbody>\n",
       "    <tr>\n",
       "      <th>1</th>\n",
       "      <td>Hong</td>\n",
       "      <td>Gildong</td>\n",
       "      <td>21</td>\n",
       "      <td>90</td>\n",
       "      <td>100</td>\n",
       "      <td>190</td>\n",
       "    </tr>\n",
       "    <tr>\n",
       "      <th>2</th>\n",
       "      <td>Sung</td>\n",
       "      <td>Munsuk</td>\n",
       "      <td>27</td>\n",
       "      <td>99</td>\n",
       "      <td>99</td>\n",
       "      <td>198</td>\n",
       "    </tr>\n",
       "    <tr>\n",
       "      <th>3</th>\n",
       "      <td>Ryu</td>\n",
       "      <td>Hoesung</td>\n",
       "      <td>29</td>\n",
       "      <td>100</td>\n",
       "      <td>90</td>\n",
       "      <td>190</td>\n",
       "    </tr>\n",
       "    <tr>\n",
       "      <th>4</th>\n",
       "      <td>Hwang</td>\n",
       "      <td>Jinha</td>\n",
       "      <td>30</td>\n",
       "      <td>97</td>\n",
       "      <td>96</td>\n",
       "      <td>193</td>\n",
       "    </tr>\n",
       "  </tbody>\n",
       "</table>\n",
       "</div>"
      ],
      "text/plain": [
       "  Last name First name  Age  Math_Score  English_Score  Sum_Score\n",
       "1      Hong    Gildong   21          90            100        190\n",
       "2      Sung     Munsuk   27          99             99        198\n",
       "3       Ryu    Hoesung   29         100             90        190\n",
       "4     Hwang      Jinha   30          97             96        193"
      ]
     },
     "execution_count": 27,
     "metadata": {},
     "output_type": "execute_result"
    }
   ],
   "source": [
    "# 원본 변경을 위해서는 다시 변수에 할당해야 함. \n",
    "df = df.drop('City', axis=1)\n",
    "df"
   ]
  },
  {
   "cell_type": "markdown",
   "metadata": {},
   "source": [
    "### 변경값 저장 하기(2)"
   ]
  },
  {
   "cell_type": "code",
   "execution_count": 28,
   "metadata": {
    "ExecuteTime": {
     "end_time": "2019-12-02T12:35:07.082678Z",
     "start_time": "2019-12-02T12:35:07.074249Z"
    }
   },
   "outputs": [
    {
     "data": {
      "text/html": [
       "<div>\n",
       "<style scoped>\n",
       "    .dataframe tbody tr th:only-of-type {\n",
       "        vertical-align: middle;\n",
       "    }\n",
       "\n",
       "    .dataframe tbody tr th {\n",
       "        vertical-align: top;\n",
       "    }\n",
       "\n",
       "    .dataframe thead th {\n",
       "        text-align: right;\n",
       "    }\n",
       "</style>\n",
       "<table border=\"1\" class=\"dataframe\">\n",
       "  <thead>\n",
       "    <tr style=\"text-align: right;\">\n",
       "      <th></th>\n",
       "      <th>Last name</th>\n",
       "      <th>First name</th>\n",
       "      <th>Age</th>\n",
       "      <th>Math_Score</th>\n",
       "      <th>English_Score</th>\n",
       "      <th>Sum_Score</th>\n",
       "    </tr>\n",
       "  </thead>\n",
       "  <tbody>\n",
       "    <tr>\n",
       "      <th>1</th>\n",
       "      <td>Hong</td>\n",
       "      <td>Gildong</td>\n",
       "      <td>21</td>\n",
       "      <td>90</td>\n",
       "      <td>100</td>\n",
       "      <td>190</td>\n",
       "    </tr>\n",
       "    <tr>\n",
       "      <th>2</th>\n",
       "      <td>Sung</td>\n",
       "      <td>Munsuk</td>\n",
       "      <td>27</td>\n",
       "      <td>99</td>\n",
       "      <td>99</td>\n",
       "      <td>198</td>\n",
       "    </tr>\n",
       "    <tr>\n",
       "      <th>3</th>\n",
       "      <td>Ryu</td>\n",
       "      <td>Hoesung</td>\n",
       "      <td>29</td>\n",
       "      <td>100</td>\n",
       "      <td>90</td>\n",
       "      <td>190</td>\n",
       "    </tr>\n",
       "  </tbody>\n",
       "</table>\n",
       "</div>"
      ],
      "text/plain": [
       "  Last name First name  Age  Math_Score  English_Score  Sum_Score\n",
       "1      Hong    Gildong   21          90            100        190\n",
       "2      Sung     Munsuk   27          99             99        198\n",
       "3       Ryu    Hoesung   29         100             90        190"
      ]
     },
     "execution_count": 28,
     "metadata": {},
     "output_type": "execute_result"
    }
   ],
   "source": [
    "df.drop('4', axis=0, inplace=True)\n",
    "df"
   ]
  }
 ],
 "metadata": {
  "kernelspec": {
   "display_name": "Python 3",
   "language": "python",
   "name": "python3"
  },
  "language_info": {
   "codemirror_mode": {
    "name": "ipython",
    "version": 3
   },
   "file_extension": ".py",
   "mimetype": "text/x-python",
   "name": "python",
   "nbconvert_exporter": "python",
   "pygments_lexer": "ipython3",
   "version": "3.6.9"
  },
  "toc": {
   "base_numbering": 1,
   "nav_menu": {},
   "number_sections": true,
   "sideBar": true,
   "skip_h1_title": true,
   "title_cell": "강의목차",
   "title_sidebar": "Contents",
   "toc_cell": true,
   "toc_position": {},
   "toc_section_display": true,
   "toc_window_display": true
  }
 },
 "nbformat": 4,
 "nbformat_minor": 2
}
